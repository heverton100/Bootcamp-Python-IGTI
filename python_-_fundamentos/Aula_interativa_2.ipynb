{
  "nbformat": 4,
  "nbformat_minor": 0,
  "metadata": {
    "colab": {
      "name": "Aula_interativa_2.ipynb",
      "provenance": [],
      "collapsed_sections": []
    },
    "kernelspec": {
      "name": "python3",
      "display_name": "Python 3"
    }
  },
  "cells": [
    {
      "cell_type": "markdown",
      "metadata": {
        "id": "_0nEneeA1KcD"
      },
      "source": [
        "# **Aula Interativa 2**"
      ]
    },
    {
      "cell_type": "markdown",
      "metadata": {
        "id": "ZehlCpjS05Iu"
      },
      "source": [
        "Data: 16/03/2021\r\n",
        "\r\n",
        "Professor: Erick Faria\r\n",
        "\r\n",
        "\r\n",
        "![frame.png](data:image/png;base64,iVBORw0KGgoAAAANSUhEUgAAASwAAAEsCAYAAAB5fY51AAAABGdBTUEAALGPC/xhBQAAACBjSFJNAAB6JgAAgIQAAPoAAACA6AAAdTAAAOpgAAA6mAAAF3CculE8AAAABmJLR0QAAAAAAAD5Q7t/AAAACXBIWXMAAABgAAAAYADwa0LPAAAOc0lEQVR42u3dUW7bVhSEYbroGighy1K8CsHLMbKI2PGyYsqbUB8Ko0Ejk4fh+Nwzl/8H8KkFyUvSU1uaHt5dr9frAAAG/mp9AgAQRWABsEFgAbBBYAGwQWABsEFgAbBBYAGwQWABsEFgAbBBYAGwQWABsEFgAbBBYAGwQWABsEFgAbBBYAGwQWABsEFgAbBBYAGwQWABsEFgAbBBYAGwQWABsEFgAbBBYAGwQWABsEFgAbBBYAGwQWABsEFgAbBBYAGwQWABsEFgAbBBYAGwQWABsEFgAbBRMrAOh8Nwd3e3y83R09PTh/fscDgMP378SN2PCs9hPXfX6/Xa+iT+73A4DG9vb61Po4mCt2PR0v0ax3G4XC5p+8laV8+qPoclf8OCl6Uf6ugPvWo/6BeBBcAGgQXABoEFwAaBBcAGgYUUS9/uvb6+SvaDvhFYSHE+nz8Mm9fX1+Hh4WHzfrAD14LGcbwOwzC7TdPU+jQ/ZV0R379//3Bf4zhen5+fU/eztKasbc05q+7Xnp/DFmyLo9M0DYfDofWpytcVuR3VipqVmtHKcinPYT38SWiIomZf54w4AguADQILgA0CC4ANAguADQLL0DiOs//8eDym7qcSx3NGHIFl6Nu3bx+GzfF4HB4fH1P3U4XjOWOl1kWwW1SFvaV9KDfVuhypruH9/b2kiKkqxPIc1sNvWCjj8fFRUsJ8eHj4sI/19vY2nM/n1kvFHyKwUIaqMd5jIRb/IrAA2CCwANggsADYILAA2CCwsNlSATVTdHIpPBFY2GyugJppzeRSeCKwDM290l21rXk1/NevX4fL5TJcr9fftmmahtPplLL2L1++DC8vL61vDz5R1xNHMydhRi5j1sRRFdX0zsvlEvp//DLXrjrWnp/DFvgNy1BW8VF1HOUIYUqf+0ZgAbBBYAGwQWABsEFgAbBBYBnK6jwpp3cqppuqSqFMJfVFYBnKKGqqp3dunW6qKoUyldRc6wmCtzDp8c9N03Q9nU6yCZ+q6Z0Rc8das6kml/Ic1lPyzHhQtpmmKXTOkWu4dM7jOKbed9W6VOfDc5iLPwk7FC1qRv69zOmdFYuqqIXAAmCDwAJgg8ACYIPAAmCDwOpQ9tRNxQgaSqGIILA602Lq5vl83hRalEIR9XfrE/hM16JDyLZ6enqafbtxtpeXl7RJn/f397I3RGfp9Tlsgd+wDFUKq2xuYQUtAsvQXsNqGCiF7h2BBcAGgQXABoEFwAaBBcAGgbVT0YJlhTc6A+8IrB1aU7Cs8hp6YBiGmpO6VIPcHLeIyH4ypomqppuu2U+Eakoqz2E9Jc+MB2XhpgX2kzVNVDXdNLofxfMTnZLKc1jP3fVa7/8bOBwOuy1HRm7H3d0d+0nYD89hPXyGBcAGgQXABoEFwAaBBcAGgWUo87XvS4P5lNNNFetC3wgsQ5mvfZ+bJqqebrp1XehfyVoDtqs2lTTzMVPVGlAPgdWpah0iAgsKBFanIj+0mQgsKPAZFgAbBBYAGwQWABsEFgAbBFaHsl9VvyS78EkBtV8EVmdavKp+TovCJwXUjrUeyHXL3MTIatuaCZbV1hWZSup0T1X3gv3UVTKwKv1QR39QHNeVFVaZa1fdi73vp6qSxdFqpceIyGWstq7MW5+5dtW92PN+quIzLAA2CCwANggsADYILAA2SgaW45uGlyZzVltXtTKn67oiFM9GdF3dl2Zbf015y/Pzc7kKwNJ2Op0WawJV1nU8HtP7OBlrX7OuyP5U+9n6bKxZl2o/VZUMrDlrXmse2VSvUJ/bqhb2ei8ZzskMrGrPhvN9L9nDWnK5XGS/2k7TNBwOh08/1jiOoT8NMi1NJa14ziqZvacl2dfZ+b5bBtYw6IqIWQ9l9FiZei8ZZqzd8dlwvu8lP3QHgFsILAA2CCwANggsADYsA0s1UVNVxouq+s1Lb+e8JPr8uJWBo5zLpXaBpZqouWby5NwEyzXmXvteleM5z1nz/ETWrno2MllPZG1dBLtFNZ0yMlFza4nOuVy69Zz3vKmfja0/F9ULnyole1iq16wvlUIjx4qU6FzLpdUGCrpRPhuRH0PnwqdKycCqVgpV7Ud1zioE1nbVnrGCP85Sdp9hAdgvAguADQILgA0CC4CN3QdW1qTHiF6ngPYqewqoc+FTZfeBpSrRbS0QVnulO+apno0W+7HWugh2yyAq9znaWppVFQjXlB4zX3mvOmendeE/u+9hVaMozaoKhNHSY6SgmyVzGi3yEVjFVFu7Y1mx2jWEzu4/wwLgg8ACYIPAAmCDwAJgo2Rg7bUblD1JNcKtrKi6hsPQ57RVdyUDa4+FxhaTVCOcyoqqa/iut2mrXWhdBFtLPcUxQjXpscok1chWdYKl6ho6bZnPWNX7/q5kD2uJcopjhGrSY6VJqhEVJ1iqrqGbzGes4n1/ZxlYw5BbaHScStpreXLPU1L3fN/flfwMCwBuIbAA2CCwANggsADYsA2szEKj41RSxwmoS5SlUDeZ96Laff+VbWBlFhodp5I6TkCdoy6FOsm8F9Xu+29aF8FuqVLUVB1LXcbb47FabHMF3arTTTOP1ULJwFp6aMdxlOwnGlqZ58yx2gfV+7b0Qz1NU9qxojKP1ULJ4mivRU3Vpd7zsTJVe8YiHCfErmH7GRaA/SGwANggsADYILAA2CCwApZGbUQLjaqRHVml2cx1VSyFRtZVbdCk24TY1Vp/TXnLEPhqVrWfyHY6nT78Kvjnz5/hPs7cftZ4fn7+sAJwPB4l3ajMda05VuYWWdfcvVizqWQ8Gy0RWEZbi+mmjltG4TNyL9TTcTNLvFXRwzKTPd3U0dJEVtXr7CP3QjkdVzX51hmBZWjPa4/IvD6qY2XuxxkfugOwQWABsEFgAbBBYAGwQWB1qlqhMUvkGzlVSVU1/TV7P84IrE5tnTjqKDItUzW5VDX9tcV+rLUugt0yFCuOZkxoVJcMVcfKuD5rzidyLFVp1nEyJ6+qb6BaDyvyangFZclQdays6xM9n8ixVKXZrPuuxKvqW5xUscDKvESOEz4zz6fX+67S+9r5DAuADQILgA0CC4ANAguAja4DS9VDyvrGpOLUzSXKsqKiGKm8hlW/KZvTe/eu68BSlSfP5/OnP7yOr2JXlxW3FiPV1zDjvqt1XxhuXQS7ZTAqT7aYApp5nVXlSdW0zD1OUlWVOTPLyZ+l6x7WkszJk8OgKzSqblnkOqvKk6ppmXudpKoqc2aWkz/DrgMreqyIyPlUK/VVu86Z19BRtXvRQtefYQHoC4EFwAaBBcAGgQXARsnAypysqOisqCZGKo+1JPM19JG172Fa5hZcn3+VDKzMyYpbi3aqiZHqY81ZU7BUlSeZlvnnuD6/aF0Ew3pO5Un1BEvVeVWbIps53TRyPlWV7GFhnlt5UjnBstcpspnTTZ17WASWIcfypOoxq1a+VZ3zns9njZKfYQHALQQWABsEFgAbBBYAGwQWUmQVUDHPcartrwgspMgooGKe41Tb37Qugt3iUor8jC0i83zmCo3qV97PbZECqnqipmpKasb5tHgOWyjZw3IrRipFbkdmD2up0Kh85f2SSAFVOVFTNSVV1XvK/LkoGAvDMBQtjhJY8zIDq9fz6XU/KgVjYRgGPsMCYITAAmCDwAJgg8ACYIPAMpTVQ8qcpKo8H5XMKamRbxt7vc5rEFiGMsqTmZNU1eejkjklNVKs7fU6r9K6CHZLpByXNZ0xe13VbC1Ptpi6GTlWpsj5zG3qqa3ObHtYmRMaM9dV7XYoypPZUzerDahT9KeUU1ud8SchZi0FbKTgGw0ht/8AZdprkfr/CCwANggsADYILAA2CCwANggszFKVJ6u9qj7rGzf3CZ/VEFiYpSpPVntVvWoC6pwuJnxW07oIdouqOLq0D+WmWlfE1smT6iKiajKnSuZ9r/aM9a7r4mi1gWeq4qhiwKGyiKiazKni+GbsiII/qun4k9CQokSoLCIqyqVABIEFwAaBBcAGgQXABoEFwAaBtWNZr4/PLIX2WtSsPAU0E4G1Yxmvj88shfZa1Cw/BTRT6yLYLRRH66xrbsssoFbd5qaktpi2Wq1UrEZxVCRyGVXF0UrFyMwCakVLz2H2tNVqpWI1Aktkr4EVPeeIautSrT1zZLPqGhaMhWEY+AwLgBECC4ANAguADQILgA0CC5spvlFyLHxWLHNmvc6+FQILm20toDoWPquWOTNeZ99U6yLYLRRHt69LVWh03KqVOVXPz9bJrmvWXlXJMyOwtq9r6fpM09Q8WD5rU61dEVbR+6V4fsZxXNxHdO1VURwViVzGzOKoaj+OMq9hROb9qrZ2NT7DAmCDwAJgg8ACYIPAAmCDwEJXImXOaEk1sxAbOZZqsmulCbFrEVjoRqTMuaakmlmIjRxLNdm1yoTYP9K6V3GLqodVTWYPS7Uf1aYqYUY4Ti6d29ZMAd1aLq2u6x5WNXvuYWXeL8fJpUuiU0CX1l55mmgEfxIiReZ/XHoLqzVrWvr33K8NgQXABoEFwAaBBcAGgQXABoHVqaVvgjInfGYXEXscYFetENsKgdWpuSJi5oTPFkXE3qZuVivENtW6CHZLT6W/tVtE5vlkFj4ztJg4qpJRiK1eLrUtjvYqcjt6LXxmyX59vErWz0XlcimBVUy1wCr4eEg4Tt3kvvMZFgAjBBYAGwQWABsEFgAbBJahrI5R5cmTWzlO3eS+E1iWMoqR5SdPbuQ4dZP7XrTWAAC38BsWABsEFgAbBBYAGwQWABsEFgAbBBYAGwQWABsEFgAbBBYAGwQWABsEFgAbBBYAGwQWABsEFgAbBBYAGwQWABsEFgAbBBYAGwQWABsEFgAbBBYAGwQWABsEFgAbBBYAGwQWABsEFgAbBBYAGwQWABsEFgAbBBYAGwQWABsEFgAbBBYAGwQWABsEFgAbBBYAGwQWABv/AErL1Y2eftONAAAAJXRFWHRkYXRlOmNyZWF0ZQAyMDIxLTAzLTE0VDE2OjI2OjQ1KzAwOjAwVZ/VLwAAACV0RVh0ZGF0ZTptb2RpZnkAMjAyMS0wMy0xNFQxNjoyNjo0NSswMDowMCTCbZMAAAAASUVORK5CYII=)"
      ]
    },
    {
      "cell_type": "markdown",
      "metadata": {
        "id": "_-YJEQsyKg7O"
      },
      "source": [
        "## Exemplo 1 - Lambda - Alguns exemplos simples"
      ]
    },
    {
      "cell_type": "code",
      "metadata": {
        "colab": {
          "base_uri": "https://localhost:8080/"
        },
        "id": "nqs8h8MVKfgp",
        "outputId": "0519c0c5-1624-4e11-dd5d-8fd2dc691e97"
      },
      "source": [
        "x = lambda y : y + 10\r\n",
        "\r\n",
        "print(x(5)) "
      ],
      "execution_count": null,
      "outputs": [
        {
          "output_type": "stream",
          "text": [
            "15\n"
          ],
          "name": "stdout"
        }
      ]
    },
    {
      "cell_type": "code",
      "metadata": {
        "colab": {
          "base_uri": "https://localhost:8080/"
        },
        "id": "Ho2JAriLKlN7",
        "outputId": "bcb629f6-191d-4b13-b19a-1f5e33d48e92"
      },
      "source": [
        "x = lambda x, y : x * y\r\n",
        "\r\n",
        "print(x(10, 3))"
      ],
      "execution_count": null,
      "outputs": [
        {
          "output_type": "stream",
          "text": [
            "30\n"
          ],
          "name": "stdout"
        }
      ]
    },
    {
      "cell_type": "code",
      "metadata": {
        "colab": {
          "base_uri": "https://localhost:8080/"
        },
        "id": "ARngbQk9Kt0g",
        "outputId": "4a7b7a3a-66b0-491b-bc37-5f6e4be1939d"
      },
      "source": [
        "x = lambda x, y, z : x + y + z\r\n",
        "\r\n",
        "print(x(10, 10, 30)) "
      ],
      "execution_count": null,
      "outputs": [
        {
          "output_type": "stream",
          "text": [
            "50\n"
          ],
          "name": "stdout"
        }
      ]
    },
    {
      "cell_type": "code",
      "metadata": {
        "colab": {
          "base_uri": "https://localhost:8080/"
        },
        "id": "m0BKOf8cLYUp",
        "outputId": "4c6748d3-de14-4979-e157-30546f293d79"
      },
      "source": [
        "def nome_funcao(n):\r\n",
        "  return lambda a : a * n\r\n",
        "\r\n",
        "multiplicador = nome_funcao(5) # Aqui eu digito o valor pelo qual quero multiplicar\r\n",
        "\r\n",
        "print(multiplicador(10))"
      ],
      "execution_count": null,
      "outputs": [
        {
          "output_type": "stream",
          "text": [
            "50\n"
          ],
          "name": "stdout"
        }
      ]
    },
    {
      "cell_type": "code",
      "metadata": {
        "colab": {
          "base_uri": "https://localhost:8080/"
        },
        "id": "_y34ACYsLstF",
        "outputId": "a7479bf0-e331-4c70-9d73-96d50924cb50"
      },
      "source": [
        "lista = [1, 5, 4, 6, 8, 11, 3, 12]\r\n",
        "\r\n",
        "nova_lista = list(filter(lambda x: (x%2 == 0), lista))\r\n",
        "\r\n",
        "print(nova_lista)"
      ],
      "execution_count": null,
      "outputs": [
        {
          "output_type": "stream",
          "text": [
            "[4, 6, 8, 12]\n"
          ],
          "name": "stdout"
        }
      ]
    },
    {
      "cell_type": "markdown",
      "metadata": {
        "id": "E-4d9O3ulR2H"
      },
      "source": [
        "## Exemplo 2 - Adivinhe o número"
      ]
    },
    {
      "cell_type": "code",
      "metadata": {
        "id": "FcnFgvDzfm4q"
      },
      "source": [
        "import random\r\n",
        "\r\n",
        "n = random.randint(1, 99)\r\n",
        "\r\n",
        "adivinhe = int(input('Tente adivinhar um número entre 1 e 99: '))\r\n",
        "\r\n",
        "while n != 'adivinhe': #Lê-se: 'Enquanto o n for diferente da variável adivinhe, faça...'\r\n",
        "    print\r\n",
        "    if adivinhe < n:\r\n",
        "        print ('O número é maior que este')\r\n",
        "        adivinhe = int(input('Tente outra vez: '))\r\n",
        "    elif adivinhe > n:\r\n",
        "        print ('O número é menor que este')\r\n",
        "        adivinhe = int(input('Tente outra vez: '))\r\n",
        "    else:\r\n",
        "        print ('Você acertou!')\r\n",
        "        break # O comando break serve para 'parar' o loop\r\n",
        "    print\r\n"
      ],
      "execution_count": null,
      "outputs": []
    },
    {
      "cell_type": "markdown",
      "metadata": {
        "id": "32cMeApPoYvB"
      },
      "source": [
        "## Exemplo 3 - Jogo Pedra, Papel, Tesoura"
      ]
    },
    {
      "cell_type": "code",
      "metadata": {
        "id": "8a04mjGRbNBA"
      },
      "source": [
        "# Importa a função randint que retorna um valor aleatório\r\n",
        "from random import randint\r\n",
        "\r\n",
        "# Cria uma lista com as Opções\r\n",
        "t = ['Pedra', 'Papel', 'Tesoura']\r\n",
        "\r\n",
        "# Coloca o computador para jogar dentro das opções \r\n",
        "computador = t[randint(0,2)] \r\n",
        "\r\n",
        "# Coloca o jogador como False\r\n",
        "jogador = False\r\n",
        "\r\n",
        "while jogador == False:\r\n",
        "    jogador = input('Pedra, Papel, Tesoura? ')\r\n",
        "    if jogador == computador:\r\n",
        "        print('Empate!')\r\n",
        "    elif jogador == 'Pedra':\r\n",
        "        if computador == 'Papel':\r\n",
        "            print('Você Perdeu', computador, 'embrulha', jogador)\r\n",
        "        else:\r\n",
        "            print('Você venceu!', jogador, 'esmaga', computador)\r\n",
        "    elif jogador == 'Papel':\r\n",
        "        if computador == 'Tesoura':\r\n",
        "            print('Você Perdeu', computador, 'corta', jogador)\r\n",
        "        else:\r\n",
        "            print('Você venceu!', jogador, 'embrulha', computador)\r\n",
        "    elif jogador == 'Tesoura':\r\n",
        "        if computador == 'Pedra':\r\n",
        "            print('Você Perdeu', computador, 'esmaga', jogador)\r\n",
        "        else:\r\n",
        "            print('Você venceu!', jogador, 'corta', computador)\r\n",
        "    else:\r\n",
        "        print('Essa não é uma jogada válida. Verifique a ortografia!')\r\n",
        "    \r\n",
        "    # Para continuar o jogo\r\n",
        "    jogador = False\r\n",
        "    computador = t[randint(0,2)]"
      ],
      "execution_count": null,
      "outputs": []
    },
    {
      "cell_type": "markdown",
      "metadata": {
        "id": "Vaa8B7zZb3wo"
      },
      "source": [
        "## Exemplo 4 - Criando uma senha em Python"
      ]
    },
    {
      "cell_type": "code",
      "metadata": {
        "id": "Od2lqnb1b7VK"
      },
      "source": [
        "import random\r\n",
        "\r\n",
        "# Uma função que embaralha todos os caracteres de uma string\r\n",
        "def embaralha(string):\r\n",
        "  tempList = list(string)\r\n",
        "  random.shuffle(tempList)\r\n",
        "  return ''.join(tempList)\r\n",
        "\r\n",
        "# Gerar letras aleatórias\r\n",
        "letra_1=chr(random.randint(65,90)) # Gere uma letra maiúscula aleatória (com base no código ASCII)\r\n",
        "letra_2=chr(random.randint(65,90)) # Gere uma letra maiúscula aleatória (com base no código ASCII)\r\n",
        "# Continue aqui a geração de letras. Copie e cole a linha acima mudando o nome da variável\r\n",
        "\r\n",
        "\r\n",
        "# Gere senha usando todos os caracteres, em ordem aleatória\r\n",
        "password = letra_1 + letra_2    # Concatene outras letras\r\n",
        "password = embaralha(password)\r\n",
        "\r\n",
        "# Saída\r\n",
        "print(password)"
      ],
      "execution_count": null,
      "outputs": []
    },
    {
      "cell_type": "markdown",
      "metadata": {
        "id": "Dz91GU4dcvGn"
      },
      "source": [
        "## Exemplo 5 - Jogando os dados"
      ]
    },
    {
      "cell_type": "code",
      "metadata": {
        "id": "XZ4Hmkqfcuuu"
      },
      "source": [
        "import random\r\n",
        "min = 1 # Valor mínimo que um dado pode mostrar\r\n",
        "max = 6 # Valor máximo que um dado pode mostrar\r\n",
        "\r\n",
        "jogar_novamente = 'sim'\r\n",
        "\r\n",
        "while jogar_novamente == 'sim' or jogar_novamente == 's':\r\n",
        "    print ('Jogando os dados...')\r\n",
        "    print ('Os valores são....')\r\n",
        "    print (random.randint(min, max))\r\n",
        "    print (random.randint(min, max))\r\n",
        "\r\n",
        "    jogar_novamente = input('Jogar os dados mais uma vez? ')\r\n"
      ],
      "execution_count": null,
      "outputs": []
    },
    {
      "cell_type": "markdown",
      "metadata": {
        "id": "DMxODKFza7FC"
      },
      "source": [
        "## Exemplo 6 - Calculadora"
      ]
    },
    {
      "cell_type": "code",
      "metadata": {
        "colab": {
          "base_uri": "https://localhost:8080/"
        },
        "id": "wiDK4jhAtGWV",
        "outputId": "e33d4603-2ee5-4cf5-9068-d1e50f5bc7af"
      },
      "source": [
        "def adicao(a, b):\r\n",
        "    sum = a + b\r\n",
        "    return sum\r\n",
        "\r\n",
        "def subtracao(a, b):\r\n",
        "    diff = a - b\r\n",
        "    return diff\r\n",
        "\r\n",
        "def multiplicacao(a, b):\r\n",
        "    multi = a*b\r\n",
        "    return multi\r\n",
        "\r\n",
        "def divisao(a, b):\r\n",
        "    divi = a/b\r\n",
        "    return divi\r\n",
        "\r\n",
        "a = int(input('Digite o primeiro número: '))\r\n",
        "b = int(input('Digite o segundo número: '))\r\n",
        "\r\n",
        "print() # Coloquei esse print para dar um espaço em branco\r\n",
        "print() # Coloquei esse print para dar um espaço em branco\r\n",
        "\r\n",
        "print('A soma entre os números é: ', adicao(a,b))\r\n",
        "print('A diferença entre os número é: ', subtracao(a,b))\r\n",
        "print('A multiplicação entre os números é: ', multiplicacao(a,b))\r\n",
        "print('A divisão entre os números é: ', divisao(a,b))"
      ],
      "execution_count": null,
      "outputs": [
        {
          "output_type": "stream",
          "text": [
            "Digite o primeiro número: 25\n",
            "Digite o segundo número: 30\n",
            "\n",
            "\n",
            "A soma entre os números é:  55\n",
            "A diferença entre os número é:  -5\n",
            "A multiplicação entre os números é:  750\n",
            "A divisão entre os números é:  0.8333333333333334\n"
          ],
          "name": "stdout"
        }
      ]
    }
  ]
}