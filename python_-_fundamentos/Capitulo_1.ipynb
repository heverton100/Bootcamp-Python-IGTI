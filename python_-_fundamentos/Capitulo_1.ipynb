{
  "nbformat": 4,
  "nbformat_minor": 0,
  "metadata": {
    "colab": {
      "name": "Capitulo_1.ipynb",
      "provenance": [],
      "collapsed_sections": []
    },
    "kernelspec": {
      "name": "python3",
      "display_name": "Python 3"
    }
  },
  "cells": [
    {
      "cell_type": "markdown",
      "metadata": {
        "id": "dhMpzNX_ZwtS"
      },
      "source": [
        "## Capítulo 1 - Módulo Fundamentos em Python\r\n",
        "\r\n",
        "Professor: Erick Faria  \r\n",
        "GitHub: https://github.com/erickfaria"
      ]
    },
    {
      "cell_type": "markdown",
      "metadata": {
        "id": "LaYmkXE7aEfN"
      },
      "source": [
        "\r\n",
        "Primeiro contato com Python\r\n"
      ]
    },
    {
      "cell_type": "code",
      "metadata": {
        "colab": {
          "base_uri": "https://localhost:8080/"
        },
        "id": "c0kjpGWiIOQU",
        "outputId": "1116be01-4c73-4f21-f9a6-4647f322c4e4"
      },
      "source": [
        "5-3"
      ],
      "execution_count": null,
      "outputs": [
        {
          "output_type": "execute_result",
          "data": {
            "text/plain": [
              "2"
            ]
          },
          "metadata": {
            "tags": []
          },
          "execution_count": 14
        }
      ]
    },
    {
      "cell_type": "code",
      "metadata": {
        "colab": {
          "base_uri": "https://localhost:8080/"
        },
        "id": "_-KhssHyIsC-",
        "outputId": "a7d5f750-704a-4da0-e3b9-255a2e9940fe"
      },
      "source": [
        "5*2"
      ],
      "execution_count": null,
      "outputs": [
        {
          "output_type": "execute_result",
          "data": {
            "text/plain": [
              "10"
            ]
          },
          "metadata": {
            "tags": []
          },
          "execution_count": 15
        }
      ]
    },
    {
      "cell_type": "code",
      "metadata": {
        "colab": {
          "base_uri": "https://localhost:8080/"
        },
        "id": "_uCuYntnIugt",
        "outputId": "d74c1a08-3099-4131-c276-df80b9b19a9a"
      },
      "source": [
        "10/2"
      ],
      "execution_count": null,
      "outputs": [
        {
          "output_type": "execute_result",
          "data": {
            "text/plain": [
              "5.0"
            ]
          },
          "metadata": {
            "tags": []
          },
          "execution_count": 16
        }
      ]
    },
    {
      "cell_type": "code",
      "metadata": {
        "id": "m4Oc2KyXI4GF"
      },
      "source": [
        "Nome da Variável\r\n",
        "sinal = \r\n",
        "Valor, Arguento da variável"
      ],
      "execution_count": null,
      "outputs": []
    },
    {
      "cell_type": "code",
      "metadata": {
        "id": "wBM0BWhcJDOy"
      },
      "source": [
        "curso = ['Python']"
      ],
      "execution_count": null,
      "outputs": []
    },
    {
      "cell_type": "code",
      "metadata": {
        "id": "nthJ6RStJi2b"
      },
      "source": [
        "curso_teste = ['C++']"
      ],
      "execution_count": null,
      "outputs": []
    },
    {
      "cell_type": "code",
      "metadata": {
        "colab": {
          "base_uri": "https://localhost:8080/"
        },
        "id": "sLCQCWDuJslg",
        "outputId": "e596abbe-ca53-485e-a394-f2c30b873561"
      },
      "source": [
        "curso"
      ],
      "execution_count": null,
      "outputs": [
        {
          "output_type": "execute_result",
          "data": {
            "text/plain": [
              "['C++']"
            ]
          },
          "metadata": {
            "tags": []
          },
          "execution_count": 22
        }
      ]
    },
    {
      "cell_type": "code",
      "metadata": {
        "id": "r8E9Y67kJ7BS"
      },
      "source": [
        "soma = 5+5"
      ],
      "execution_count": null,
      "outputs": []
    },
    {
      "cell_type": "code",
      "metadata": {
        "colab": {
          "base_uri": "https://localhost:8080/"
        },
        "id": "HQMC6iPVJ_pi",
        "outputId": "69797208-6d10-4b5b-a90e-df28a70da9f8"
      },
      "source": [
        "soma"
      ],
      "execution_count": null,
      "outputs": [
        {
          "output_type": "execute_result",
          "data": {
            "text/plain": [
              "10"
            ]
          },
          "metadata": {
            "tags": []
          },
          "execution_count": 24
        }
      ]
    },
    {
      "cell_type": "code",
      "metadata": {
        "colab": {
          "base_uri": "https://localhost:8080/"
        },
        "id": "-fzXnB45KH1f",
        "outputId": "8a222852-d80c-4ab1-af1b-5d3694893417"
      },
      "source": [
        "print(soma)"
      ],
      "execution_count": null,
      "outputs": [
        {
          "output_type": "stream",
          "text": [
            "10\n"
          ],
          "name": "stdout"
        }
      ]
    },
    {
      "cell_type": "code",
      "metadata": {
        "colab": {
          "base_uri": "https://localhost:8080/"
        },
        "id": "LsOOxn28KdMb",
        "outputId": "171e1494-dc07-4e25-e813-c2b0adf47787"
      },
      "source": [
        "print('Olá Python!')"
      ],
      "execution_count": null,
      "outputs": [
        {
          "output_type": "stream",
          "text": [
            "Olá Python!\n"
          ],
          "name": "stdout"
        }
      ]
    }
  ]
}