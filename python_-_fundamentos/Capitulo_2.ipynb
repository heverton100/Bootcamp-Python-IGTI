{
  "nbformat": 4,
  "nbformat_minor": 0,
  "metadata": {
    "colab": {
      "name": "Capítulo_2.ipynb",
      "provenance": []
    },
    "kernelspec": {
      "name": "python3",
      "display_name": "Python 3"
    }
  },
  "cells": [
    {
      "cell_type": "markdown",
      "metadata": {
        "id": "dhMpzNX_ZwtS"
      },
      "source": [
        "## Capítulo 2 - Escrevendo em Python\r\n",
        "\r\n",
        "Professor: Erick Faria\r\n",
        "\r\n",
        "GitHub: https://github.com/erickfaria"
      ]
    },
    {
      "cell_type": "markdown",
      "metadata": {
        "id": "cuqvUdK3e9y5"
      },
      "source": [
        "### Sintax em Python"
      ]
    },
    {
      "cell_type": "markdown",
      "metadata": {
        "id": "2NcJRU5Ae97g"
      },
      "source": [
        "### Indentação em Python"
      ]
    },
    {
      "cell_type": "code",
      "metadata": {
        "id": "ydOHrhMkMnCX",
        "colab": {
          "base_uri": "https://localhost:8080/"
        },
        "outputId": "437f0a7b-7d3f-4f3f-f3df-11ddb3d8705c"
      },
      "source": [
        "if 10 > 5:  \r\n",
        "  print('Dez é maior do que cinco')"
      ],
      "execution_count": null,
      "outputs": [
        {
          "output_type": "stream",
          "text": [
            "Dez é maior do que cinco\n"
          ],
          "name": "stdout"
        }
      ]
    },
    {
      "cell_type": "code",
      "metadata": {
        "colab": {
          "base_uri": "https://localhost:8080/"
        },
        "id": "0qldSxVrS8nx",
        "outputId": "140a9242-914b-421f-a458-55290d8460f9"
      },
      "source": [
        "if 10 > 5:\r\n",
        "print('Dez é maior do que cinco')"
      ],
      "execution_count": null,
      "outputs": [
        {
          "output_type": "stream",
          "text": [
            "Dez é maior do que cinco\n"
          ],
          "name": "stdout"
        }
      ]
    },
    {
      "cell_type": "code",
      "metadata": {
        "colab": {
          "base_uri": "https://localhost:8080/"
        },
        "id": "Mv5wKWw-TO8a",
        "outputId": "9a9ae9b8-b029-41b9-889f-9287b0f0b88c"
      },
      "source": [
        "if 7 > 3:\r\n",
        "  print('Sete é maior do que três')\r\n",
        "if 10 > 5:\r\n",
        "    print('Dez é maior do que cinco')"
      ],
      "execution_count": null,
      "outputs": [
        {
          "output_type": "stream",
          "text": [
            "Sete é maior do que três\n",
            "Dez é maior do que cinco\n"
          ],
          "name": "stdout"
        }
      ]
    },
    {
      "cell_type": "code",
      "metadata": {
        "colab": {
          "base_uri": "https://localhost:8080/",
          "height": 128
        },
        "id": "pF_CN-lMTfxR",
        "outputId": "8dc09594-bdd7-4a56-f525-8bdc8dffce1b"
      },
      "source": [
        "if 10 > 5:\r\n",
        "  print('Dez é maior do que cinco')\r\n",
        "    print('Dez é maior do que cinco')"
      ],
      "execution_count": null,
      "outputs": [
        {
          "output_type": "error",
          "ename": "IndentationError",
          "evalue": "ignored",
          "traceback": [
            "\u001b[0;36m  File \u001b[0;32m\"<ipython-input-5-5abf24778147>\"\u001b[0;36m, line \u001b[0;32m3\u001b[0m\n\u001b[0;31m    print('Dez é maior do que cinco')\u001b[0m\n\u001b[0m    ^\u001b[0m\n\u001b[0;31mIndentationError\u001b[0m\u001b[0;31m:\u001b[0m unexpected indent\n"
          ]
        }
      ]
    },
    {
      "cell_type": "markdown",
      "metadata": {
        "id": "egcn3ANje-EZ"
      },
      "source": [
        "### Variáveis em Python"
      ]
    },
    {
      "cell_type": "markdown",
      "metadata": {
        "id": "nXIBznCnVGFa"
      },
      "source": [
        "### Regras básicas para criação de variáveis\r\n",
        "\r\n",
        "1 - Deve começar com uma letra  \r\n",
        "2 - Os próximos podem ser letras ou números  \r\n",
        "3 - **Não** pode utilizar nenhum simbolo (exceto _ )  \r\n",
        "4 - **Não** pode conter espaços em branco  \r\n",
        "5 - **Não** pode conter letras com acentos"
      ]
    },
    {
      "cell_type": "code",
      "metadata": {
        "colab": {
          "base_uri": "https://localhost:8080/"
        },
        "id": "NbUFkeMeY8V5",
        "outputId": "0a3b9596-111f-468d-be61-9b97233d8bad"
      },
      "source": [
        "x = 5\r\n",
        "print(x)"
      ],
      "execution_count": null,
      "outputs": [
        {
          "output_type": "stream",
          "text": [
            "5\n"
          ],
          "name": "stdout"
        }
      ]
    },
    {
      "cell_type": "code",
      "metadata": {
        "colab": {
          "base_uri": "https://localhost:8080/"
        },
        "id": "THMGF2w0Za-D",
        "outputId": "a2495397-07e9-4235-a6c0-a031bda4e4e6"
      },
      "source": [
        "y = 'Python'\r\n",
        "print(y)"
      ],
      "execution_count": null,
      "outputs": [
        {
          "output_type": "stream",
          "text": [
            "Python\n"
          ],
          "name": "stdout"
        }
      ]
    },
    {
      "cell_type": "code",
      "metadata": {
        "colab": {
          "base_uri": "https://localhost:8080/"
        },
        "id": "6hd7kbxOZlCw",
        "outputId": "200fcb05-1c3e-49d7-aa2d-d32ec190a4bc"
      },
      "source": [
        "z = \"Python\"\r\n",
        "print(z)"
      ],
      "execution_count": null,
      "outputs": [
        {
          "output_type": "stream",
          "text": [
            "Python\n"
          ],
          "name": "stdout"
        }
      ]
    },
    {
      "cell_type": "code",
      "metadata": {
        "colab": {
          "base_uri": "https://localhost:8080/"
        },
        "id": "BIVsJ2aTZ6a8",
        "outputId": "7d72a797-6e22-49c5-afe7-0e71c5b56aea"
      },
      "source": [
        "z = 'Java'\r\n",
        "print(z)"
      ],
      "execution_count": null,
      "outputs": [
        {
          "output_type": "stream",
          "text": [
            "Java\n"
          ],
          "name": "stdout"
        }
      ]
    },
    {
      "cell_type": "code",
      "metadata": {
        "colab": {
          "base_uri": "https://localhost:8080/"
        },
        "id": "cYVTu5w3aGA6",
        "outputId": "f28af66f-af40-489a-f3bb-1c7217da03d9"
      },
      "source": [
        "print(z)"
      ],
      "execution_count": null,
      "outputs": [
        {
          "output_type": "stream",
          "text": [
            "Python\n"
          ],
          "name": "stdout"
        }
      ]
    },
    {
      "cell_type": "code",
      "metadata": {
        "id": "3OeRcR5iaR7x"
      },
      "source": [
        "a = 'Letra minuscula'"
      ],
      "execution_count": null,
      "outputs": []
    },
    {
      "cell_type": "code",
      "metadata": {
        "id": "8x4HzdwVaXpT"
      },
      "source": [
        "A = 'Letra Maiuscula'"
      ],
      "execution_count": null,
      "outputs": []
    },
    {
      "cell_type": "code",
      "metadata": {
        "colab": {
          "base_uri": "https://localhost:8080/"
        },
        "id": "uPi_gK84aayv",
        "outputId": "41c77eae-bf90-4c18-e5e8-ad1f7f906364"
      },
      "source": [
        "print(a)"
      ],
      "execution_count": null,
      "outputs": [
        {
          "output_type": "stream",
          "text": [
            "Letra minuscula\n"
          ],
          "name": "stdout"
        }
      ]
    },
    {
      "cell_type": "code",
      "metadata": {
        "colab": {
          "base_uri": "https://localhost:8080/"
        },
        "id": "Pgvc2nQsadtn",
        "outputId": "5607013a-ead3-4aa2-94bb-0f783a4e1e2e"
      },
      "source": [
        "print(A)"
      ],
      "execution_count": null,
      "outputs": [
        {
          "output_type": "stream",
          "text": [
            "Letra Maiuscula\n"
          ],
          "name": "stdout"
        }
      ]
    },
    {
      "cell_type": "code",
      "metadata": {
        "id": "AnrrhPoiafXK"
      },
      "source": [
        "Cod_mun = 3152014"
      ],
      "execution_count": null,
      "outputs": []
    },
    {
      "cell_type": "code",
      "metadata": {
        "id": "5Z7qU-T-al_z"
      },
      "source": [
        "cod_mun = 3558695"
      ],
      "execution_count": null,
      "outputs": []
    },
    {
      "cell_type": "code",
      "metadata": {
        "id": "0qy7BV1qarxv"
      },
      "source": [
        "nome_aluno_igti "
      ],
      "execution_count": null,
      "outputs": []
    },
    {
      "cell_type": "markdown",
      "metadata": {
        "id": "14QjOMtje-M4"
      },
      "source": [
        "### Comentários em Python"
      ]
    },
    {
      "cell_type": "code",
      "metadata": {
        "id": "WXtOQE1We5WO"
      },
      "source": [
        "# Comentário em python"
      ],
      "execution_count": null,
      "outputs": []
    },
    {
      "cell_type": "code",
      "metadata": {
        "id": "Y3rDtkkyfV-l"
      },
      "source": [
        "# Criando uma variável do tipo numérico em Python\r\n",
        "\r\n",
        "variavel = 50"
      ],
      "execution_count": null,
      "outputs": []
    },
    {
      "cell_type": "code",
      "metadata": {
        "colab": {
          "base_uri": "https://localhost:8080/"
        },
        "id": "PPiY0qLPfjOk",
        "outputId": "e0c72ad1-d5ca-4972-cdbe-2f054055eca4"
      },
      "source": [
        "print(variavel)"
      ],
      "execution_count": null,
      "outputs": [
        {
          "output_type": "stream",
          "text": [
            "50\n"
          ],
          "name": "stdout"
        }
      ]
    },
    {
      "cell_type": "code",
      "metadata": {
        "id": "myQnfqolfmmO"
      },
      "source": [
        "# Criando uma variável do tipo string\r\n",
        "\r\n",
        "texto = 'Variável tipo string'"
      ],
      "execution_count": null,
      "outputs": []
    },
    {
      "cell_type": "code",
      "metadata": {
        "colab": {
          "base_uri": "https://localhost:8080/"
        },
        "id": "JmwLpGK7fwc8",
        "outputId": "fe0bf905-229b-4ed9-c5bd-2231b809a5ce"
      },
      "source": [
        "print(texto)"
      ],
      "execution_count": null,
      "outputs": [
        {
          "output_type": "stream",
          "text": [
            "Variável tipo string\n"
          ],
          "name": "stdout"
        }
      ]
    },
    {
      "cell_type": "code",
      "metadata": {
        "id": "JdxM7PQqfzT8"
      },
      "source": [
        "bebida = 'água' # Criando uma variável de bebida"
      ],
      "execution_count": null,
      "outputs": []
    },
    {
      "cell_type": "code",
      "metadata": {
        "colab": {
          "base_uri": "https://localhost:8080/"
        },
        "id": "9m_dcsMPgHdx",
        "outputId": "ce095bf8-0e27-4bfc-aa5f-92bbdf87cc22"
      },
      "source": [
        "print(bebida)"
      ],
      "execution_count": null,
      "outputs": [
        {
          "output_type": "stream",
          "text": [
            "água\n"
          ],
          "name": "stdout"
        }
      ]
    },
    {
      "cell_type": "code",
      "metadata": {
        "id": "MfhbPmfggMRL"
      },
      "source": [
        "# Linha 1\r\n",
        "# Linha 2\r\n",
        "# Linha 3\r\n",
        "# Linha 4"
      ],
      "execution_count": null,
      "outputs": []
    },
    {
      "cell_type": "code",
      "metadata": {
        "id": "K7YOtn25gSYW"
      },
      "source": [
        "'''\r\n",
        "Linha 1\r\n",
        "Linha 2\r\n",
        "Linha 3\r\n",
        "Linha 4\r\n",
        "'''"
      ],
      "execution_count": null,
      "outputs": []
    },
    {
      "cell_type": "code",
      "metadata": {
        "id": "20xF-0b1gjGw"
      },
      "source": [
        "\"\"\"\r\n",
        "Linha 1\r\n",
        "Linha 2\r\n",
        "Linha 3\r\n",
        "Linha 4\r\n",
        "\"\"\""
      ],
      "execution_count": null,
      "outputs": []
    },
    {
      "cell_type": "markdown",
      "metadata": {
        "id": "vAm14ikxidB5"
      },
      "source": [
        "### Boas Práticas em Python"
      ]
    },
    {
      "cell_type": "markdown",
      "metadata": {
        "id": "BdK4Ssf0iivd"
      },
      "source": [
        "**Valores**  \r\n",
        "\"Construa ferramentas para outras pessoas que você deseja construir para você.\" - Kenneth Reitz  \r\n",
        "\r\n",
        "\"Simplicidade é sempre melhor do que funcionalidade.\" - Pieter Hintjens  \r\n",
        "\r\n",
        "\"Se encaixa no caso de uso de 90%. Ignore os que dizem não.\" - Kenneth Reitz  \r\n",
        "\r\n",
        "\"Bonito é melhor do que feio.\" - PEP 20\r\n",
        "\r\n",
        "Construa para código aberto (mesmo para projetos de código fechado). \r\n",
        "\r\n",
        "**Diretrizes Gerais de Desenvolvimento**\r\n",
        "\r\n",
        "\"Explícito é melhor do que implícito\" - PEP 20\r\n",
        "\r\n",
        "\"A legibilidade conta.\" - PEP 20  \r\n",
        "\r\n",
        "\"Qualquer um pode consertar qualquer coisa.\"   \r\n",
        "\r\n",
        "Conserte cada janela quebrada (projeto ruim, decisão errada ou código ruim) assim que for descoberta. \r\n",
        "\r\n",
        "\"Agora é melhor do que nunca.\" - PEP 20  \r\n",
        "\r\n",
        "Teste implacavelmente. Escreva documentos para novos recursos.  \r\n",
        "\r\n",
        "Ainda mais importante que Desenvolvimento Orientado a Testes - Desenvolvimento Orientado a Pessoas  \r\n"
      ]
    },
    {
      "cell_type": "code",
      "metadata": {
        "id": "JckupAoDigIL"
      },
      "source": [
        "CODICOCNESSAUDEMINASGERAIS = 25621"
      ],
      "execution_count": null,
      "outputs": []
    },
    {
      "cell_type": "code",
      "metadata": {
        "id": "3RPLpwtdkKqB"
      },
      "source": [
        "cod_cnes_mg = 456454"
      ],
      "execution_count": null,
      "outputs": []
    },
    {
      "cell_type": "code",
      "metadata": {
        "id": "cDaZ1HNvkQBb"
      },
      "source": [
        "NomeCidadeNorteMinasGerais = 246545"
      ],
      "execution_count": null,
      "outputs": []
    },
    {
      "cell_type": "code",
      "metadata": {
        "id": "AWIV0_1DkVV9"
      },
      "source": [
        "nom_cid_nor_mg = 135515"
      ],
      "execution_count": null,
      "outputs": []
    },
    {
      "cell_type": "code",
      "metadata": {
        "id": "tWZTalqjkstr"
      },
      "source": [
        "#Criando código para as cidades de Minas Gerais\r\n",
        "nom_cid_nor_mg = 135515"
      ],
      "execution_count": null,
      "outputs": []
    }
  ]
}