{
  "nbformat": 4,
  "nbformat_minor": 0,
  "metadata": {
    "colab": {
      "name": "Capítulo_3.ipynb",
      "provenance": [],
      "collapsed_sections": []
    },
    "kernelspec": {
      "name": "python3",
      "display_name": "Python 3"
    }
  },
  "cells": [
    {
      "cell_type": "markdown",
      "metadata": {
        "id": "dhMpzNX_ZwtS"
      },
      "source": [
        "## Capítulo 3 - Tipos de dados em Python\r\n",
        "\r\n",
        "Professor: Erick Faria \r\n",
        "GitHub: https://github.com/erickfaria"
      ]
    },
    {
      "cell_type": "markdown",
      "metadata": {
        "id": "F_WHqItQglMl"
      },
      "source": [
        "# String"
      ]
    },
    {
      "cell_type": "markdown",
      "metadata": {
        "id": "3KzDlyAVqfyD"
      },
      "source": [
        "### Criando uma String"
      ]
    },
    {
      "cell_type": "code",
      "metadata": {
        "id": "a7K51eaB9oZd"
      },
      "source": [
        "rua = 'Rua do Catete'\r\n",
        "numero = \"153\"\r\n",
        "bairro = 'Catete'\r\n",
        "cidade = 'Rio de Janeiro'\r\n",
        "estado = \"RJ\"\r\n",
        "cep = '22220-000'"
      ],
      "execution_count": null,
      "outputs": []
    },
    {
      "cell_type": "code",
      "metadata": {
        "colab": {
          "base_uri": "https://localhost:8080/"
        },
        "id": "MhgJjaZh-Nfo",
        "outputId": "81f9a56a-1def-47f7-eb31-e802de4613a1"
      },
      "source": [
        "print(rua)"
      ],
      "execution_count": null,
      "outputs": [
        {
          "output_type": "stream",
          "text": [
            "Rua do Catete\n"
          ],
          "name": "stdout"
        }
      ]
    },
    {
      "cell_type": "markdown",
      "metadata": {
        "id": "UWxoppQ9qpDN"
      },
      "source": [
        "### Concatenando uma String"
      ]
    },
    {
      "cell_type": "code",
      "metadata": {
        "id": "7AePJSKP-Yc-"
      },
      "source": [
        "endereco = rua + numero + bairro + cidade + estado + cep"
      ],
      "execution_count": null,
      "outputs": []
    },
    {
      "cell_type": "code",
      "metadata": {
        "colab": {
          "base_uri": "https://localhost:8080/"
        },
        "id": "2ZUPUAYy-tAs",
        "outputId": "bf5ebb33-013c-4f48-b0e8-65004e107de3"
      },
      "source": [
        "print(endereco)"
      ],
      "execution_count": null,
      "outputs": [
        {
          "output_type": "stream",
          "text": [
            "Rua do Catete153CateteRio de JaneiroRJ22220-000\n"
          ],
          "name": "stdout"
        }
      ]
    },
    {
      "cell_type": "code",
      "metadata": {
        "id": "QUFzWhmB-1o3"
      },
      "source": [
        "rua = 'Rua do Catete, '\r\n",
        "numero = \"153, \"\r\n",
        "bairro = 'Catete, '\r\n",
        "cidade = 'Rio de Janeiro, '\r\n",
        "estado = \"RJ, \"\r\n",
        "cep = '22220-000'"
      ],
      "execution_count": null,
      "outputs": []
    },
    {
      "cell_type": "code",
      "metadata": {
        "id": "94uEDqkS-9mv"
      },
      "source": [
        "endereco = rua + numero + bairro + cidade + estado + cep"
      ],
      "execution_count": null,
      "outputs": []
    },
    {
      "cell_type": "code",
      "metadata": {
        "colab": {
          "base_uri": "https://localhost:8080/"
        },
        "id": "3PIENm2x-_68",
        "outputId": "87cc5557-ce08-411d-bb93-848ff7f50d05"
      },
      "source": [
        "print(endereco)"
      ],
      "execution_count": null,
      "outputs": [
        {
          "output_type": "stream",
          "text": [
            "Rua do Catete, 153, Catete, Rio de Janeiro, RJ, 22220-000\n"
          ],
          "name": "stdout"
        }
      ]
    },
    {
      "cell_type": "code",
      "metadata": {
        "id": "pkke8qdq_G2Y"
      },
      "source": [
        "rua = 'Rua do Catete, '\r\n",
        "numero = '153, ' \r\n",
        "bairro = 'Catete, '\r\n",
        "cidade = 'Rio de Janeiro, '\r\n",
        "estado = \"RJ, \"\r\n",
        "cep = '22220-000'"
      ],
      "execution_count": null,
      "outputs": []
    },
    {
      "cell_type": "code",
      "metadata": {
        "id": "RoCbbMq9_O4F"
      },
      "source": [
        "endereco = rua + numero + bairro + cidade + estado + cep"
      ],
      "execution_count": null,
      "outputs": []
    },
    {
      "cell_type": "markdown",
      "metadata": {
        "id": "SloG_OHvqta6"
      },
      "source": [
        "### Letras Maiusculas"
      ]
    },
    {
      "cell_type": "code",
      "metadata": {
        "id": "VJ7c5bkW_dKk"
      },
      "source": [
        "endereco_maiuscula = endereco.upper()"
      ],
      "execution_count": null,
      "outputs": []
    },
    {
      "cell_type": "code",
      "metadata": {
        "colab": {
          "base_uri": "https://localhost:8080/"
        },
        "id": "HRTa2-KO_wrf",
        "outputId": "ae5b7462-4fbb-47b0-ea62-1fdfcf4e3b9b"
      },
      "source": [
        "print(endereco_maiuscula)"
      ],
      "execution_count": null,
      "outputs": [
        {
          "output_type": "stream",
          "text": [
            "RUA DO CATETE, 153, CATETE, RIO DE JANEIRO, RJ, 22220-000\n"
          ],
          "name": "stdout"
        }
      ]
    },
    {
      "cell_type": "markdown",
      "metadata": {
        "id": "9eOs6sJ9qyrc"
      },
      "source": [
        "### Letras Minusculas"
      ]
    },
    {
      "cell_type": "code",
      "metadata": {
        "id": "XRgcL6kb_2Di"
      },
      "source": [
        "endereco_minuscula = endereco.lower()"
      ],
      "execution_count": null,
      "outputs": []
    },
    {
      "cell_type": "code",
      "metadata": {
        "colab": {
          "base_uri": "https://localhost:8080/"
        },
        "id": "Gyq1a8qQADEt",
        "outputId": "335dc0de-b0cb-4342-a1ef-0e840a143d8c"
      },
      "source": [
        "print(endereco_minuscula)"
      ],
      "execution_count": null,
      "outputs": [
        {
          "output_type": "stream",
          "text": [
            "rua do catete, 153, catete, rio de janeiro, rj, 22220-000\n"
          ],
          "name": "stdout"
        }
      ]
    },
    {
      "cell_type": "markdown",
      "metadata": {
        "id": "az4Tif0eoly9"
      },
      "source": [
        "## Outras funções úteis para lidar com String"
      ]
    },
    {
      "cell_type": "markdown",
      "metadata": {
        "id": "Tofbs23SoqIj"
      },
      "source": [
        "![image.png](data:image/png;base64,iVBORw0KGgoAAAANSUhEUgAAAx0AAAQ5CAYAAACnA2I9AAAgAElEQVR4Aeyda5LrKAxGs64sqNfTq+mVzL+7GE8hEEhCGNmxkzj5pupO/AA9jgRGtpO+/ffffwv+gQFyADmAHEAOIAeQA8gB5AByADlwVg7ckmD8d00CiN014warQQAEQAAEQAAEQOCbCKQ1K4qOC0ccRceFgwfTQQAEQAAEQAAEQOBLCKDouHigUXRcPIAwHwRAAARAAARAAAS+gACKjosHGUXHxQMI80EABEAABEAABEDgCwig6Lh4kFF0XDyAMB8EQAAEQAAEQAAEvoAAio6LBxlFx8UDCPNBAARAAARAAARA4AsIXKDo+Ft+brfldrstP385In8/t+X+++8LwjN38ZpFx7/l935bbvffJR5F5ME8G9ACBEAABEAABEAABN6TwLDo+Pd7p4V+WuzLf89e7JMdqdr497vcb/cl1RooOloyeUXHu8SuWWm3thcdyAPLEPsgAAIgAAIgAAIgcB0C60XHpjvR5zhdF5tJ/N9PKYB+lvLQ4xylF5I6LjoMIyratj5deB8QyIP3iQUsAQEQAAEQAAEQAIGtBN6+6Njq0Le1DxcdCUwpPJ79tOrbYgJ/QQAEQAAEQAAEQAAENIGdRUd5PYa/ZFFkptee5Hv6tP/zt6jXfZynJ+r8rf++BsmRr3kZvaSe7+SLdl4z7f719zYVHfSwKL0uZ56C1CdI5VU6GyPD1nJdix/nQI1hkU37Rs+anBSpKoNjbA1JjYyt8rtA1482PAABEAABEAABEACBaxI4v+hIC8S6OMxfBpZ32vNCM39XIyNMBU3bTwtN2Z4XlVVk6lQWzd4x1feaMVq1emvRYXnnfVmE2O9b2Jil8629lbcsffzoO0EqOKWAEEVHRI6KZSkulNgvzoPVJMFJEAABEAABEAABEHgxgfWig+8o108uBsrCVK34+oUk3ZlebZPlqMXkFIjVbfebgHxnvC2Q25nP2dpadOQCjeOYCwoTolLE6TZ+jObxG8WAjteiYy6nj5iNu91vPUY2tBbYAgEQAAEQAAEQAAEQOJPAetFRF4XWBH+BpxeSpQgxK1rVxrtbbVXRnXP9C1r6zvlg4Zzk0J1vXjx3gj/iwNaiQz1RcF5Far9U1rjlPikG7RjBC8SP4m1yIIdGvIoXkJOfoCAPPiJp4QQIgAAIgAAIgMDXEXjzoqMUN6r4MQXP2oKVig486ZBZre76r7GTncp27psW/oVpoP8xRQfywAkHDoEACIAACIAACIDAZQjsLDoCTzH4i7/mLjctQmsRYb8vYLi5i1pTdCxZRvveSJOhdbXjn7S16UlH4dlelZrw90CpmMz7h4qOEsNml1GsdPI55AGTwCcIgAAIgAAIgAAIvDuB3UWHek2HC4z03Y9aUMQKEytHfxG5LyhoEau+nJ5+sCj/IUNV33hfKn73aOywL1x0lIW7jE9S1/Mvr6VxHBNHCda8stb3T8VAew0rVnR4dkg5yIMdqYEuIAACIAACIAACIPA2BHYXHfYd+3SXmhagvFjlQkQuWPmYaJNI1EKifGFd3fHmxTJ/mf3nL7c3cvkXrLzvJLwN7RMMGRcd/fcfLDI2h4u2ym4SHyvH9pfxixYdyAOOBj5BAARAAARAAARA4PMIDIuOp7tKxUW7Q/50/RdV6BUdF3Ulm408uHT4YDwIgAAIgAAIgAAIeATep+gov1Il75J7BuOYJvBxRQfyQAcYeyAAAiAAAiAAAiDwAQTeouhor1fhScfWnPqkogN5sDX6aA8CIAACIAACIAAC1yDwFkXHNVC9p5WfVHS8J2FYBQIgAAIgAAIgAAIg8CgBFB2PEnxxfxQdLw4A1IMACIAACIAACIAACEwJ1KIjbeAfGCAHkAPIAeQAcgA5gBxADiAHkANn5MAtCcV/1ySA2F0zbrAaBEAABEAABEAABL6JQFqzoui4cMRRdFw4eDAdBEAABEAABEAABL6EAIqOiwcaRcfFAwjzQQAEQAAEQAAEQOALCKDouHiQUXRcPIAwHwRAAARAAARAAAS+gACKjosHGUXHxQMI80EABEAABEAABEDgCwig6Lh4kFF0XDyAMB8EQAAEQAAEQAAEvoDAi4uOf8vv/bbc7r/LvwNg01+0rrKOld3M+1t+brfl5y8dyTruv0dY3zRs2ULRsYXWK9qelYeeL8/U5enHsc8iMM8nPece5/1Zco+zEJJAAARAAAS2EkDRsZHYv9+7LpL+fpbb7WehGmSjrCOarxYd/36X++223MS/VxZIR/h7PRnzhdtxPj1T13FWQ9K7EpjkE80v9+WMey4oOt41J2AXCIAACOwn8OKiwzGcFvH7LmTnX6jyRVgv3OWTD8efkw+Nig5iUZ/IsBGe/XzujT8fyIk39gqmnUEAuXIGVUfmuXPJ+XO54xIOgQAIgAAInEoARccWvIM7e3SBzO9bbZF2SFu36KCFF78Cdoia1wrBQvK1/K+kHblypWgNbUXRMUSDEyAAAiBwWQKrRQe9SrTyag7fTa+v75iFdzqfngpoOfpVJHlx6eTdcn+m25139Mnvh0jZy5KfSFRbyS/zRKUs1mub+v2QbEH2Q9ufzoyOs91nfvZFx+SVCGuM8wqWwboQx58/HUfBJsel56L5L8sy4ct6srz8XZ/fH/16WIqNetI0kWndpf2Az7ZfsimUyz9/mVfKr8LIcmA/1bhgntIfPiaNkeeFDm4y0kXHbfsdHJIeZbeNB4XZxMwkFPvv2VSP0fi8LTfTd01/19faFmHnxI/YTvoyf/U56cMcFE+OuezLx5TwtvOInI6Z4U3nq/4yt6y2yXYpn1QcYjK03ixzZmsjgi0QAAEQAIF3JDAsOvJFQy7K08Wi7acLgFr8lQWMvB7Vi0Q92C+Iu4sLXWybHoYW1lcvkGmN2xZ+LIc/7bnsr1w4B2xtwpbbrbeZT5/52RcdpbiqzFe0l4WNalqOydgSq7QIrA2zjtrGk1OKPG4T5qv0FNsHORGR2Xnv2er4bPv1DAb54dhvc62XJQriEeO62N+Wo70uydQ8DQtwOGdeyDYlWzlf6Igzp8z058K2H4uRXBmxivS1+RLp0+uL5YHVtVdOhDfJrnNqyfmaoy1uXGCnI+sxisnQevNcPssNywX7IAACIAAC70VgUHTkC4Oa5Kd29xcTe+EgEWYB2bUx58dq5/o62Sys05Ev9uZaWu7M8wKm18fiFmdxVM+dvDEqOuaxG/tD3MSX42nfwNFssyylkxjzAjnCtxSJQm9F18UrnYnJrDJoI+6z7jcoYI1dlhvL0Kx8WbZN6quPxfzVfUZM93Jw4sxODj97XWSjF+dOhu0b0G9ikkVuYNfZFeurTY/1sbFKMqLHpL5oH6+dlMO/xtduLlh7bDxyby13FqOIDKtXW5n3fDleSxwDARAAARB4DwJ+0RFaRJdJn1+D4E+xOKWLkdgnl41sfcGiq+7gqUFQX70rN7pw5QWBvLBy0VBfq2Jf6POaRYfyz821wcIotTULNy+ONm50d9Oy59iXmK/zLfHiPtJmY4/Mo5lMKWZYqDg+634D27xcduy3rOx+Vt8/lVPttjAcxaE6FY997ZI2jL/qXN0JjlOHU130qvEnnrBF9D+QK8Tb2hXkXt0XnGa5qeJbBESPSX3RPn27YKxqPpX2hpGSO41RQIZbfM1tlUywDQIgAAIg8H4EdhYd5QJQL0bJsf5iQhcjc4GyCxd1wUpivEUDy47oE2062Xwxs3czpxdK4Z+QX8MZ6l9bH7rRP+nwYuOoXLOZYsBPKfwFd8eW5HGBZha1a7qEaW6+pPNeTgRlCvHri2bjs+rHeRPJZduG+4q86dg5bbLbohAJ+mtlu0zXZK1xWOtHwLzcC84LkTE+1f9YrmxmZZOE9yN2RmJe5NmYshr+9M7Pj22IVc3dPpbJBqVr6ntAhpUZyQ2GgU8QAAEQAIG3JeAXHeZ9/M5698LSX0zUxYiFmAVk18acp2479XWyXTlJQ14kq9eD2F7x2cnjc57NfO7kz77o4Heqzfv6nR3ZZ++JiPWT9s1i2rbhopMYJh51oZIUb+Br9JDZLt+YTO123Gfdzyys+KSxy+OUmlpWdt9r0x+L+Wtl+zbt5TCxwR1fg3nBxjnUd6I/Q3OelAb6cZysXcHcTarbfxv0qXHS50qSaWPa9OQt7/z0WIh3r9vLJ61r7vtchtEbtNVywT4IgAAIgMB7ERgUHbxw5TvXyei0eOD9fGGRC1a6kKTXIsRFuz826CcvvO4FZtDP0ydk6Ythv/iRoei//EhXe7V47r8cmiWMjkv5Z217RQcXAOn1DhEOMiEx4eIq223a0EJaHyOORpBmW7wrxUb6xSnWwX5H+Hp6qL+bE16O9jFj/fwZ9Znb8yfZpvJtkJOGU+pvWdl9r413LMzQjgHHpr0ceht2zgudTQOeirkXc6l//ApYb3efK6P8i/TlPOHPSJ+9ecA6+HOfnBhvK9v6RedTjETO2Tb62tHH0JOh9cZsZR74BAEQAAEQeE8Cw6IjmZsvHu3nL9VCsiwE63vL/FOTYjFBF46Vn1pNOvTFJUOqFyG5aI7qExc/Jdv2TxdK9VOOvb/yQkqWmTvb2VrfBz539qdfdGStNn7WX2pViowaR+dXuDiO0hfFtp4oiwNHRmrS2SNilc57elg0nSsxEyk2lcn91WfAZ9Ve2KZ8CNpvWdn9pCt6TOk3iz1PDsmVwKRjOzik7taGvfOCNIW27Rh15pSpfma5I1fWWFmfu7mhc6bnZPtEY+61k+q886FjAd69nHLzRsyfxMaMBctL5Qi/LrUio9MbsFUywTYIgAAIgMD7EVgtOh41ly4cowXPo8Jf0j8vqvUF1Dv2POPWio7nWfH5mj4vlz8/ZvAQBEAABEAABEDgfQig6NgYi+6uHt0tbl+63iju4eYoOh5GGBKAoiOECY1AAARAAARAAARAwCWAosPFsnYwP9nID3Dyqwb6ycda3+PPoeg4nqknEUWHRwXHQAAEQAAEQAAEQCBG4NSiI2YCWj1CAEXHI/TQFwRAAARAAARAAARA4BkEUHQ8g/KJOlB0nAgXokEABEAABEAABEAABA4hUIuOtIF/YIAcQA4gB5ADyAHkAHIAOYAcQA6ckQO3JBT/XZMAYnfNuMFqEAABEAABEAABEPgmAmnNiqLjwhFH0XHh4MF0EAABEAABEAABEPgSAig6Lh5oFB0XDyDMBwEQAAEQAAEQAIEvIICi4+JBRtFx8QDCfBAAARAAARAAARD4AgIoOi4eZBQdFw8gzAcBEAABEAABEACBLyCAouPiQUbRcfEAwnwQAAEQAAEQAAEQ+AIC7190/Ptd7rfbckv/7r/Lvw1Bob8iPenjt3mvvzq+5jKKjjU6Z57Lf41+a06eadFrZB/DwR+H53r0Cp3negTpIAACIAACIPC+BN686CgLmp+/XQQjiwqvzb/fuy5w/n6W2+1n2WfFLtPDnVaLDlmwlcLt/rulbAub8YUNj1lsXx/cARwoT+/Ls1PTG/vXjwc8AAEQAAEQAIH3JPDmRUd+4rB3oRxZVPRt8iJK65RPPt4rkKOig/y63RZdr3m+vZc/rjVU9D1hUfosPa6T33rwdTnZj/1vjQH8BgEQAAEQAIHzCaDo+DGvbQ3uutICRa/gz49OQINbdNDi2RYcAWHv2uRZxcCz9Lwr5y+zC0XHlwUc7oIACIAACLyUwGrRQa8Z8fcpbrdF3/1fFr6bTt+3SO3soty83mNPL2VxXPvL71/Yc1a/kZ1kWPneokLZ/POXfRB6s8/9q1Sj4y+N3rIsfdGx8XWXKMefv0Xlg2CWmfbMOv42pkJG4kjtOSblOzy/qSgUOZi2VR5OZHbxMf5yzqi8KPpYj2dXeknN+sftRpyyLSU+xqfV1/cmPq7qlX0Nb8tmr5ztHAoDhl8MsXKWQazYbsVZ5UVMfqePYypjY2xk3fgEARAAARAAARDYRmBYdOQLunylJV3I2366YPOijFSWBUK7RttXo1L/tjDN8tv+spSFgloYWRnFubKQarpotUCLU2mTXVTQvvhuRl20CJ22T8VJOpv/9fiLN/qiIzPrCkDPzi0c00KsAjdx8eQsuk0k3jk+Uk8xesA+IlO7rW3KOSdycKBnZJfNlb6dp0/7l/sIG7TBpdCT5/txMtJLxdooZkZP2t0rh/rZMbSWLzzWq23ZGC3HY9c45NjL8Sjnp8JoVb5fNMr5g4seI8Yhh0MgAAIgAAIgAAIzAoOiI1+01QV4JqlbSNhFgxSQz3UX827R58nwFxRJel40tYXJ+iIm26PbjGW/6wJkVHTMYzf21eVoguVxUzoplhyLWLyt3poxXV5QtJcf5+lWfnomF6NVSsoQ6qPsVKfTDwb0fUd2aQYl/1Y5ORxc39gopz25ru20duQm5rVBHh+iOGAt/LlXju1H+6sc/NzTctZilfsP49jNRdlDLb8vOphD+/TtbOexBQIgAAIgAAIgECXgFx3dUwtPXLkgy1cR1N3NRbyOYxZy5rUJ/fqMbOstPAYLsWSiWcCpRcbAJ9VmsFgh7wf9PTLPPDYqOtpTiZE1GzmuLiJLrMWClrhyn2C8VR9ptokrnQrKlGLSdn265RQXNn+478gunTuRoqNfxJIM8fSNddJn0EdrR+obPSb1RfvYdu4+x74o0G16Dp7Nw1hNx2JMvrYpWTCf0yQvbIMACIAACIAACMQJ7Cw6ysVZLDLrBdssNpIpdHGn4qTc+Z4uGtgBp+hY60uLU767bhZeg3564eH5VWwZ9GdLX/XZFx0rPkgj1/zxOJq4am60ml/udSFvCpo1XcImkmn00OmVosNrLkQON7ucTC09PZy/jiLLwLNft/EWtS1fO2O3cFNj0eR+Eaxt6bSFCxUrx903vHSbwmG1TbOP+m6aP2LyXZsUR19OswxbIAACIAACIAACUQJ+0TF7DcVdDE0u0KqPU0y4Fnvt8jHvTr5eRNiFlyfLtun3q1mDBWk9/6KNvuhod/PNms5YuJGjEWZZc9FJr7wkVmrx5rM3BuVFr9FDbVz2MZlWh9pXOfmEooP0ySd5yhpnJ+ZjHws/j712Uql3PnLMtqF9E8c9baRt+vXGOZewDZynNhdI+WROUwZiBwRAAARAAARAYI3AoOjghatcIKULMO/ni75c+NNFXr5elRaKcuFhFo79F0HLoo8XAWS1v7jg1y6k+HyXWv+ClbvQEa+yVJuFziy7v/s8Or4G9xnnvKKDC4D02ppiVO7a87vwmzgaQZZtDlcuNtIvTrEOZpB1cf6Uo6Y4IZlGD7V0F4Rejno5xBaUc1K+yUm9sG39RnZZBl473aaMG7prL36VS+Rf05q3wtyMDK03y/KOSX3e+cgx24b2JeeSd7IQtX5Rn8SF/dg8f8j5qc+NTn5nU2BOk7CwDQIgAAIgAAIgsInAsOhIUnhRyt+5UAvJshDkc6nAsIuNeqEviyyzDunk1wVHdcEvOug0LRjFwq2+2lM7O6+LlDuXxZ7kD/nIC53U1S5EizjyRbZral665Rcd2SQbvxQrFcPULMrRBM/nwYtqU1wUQp09hqfNHwlW5pI0ZSZTysjuypzxizLOadYzsssy8NrpNjn/WG62reSkYSHtnvmodeSe0WNST7SPbefuayd3jUWSKwo0I7KbP3Ruz8e6tZuLTo6/N6dJXtgGARAAARAAARCIE1gtOuJiPqmlV+h4x97D57Wi4z0shBVMIBcP13mKxnbjEwRAAARAAARAAAQeJYCiwyFIi0N555meBvSLRafr0w+h6Hg68t0K+YmFvmNfng7pg7t1oCMIgAAIgAAIgAAIvCMBFB1uVPJCMK8D82sa+tUNt9NLDqLoeAn23Uq58Kiv8HivvO2Wjo4gAAIgAAIgAAIg8J4EUHS8Z1zCVqHoCKNCQxAAARAAARAAARAAgRcRQNHxIvBHqUXRcRRJyAEBEAABEAABEAABEDiLQC060gb+gQFyADmAHEAOIAeQA8gB5AByADlwRg7cklD8d00CiN014warQQAEQAAEQAAEQOCbCKQ1K4qOC0ccRceFgwfTQQAEQAAEQAAEQOBLCKDouHigUXRcPIAwHwRAAARAAARAAAS+gACKjosHGUXHxQMI80EABEAABEAABEDgCwig6Lh4kFF0XDyAMB8EQAAEQAAEQAAEvoAAio6LBxlFx8UDCPNBAARAAARAAARA4AsIfHDRcZ2/Kv5InqHoeITe9/Xlv4h+//13gvP/lt/7bbndf5czpJ9g8FNE/v2AyVNAQwkIgAAIgMBbE/jYooMWV3Lx8/ez3G4/y99bh2O7cV7RwQvL2+22tH/35ZR15naT0eNlBFIhfl9+/36Xe/o8vDJA0eGFFkWHRwXHQAAEQAAEvo3A64sOKgaOXgDlxY++myuffHxOmMdFhy6wuBD52Vp1nRKfz+F/JU/S4pfHRFeUX8mRo2x9Um6j6DgqYJADAiAAAiBwZQKfWXT88+/k0sV/86r7vcMbLTqWJRddt63+P2lh9t6UYd1HEnhSbqPo+MjsgVMgAAIgAAIbCawWHXx3nF/R4bukVQddtMUrPPJ1pmVZeJGv5Ig2dF69AtTuxJKOoPwqp8jO+vSd/iRvdLz6c8GNrUXHlhhWriJGqj8VdyL+t9tiaxrOgSqrxIiPj3KDQ1H7sQ1WATekz/J6j2lDMmze/fyVfCj283mZc3xM6NhmDyXdcmfbHT6L1JfazXSy3bVdzGdyYaIrGhMVs5ses5Z10ruZWR2rLbdU3mWh4tXBntvMl84m4Qf3rW0q65gvtV+K589f9l/I2MuEYoj/gQAIgAAIgMBFCQyLjrywkK89pcVN2+8X8GXxIy6u9eJbF4H5brtaQNBCqMlljvvk596kV9jBMvMCr9dVz19wI1p05Fho3yOMh8zKAraGNrErx2R8+xzIkPvjfW6kNlLWUoocpVPFLLYAH+mm4roKP8IeKyPZ14rhCP9sq+0jF9kxn+O68kK5RGn5EYvxdCzLkXmU9Ld9sleMve0xnOs4ypdRbvf50XJ2lo/zeOXCZSZHpTV2QAAEQAAEQOADCAyKjryQURdG5WxeTNX1GZ8zBQRdgE0jOiYWJf6Ff4P87svh/iKMTJwuWtmR63yOi452l1gvptm3GGM/PmPGdtFl96v29Is+s9zgxvVzrDc38c/bnLP7qW/0WDWFNnx9rY0tOtoZft3NICiFGy/i/f7aVt8G3SYWa+pjDNJysq7xvOBzlF4vi29vazPTcZQvXCQz62YB+dzNK+1827K+ROLVerctK6edwRYIgAAIgAAIfAoBv+iYLc6d12r4Fayb+FWc+SJmcOF/QP7qombm1wWjOi46+rvjaj0ZZOwXHYOFX+IXKDxzs0jRURZj4vUkv4DiwPmLN71w9hfGtk21URbIvGAO28N37VMBaBa3Ef6DfNW2BnyO6OLCSyWJYTWwh+kfwmym4yhfsrF9XAYcso+TfBzYruOVJE3kZGX4PwiAAAiAAAh8FIGHig6zPunA0MXWNOouwGaRSkIGF2+rwJNfL+hqsVh6BuVaPe+8Hyk6kv0d9yiLrfGh9q3g8WNU7FnNjbIwU3H0F9gtPv5567vdd/l0zPbY0ywjnVSsFDYR/oM22v6AzwM5zbq8RXLXYhKQ49q2JYYzHbPzxampL6mdl9scd8PBn1cM+4FtDzOxgcI+CIAACIAACFyQgF90lF86Gr9G4b9GYP3ff+HfLz/ZoC/ywqrBIkO0uNxmtOjICyz5Re8YY39hlvva16M89l4O1HZmYafi5i7gzCLPiZanT8kd5IdtU23kBfNOe5SJSkaEv9/G2jr32ZejbGMuazGZzgtm7Cl/WdsshjNbZ+eznjkTcjj+pCPki2+bildIDrPCJwiAAAiAAAh8DoFB0cGvhchXQtJioe33XygtF3FepIUWMe3Xfcxax/nCakx+Ck3/RdMcsNHxK4czXHTwKx0iPpEYjr68nfvKIoYXcfqYt/hLvL3janHm/MQvnS+/CDSKmfWp9hF+az1Z0vxYXlDKQqvKtsnLxqUiV54zRa+1lbqlNtZW8f2CqlO0sXIibYa6pL0cpxVd+QlAmxc0xx3M6vhtMq0O6+9eX0a5TT4YDvwdHBnPylm0zcfMk76Us5XhPiacUvgEARAAARAAgasSGBYdyaF8cW9fSLZPPuz5dmHNOLyLNx2rF2DRrrwnL67fnf6IfJJoFndZi7kLywcv/hkvOjiecjHHx1qMLeOEpy6u7E++EmfR135vgfvKoBbeodwod4Xr94X450cdeS2M5U56yaeUs5SnIueGOSjaVL/lsR32SHbJD2v6bAzV13qEP739c5+TPzNdoZg4cuS80Nm2g5lnq9Thnbd5G/WF2pm5x+ubdHKRsp6PgVjsZEI24H8gAAIgAAIgcFECq0XHRX1KS93upz79Y9f1kC33ig4+h8/PJNAt7D/TTXgFAiAAAiAAAiDwQQQ+tOgod3XlXWq6K99ee/iUGKLo+JRIxv1A0RFnhZYgAAIgAAIgAALvQeBjiw5+spFfZ8mvPNhXNN4jBI9ZgaLjMX5X7I2i44pRg80gAAIgAAIg8N0EPrjo+I7Aouj4jjjDSxAAARAAARAAARC4MgEUHVeO3rIsKDouHkCYDwIgAAIgAAIgAAJfQKAWHWkD/8AAOYAcQA4gB5ADyAHkAHIAOYAcOCMHbkko/rsmAcTumnGD1SAAAiAAAiAAAiDwTQTSmhVFx4UjjqLjwsGD6SAAAiAAAiAAAiDwJQRQdFw80Cg6Lh5AmA8CIAACIAACIAACX0AARcfFg4yi4+IBhPkgAAIgAAIgAAIg8AUEUHRcPMgoOi4eQJgPAiAAAiAAAiAAAl9AAEXHxYOMouPiAYT5IAACIAACIAACIPAFBD6k6Phbfm635dP/+riXjyg6PCrPOfaJfxn8E316TjZ8hxbkR4rzv+X3fltu99/lnwz7v9/lfrstt/SPzg3ayT4HbSMuBzsAJf4AACAASURBVIGEmFMJ/Pu90/i4/6qRc5DO5423gwz+SjEfUXRQIssLwN/Pcrv9LH9fEFKv6OCBTRc/vgje7ssp4/wLGLsu0gLj85hi8eJGGwcLAeRHAuEtbsqxfOer0PLanZNKiMs5XCH1SALp5vB9+f1LxfkZ187njbcjqXybrOsUHVRIeImaE01XzvLJx2eHdFx06KKLCxF1TYygGXKPdP7UNl7OfYavWLx8RhzP8gL5MSKbrzn6OjRqe/xxxOV4ppB4LIGUozw+uhvFx6qCtDcmcP2iY3DHmSbhzSvsN47UwLRo0bEs+aJ428oERceA/GcexuLlM+N6lFfIjxFJFB0jMjgOAiAAAkxgtejgu+P8mg5Xqdx5ke+wltd49Jq2PO7SBxd74eICQekTr0vR+fqaUH5nlm3JffRd/WTf6Hi1/UM2thYdzK26T0VFeQ+5voucz65xpxbT+C851j9/+VPIn8Wc7etsMLnE7dRnwC7Vfml2jnKwvlJh9JN9Nld//kr+yfe7SUl+31twUHasxCK1Y2aVidA7H4tKU92pspJNHCcpNytudo9sLxKzvH480nEpd9XXUiAnXfWfecq52p8mgPZ+ff2+V3W727AcKA+qvbF5jITO7FKaY3LJtr05VfRF46I4lJyQJtP5yqWcCYw39qHKtzK0EhF3/n6EaGD0ySGZ5Kc5To1j71XbQJy0jHaXNlmiOFhZt9ZWtau48nvtnNt2Tq6MOPelg0WGajMat4ZT0ueIEmCrgWrsjPqt8SFJAf3kB9uf/C15MTpOci3vtVxi7yZ9WJ/yieXKvnyM5arP88ezirszPpU5acfEoIu/9E3wl3KUTp6HKoeYzyRvoms1BsIgFSMx1lITklFty52U/RFmQhc2jycwLDpyYOWFPiWX2C8JpJK4HGuTaCwha1JUYc5dI5It9BcWXpLRqUH74xG+VmK06MiMNb8cY7lALPGSg3bEscS6hixhKMda/Msk4Az0SMxTGymLJ1Cl0+IP2tV3KwvcKtzm4GO5TAuMoWyvSO5j0TMrXjzkc4t/ncxF/EM5ImF6tpSnbBzLrTLJ7002ebFrfkpz03bm2s73HGKx3+rXpkJWjSFRlK3klPIzEJfIeLOx4DFfzchAqWjgeDfGubBVdpmdOcP12OZYSj39OJrr4PEo58skp+13HEyOs1u2Xdbd5OQcaPupveTmzXnZx7V8bXPxLC5sZ/308qQck3bN/Hg0L7KPMo7Zwkjsqi9lI9Kn17djjPF3fRT0fiG8V1fqJ2Pg5Yb2fX2sxLms5dpxc+OIi/R5lnckQ1wrtjPTBLF3PIFB0ZETSQZbq/YTLbXJicNJ6rfzEsO+9mPb5EmsTc7ZHl8+nSsVvhn/2o0P2BsXHfIucT958+tWHR+6wAjOdj/Dzb/e0nW28e/3GTnF1/TvYs6N6+dKvDfaVUWWjbk9vm5rs91P4ufH8sXB4Egdl5v4wh3J6e7a+nZVvV179txekPJxbWvMLpaYP7M9au4gP3hO2CjTMIjlre+btpP3/Laag89Yt9noF6mPyI3kT/ZF28P+8ecsLtxOfvb2aR39ee5N7UTu2X1upz8jDP14sRxtXzmqciiiw2HFCqrIdlc+H/Lt0vbM5Ro17UvrdXKI67HX1CR7PQ7ReM78iMoZ2+PbGYmdJRjro+NUIvpjY+yPxabR99vKtvs1LmKxPDrWdKUtX19r4+dKPh/h4vfX9vs26DYRXYVtzfNipYpB1qWuLc1Z2tJ6zUna9e31WuLYOQT8omO6YB8kUbJRTfB+gG1i0P5qslm5DMOXT2enPrCMa3+Oiw5e5PFdO/No3Tx25Uf9+XNWdETj708kiXgo5jyppru88p/JlRbBuF2tT96a2+PnmpvLgYuH6heMhWfjcBGeIauiRfk8GB977FJy6Yn+vb4mkc0QRW/Q1ywzx1MtnoL98x2xlDcil62haT/CgfPQ5N3jrE7MKcdXYiJys8+nYo8ca+oJSxm3VUZ8vPW6XAO713rauG9xXIutq0fGOJI/sr1jZjqkYk9tMgu7IFLtAnLrQnIUg4EMpac8dTHpmj1R12frXDCeAxuatKAc5ugYuhbHlhPyutDyo9nRxvesj+bHqN6t6JiPT+U7z8WUS4ZPieEql0GcNavAHBbRNcgFpWtgj/RZtacT25lJedg+nsC+omMt+DSp8YI3kJCRZEt+u5NlkV8vggLQmo2i2dU3I0VHxmcm0Cgfj/taXxV/v7io9piLjZ4wvNj6+VRjuMGu2qdskO6IPattvMVI4Nia3cJQz8bRopm6mVgIUbHFdtAuJTftUD++yJkFyAaZ5K+4W056NvRP7bOMtDjhOclYO5BH/eq84uedajOQY7SZ3YBc9qHakkUo3UWqd0wpJBsHceHCSunp7VM61nw2uUf9zNhRtqWdNXldYz+2rh4pV247MulQoI3iQJ2OKDoK77UYDGxT9gzaZDNXfk4+2m+tXVKydj6YF9M4kjOB/63ZIrorfuV49FgT04+XdM7Ksftem/5YIDeaId0W6aTio8yDES6DNtr+gM8DOdZIkmvmCKUrIEe1D85p1g7sn0vALzoG76c2U/IEq+5AlpM66GXArSUSD8pJG7/o6Ad0tZEmN77A1qMftxEtOjI/+bTDv0h2gFyOj8U/6dg3wfgTXLM5blfrk7em9kRs5jZq0eDnqB4nsVh4NvKTjshY1D77OvfYpeWmvRwnuuub8kfx8PV2MoYXmGB/KXAoKzXy5WkOgXwdyJFmeNteTF3dimEkpzxtK3FxGfXjTduW2UVyz/Ozt9CPRd9OHDF2a/tKOzWHRXTM2/R6/D66nd+memN8ycdtDHwZnp5IXKpu2siy5/18G5qsqBx/XCU55I9ZE4zGatPrbc1szX00v23HpFbPbivb7qf+02Oh3JCWONtKRoSL38baSvsmVrqNL8daeIQcpVf5y9rseOLj+HwWgUHRkW5WpF/YkIv2FKy2z4+4Va7R5C4Xtr0cSopUcYuL6DzZxndPsh39XczR8WeBfZaecNHhVP19jGn2U7EZ3bWKxt+LbWLjHadjNS/yRCUvgHQ+5Y5KOk06apfuFbFnQy5XH7IW7Zd/LBILj1mS9pDP4glA5Svsj9hlWdJ+KTZ+7Zcfq71tLpHt89+pXb8wTG1KumWOqEVnb232u80hEQ6RNr1fvW7riyeXjomYJCnRY53GYVxi483qjeYe9ZMx6QzLBywPOlpsptyYxJb0qDmi92uqw81Rff2zHEYLYtuu1y3l9rb2/pTYh8atvhb3N576IETjue5HfE4i/5y8GB3v9TrXLONWpI+NUxIRPSbVWV0kw1vvbB7PsdyQtlC8JVszD1pbqa8ca8wglGttPvd8DuuS9rJ+waqXI8ePjdkOZgogds4gMCw6krIc4PbepH1flSex9l5gS7xmbFlApIFXft6M5IpEoiSdJFuSV5NZ/vSfGUisl9oKHXz80z7jRQfHU8fIxlgWg8zK5Z5OEvuWH7pIzb292OauffHQxazcqaj5xT+taHKF7ayfAbtq27Lh2dnZw4XbLJdN3vVy7OSYjZjFwrOx+rHDZ34iwXzT+LZjM8mf2VVtUBtlwlc3LlqDVZk27oI3S1jtb+aK5N96yvRzVB+zvs0xrOZye1v8/PHaMa/2uRIXy90Zb66OQO5Rv/UgVBMfiS3rUTLMeEyK1HmzKGRDbBt5/es5ZK6yTZLTt+t1qz6BGETHbWR+Zl/VZyCeqf0aH5IXkMPxUvqZ2yBfrF7vmmXlzfp4cYoe07pOHM+h3NDWkA9l/vTmwRkXL9d6LnOfk1UzXSTXxLzX1cuR46drv4OZJoi9owmsFh1HKztHnjfZe8fO0f5qqV7R8WqboB8Erk6gu3hd3aEvsd9buHyJ63ATBJ5CAHPjUzB/rJIPKDpK5SvvZtEdlva6xMdGb1kWFB2fHF349ioCuLC+ivxjelF0PMYPvUFgRgBz44wQzq8R+Iiig9+nzU/m8qM++chtDcDVz6HouHoEYf87EsCF9R2jMrcJRcecEVqAwCMEMDc+Qg99P6To+N5Aouj43tjDcxAAARAAARAAARC4CgEUHVeJ1MBOFB0DMDgMAiAAAiAAAiAAAiDwNgRq0ZE28A8MkAPIAeQAcgA5gBxADiAHkAPIgTNy4JaE4r9rEkDsrhk3WA0CIAACIAACIAAC30QgrVlRdFw44ig6Lhw8mA4CIAACIAACIAACX0IARcfFA42i4+IBhPkgAAIgAAIgAAIg8AUEUHRcPMgoOi4eQJgPAiAAAiAAAiAAAl9AAEXHxYOMouPiAYT5IAACIAACIAACIPAFBFB0XDzIKDouHkCYDwIgAAIgAAIgAAJfQODSRcf+v4z5t/zcbssn/AVzFB1fMEp3uZhz/FbzfFnSeLn//tsl7Vmd9Jj+t/zeb8vt/rsoq//9LvfbbUm+5XODdicYre07TsFZcvdZ+Dye++xDLxAAARAAgSsS+Mqi49/vXS9k/n6W2+1n+btgBL2ig/zjRVn9vC9vvt68IP33NZlyIFXVtEDPsf+MoqMsiPMdgxKA5y2SzyoOzpK7L0Ofx3OffegFAiAAAiBwRQJfWHTkC6q+4yuffFwrjOOiQxdRXIiotVrEVSrIULBEUL1Tm1p0JKMohunJgM6Jd7KXbZkvvvNY1eOXe5//Obdvnw1nya3WYBxXFNgAARAAARB4DYHvKzrEnV+JnC76m1fkUsJrtqNFx7KU1222+ojFymsC+6Va54tvFB27UgPjeBc2dAIBEAABEDiOwHrRUe+Qyvenm3JeqPNd9PaOdWuTttT5m/NeuXxHu7wO5K2NSR+/LvTzR++od+97T2zOtvR3fEfHtSfvt7e16OjuEK/wUrwLd9U/EDfOkSqrvJ/Px1Vu2Hf36SZ9yT0R93EUvFdv8ncZZJ6s6pY8HrQn+9znGh2XsqXO5Kc8xww43+V5w9+Omaxf8LMN8uBs348ojL1mlrmK24ljWrGynIRe1a4YO7Mxwke14Rh48eH8TJ8BgKfIHeSD0lXs5HFM59ivdK74RseFn9xOMRXnM/Iy/iQL2u7HgM0n7IMACIAACHw+gWHRkS8u8mLRv+dbL2b1Itvfhcxy5Os5SY7YLwuJKiIxL8f4wpgP6ddD6sVPXPjCNos+NcSkU9hVT7z3RrToyLHS/kV45VjofkRkU9z6hVgkd1IbmQP5+wn8AwBeXDYUHWkxVJOuPAVyjkn9m+3xGJUnTiw3EoOeVfLdjrXkexuvIVs9+8oxts+lnL4TdZM5cd6YJt/VeLV+Zwttu8x1bGOED8kUr6RlmW1hTlHYnKOlCD5cruWi82E0jrOPciz4PPt2nj4tx/LzcgnHQAAEQAAEvofAoOjIF5S6JmMetCBpF3K6qJhGdKwuEvIicLyAyefb4o8V2QuzvcDldlpXxOaxvvmCttn2TlvjokPc4VaLabY+wosLwBbz3HvM0S407H7V/qMXKOm4jie3lJ9jvbmVf97Ktfsj3V47ac2y+Ppam3xe5T+NIS4OYjEgO8QiNcv3x0TTbbesrXa/tff18XnHJz5Fn1G5vv2Wud3vi62sXLeb2agMLjvW7ph9vSQrx7Z4rtyq3czdfHwUa82zjM3VuT77pZoMdLJufIIACIAACHwXAb/oMI/p6bUpekyeFrJtAUoXJnWVMQvHIsc0EYSdCxWflResgRx1YQzZvLIgGOhgc971c1x08MK2vd6m4hDiNSo6gnHjQkIpziSnuUPNSrxq7pVCypGXpfrxVXnCNtXCWNgzPbbVnsJeyFV+B2Og+mRzMx164qDHZDs9szUewyaT3pWk17GGIShPYNzzW8e0G6tstyrkbLvQWJ7wGciwuVQLz2iOniVXvcba5ugaO8m+HvSLiXTa+unloG7Tjz063xXLQjk2QQAEQAAEvorAatHhLhwEnumFaHCBrSLWztNFsiycB+3URW/QpuqijXJhFIvAej7Uv7Z+m41I0ZGMVazSgai/3mJlra+MG+t1EmmaO/wUQcWqX9joQPjnre923+XDtlf9Xu74+pRNxIoXgWahv8ZRCPFYidM5trTo5UIzYOuabhNDqWuaN1G5g3Y2NnY/9KRjILv5sZ+PticgpynNWwPbHpYr9JAslQ+UzOqGETentqPxWXPfL05cm1XxxfnI2vAJAiAAAiDwzQT8oqN7X9xH5F2w9IXIvyvZpOXzw9er6kXPl7NNV9aq+zRLRu88ixZvuRktOvh7Mm194TPtnPSKjpIf87j5i5WkY5o77uJsvsifymXdNbeyx15eqGM77eE74XRnPrFUemMx8Hzq4iTtk9u1oWUXHXtVQNmY2RyV68tRzN1YRfr5baonG/hsf6JiOVetq/yU3yH7rFyzb2W449gfh0mSsof32+RBylQb0sfFtbEFuyAAAiAAAiCwLMug6OBXcsxFxCya6KKzdiGqj/ylnHRRbvv85Uwlhi6Q+gvDpEs8qs/7+kud/ZdH6WqpFnq5TX8HbnT83bMkXHQ4Tw4ivEZ3tnNfHaO+sJksalTQ7UKnX7zWmJt+MkbWp9pHLPbpmNhP/efH9tlDtpVx82u/dOyOjz5nyTbrc5Ipj9GY4XEVszUaQ8k3bVvGubBi3Xw+mBuTMd3HxS8obLt1G2N8SOaqfTE5lt8pclfzYfxkk2yReVSMtTy9drpNYaGedOj52XLAPgiAAAiAwHcRGBYdCQMvSup3OryFmrlg6QtRhmnl2LuHvFitesT3Rlo4yh3EclFLMkiuscnq0neWy4LOke/Z3XS/71a86OB4tsVh8mrKixfkhbsKNy105RfWtewk31usjI53MSh3a2te8E97KiNsbOZ50ulhO00ude122UPeLj/Er+eTzs5isMpQLPIUlqitgRhawp7NZ43pLgaDp7B9u56rsjHEZ55LXJQfnaN75BKDUT5wjptxvJpbYjx47TTzzErloHOjw8slHAMBEAABEPgOAqtFx2ci8O6Ueseu4b1XdFzDclgJAiDwKQRy4fw5T5A/JS7wAwRAAATeicAXFh3lDqi4i5eftPQXzHcK1MgWFB0jMjgOAiDwLAL8tE4/6ehfP3uWPdADAiAAAiDwfgS+sujgX8DJF8j8WoB69eL94jS0CEXHEA1OgAAIPJEAFx71VTPxF+OfaAZUgQAIgAAIvCmBLy063jQaO8xC0bEDGrqAAAiAAAiAAAiAAAg8lQCKjqfiPl4Zio7jmUIiCIAACIAACIAACIDAsQRq0ZE28A8MkAPIAeQAcgA5gBxADiAHkAPIgTNy4JaE4r9rEkDsrhk3WA0CIAACIAACIAAC30QgrVlRdFw44ig6Lhw8mA4CIAACIAACIAACX0IARcfFA42i4+IBhPkgAAIgAAIgAAIg8AUEUHRcPMgoOi4eQJgPAiAAAiAAAiAAAl9AAEXHxYOMouPiAYT5IAACIAACIAACIPAFBFB0XDzIKDouHkCYDwIgAAIgAAIgAAJfQOAlRcffz2253X+Xf6cAzn9hPCKf7Mh/lnxiyd/yc7st7/gXzFF0TEJ38umjcnm7nHien4zgq8TzX92+/54xe31aTD/Nn2un+vY55tr++tYPcvLf73K/3ZZb+kdrk0E7X+hDRxGXh/Ch88UIoOgIFB200JBF0t/Pcrv9LH9vEGyv6OCFEU2gPJHe7ssp66Q3YPBKE466YGyX87yL4iv5vpfudPPhvvz+pQXKGePp02L6af68VzZutWb7HLNVwxXaezlZjqm1gNfuHP8Ql3O4Qup7EvjAosMBTUVCv0igwa4mGqfvkicffWdTPvnw+jzv2Ljo0EURFyJTd63pA3a22bfuH3XBOErOt8bhGX6nGPE80N2IeIYBUR0Ys1FSX9UOc8wo3Pl6zmN71Oqs44jLWWQh9x0JoOiYrcLpseveguX8kEeLjmXJE+tt5q81GQsYS0TtH3XBOEqOMg4730kAY/Y74z7xGnPMCBCKjhEZHAeBowmsFx108SrvOdZ3HZsJNIn9/C18F729D9napC1qx6/5/Pzlffm6knyfsn53Yily9R37xbuglv68npaTq9JdbOA7GhH7s2/GhmVgm3b7KXtbiw72vRq3EuM1dtTfxC3Fn2PA8plxlVXizsc35U6Kn1XAimqe9bEiXTLfVnxO4tg2a3M9t5bL3J/bDGyussv5zsasLL9jzLKkD6xHHFuzewnESqDMm6ZPh37CsZPHNrM/Azaq3wE2WNb6KYX3akXJAcGWbJr4y/xnOa3O39rTk6TDywNl/4RZ19bIz/PnfE6vcgoD2h/N9ZKLYUb9xLFVOSLwVT/nikk+llPbCR1CDG2u8S4N2vv8RZ9RV+cEJYt1rvhvbYnqk/2yj/N5rbJYY8Y2swIzvrbM4SxCfUoWyY6JPsk52Z+uT4qx9xrzTEe9Prc8l9c94sR2WVlivKh2xUltmx67qcksBl0bbz2UGgXiUkzCBwhcisCw6MiDS050/TuOdYDVmaO/Y5DbNDl10PKgL3fg26SQ9JT2ZeBV8WVQ3+/3+poD0aaJo+noJgs6P3hakSbGqmBgf7VVxHYgU7R4yma06Mhx0AwiMXaLvORZmawrOnGsxVJMwqqhd9xnL2XxRGxENc6eTSa/Ij73eZ1VzHM5+zWzOSInbKfIzZHd0Vg1kBRM+vGE5osYl/Wi3sbcUl5D7BYZQmiyr8lrF9ZhPE3sso6mM8xILFxyH7kYihUdcV3r80mWI8dh0t/2KYYmptuY8dhsMjkE+3zIvfvcyuOVbjTVAPpjWObESI70MZInvRz2Un/OeEfHRq8v5r+2hmNjbs6UeUsyUP0C81qYmcit/b4r6+rOPL9sfug5pWdcxqawea6DbwjK/F8fY/wWgOVP9nS61+UqGYP1i/w+aPZHzkc7c6RGARsg8N4EBkVHnhzqtYR9oMmvDToalKaRHqh2ksmCIm1yyzLpVB1lkkp2iMnA2qHl8yBudjd35ALBs83q556RBZNoe+LmuOhod3n0woCNicU4X5gsuzEXYi8WeXa/ak+/YFbjmo92cePG9XOsNzfJ59XETznLC9WYz77NkVyuhooNa3NEzgY77TgQ7CUTyzqd8/1k030789mYfSxp/GnZ2JaP2uD313nm26DbxPylPqs57eSncVnrNSdp17dXtTTzdD63wYcuh0quiFxLMj1b7TF3f5WR8qTs9D6TXMdO3XvGu5fL/a1860dqFz3GMmthbvyvsob+OH6oea1paFu9b9re/jz3dX0f2lZ7iV945GP22uuPR26t7StHVS5HcthhxQqqSLPI725u5IbanrlcoyYtEpbfu7zO+f57erbP1712HAGBdyTgFx3Ooz1auNJj27YApcFiJlA1gJxKP0FQbepd07RIbrIZFt0J4ItdkkfbafCOF5JWvr9wLnas2d9NGmzVFYoO5sN3fszdtWCMfXaDyT8HV8XRy5GaA6vsU6syafPrAvxp+omo5EfznC+ca9w+6LNrczCXpzZH5Gyxc+RrhRKPVe1SNupdODsug/ZZeVM2fQfxqoWZGyI2RFhzjnGOFBvUHBLRZXNtRY5RpbxWeunM9jHgjtkHfEhm9HbFjtl+tG8A2DaRPPHkKJBpZxD/1i4+NnobY/43XWkrrk/3K3P46lif54n2IW7LFtZtnSBverWxO5xTOMdMbqgYRnJ4GnMvbpmFulnF9jDzgNxp3g5k7I2LzRHsg8AVCKwWHXb8W4e8yUgNoNAga1KpLy0s24I5Tzp50koTVp4Y8gRL9jl3fJQNSby6W2L0GSd13zKR88TTugYuaLLxedvjJx2CoZ1AkzmD2HSWeuzW+pp4EE/DOOnwjs/Zl3g48qrdZBtf5MyFdc3uKsC3bcRrs80DG5ScQRthIm2qPgOmI7uLgNBPP5MeOS6D9ml7vbEUiGcRssuGgZ2am2+DajOQo/3z82arHNWeCyI1//j2Klu2jlnRmfQ740vblTtEjtk2nnzdJpYnnhzhRt6cxW3tvDePqTiUeAeOVbs26Kt9eIP6Dua1YJ4ozhtsOYQ1+1E+SaacUyLz15rNLD/QRnGgfkcUHYG8Hdim7Bm0yWa+z0/1M258gsBWAn7RMXjcaIV7k5EaQAM5uo2R2g26PJhTsZH68fWQ7pjwFxv5YBHVyfcuwoNJzva1+9Xagcx6/kkb0aIjF16NH991s3d3OrNdP/MkPXwELC7ExM/EJ+nwjivWXR6kXoEFV2lDfiXbhS1Rnz3bRn232xy4wA3GjY2N0j1gynZHYmXlq30VD98H1d7uqP58MhJPbmsL5YgNfpsIN93GlyMso03qY3J9qxzVfi+zlTE7G++eD8k5ZVdxPHLMtvHkqzZBnz05Nh6c+2Ofc1wjY0PZuMF/bVNcn+6X9tp1kOZyOa9tYVb7xW05hnXvkb0h4jHWNwwj43Deptfj99Ht/DbVq1AMfBmenkhOVt3YAIELERgUHeVxrn2twiziaLCsXmTLxaq+CsX74p3KJFPKcC6YVGCkL48LOXni/Vl+7nIhncnrQWwXKy06Efvz42D91CBJGB1v0p+zFS46eMFeLzrsA989K/aaGNsLA3uV/TfsKXb6mMc4yfCO67jlCVrmBp1Pd8dkvrBB8rP48Gu/uFzjtu6zZ1u1WeRgtacyjdmc+7Wc6uXEYkP9qm6fabI7GiuJkMaX5GzGZZa5zlHJK4WUjF31W+qRnZJOeW6HDXtYV7sE24i/1E/ay3m+KictJhtHklHbx/JJIqNtdwHEedB0UdsyVvjvq3s+pHbarqwxcsy28eTrNjGfPTnZKv3/Pm6ad3RsaBvj/mtrOAZ6jswLa3PMdkz7JVb9vLaBWc2tuC37WTebKb8m45n0qPm996uPp9FR5zuZ5zrmfSyzHluc2na9bim3t7X3p4yj1WtIPC5eiuAYCLw7gWHRkQznCbm+pykmrHSeBtXkIst3aFhGGtgkV8iqg5MetzqTb7mIenet5S9BMGw7vTzKZwAAIABJREFUWVRbjfyQ/Wahs6aDzz3zM150cDzlZMzHxPu3Ii7sh4yPCjexEX1tkTrIkSQ3xJ7jXuKWFqBeP7azfZYLgGNParMnr7PsdJFp/nq5zEUa57tvc0BO1E4Rr1U2gVg1fnlLxj35o2IfsM/Ki7HRvR63oWdNMgW3yByVrNqTN72uXo5c7HTtd44ByU3GbY8PyffOruAx24/2pUGenIDPnhydOW3P+ix5U6vA2LB+bGHSLClbAX1dHzqwMq9Fmam8J/j6Z7mdOfMR1vqazYvuNofKVGA9Kl7W3sA4TKiUDPEzuOlcH8tY0TGTG5vf+vmIbLV+7s4RShT8DwTelsBq0fG2Vj/VMG9C8o491aiqzCs66klsgAAIdAT6RUfXBAdAAASeTICLjierhToQAIEnEkDREYDd3YmguxDt9ZiAiNOaoOg4DS0EfygBFB0fGli4dWkCKDouHT4YDwIhAig6Qpjyk438KDg/Hu0e0YfkHN8IRcfxTCHxswmg6Pjs+MK7axJA0XHNuMFqENhCAEXHFlpv2BZFxxsGBSaBAAiAAAiAAAiAAAgoAig6FI7r7aDouF7MYDEIgAAIgAAIgAAIfBuBWnSkDfwDA+QAcgA5gBxADiAHkAPIAeQAcuCMHLglofjvmgQQu2vGDVaDAAiAAAiAAAiAwDcRSGtWFB0XjjiKjgsHD6aDAAiAAAiAAAiAwJcQQNFx8UCj6Lh4AGE+CIAACIAACIAACHwBARQdFw8yio6LBxDmgwAIgAAIgAAIgMAXEEDRcfEgo+i4eABhPgiAAAiAAAiAAAh8AQEUHRcPMoqOiwcQ5oMACIAACIAACIDAFxD46KLjyL88fMxfSz3+L5s/rej497vcb7fllv7df5d/S/7L7Hn7C0bKk108Jt/iRh85VuJabcvzcuo9/LP+Prb/7/dO4/H+++8xQW7v82LhqsNBEAABEACBjyeAoiMY4iMWgbRIoAV7Ufr3s9xuP8tf0AavmVd08GKECgQuFG63Zf/ipCxAfqSlWJR48Tjq2BH5tsWW91iUn5dT7+HflojM2qYbGPfl9y/dDLgvx9cd58Vi5hnOgwAIgAAIfCaB7yo6aJG/7wL9+CIwX8T1wl8++diXYOOiwxQz/KRCFj1hldlObXu48+saPhDv1xmdNT+eb9s8+LxFufb/0/xL/vB47G5maNexBwIgAAIgAAJvQQBFRzAMDy8CadHfFzyPyg0XHcnPUnjwYiXo+rIsKDrirI5p+WhebLWC9O0qSLdqek37T/fvNVShFQRAAARAAATiBNaLDrpTXN7jr+/yF+HeAra057dw0oU+LXD16z7mDnxa0v4IHUkPCyiq6PzPn5bjLJCUnJ+/LLe0U+fKK0dy8d2dH9iwKCbGF36aUORLEZmBaU91QHovuz8eDeGmoqOyNvqUT/ydjQo/f4+j+JRe2WJuxEzEgfYDcdIMjb6R44ZtskPytd26eAq7U9vuvBG26ovkJfxnGx6SXYSs6mdF6XMjF+6qbDRjxW3jjEtu1z7LKzkiV/IrfinfyjmPs2BIdon9JFvZGrLD9DnKP8PauJKU6rFi/Oh84bFS28UYEe+Jrmj+6Lm5je1qa7WNtO6KRe6J/4MACIAACHw7gWHR0S+SywVRXIRyG757n++Gy4KhLhbq1bmXkdrwIpaCUS7stYtcdNSD/Z33rKstpuvFVNibFwVsbwv9PhusL9amdL7ZQ/ZJW1g9LR56m/j07HNr0aFjltastuixfiULrG/ZKutTjoEsGvt+MX3G67LAquEnk/ICT+WO6XZsvLMvtIiuhvT+7cslX85MFy9yqzlBLjlOLTe9sRLxQ+MueSOM0Xr689lcXXRSHzFOttvBBcfR/tkY6fEdyWvNg8ee9D/GKK4rMhbl3JP0t/0jYqFzBHsgAAIgAALfTGBQdOQLrFg/ZEbdAjm3S79g9EtPK9qFPnWwFy0S0smw+PsLL8kxxmjZdkHA5soLOhm03EJfuhzYIBZDvS++DdmSXl712imy6rnAxtaiQy/Et8XZLvB1DEq8A3EyTcod4rbY0W6P2ZH+tadE01xjTb0O61tqGT3GUvPnQLaBYGXT/mqbXi7rpb5DLn6eWv0sq32O9eU2Ti4p/n5/q9fuN/285cvhs9ECubXnrX1yc2/H93RC+R/h7tugmUR0RcZi1mXHNNPI5pv5U56kbd/erhkOgAAIgAAIgMCyLH7RYV4jyK9I8CtQZnFIF9Z8zqyR8iLNHuwW2eXCZV/JEP3ooiv2U+TUhbiTmWOr2uROg6Jjnw38agubVu8Yd4XNysV5YHs0O7cWHdnGEsNwnCMLpsBCJ6xPej9YZK3Gs/RXiz4pMxhvU2R2+WTzkFQEZXPSVFP1Am+a8+XpkxGTpQ39bq9j2X69b3M/JNHFeX2KZNbixx8DVq/dr3JX5gdlx2A8PSy3vgqZ5jozB0byOmRXgFFEF+elCbJiMLBHslTt6cTWnJDSsA0CIAACIPDtBFaLDnPN8lmJosPeNaOLlhWiLnblIqYWd/2F15OjLohKZjNTtUmH3cXYfhts0cGaSS8tkvjJj6ejtB7YzrJmn1uLjmxbsSus+9iiw6bEqo9rNlI8mbEj5dF4q7w0hW5Rp3PMi/OOfH500bjGZcBzjx+aePFTFQcyNj2H1F/rtfsxnsqO0/xrWvIYSsXHhnG0xS4zQBSjgZxmXd6iPg/KUXq5qFRjwo+ptQX7IAACIAACIJAI+EXH4B3+HllbjOYLsb4DqC9apbdcCLoX0P5CNr2ADuzt9Evd7MwWG9QFd1TEFMFGbmcL6/ds4nOBz01FR7GpFYctfuuq/HbWp71xiuiW3xXi9lY/H6+fHlsTl9x2kHMm3p4+dWyL7LUFIS/GV9vkmGznEohl0I/KOW1QHz3+1fmQT6bo2GNHZC7YJdd4o2T4THUPv43KnxAjX47WVTgG8qfNBVbCEbHoZeIICIAACIDA9xIYFB38JUeziEiLOLEQ0xfMfDHszqc7n/XiV9oM98uFTvWJXEC5X7uzSrYlOcJe/8mEtYllSbu9Y6ZfYlP96guS/sufOelGx6MpGS46yiJJ8aivjKzHOfqePDGXDHgRJWKgXu9iJ01e8WH+zH3Mr1VRQWGOcQf+VAtDPmjixjZ6OSfsTr11vmd5+tgG2RNOcZaGQYALyea79OyXGisxP5hoIbH8JBn2n2BoY5/t0GN0D09tB4/Vtblgh3+h8b0+jubc+3nXY2Q5kv9mDFG/SY71clLx3Xw4IhY2NtgHARAAARD4XgLDoiMh4cVeXUiIBYT7qlJZ8PDdM77wKTlSRlay3OVChX/eUlwwWY4Mk74gkqDl994WPckG0mv0Ub+ir6rgBTnbMbChyuR2K7ITsyo/mUds2gWdfen94DOxz3HR0Vhw/JQ9QryKT/LN+HVk0ZHUzvUJ43iz5Bb70r1Xz+3M5yPxthy8WHXHgrmkClRe+AvuJNcErNOVfN3FpTzZKXlc81ro5wK98nbGhEadZWqTi54qd6638zHAU9uR9uZ6tvvHxUwbV9rXSF73dnX+RmwPjKFo/tixyHN3Ti0zF+yKRR8dHAEBEAABEPhOAqtFx6NIvAvfozKv2z/fXZUX9dFifouPXtGxpT/agsARBPLitT1dYJmj43z+2z/7ouPbicB/EAABEACBTyWAouOJkaUFWL3ry3ep+4XaFpNQdGyhhbZnEeA75vruf/8a01n6ryoXRcdVIwe7QQAEQAAEthJA0bGV2EPt8yIsL8zyqxb6ycd24Sg6tjNDj3MIcOFRX8kyfwX+HK3Xloqi49rxg/UgAAIgAAJxAqcWHXEz0HIvARQde8mhHwiAAAiAAAiAAAiAwLMIoOh4FumT9KDoOAksxIIACIAACIAACIAACBxGoBYdaQP/wAA5gBxADiAHkAPIAeQAcgA5gBw4IwduSSj+uyYBxO6acYPVIAACIAACIAACIPBNBNKaFUXHhSOOouPCwYPpIAACIAACIAACIPAlBFB0XDzQKDouHkCYDwIgAAIgAAIgAAJfQABFx8WDjKLj4gGE+SAAAiAAAiAAAiDwBQRQdFw8yCg6Lh5AmA8CIAACIAACIAACX0AARcfFg4yi4+IBhPkgAAIgAAIgAAIg8AUE1ouOf7/L/XZb6C8M33+Xf0v+K9o32n6Mjv+XeI//i92PWfn+va9ddByXT+8fqf0W8l/6fvSv1/sWIAY+l+OP+nPe8XreW+Ig30681sx4IC4zQp9+fpCTq27ntUpaG/385YYpj86Zo5flCjl6mI3dXLAaCHFyTxxF9y/fPCx+E44rRUcJII8oEnRcUD0HaXElC5q/n+V2+1nKmJ648p2nvaKDF6lULHLRqOL4LqyOy6d38eh4O9LF7b78/qUbAPfl99/RGhCDo4mO5Hlz3qjt5x738q0cU3OU1+4cKojLOVyvI3V7rtE1NuUrLZDzvJzyCEVHujn9yH/eXBCVtz2OUcnf0O5Z8+BK0ZEr+ecNopwwWp988vENYd/u47DokMXbUu7KqGPbdaHH8wnIC1lXlD/fHGh8gMCzJvUHTHxR13OvNTOnLhsXuil3xo2IGTGcr0VHQkFxSG+EnHeD9Ao5eoyNr50L3jKznzTOj4nfnOD7FB3ijoE0m0CoO2DyLLZjRUe6IXNfbqfcKUcMQAAEIgSeNalHbHmvNq9daFw2Lk9ajLxXrnynNVfI0WNsfO1c8JbZ9aRxfkz85gT9oqNW7uX7HLf22NAaRvs/f2VRK7//oZVTO/Gqj5WTF8X9nYLRcS39e/eiRUe+G2Puitk42ych8t1K8e4q07YxpVhVGf5jUht3u58fV7e8s/Wm0pnyyTZg48Tn5j4Tv9udrXi+72FDLkxiRL4Fxl8eR42rfKLYxYBu3rW29JrehHOSkWRqPf14tvGV70RzyNgn+kwxrjnFLdLnhvwa8ZFsXR1ZX7aj94WOi37VXjHPSYttezpncm0/j6JJ+uSxM/pkWJN9oRjOdKTo0E2OlkPDfLOyVq41ycM1uen8LAZdm58//315w8mLSyGuP6w/Ij90w7xH9rINNl4rsjo/BTeSHLB/pJuPK9aOH50NMpk8Z4PxkV2TjlBOBvy1c480l3wxPir/Ld+oLxG7pMNlW7Hl/DD2Ra5DneiAPaR7NGcKgYfbaPPdMo/abjkJm2nT6jHto/7P8sPmmzeHzHQpxuW6wnMp961thB/12OBalDioNqMcCzC3eGf7ftGRI7P82KCzoZ5zdQT3lWp2rl20a7CsHLFfDacEMYvlehIb0aIjM28c836LSV3E1RjYOKZFXms/j+mGReEGnTzgKPJlQNTUc9Ih2bmtz7rfc248mBurPt9jbOK6ZPFl7eeFWot9jnXbp1jWGGT7tzFjn6UdxUchly+SKl7lAiD15dySspzAbik60sRblWY+6QJgj0kblMZiYxVBJzXnSJ5Zzsfy4Di3vNs3piWXPoaRnMxtWn7N8m0pr39a/pZXRK6S4cwPObcaoyzTFLZevJ08VTlSC6Imu+dve3jjJreJcM75IzkX+UH7MwsZ79y/P65zPbVKbWasizX1Y28fPVb7nIyNI+tDktNiRT6LueqIXIvZVfHUjcy/2eblaCg/qsSysTsvLDvO2xNsHMwFUZY2jhZBhFvmL8dF7/8sPzbZO7sWUdz6cd7bmb1Nx2djM/ddj1/UB8t4tn9M0aGvxubOUR+wZBQ5XQd5mUiMHDLeuXDMnPqm86Gig6vVyjfHpO4yMJXcftxyU/9cJKa6jc0DXy6b13+u5E3fuByZ9VmzIZ/bw0377dug20R0FX7GIC0n61KTkGGj25uTtOvbK1u6MlQ+jWVQX/E+tN2Xetq2L8/aYfdT/+gxq0sxJN/apN3a8lZvn9bbn+ee1G4zj0i+rOW2zyVfePiCF9GR/VKs2LHyqTmkg75dut1crlHjPA2L62kFaZNq49LONB/MUExQV19r9WVGOFMiO7IfzyuyyTiiY6E9z3tjvV7raB9Xr2I61qvZ+rFn27SeI3ItahdbwJ++ndq+YH6wSPqM20O6VuN/lo3JUE/2RtvrulIBqLKNa90Ynfs/y4+N9hqDdKxH47zM1+I6Yb1t+9Yej7Gd/22fJo3sC+ltfeTW+UXHoGjQYMcO8iMqExfpw1dvD4sOfqxWPtUigIsQ04buKInvfdQ7LOIYwX4gpjruNtH5bm16LYMXOjK8JU+s3avJsb3PzO/Mqb06orgdxSYYI+Jp/FeMB/ZIqqp9DvDye7f+yTs/snfe9uzQY3dwoUzd1SKi5ITxqdfozxnWF7uf1Zk722RCf0zqpJwQF7Pe33meaVsO5hHMl2FuMwPLXeZPRIdsLwGKbc2BIjJ/qh6QW58sjOaHgQxtTzwuwqU0cbWfl7f63bks9+7ziB6ZxGSZcVMkEksbRjpn2ru6B3mgGSVp83zP9sj/b+/j2qjiGI/XNPd5fCv50n65PfMlbpeUynlk46f478q1uD0ec0//8TYmEtlOtV4px6w+4ublNMdRgY2Pq73+N3UHsiYk/o0Lz85swyQ3B/mtYryBefM7tvVeRYeXLANAMfc+v9Ww6PBYMo6NTCkZ6UJa7uwO+uukLYlvZgrdpi862MROJ1/klF++DpZRL4yb+rTenQ0Dv1uPNrEZt83ddd9uxSaiK7JACMhRendxHhQKUrfcVsDICfXLL2SPBWj7sJ2mnfbFzy/bJon2jimVZD8XwvaiUuI5yTOl42gea/KUI3mHbJFjmhkYnmoRFNERaKM4kDneQsPEZCo3EIOBDGXPoE02c+Un3Nf6Ofz5EOleY84NvU+z4KIma3ZQ+/Z0ztU9yAPFiMfeJN+1yYH46A6059oofZTbtr/xl0+TTC/32Z81mSQk4MuajIFdWXQuXm1KKP5rstlJ+7nWx9jjMY/oj7SxZvX7zlyw1XaOoxW+Jke03et/FbGmZyvrJJT68LWnasnXLJsokbE5sC8cP+NDsyi2dX7R4Vau5oLCE52XLAPgMfc+v9WuomMQk1VaKlGdicGJ4XTwOn2UDVKn3K6NyuTfDbzSYE+fKtuT4futu/ht1IBmv43duo0vR+sq4+hBOUrvTmZKBhupxm72Z/jaihj7JMv4xCLlp9fO2mH3U//oMamLC1i6A5f8EvaqhXnt1Oem1ns0j1i+VPPShom1tq+0dGKo70IqiYmu+9RCtur1+H10O79NlWt8ycdtDHwZnp5InlbdtOHL1m36PdLd5XpQlooNy859I/b7ugNzSog121M+9/QZjFW9CIv7qywy9ng5MMxz0zfL9XMtEgdl12D8bLJPCyx7cU5eXkT0R9q4pqmDXu5vtF3OzVPZqgHt7PW/Sdporxn/miMNAvfND89OO6dnm/zctPmt9cZ9aH7Htp5QdJRJTLwDRs6lOw0iOfKjz3YXhs0fHefz3/65r+jg15hM9SwXU2lbDgZzgcsxbPEax7Tp8NrQMc6DVZ39IKjypJ0qIXb0WbUhwI0vlKF8X2eTc7+1IdeSfcyLdRn/FVNaW9qfS06TUJOr2+9gxnakMV1t6eXw6w21SXKI8qr9Vd98SMpRAVU7lk/NB8tH7Ff5gWNKWe5I7H/tF/XKQqH5znOe9kNz5lzSvh/Jg+yX+TLJ7cqvBmgUw5Y7nY7N+UZg3ULF5yV1yzzube394bhE5q15XMh38T+bjx4b0byc1jnC50Oy3MXv43lF3GoOZIt0LGKs2ZcigWI8GyO6D8dLMup1h+aVSO6LOaHnvz3XQnZZh+tcGslRORbKXCp8sKKj9szjz3E53sbRTYtNtk8ZrHOL+L+eH4+NQT3W+ptDHFfPTuY3G2fUN7RG2T4Psn2jz6cUHXyXkN+FTxUWBU0mBy0+TDLwAJTtRp586fG9RUfCxQOZ4yIXs+l8Tsz2br++DpXqmR5T519L6AYLP+oTbWzcbZ9VneUiW+3ln3nThulM2NFn1YYANy/frZ9eG8smHCPjf6+rj7W8y9G138ss8DOLvKiuMXTedyd7jE86qLzX56Bl2PnGeW3mFK8da2mfZcHj2Mx3mKpfTm66Omjea2PM+y5TnEcf5y1jmvWoecFwSizUeXPziFnZNqv5Frq7myWvyY3EIDruInnKvspPa5/lL9umbWZuj6f9iCzqX+ZXNWQeyCvPJjomc2HHHBGLjybBtigW0g5uHvW3sErjVPLq/OPYiPYyh8O+BOxiF9rnfF5LbRWTwThsMstWwB5mLvv2fM6yMc+xijUbErXdyw+WEeAW87/n39kctVcmIued8YFsMuPcs5PcDI3NWPz2zoMCd7e5UnR0bU8+4CWbd+xkMy4m3is6XuVCPzG9ypL30/vpbIYT4PuFAhYNCCCGAzA4/DICL89JWsD1N0NfBgSKQeDiBN6o6CiVo6zwqFJsj/AuzvoU81F0nIL1cKEoOg5HCoEHE3j5Au9gfyDu+gRen5P5jnB3F/v6aOEBCLyEwFsVHfw+Wn7ahMEeyQgUHRFKr2+DouP1MYAF6wRev8Bbtw9nv4/AK3OSdNMrLXjS8X2ZB4/PIvBmRcdZbn6u3HcqOj6XMjwDARAAARAAARAAARB4hACKjkfovUFfFB1vEASYAAIgAAIgAAIgAAIgsEqgFh1pA//AADmAHEAOIAeQA8gB5AByADmAHDgjB25JKP67JgHE7ppxg9UgAAIgAAIgAAIg8E0E0poVRceFI46i48LBg+kgAAIgAAIgAAIg8CUEUHRcPNAoOi4eQJgPAiAAAiAAAiAAAl9AAEXHxYOMouPiAYT5IAACIAACIAACIPAFBFB0XDzIKDouHkCYDwIgAAIgAAIgAAJfQABFx8WDjKLj4gGE+SAAAiAAAiAAAiDwBQTWi45/v8ud/iLnbbndf5d/lwbyt/zcbsun/bVzFB2XTsqA8f+W37sz/rqxOWgX0LC1yVX+uvpV7NzKH+2PJ/Dv977cbrfl/nvGVe55Y/N4MpAIAiAAAscRWCk6ykSZV+nHaXyRJLqoyMLp72e53X6WvxfZc5Rar+jgC2i6iMp/51xQj/IEcnwC3oLFG5teO1/io0evspi/ip2PxgP9HyWQbkjdl9+/dJPtvhxfdzxvbD5KAv1BAARA4EwCK0VHfjJwqYUqFRLeRSNP+toX+eTjTMTnyh4WHbLAOteEY6UPY3ismmtLe+3YvMpi/ip2XjsXr299yhO+NnQ3p67vHjwAARAAgbch8B1FB72K0hcjtCi5+JMcFB1vM5aeaAiKjghsFB0RSmgDAiAAAiAAAs8h4BcddLd55dUc+T55eYXHrt15QU+fqU25887H1StAfFde6uVjgkOVxa8NCaXdOfF+btbVv0o1Oi5Uvv3m7qLjYjGkQARsXkwbkSJ+LGXOiTytjVfkpZxLd0hVLnuv7M10LIuR0e68Jjsot3k8WFkiz1W74oC2Tcutsnk8pU8HmBpbP3/aHgZlOKXX+jpRpk13vsjK+vrxav1Tdjm22/Yk3tjg2Un92E+bE5Y/x2XAYeQjN18m8tgWFUfWKfvysSpYbniv45m84jz7+dO5yHInumaxkNbQtolDx0nqszEowpROtpvtXWI+k6iJrtUYCMdUjMS4TE1IRrUtd1L2O/krRGMTBEAABD6CgF90kGuDu6llglYXiXKMH1Gn7nVCVQ2941kPffegtu11J3lSPi8ua5esdLk57+R6E352MX2vo38CQucu8r9dRccFY8iLsz7eMi9s3qSFR7945dDmRYI8XxYqdXGwLq/Pcdufi4k1HdxG5mGS0/b7/LV2ZY9su+xfk7PQQqztp/azMZV9bPbXhVVlRIOdvjt0WGy8/Fy0z2HbN9vpzVGZ76P5wnnHn3N5ni2Zw2y+ZB3F8vxjBCpARbbgk2MtC8+YrkgstD06ljkvbY61/Xy+3bhKsuZ5WcbixOdHYiDHTpbTxpY31vjGG9sv+7vXMw0NeyAAAiBweQIbiw5/Ik8U7EXA7jMpOi4udLVv4BjLyJ+OLbRYkRN/aum0Y0Hlbpu5LvHZS3wOi45050z9Yy5jHjZmdp+BvFMMtY12McMWe5+5bRd7lUPr8jwOuThi1hEdOR5qAWLM7fX4dul2c7lGjTNW4nrGT0h48ejL6m1IRxzbKS4sy+vV57XHY25nP5dlbZFYbvExIq8vDJIt2q9i3Y9elGtCPRtPTlSu1y6ir7VZ4xTh4vfXdkV8jugqvM1E4enaNoYbjbzl22tbYR8EQAAErkxgY9ExmKQTAbVY8yfq3Ky/OOoJPOPsj5VJWS2k5V253oYsaWUy/+SiwxRxmQVFQPx0cDtKW28bw3je5TuOqeDihb/xkXfN6x1+gcZPIXx5lKNmMaLuWEZ0BHKwHwuBRVdALi/ute9iTA1kaHtOiA2/biZyuGc9nw/22tnrIoPaz4fbOUjk2tH5p33IyRs9xqle42xy1cqx+6l/7Ng8Fs2WvDXk9MCY0bb6875qE9HFDNbYDcaJ9FnppRPbmUl52AYBEACBKxLYVnSsTa7mTiRNsmaiToD6yTdyrEzQYhHiXkjNojkHxOtbQrXmz0WiOXzSoVgJZ9Z8ftcYbrCZPaU8o8Xh4O74mkwWIj49eW6OS7lyW8hSm4E2/Zg5oujwxkU5xuN2YJuyZ9CGfDT5xH57LPlc/SS5XDjawiZgu51rNtg5jWs1crwx9XHNHiFWsS7Ho8eaGBPXgZyoXN0uFotmi94iWXKcRrgM2rh2cS57Pg/kaAv9G2hKV0COas9P39Uc7cfI2oJ9EAABELgygW1FR3mveviKgphEaZI1E34CpSffjG56zJ3UnUnaLTp8naR50P5KAd1cdFwyhnnRGck7FTs3b7iFv3Dns+6nkeflrX7iF9Exb9Pr8fvodn6b6pfxJR+3Y8qX4ek5NjbJmmwLvbKSxqmYW9TTpOZQ972FvXZSv27u8llU9d6Gy5gbxuRpH3Lf6DHWlD49n6wcu1/7SfYsi4+5Pto8kpYdTMDUAAAgAElEQVQ420pGhIvfxto/99mXYy08Qo6yTfnL2jYy4274BAEQAIELEdhYdLTXTdQ1mRbv+tdqvIk6cVGTbwE1P5YvDnJhQ33SHTJpiDuZs839He/8iL8/fqH4LduLDuah4+V9Ufv9YjixOeWhzIdJUZnjz3fTazK2Be5EXp+DfZ5OdfCrROIVnbzgbnb148NfLNl2ve60sGG5va29P2W8il/kqm140VntPzY2FI3E//67/NovvDuFc7VLxN/nMbGT5yghh+eDnic1DucLy+HPqTy2RbBOfa1fo2OsJ31aXZWXkB2Vq9vF8kjaQnON5GvGqbWV+pZc4L8Xnu1vc7fnj5UTaTPUJe11YmB1rY/hHcwUQOyAAAiAwDUJbC46yE26SMgvKvNCpkGgCd5M1OksHRcXuvCxUlDU98/5Jy2NjnphkT/ZaS5qbKVnC5+7yueeooN8u1oMk9FRm8U79yY9urDmxYLIZS83B/I4x5UM0z8pVOeTrEAb+aXUPk9jRYenW8rlJwbrY6rcgS0MUn/yx/pwQmwWLi5UQVZCGJgPem4bcmiQOLNYks5BvnTJF8gNz4foMa1vHseo3K5dIBbaFi5m27izuGec+UkY527Ky84ufo1pkrszXSTXGNjr6se5HGtd+x3MLEPsgwAIgMDVCKwUHVdzZc1eb5HmHVuT8Z7nvKLjPS39PKu8xcjneQmPQOAaBLqF/TXMhpUgAAIg8DUEvqToKHeh5N1ZujPbHs9fNeIoOl4XORQdr2MPzSBgCaDosESwDwIgAALvReBrig5+VSM/Jc+vGsjH3+8Vlrg1KDrirI5uiaLjaKKQBwL7CaDo2M8OPUEABEDgGQS+qOh4Bs7n60DR8Xzm0AgCIAACIAACIAACILCNAIqObbzerjWKjrcLCQwCARAAARAAARAAARAwBGrRkTbwDwyQA8gB5AByADmAHEAOIAeQA8iBM3LgloTiv2sSQOyuGTdYDQIgAAIgAAIgAALfRCCtWVF0XDjiKDouHDyYDgIgAAIgAAIgAAJfQgBFx8UDjaLj4gGE+SAAAiAAAiAAAiDwBQRQdFw8yCg6Lh5AmA8CIAACIAACIAACX0AARcfFg4yi4+IBhPkgAAIgAAIgAAIg8AUEUHRcPMgoOi4eQJgPAiAAAiAAAiAAAl9AYL3o+Pe73G+35Zb+3X+Xf18A5LUu/i0/t9uy5a+mo+h4bcTO1/5v+b07468bm4N2Jxh4lb/8fBU7TwgRRG4k8O/3Tte5++8ZV7nnjc2NbqM5CIAACDyVwErRUSbKvAJ+qlHfqowufLK4+/tZbref5W8FiFd08AWUikUuGm+35ZwL6opxOHUAAW/B4o1Nr90B6h0RV1nMX8VOBzEOPZVAutlzX37/0k22+3J83fG8sflUbFAGAiAAAhsJrBQd+a77pRaqtEg/46Kxkequ5vnCpHnLJx++0GHRIYsXv+t7Hr10DJ+F9LVj8yqL+avY+aysgR6fQMoTnne7Gz9+FxwFARAAARDYQQBFxw5op3Sh12X6gokWTitPm1B0nBKNNxeKoiMSIBQdEUpoAwIgAAIgAALPIeAXHXS3uXyXo7yew3eCyCz5Pnk5b9fFvFimT/GdED6uXgHiu/JSLx8THKosfmVIKO3ObXyd6Cy7kvlJduKnfDavTeVz/atUo+OMZXfRccUYBmxeTBuRIoxMf8qcE3laG63Ii8SV5Mx0LIvJjXbnNfWn3OTxYGWJPFftigM657TcKpvHU/p0gJFcbvPzp+0peiz39GpfJ2qFJYtpNvVjwfqn7HJst+1Jh7HBs5P6sZ9JLrPPxuXvuDEPeS6dN/I7BmSE+J+Np5HHtqg4chvZl48J0W3Tex3P5BXn2c+fzkWWO9E1i0WzpWzNOEl9NgZFhNLJdrO9S8xnEjXRtRoD4ZiKkRiXqQnJqLblTsp+J3+FaGyCAAiAwEcQ8IsOcm1wN7VM0OpiWo7JwqROqKphmXzVBJv10PcPatted5In5fPFvXZJNpMd/dOCSKR6e4+zq5fdv+NLbcxFKYchfa9j7NOuouOKMQzZbPMmce4Xr5wPfUFn47IuLxLXuQ4uOGSMkx1tv88Na1f2yLbLupuchRZibT+1n42p7GNjWBdWMlePjo0nb9E+h23fbKc3R2W+81hqGzPvxo7zjj/n8jxbso7ZfMk6iuX5xwjUZFlkCz451rLwjOmKxELbs84pzqWx7fOyjOWJz3FdPRc5drKcNra8sSaL1+3MNEHsgQAIgMAVCWwsOvyJPDmeL1jtImD3GQ4dFxe62jdwjGXkT8cWWqzIiV/3WNs70y5Pti6QHF/Y2HJH0Fw7+ewyLDr4Tmz9ZC5jXTZmdp+Vev5Ej7GM/OnY4sbQaVcEaRvtYkZr03u5bcdV6V+X5/ms4xrRkX2TCxhtZ784XMwCnNtre+ZyuV/7tJx9/z094yckPCf4sppuueXYTnFhWbItb1vbLbf+PPfUOdTPZbldJJZbfIzIsz4US37M0xeef80cyv7lBbBcNPtydFz9Numo167pSltj1kUq/Uqfn/MRLj5nbZdvg24T0VX8NROFlpN1+f4Uj52YbWOmW2MPBEAABK5IYGPRMZikk+dqseZP1LlZ7IKpJ/XUs1xE6iK6vP4lLwbGhi0B6fX5F9e+3dwu6iPtJHfSL6XwKyj+BZLs31t0DBcgV4xh3OZ6x3Pl6ZDkSneMbU6JvmvypnE1r5BoXaUInMQ32drnXOZhFzmqXUDudEwNZCg9pQCy6U2MzXhcY0ntxf+orcjhnnVw3FUZ8RzqdfWvTbmxpGb5p1fXnk6Sm5HccGPv5YN/rOH05xcdR1+GbZNk9sfmsWi25K1hLkS4hPIy4HNEF/trElwxGNgjfVbt6cR2ZlIetkEABEDgigS2FR1rk6u5E0mTrJmoE6B+8o0cKxN0XUAkSc5FxSxytgTkTLtcFoql51+xXrXrPRo+6VCsRL81ee8aww02s6fEnIqJwd3xNZksRHx68qZxjegItCE9Kp5HFB1ezpkxNbBN2TNoQ+hMPjFOjyWfq58kl5/O2YIhYLudazbYOY1rNXK8MfVxzR4hVrEux6PHmhgT14GcqFzdLhaLZoveIllynEa4DNq4dplrkGozkKMtLNenB+UovXztUmPaj5G1BfsgAAIgcGUC24qOcldz+CqFmERpkjUTdQKlJ9+MbnrMvTg4k/Szi46gXZ5/7pMhwa8m1cSnzUXHJWOYF52RvKvc0oYbH27hL9z5rPtp5M3jGtExb9Pr8fvodn6b6pfxJR+3Y8qX4ek5NjbJmmwLPc1JY0COjZDtdq7JvkTsJP+6uctnUXl6G66d3DAmT7POfaPHWFP69Hyycux+7SfZsyw+5vpo80ha4mwrGREufhtr/9xnX4618Ag5yjblL2vbyIy74RMEQAAELkRgY9HBX3rl14KKp7Qw1se8iTq1VpNv7T575SpfHOSCgeSkO2RyceBO5rFonGlXb2vvT37doL8rPzrOXm0vOq4ZQ34dQ4Y7F24i71IeygaTgi3L5LvpNRnbAnciLx7XFR31lRzZJi1A2n6fm/5iybbr/ZNy+xzs/SnjVfzSWm3Di85qv4hDQmnnhAlLzmf1mfrcf5df+4V3p3Cudon4+zwmdvIcJeSwTT3P4iez2OjjVB7bwvKLIdavdNg7xnanT6ur8hKyPRnzY7E8krZQbki+lCst362t1LfkAv+98Gx/my89f6ycSJuhLmmvw9vqykVz80lz3MFMAcQOCIAACFyTwOaig9yki4T8Sd02uTIGmmTNRJ3O6ck3tw4dKwVFfZeaf9LS6CBZ5R19c4pNcz9DNnj2B+wi2fyTjsU2dec2g3F/pcqzSzqwp+ig/leMYdRmZly/MyOJ6e28WBC5LBZhqaXMp5R7MqdCca0LvrGOpMfaIb+v0edArOiYyeUnQetjqtyBLUyTXWSr4cRFRpUlvhfDxNdYchv9WRZnjqyI7T03Cqj+yVtHNsdV25L3bJzsON7qY0ieYe355R3T9s/j6MkIHQvMgdqW9XGV2s648JMwzreUl72tc58jukiuHPg8L5i4WJtXx/AOZpYh9kEABEDgagRWio6rufK+9noXrd5abyHpHdM9vaJDt8DeWQRicT1LO+SCAAhIAn3RIc9iGwRAAARA4NUEUHQ8IQLRxSndKZN3z+jOfnuFwDMVRYdH5TnHonF9jjXQAgLfTQBFx3fHH96DAAi8P4EPLzr49Qzxaot49SY/ml9f1B8RwvjiNNubn+TnVwPkI3rPFhQdHpXnHIvH9Tn2QAsIfDMBFB3fHH34DgIgcAUCH150XCEEj9mIouMxfugNAiAAAiAAAiAAAiBwPgEUHeczPlUDio5T8UI4CIAACIAACIAACIDAAQRq0ZE28A8MkAPIAeQAcgA5gBxADiAHkAPIgTNy4JaE4r9rEkDsrhk3WA0CIAACIAACIAAC30QgrVlRdFw44ig6Lhw8mA4CIAACIAACIAACX0IARcfFA42i4+IBhPkgAAIgAAIgAAIg8AUEUHRcPMgoOi4eQJgPAiAAAiAAAiAAAl9AAEXHxYOMouPiAYT5IAACIAACIAACIPAFBFB0XDzIKDouHkCYDwIgAAIgAAIgAAJfQGBQdOS/hn27/y7/HoRw3l+J3f7Xux905S27X7voOC7P3jI4Bxn17/e+3G63ZfbX6fepQwz2cdve67y5cLstr+sxyLd/v8v9dqM8z9edQbsTDEdcToB6KZF7ci2vP9K8/POXnU15dM4cvSxXyNHDbOzmgmgy7YljVPbntzssfhNUly06aCEmi6K/n+V2+1nK+J+4/TmnvaKDF6lpQqz/eGZ8K9cxSczDkS5u9+X3Ly3K7svvo3cBOoWIQYfkpAPPmtRPMv8gsV6+lWNqjvLaHWSCEYO4GCBft7s91+gam/KVFsh5Xk55hKLj0RvV3lwQTcjtcYxK/oZ2z5oHB0XHcYjPcSQnlx7g8snHcfa/u6Rh0SELsqXclVHH3t0z2JcIyAtZV2gD0aUInDMXXgrBwNg8P+n5fND0hMOXjQvdaDvjRsQJkD9MZC06kl8Uh3SD77ybnlfI0WNsfO1c8JZp+qRxfkz85gSvWXSIuwvSRYKm7pbJs5+5HSs60g2Z9IoOLlCfmQXw6goEnjWpX4GFtvG1C43LxuVJixEdK+y9gsAVcvQYG187F7witlOdTxrnx8Rv6s0yLDqsAbT/81cWr/LdW62E2vFrPT9//ruI9c6AI6e8z6fuepX2XE/kBXR/V2F0XFv4WXvRoiPfjTFFx1ocEib5bqV4d5UJ2lgT//o0xX9M6uZV7bNRZ8ozTgo2yvlUdkb6TPxud7ac/C36lU4eN9XPGBsSNYkR6WH5PO6qngYjj41ir/l+iI1J6qXsDzBL7dOY1Xr6MWpzSr4TzdayT9UGx59liTFkWcoulifZ8jE2QnxmO3pf6LjoV+3lOJjctO1Jhcm1/TyKwdKnZIewz9MnTUz2hWI400HDOH8PiV/vlPO54mBlidxU7Yp7Ko6ibTkdyluSK2Lk6YnkKetUn9Yfy181LuOMr5M2XiuylA/FF8k4Yj/JcHTzccXa8aOzQSaT8ZN3t/ZJ7UM5GRhHlok0l+wyPir/d+aa1emNb2YjPxUnjpGxL3IdkjJpO8CJdAeuKYfbaPPdMo/abjlZCFaPaR/1f5YfkdjPdCnGZpxz39pG+FGPiXmux9DWA2kdRX2EjGi+WLmz/W1FR3KgjtS+Is2OtotzDYpwJB9rberioWvDC+Ssp+ktE7VoX52kZOJ+9ehHb0SLjsy9sZnHwcY3LfJa3Oax3rAorLGc6/QurDUlnUgnO7f1Wbdhzo0X7I1V7iMXgDE2cV3r4zLLabHPY67t28lmOzP2WdpRfKyxba8hqHiVC4CMUc4tKcsJ7Jaiw5m3aDFcDbExN/qKjbU5ndZ9IswsZ140KLm7efDTzJZ3/dyqbc7nW/ueex/DSE5uzbelvP4pcyAhtrwicpWMskiRfLOPzecsU47NeJ6aLCkFd5Pd87c9vHGT20Q4uzeSMjj6Lp/0m3NN8unjnXX3x23eZLulLF5gKZ3G3SR3Tx89VvucZN+U7m4cWR+SnBYr8lnMVUfkWswuA4nzXryq5eVoKD+saG8e6zh5OWnZcZvG7zAbB3NBlKWNo0UQ4RbJ/yynXUPtNXWTvc71SY0TipHUlb3q7WzHVf8nz4OWud3fVnSoUV0Srw7UPjGTMp0EuY0RkxqZV39yu3SX7vcnVWMtuetE3glpd8m9U9bxT9kPFR18h6CCicTBj2fm5p/TsS4Xh6qz9EzxrDnj54caMKuB8nWsdhksVlsf37di/fLjPPHR+ev3384myzH4urFCck0jT9caU92+kWhbc86uDDWuxzKorxjjdr/ZIbd8edYOu58kRI81bVmXYki+yXmptc5bvX1ab3+eJVC7zTwi+eLnptIrxiYdVzGM6HBYsYLyqTmkg75dut1crlGTLgjL710Wr3E98iYXy7Vx4eP5M8JG90h7vsygLBUblm195uO9Ll93abc6pzSZbWust7WxW/M+OgdKf+X3WIb2z489W6T1ZJlqvHPD4ae1w+63jtqudjxv+XZq+4L5oUTH7SFdq/E/y8ZksCd7o+12DqscYtzm/md7xvmx0d5V1jRJmPVxyZRubVwdNRvWHo+xvS7aPk3kev62dqOt44oOp5pKStVg4cUvP/JRn6aSo4klP/7RMRnDiNxtGYG46vFh0aHY+neY+NUH/dniUO9e2O+CRGLdXfAzYZUPNj/UaxnNjhabEnvjm7dAeKTPzG/Nix9RFnuPYhMcK9MJcmBP42PGKJ3YztmzQ4/HwYSf9KlFRLFHD3ppbtn254FZfmV1uvAdHZNKKSfExaz3d85M23Ywj2C+DHObx6LlLvMnokO2lwDFtuZA9KmYtxdx1S4gtxYZo/lhIEPpKYsei4HMN3kqXOpeRdVzhDeX5d6k2yqLcCZs9mYdHfRvjDjtXd2DPNCMkrB5vqdW+r/tfVwbVRzj42ia+zy+lXztQdub+RK3q8kc3zhV/KP5oQTH7fGYe/pt2npt9Dgw10plH+9kO/VcsNF2jiOL5M8gt73+sxounCwfOm/mkKmu1Mn0YT1e33xukpuD/Fbx2zsPsnErny8pOtxgWCMJdE5SnYAFqJdYA5hW9CftD4sOjw87vpETJSNdyMud3UF/nbQlTibYuo234M1Gdjr5Iqf88nWwm/XCuKlP693ZMPC79QheNNiXNTYRXZEFQkCOjok3vmacB4WC1C23FTCeVNtTA7LHsLFdamxNO+2Ln1+2TZLtHVM6yX5ePNqLYIyZ0nE0jzV5ypG8Q7bIMc0MDE9VOEZ0BNooDmSOt9AwMZnKDcRgIEPZM2iTzVz5Wfa1fg5/PkS615hzQ+/TW4ys2UHt5+PMs0kx4vlr07waiI/jo2dLOCeNvyyeZHq5z/6sMSQhAV/WZAzsyqLTT6O3v/2hbA7bx73E5wZ7POYq/gNZkTbCosGmMxcM9JEAw1LZYDWsyRFt9/pfRazp8ew147/zgfrwtadqydcs07deFzlXqHnJV247sE/pHbQhccaHZlFs67iiw30sZi4cgza9qS3xCIS5067gyM6D4Mgmn7a9q+gIx0HQUknY4iNadAs3ihMnemloY2f3pbz5xcUMJtV5VABM+qzK8P3WXfw21s85G1+O1lXG1yrjuRxlm4oza5szUzK4mxqP2Q7vqZTt67FhkfLTa+fKUhOwnZOyRNtP6snbmQHdAEl+SZlBZlrH0Tzmce58MnZr+0prJ4b6JpCVOrej1+P30e38NlW78SUft3nry/D0RPK06qYNX7Zu0++RbjN++U7pOmcu1u1iJNsRsd/XHZhTQqyNr3v6cCEsx1oS6+RkxF9lkbHHy4Ehf9M3y/VzbbNdg2vzJvuUo7zzWF5E9EfasDXjT28cbbTd5ktV5smuJ+sG+WHG5DbfNtq7qsvmezXTLzo25KbNb8/H7fnb7BttHVh0lMmqexdZv8qQH3GaidJcxF3nRSJlGe2ODTs3Os7nP/FzX9HBXzpdiUOKiRwMaqLfF2uKa7rDJGKpYr2qsx/IVZ60UwV5R59VGwLc+EK5cRxUXwSb8Fgx/iumVHvZn0tOF8gWe91+B7Pqc//+vMyh7I+5i0d5pY+RPcYnFdayY/l4DLVvuWP0WKcz2Vq+Z6Yn7Bgzq/dsHmR/sZn+puQktyu/yr73yzLvdGzOtyQh69FMyxyzOh5kHve29v5smbd0TuaFrjlmEiTCxnTxFw4uw7L4EDzUTRkh+NG8Im41B7Jgnbsx1sKkGmM5H3jx0X04XgfMK5HcF2z7WG7PtWgcfJ/b+qZyWrXPyQ8jOGrPPP4cl+NtHM0Fm2wXnAwC/08HyDmSMMp8yxJ0/nvrAJkffN7MF0mPeYoVYT0a515f5jcbZ9Q3tEaZ+2AZz/YPLTrqox16dCl+6s4kASdQfd9PnqfAtAUROVCCVS9KXhtOFilr5v0HnN9bdCTXV+PAPEss7WDxYm0HpteGdIoY2T55MPC7nybhSxVf84Z/5s1cIFVYd/RZtSHAzfPb+um1sWzCMTL+97r6WNexxHEWMeFJbgtn0hn4mUVevFXZ5ilm8pllqTi6O2mib7mSfLIMPRbRY73KsthybI4w8/Qey6OPsyzwK9vBmGbual6QeVGAqPPmJgIzs21W8y1YdCTZa3IjMYiOu0hc2Ff5ae2z/GXbtM3M7fG0H5FF/Us81TRQrpl7xplnEx2TubBjXo3FR5NgWxQLaQc3j/q7lvtGrmSbOMocDvsSsItdaJ/zeS21VUwG47DJLFsBe5i57NvFn1+xKzy9uXefjf4NCLIlaruJo/QjYlPM/56/yo+kKGqvGrhlTjA+yFzk5p6d5GtobMZyLOKD5TvbHxYds46vPe8lpnfstVY+Q7tXdDxDr6ejn5i8Vt957NPZDCfA7wz3Jb1GDC8Zto82+uU5SQs4cxP0o4nDORA4l8BFi45SZcpqkKrK9rjvXGzvIx1Fx/vEYs0SFB1rdHDuHQi8fIH3DhBgw1sReH1O5jvC3V3st6IEY0DgOgQuW3Twu2v5UdP3TgwoOq4x2FB0XCNO32zl6xd430wfvnsEXpmTpJteH8KTDi82OAYCewhcuOjY4+7n9XmnouPz6MIjEAABEAABEAABEACBIwig6DiC4gtloOh4IXyoBgEQAAEQAAEQAAEQCBGoRUfawD8wQA4gB5ADyAHkAHIAOYAcQA4gB87IgVsSiv+uSQCxu2bcYDUIgAAIgAAIgAAIfBOBtGZF0XHhiKPouHDwYDoIgAAIgAAIgAAIfAkBFB0XDzSKjosHEOaDAAiAAAiAAAiAwBcQQNFx8SCj6Lh4AGE+CIAACIAACIAACHwBARQdFw8yio6LBxDmgwAIgAAIgAAIgMAXEEDRcfEgo+i4eABhPgiAAAiAAAiAAAh8AYFB0ZH/wvft/rv8OwjCe/5F5r/l53ZbrvxXzVF0HJSgD4o5Kr+3yzl+rD6I4iXdt3N7iZlQ+iQCn5gP/37vy+12W+6/R12VZTAOnEf+/S53+kvet+XINYS09tXbbn59hN8lD/KiaIL5wJyZaMLpzyHw1UUHTeKysPr7WW63n+XvQvH1ig6+OKULVPt3X065Vr0RK/dCUO3bMpnWTuGNdd1hMct2OZj4E93t3OIxQcvrEfi8fEg3yO7L719a0J8xlx81j5w7z75LJvb59Rl+57VDdA10VM68S1RhxzMIDIqO41X3g/R4Hdsk5gGj7xrJJx/bpL2q9bjo0BMHFyKhGxjSGSrEzrjISSUHbZOt/OTKyCx3oTb7b8SMdo/K76PkjOx8i+Mn5NRXcHtF8E6I1TPc+LR8SP7wtaq7WfYMoGEd+RrKtoa7Xaxhn1+f4HcpbM94kHax+MLc8wh8b9FBi9B+MU2TyVkr0xPiGC06liVPiretvl1q0TH2cdsdnO2B6i9C22WkHkfJ2af9Sb1OyKmv4Pak8Cg1J8RKyT9pB/lwEtip2E9YfE+ddObp7/B7TgYtQGCdwLDo6CZt+b5i/R5EE07t5es8ZnFr5dH+z9/Cd+DpNSD5qtPiP67cJIcumOUVIyV7KXr104DkzdmL00bsmK2tRUd3B0oySvETnLqY2veJTU6kGJqw58n55y9/Cvnz+Gc+nQ1WgcGY29u4+rm0rPiexLKN1YYRG/ZPnK/9V8ZE12YgJ2Sn0L1m9xKImUGaBkV7R9uJ8cw+Ka+yFFxUThpdXk6FuUVkmTaT9OpYuPZtlKnmQDvGOA8FL3vjYC3eHW/HwZH+rq+17YHxM82ZjQyVrYNxpNokng4LmatH5L3Syde7Olb9eYn61DbFoiBrFUsro17f2mu3cux5epX9M2bWRpsvJqbe2CF9HL+kT/pg5ctzPE6YMY8XbiP78jEVbL0z81uxkrKL3o4r25M+Td6xz+PYxfJkVY600fNfnk82mjYsmz7Fedo3bZUfNgcS5kAe2DYGmQ4W9i5FIFh02Co+DYK2sEuJJwcZJ4xMFJucNXlrI0/HYICKJB/JSRNaG9xW9sodZRp8/ROQd41qtOjInLRfeXJocVy40BN88+JA9yMWZZKq4UsHyzGZC318Msn+uB8jKcvLqy4unl1lkpO2RnzvbZS2N251khXcUt+Z7Vn+upywnUa3zv9CyWPjxEwztXHRYz9in5bHefJoTq1z41yUMedjLS7rvvl2m8K647dNZuYnWSS+bT+eR3K+y5ZH+s70j8Z/JO45v3u75n23MYyMowgLHe91G+Y+lGuM+I5g7iMXdLHFZFyXZG3t5xtqLbfyfN/2iaOZR9pYaYtFNaY0tDS46cdZVL/UJjj37M8Z5t0z0HPhwD7hRyRXLKuR32FZq+uVWJ707LKvM//35VcGZjlkWS2nbI7F8sDGSF9zRKiweUECO4uOmaf9ILHJSQHrVYUAACAASURBVPtm9tJtehlJq27T73tt+mO+bPLKWaDS8Tf937joaHez9KTDjuSBbUJQLg5i0qCLhdjPkJbfu5zcWSZP/G1BSPESF15uOY8/t5SfK3Grzfo2NBGKiylfIGa++7bbCTErtnlZzakb1q6InFiMrG7fbqu/GlaeQrWYtTNpy7czt4nZp+XxAmRvTvn2aAZRX31Znb104DyZ3QLNN6Ac7e3w4+0JsX3z/qp+d/zH4u7bFem7JS5+W50PERa2jS83t9rvg7bLxqNI/5GFSURXmXfNhObpWou1bm95pH3fXt3S4zbuRzrF9cHuFyLiVyaFNpObnv3RY0Kqs9nb38v1/HZEOQxJViB27SZqlmttsPup1fzYhvwScWLPtPzMaZxjPUclp8qPsuTe+LwSgWDRwXdJ0kLWLhaSuyWZUrUu/4mBpJMzPkmeM9DGyR+6m/5GER4XHW0Rme8+mDu0ziPOFjsRYzOxZ9cHE1U6adpT3EUeMDrvuM2RSF6xPPmp79w4E2HQd8/GUX5stn1Q3Co5W+wURZVrdykenFB0MZMs0zbnTzf2g/ZZeTZH8vlgTkW4bfB16FtvtL/wSe1MzodlDnzRqoNzqxvYSd+IfuMb2RaMu5uHwb6PMlTjKBudb5TI65O6u6ypp72hDREfBmy1Xf51SLWJ6OLFpckBT45popxW7Xcy829SBMf2wA+ec9v1Sa4z2rWqt7+sM8TcmNzy2ikQO9Yzvt9J6mQMsj0mMNrGQJ6wnICvSvYD+dWxHOT8/+xdC3brOAjNurqgrqereZuZxXiOkJAAIQk7dho3d855E38QXC4ICcdtG7fxPBjOvaYMRzdlINx0sH+UsFS4eVNbJoRK9n6SqETnCfJbE40LgcJcPFxOHGbiPT4jTUdCavnnQm5C0Ds12XS4Y0mec6PYdQQJj7muMcbyqgdMuwX6GQRST/FsCxPJB2PsYRzxthv7AIPSM5CxPqsxHGvD7Qg36TIxs/r5nOzIuR/Ex+Pr5zM5NbCpOBjIkP2Br51vFWw5eLVOMhubA4TdxtutcaYuz3xi//fGiscdyUMxlg+PxkXlQ4QLNuh8dhgivA1kXFwmdkpmoMfCpDFP6lF2D3OWN5bqaffMBzMfPT+mtUsQofHnG9FrTc2OOaf2D47fQQ49nzVuM28LWC3jrPE8BxVOIzeLTSMl7x9MfqXbCsNK1+y+yQM2TfrlmsM38HlbBnY3HeSpTB55XGnoJ4lKTk5Wk8SHZWaTqmBydZtxJOotstWv9zuINh39u5RekXT8c/nIY+23UGm0y7OJc5Uz19XYYF45iNvTJf6BxC7OMd8Jj8E4eqK1H7uPQemZvtrUPNdjSgwGuCMxa5qdIxUX3wdnlL70VE75NjUHWWa3r8o3DZnjfoVOtUGTZl08g9pq4x0a63MpIdhvcfK9wDiuBRZXMKcVBtcXlvCxqHxwx/c8skb3U+nwbepxvozCNeBIy/h6tC1/zu/Vo+SVv2wtwpmHN1+LzB3CcDBnFP4COXqNPfQbnN7vXq/jd5BDz2erPyxj1jqrJ/mprzm4KxntwLO/X1c8D5pl8xBR3cDJHRmINR1pkyALgdo09IlECWq+utaJHimS/PV2e0pd9YqJZfWmIESu5a/v2hN5Dt7oOt9/t89w0+E8dcm+Nn7JtxRbwa9fhDk25pUtygt9jWIhc6cQ6F3XcYvl1Sge7etZ8wPdZUDEdw9jGk7X6/unfN6/hy3nTB6jfw5mrYd5nseI9IiY0bnDOXOibjkxU5ym+3IAyTc8ER6VvnTiLsbsq86fvllmvtvcrdwKDkK+LnyzuK/T2fjMr2PweWwO+PGOje3jlzZYbH8VKyGXyEp8ihj4uDjOk7E745LjP8uHGBcq3gsMPW8D/6d1oudinMsTvrgmyXnK10Q8esw61mS7yh/gjAjM42wjHZo7jNn4kdT22Ad8V/w5mtqn8bV8J/0/5nev1/N7hy7js9Vv/af7aY8l/LVjyBv180G+/1Y3SQXnsrXZ69I5lu8vavxi7mUv8P+7MhBrOrgY0Ndc+X1KNUfKJqK+c8lPmIWQTU46F/cTgVbGvg+ZChkl7QkTzX+C52F479DGmw6/cHMRqLET3LLnFJcSexWyVBxETnTv/HNM1aCsNRT/QF4xxv6zFHyx6FuZle8exqyjPPkqvnt5yRvryo8zJyL5neyFcIq4jXFTQJYxszzJ+Cd/bDhX+Ky+dC51Kn2BnIryxg1LjYHz82gSh+dbhz2Ab69Oy5/asAXmANlTJBbUgbFJcmp/Eis7Tm6Aaow9XI5Nd6yoLQM17Kj6eY3j87GoKx+rOK789/KUdIq56smQXiXTx8jly5DU2+r1yFzr5IP5Y1jzf3tVEorOHeMH61/x3eHn3DVcenJsgz4Dfvc6vKaDEl39uvH0AIfGCh/teaZKNxSRPOkx+fsZTy7ErcDMfEV0yRyjcdE8CM9/RoPPOzAwbDruAP45jF6R8K49Z+Xq0V7TcbVN6AcDYAAMgIH9DHibtP1aMAIMgAEwcE8GPrjpKE995FMQ6sDb1/R3CCmajjtECRjBABgAA/6TZ/ACBsAAGPgUBj666eD3N/O3hvmVme6rwDfPBDQdbx4gwAMDYAAMFAbwTQdSAQyAgU9m4MObjvuHHk3H/WMID8AAGAADYAAMgAEw8NcZQNNx8wij6bh5AAEfDIABMAAGwAAYAAMfwEBtOtIB/oED5AByADmAHEAOIAeQA8gB5ABy4IoceCSl+O+eDCB294wbUIMBMAAGwAAYAANg4JMYSHtWNB03jjiajhsHD9DBABgAA2AADIABMPAhDKDpuHmg0XTcPICADwbAABgAA2AADICBD2AATcfNg4ym4+YBBHwwAAbAABgAA2AADHwAA2g6bh5kNB03DyDggwEwAAbAABgAA2DgAxhA03HzIKPpuHkAAR8MgAEwAAbAABgAAx/AwKDpyH+d+/H1s/13EglH/hIrjcl/LvwEFP+278dju/NfH/dIQNPhsfL6a0fy20O5X8/5c9XD9e7X9vP27h4B3zMM/MV8+O/na3s8HtvXz1mrsmT4nevIO2OTHN7v2J0n//1sX48H5dqePSDpOm2/dj8ugTjGwMc0HVSwZRP173t7PL63fzGe3lbKazp4cUoLVPv3tV2yVr0RM24BrfjKwnVRUZzbriCWB/v1YEFOpO7nbRkKCNyYgb+XD+mh2df28y9tCK+o5e9cR94Z240niVs3j6+TNOcuWl/vzTLQSwYGTYcUOef4yCJwXhLniaSfEMlvPs7x8Te0jJsO3VBxI7K7JlBzdsUidwFbhJW/zTL6y9Ob3f4bNaPTI/nt6TpLj6f7ba5dkFMfwdtvBPCCWL3Cjb+WD8kfXr+6B2ivIPRVNm6ab6+i52w7/TzJ+yLOtT32SNcZCyxyYA/tt5P9jKaDNpz9xvm0SfKLYY82HduWi8ljb1G4VQEY+5ibLt2InRm2vngf036WnmPWXzTqgpz6CN5eFB5l5oJYKf0XnSAfLiL2arU3zberablKfz9P0HRcxTX0ZgaGTUeXjPI9v/qzEY1Gkpev85jNrdWXzlM3zU/g82tAelNIY77/aRn5ilQxv7I92nCOrjev3v9ob9PRPcGgIi9ewxL8drza94lNTqQYmrDn116+/+XPlB9F/1mxtRHKmHUebdvgK+OJ70kvY6w8jLhh/8T9On4yJzqZgZ4tglPYnuHeAjGznNoxNsYrfFJf5VLwonIyiE/pGfEW0WVkOt8k+HRs5L2ctzIrnboGtifabFr5mngzCmfxXo3NLuWfFeBXMTke3Vg7/yN5ybERc5/8Wozdy6HCyjbFnEg2lYzDI/NdP02sDe1JoXh9tdW2Ot7a5LWs4vLrEuGsMkXbwhaNYf08t6wOSl8/1smKZ3c3Z1nRnJcBr50tkW8SW5azNd7BH+Ss2pV8Bcequcvj5Vi+JpNCHJPtQNzsfHDrjtDLh9U3zgmTxHSfMUrcRZ5rQdIX0pX0Kz19nPR9PW86GyIHyCeTO1EemA98/j4DwabDdr+pWLZkSokik5MniMxvldwygatQKcA8AVwZiyNPhL22K+00OfpvQOr9GxxEm448mbWvfdPVxyAXCD2OaCmFpYYvXSzXZDxqEVGCooDV68di24XIw1UKVTVVF9+Ww7UxmeZftpZ9amPrwmPGSh6Gc0L8XJGnJxKj9dwqLHncODHTnNq46Lkfwaf1cZ48m1Nz/jkXZcz5WovL3Dcft2msO/726cz8SS4Sv+08xbbhbU2P9Gs2x1ZjV/ZH8z8S9xGu9dh9HGY783yI8KjjPcew9oFr3AxXqbcymLzuiVoStyUbUos/9cup4Wi5lWteOycehd39nLGN5nNfVy0uXU9G+aaweXWsfJPP+X6Ms5wBx8Zmv6hxr/G0vuoMS2fkl2qAnTGev13d8XUzH3TXWQcVryTk2C84Q7qULyW/RU5FuB3lANfvSm8mkBpcha2nAlfeiIGDTcfKg76Y2uS256SRJpIpgirDyiQVSdwjsbbtuRjhTEJx9xaH46ZDfHuhCgG7lYuLoTcRrBcme07Dx5zmItoWHXterX/LBTJfdXOCByzsNrEeGxU6lTMx333s46LM3+I0LPLI4oro2YFT+OfjtvYbNl+e7/s4890YPtZUP5/KKR+Pzp2or76uilMdXKdz34LZ45jHTzphx+bzqX03VrG4+7giY/fExZfV+SA54GPLBV/nT19vvnvcB43Lx6BlIrbKumiKudazjrWWZx7kp4+3SUSwzngdP5DQ2BxfKE953Yng4A0/j2EvdowVNTeN1hizPu8aW6pjAnGz327WseKhldTrH/fx6/Et4lMVR3TZeMa47fYgZLO3x1DIh1088Eh8/gYDwaaDn2CkjWxrChrgkhDlKzn+ml5OFJvcdG4mm30a7MlYPfVJytD2OFmtvebPfY7GTUcrpvnpgnlC63xNWeMmY7xn05FoM/JeDLNYpOlY55UXKf00JetQG6ug7y72QaO6Oy8jevbgFAugi7s8CbRTjvgzMbOccv50cz+Iz+qzOZLvDxakdFPii/C2w9ehbz1o8Su3zU2Jr36LNqqVYuzAFyGRtG0/X+YBgnmI4Mc7aVmMjdg3vhG2YNxdXMGx4bgMfNg9HzXpxU1+FcmseREfQrhKfMykVNgjtnjDG9BjRJTXym5mYJl7SkEQ6zS2Xr6xf6LGkQ5xrnItiEONYUf2jBX20/CeP/8am6pjTFC0nmBdlErr8WL+u5hHTUdQl/FF7bGC3Kp6X315hoeqBAdvwEC46WCsNCFog8+b2pKMagL2xVRPpDIZZwnKE8LIaD0R255M8aZMAmOCXb3FZ6TpSI5o3vzXNFyHvUVgxhvJc24M4sx4DPEaoxe3Pq9czBIfHfubBmO+U0V4rJDULUbsxh7RM5ARZulQ2x5wPtNlYmb18znZkXN/ppMHeZ/P5NTApuJgIENQBr52vlncr9ZJ9mNzgLDbPOWGY1aXZz6x/3tjxeMGc1xtQoTs6PBoXFQ+RLgYAWA/9ub9gFsXl4mdkhnosXBpzJN6lN0jnAWxMnayJ3lNN7x84xjIXCZbXNfNhjSIw+Msmp+aq+xR9Br7n91dPHyb+TKoZVn/jtoheTWvqe3WZXJQ8TnzRZPSP9yejZ3yIBXj+B0Y2N10EGiZAPK4etRvDu2EtOc01BQckjFJrMYdtF1hGnv1+o0Ook1HLuby247REw3jvMtRHiu/yeJRKj68WJgYJtmzYst29WfLP4sny8V89zDybwFT35ywP1y8Q3npY9B4fRnta+GSbTOWjvN4zKx+da58i+FT49PJUznl2/R4i+SnwqZ8U3cSaPqm4wqdNpeqZRdPy22Wc/M0NNbnkvXS5yRWQ9xFgYvL3dQoi/2J6wuL+T6ofHDH9zyyRvdT6fBt6nG+jMI1mKtaxtejbQXqaYB3ZVf5y9ZWnMWwsjb6tHbcfOtrHH+LRzmYxoj6x3P1yvxUXBWHotek/zTG1GqtJ3N6Tt3p46dtJWRODG2McuDyt2ACe6/L1npHtySDj90cOMgD68Tn2zAQazpSEojk0puGPhko+dITDDHGJmQvM9AjdCTWtJ7BGGM7f53bnr4z+6PrfP8On+Gmw3lylf3np0XFW1vA3YLTXrdT4aFiIRsbfzFMliiOavCx2I5ilH3Lr6V4i0/Edw9jxS7eIa25XBe+WF7mcS0vez3M8zxGNK7a9rlNuJkTRbsTM8XpdO6zzjk+pS8Dob94q3DswBfnTedi13gvfLO4Q/wd0in5SxsDPt+RR5ZMp0mq+SVk+3kg7Y+/Ee3HlQ1GOA/Zx8Jy4o3H7uRwnQ8xHlW8FxjC/k/rRD9/aoyYizovJnyF6mlvK2/cm16yXe0e4CyCdcGrejIuAqKx6Zz5sb9sIYJjwFnSHI5t5Srj8TB614RbgXWQ8SxqmVRKx7H49fjyOL1m7tCl9l79uAi3oxzIY/fy0BGDC7/MQKzp4AlKX4XmjZxYt9KsoE1E/ZkA/pWFQsgmN50vflUcy0iOrJ6Ibd0kNW2drnbrNkfxpoOLV1tkkpM8kWvsTCFNMsRTib0IabqhfzWi/FmQwqAXw6pTKbNNB4Fb5lUx43yUgicWfSu08n2EnZ+yMWepQJMuyV1gToT0BGJk83iMm4K5jJnlifSN5n4An9WXzqVOlQaBnIryFs7PiW8d9gA+6VvKEeVfp7Cfg2rBD+TRMN6BsQmOnQfK/iRWdlxtGoqPQ1yOTXdsOC7lCW6RPz4fdXBWcVz57+Up6ZR1gh8GzbBH+TKJ1tuax7qTD+aPZq23sTe2knd2qcNGRrnG6zWN8aziQzrZAA8qn6GxKo7O+sVzx8hJUx4G19dA3ZF66TgQv95W5tTWgMg+K+mqc4/nruP7ituEnXAVHSpER3joiMGF32Rg2HRcDYqSSmXTlRa9ieRduxLDNbq9puMaS9AKBsAAGAADzzDQb/Ke0YaxYAAMgIF7MfAhTUd5+iK7buqY26st9wpbQ4umo3GBIzAABsDAOzOApuOdowNsYAAMXM3AxzQd/ANS+cuV/HV89xXi1WxfoB9NxwWkQiUYAANg4AIG0HRcQCpUggEwcBsGfq3puA1Dbw4UTcebBwjwwAAYAANgAAyAATAABjY0HTdPAjQdNw8g4IMBMAAGwAAYAANg4AMYqE1HOsA/cIAcQA4gB5ADyAHkAHIAOYAcQA5ckQOPpBT/3ZMBxO6ecQNqMAAGwAAYAANgAAx8EgNpz4qm48YRR9Nx4+ABOhgAA2AADIABMAAGPoQBNB03DzSajpsHEPDBABgAA2AADIABMPABDKDpuHmQ0XTcPICADwbAABgAA2AADICBD2AATcfNg4ym4+YBBHwwAAbAABgAA2AADHwAA2g6bh5kNB03DyDggwEwAAbAABgAA2DgAxgYNB35L3Y/vn62/w6ScP5fXn0e0x5XfPz/tu/HY3unv2qOpmNPVK+T9fNlv739el47L/Z79JoR+3l7DS5Y+R0G/mI+/PfztT0ej+3r5+iqPIvFiXXkv5/t6/EgrM/sIWZoX33v/Hw6ke8lGa+0tQQDgQ9nAE3HIAG8IkNFXzZi/763x+N7+zfQ8YrLXtPBi1NaoNq/r+2SteoVTgZteDFrQ0vhzR1ju3zS0dx23Mh+PVhQErv7eYvHBJL3Y+Dv5UN64PW1/fxLG/oravlZdeTaOvtbmXh+Pp3Fd4SRV9qK4IHMJzMwaDqep+T8Sfo8pj0aevx54uqnTPKbjz3az5MdNx26GeJGZPeemxqrKxa58ziomggrfxNVr+aD8vRtt/9Gzei0z5eR5Pz6WXrmVn757gU59RG8/UbYLojVK9z4a/mQ/OG1p3v49QpCwzbymshYw8PeXPCv5dOb0w14f5gBNB2D4HZFhjat/eab5K7ayQ6wycvRpmPb8mLw2Iv1VpuOsY+56dKNmOTx2eMuXw4qPEvPQfOvGXZBTn0Eb6+JjrZyQay0gWvOkA/X8LrWiqZjzREkwMDnMjBsOrqiLd/TrD/X0IgjeX6d5/uf/7oDLWDilR/5qlJRxU/k+bUg+cTEYqLz73+bGsM6pS2+1uBmfIw3fZrNuLU12rSOrgtTlx7ubToknwRM8pR4EFypmBau1HiTEylmhsbMM+eD0D+NnWCsw2ANCNl0mOVtczH4yn/ie9XlYK/3Cicpd8iu4K6TSbIOduXfQM8WwSlsk07WJThPmLZAzEhO/s+M6dxY4JOqlL+Fv705lfQpPeyr4IBsGtxeflo+Ot8k+HR8gU5Vv5x39pWvTh7N4r0am13KPytga2431mJbxH2Ga5XTludVXBTWQT4oGYdHG+olhoX/SZ+yyWtVzVO/LtGYKlNQLWzRGNZf5pWs5ezbLNc8uwr/ijOL0eZLYO6wH9Wu5MHql/eY6xEHcqwZx9zIz2q/+EzndpzUmeTsfSoX/txKtqxOOj+IX+F14mRtLXNbkoFjMHAiA8Gmwz69SMWybexywrfzWtjEJOw356XgdjLy24Qk087txKkTra5I5Um3mnQWe57s3kanqhkVBIG1xoAKT8NYr7/oINp0ZK40zkhM8uZAjyPXSsGVnPFGQnLbxygT018/FqeOZg9XWewk1ojvPUaJfZ7vaazkgYu8xJD1z/WEcYrcHOHm+EgMfE1hVaTauOi5H8Gn1KWT0ZzxYleuSXwR3tivua9z33zcprHu8O3TmfmT86uvedL3cR71TW0kB1f2R7GKxH2Uh+ux+ziM5EOECx3vOYa1D9xwzOZ3WQNVkvab0bgtmQMWf+qX0wZ4nmty47yfM5rc9MtWVM7WOb+aO8yZ9CNH5RkOqJmuHPe86LgzhlncmMsms20llqIOH+Hbw+pdk/xG4kRzpGKzHOiabvnAORg4k4GDTYeEYBM43/OSvM57Hq42H3nSysnEYvypdfbFOclZmdE11pk/++Kv9fT363hnQ1vvveBg3HSIb5RUE8agctzmMRltEMd8EG/ih+vtebX+3S8smnOWlJ9ju02ql6HiXwtukoz57mOP5HtD044sroieHTiFfz5ua78h8+X5vo8z343hY031U817vhrF5+PRufOcLkakP6/TOat5GkM663HM4yc12LH5fGrfjVUs7j6uyFg/xtKTduzL6nxo0u3IctHu5CNfr7w3r53+eI3Lx6Blsp65rbLuGSGtZx1rLW/5SOc+Xi3p+T0eRzaX68UODkQdTLg8n7xrzQcPv9UTwbOfbw9X9FrDn456vrUe30etA2dg4BoGgk0Hd/ZpIyuflND3h/Tr8Uy905Pd+VqVv8qv+gKbdz1xbCHIBFmZdLW/ViZl2ozLf8IJPaafxDUcAdxV9oKDcdPRnsLkJy7mKVMkJpm8PuajTbsjTzwKXpkC77rmPEmu48T65Kd+KpZ1qI1V0HcPo/ekOdnejX2QN0rPHpxisXVx74iZ5DIdc/7UucoCQXwsXj/3bGTTICkf4W2Hr0PfKlg+GGw0LL4ZX6yKPwe+8O38uZ4DfrzT6MXYiH3JPQMLxt3FFRwbjsvABzWPCPeCC/ZNfA4xRHwI4SqYTH1U2CO2uP4E9BgR4e2BGqZG84m3oY3PnWdyRvFW4ESvMfpQfY/EZBD/aodjZuu2OE+yMfzr3LZ6hrktAeIYDFzAQLjpYNuUvLRRL5vaweRSST6QYZ30GZBROsMT0k7cMkHV5O6Lv7bljSnoA7iVnyefRJqOZFL7Qzsjt1ns4E02He4CRvKt4SG7jqB3XWP0OO/j1OFNF2RM6DjWKFtdHkalWwzYjV1iHOkZyAhxOtS2S6wt5zNdJmZWP5+TncDcZ/nh5zM5NfBDcTCQITwDXzvfLPhX6yT7sTlA2G28ueGY1bmZT+z/3ljxOK45FlfEptUhc07co8OBPpUPES6sXnHe5cbAphiia5C44eIyHCmZiK0B13v1KPnDnDlNx8wHMx8Jg+FjVHMFrXSo8ee70WtV1wCr0jOQqTrSQUBG6eQYqvnqrNud3I4aYXQnmIRhNr+UUzgBA88zsLvpIJNqQjlFhpO5Jrkvo+GvZU6ZpAo7I+g3sxFbNNpblFntCz6jTUf/jvua77F/eezwB6Nr3AcbYM4Ps7gozoNx8ilu8VQ6q3DMdxprMPKrWeqbE/aH/Q5h9zFovL5MdaMc6DEjzuMxs/rVufIthk+NTyfunIni821qDqK6DDLlm7lXvj2J5LwaGdBpc6mOd8e23GY5N09DY30uWS99TmI1xF0UuLgKj6uxCoPrC0v4Pqh8cMf3PLJG91Pp8G3qcb6MwsV1w9QYLePr0bb8Ob9Xj5JX/rK1CGce3nwtMncIg+FjVHMZFX8q/OVi9BrrGNnSejwfm4Z8tJbROksMeQ2J4g/GydpSaF0dSgInYOA0BmJNR1p4ZCEwCxEldPdepv5tDvnrPPPEOekRk6yXSUWujbETx54nVtbX+gKY8eufMbB6Mrb2BJ8jMLrO96/+DDcdzpOrnu+yIRQxGT2xyWPNK1uUF/oa8ShzpxDiXdecx+I04pfxpdfnvA1OxHcPY7JH16f5HsO+1sOvNrU5QP6aeaN58zcgaRxzosLhxExxmu7LASTf8ER4VPoyEPdbtii+OG86F7vGe+GbxR3Cd0hn4zO/EsXnO/JIxoiAx8b28dM1dz7/GWdhKvkuagfFqcPFeTgZu5PDdT7EuFDxXmDoeetr5xpXz0Ues3/t9LimayIePWYday1/gDORd7bmhuYO19YjOcNjhb8JjvYpR9i7JmNP96f1vY9bdl3n/z6+41g1/lic1JhFbksucAwGzmYg1nTw5KWv4fLPQei6UJ6AlPup4NCEMwWAC0/9OQpzPzlnZWTxUhOHMRkdVibp7K6Vzr7i4F+xKJzqxqSJan+exdN9doQW+uJNB3OrF3vLt9w0sGniosRWUJSI1T8TM+JHDcpaSae53nEeiBNj7D9LMRaLh5VZ+e5hzDoC+R7CHtDjYRPTKAAAIABJREFUzAkbI8vbGDcl7DJmlifSN5z7nFfi56PMnLT60rnUqdIgkFP2ZxVG9SacnxPfOuwBfNK3VGOUf53Cnj9Z83jTv6xVnpFQDi7sT2J1fP70Nt2cDsclMI+CXMjwrOK48t/LU9Kp5kcAe7QGmBzobfW8y1zr5A9wNvqmgHiNzh3jB8dkxXeHn3NX8e3sB9hA/TwnJkmdxTzj+zD+QJysbjoPz69KDA7AwNMMDJuOpzX/OQV5EyuLxrTAvsh/r+l4kWmYAQNgAAyAgR0M2M3fjqEQBQNgAAzcngE0HTtCSE8t5FMTenLTv3K1Q+XTomg6nqYQCsAAGAADL2EATcdLaIYRMAAG3pQBNB27ApO/7cjf/uavYPU3H7uUnSKMpuMUGqEEDIABMHA5A2g6LqcYBsAAGHhjBtB0vHFwItDQdERYggwYAANgAAyAATAABsDAbzKApuM32T/BNpqOE0iECjAABsAAGAADYAAMgIFLGahNRzrAP3CAHEAOIAeQA8gB5AByADmAHEAOXJEDj6QU/92TAcTunnEDajAABsAAGAADYAAMfBIDac+KpuPGEUfTcePgAToYAANgAAyAATAABj6EATQdNw80mo6bBxDwwQAYAANgAAyAATDwAQyg6bh5kNF03DyAgA8GwAAYAANgAAyAgQ9gAE3HzYOMpuPmAQR8MAAGwAAYAANgAAx8AANoOm4eZDQdNw8g4IMBMAAGwAAYAANg4AMYGDQd+a9tP75+tv8OkqD/8upefXvl3+8vhR+kbfcwNB27KcOAwoCeo6Dl0xn4i/nw38/X9ng8tq+foyvZLCv2rlMTXf/9bF+PB2F9Zt2dWHj5LS+fcjy+t39LNCdyu7QFATAABl7FwJ9oOqiQyQbp3/f2eEQK26tovs6O13TwQpsW2/bva7tk3b3OtYDmsjApP6XPj+3xvV7eAob+pIi3KfiTjsKpEAN/Lx/Sw6iv7edf2tBfUf/O2hgXPX+sVvX5JB8OrlLyLG5XdnAfDICBVzIwaDqeh9AXnCd1UiPhLRy5OOknWXuK25O4fnn4uOnQTRc3IrvXtSHvv+y4Z/5OWD38s2sX+Hb6HJ3h/6R7F8TqFfT9tXxI/vC60D2YegWhYRt5vWKs4WFvLmjziWKwewESTt50XgkPcAgGPp6B+zcd9LV034xQwXumwN0kNaJNx7blhW33k/87Ffo7Yd2bXxf4ZjcFeyFBfsDABbEaWDr1MvLhVDp3KPuMpmMHIb7oTeeV7wyugoHPZGDYdHQLkHzn9PHY7H6e5Pk1l+9/mx1vz7etfH3KY+pnfkIv5ZXuIsdPhfITfP1UP4VydP2vhXlv08G8VR6okItXksRramPe/dcBZMySfjrnXEhxK7r5eo7R4D3mRb5V/PJgsiixTfqsWGJ+kIkJTxJCPV7h36GvYq5zpD3BJXvGVnqlzs7PJKf0cFxEvMO6jD3PVuUhHRh5F5+RWelUueO8s698TbwZhXSfOaj5kFGvxmaX8s8K8OuLPK+6sRbbIu4zXNtirOXZuKxCkk4UVubC5IOScXjslK7iuPLBwUWxrrjOm7PMtcqlaqd5pu6beJIOM2YXZ5YPo9/G1Js77Ee1K/FY/fIec/39r6yXphbLsWZcY6cdVfslT+hcjLPnZ+0BCIHJO48ny+VqfjTPcAQGwMBZDASbDvskJhX+ttHPxaad1yI9LDj9wmF1dAWKCuDgGw1hpxIzkK/3/8hBtOnI/Gr+cpxa3OoiIPl0eezjl+i0Mcs2Bxs+tYGx+WXPdb4NQ+dizdI+lpgfIZ4UqDn+/fqI3O3hvZdOPpsmo1zjjXCNjfg5J2+O8qZWLcadrrlvioZsmH6u6EydGbvM5RTHdp5iLX3nzYbE4OdDzuHV2JX9zGPDw5xE4j7CtR67Ly7ZTpv7WX97MMA5s+KCfcufcwxrH7gRmuE6b872XFv8/PBKxrLPNX6YcowzGrV922YjKwvMHeasr7NxvuXYzAE103XC9LzkeLf/R/OpcdXH0eqg8+VaxLVxVQOtD8l+y7PmCY7AABi4koGDTYeEZCdzvmcLhj7PY2pNS0PMhlHL9/ezlb5wVWTlyYeyUW/+nYNx0yG+vVAbfPbdiUG6ZeLQndNwn3cbMzoXG91q+VsucvmqHuvnFI8fflrsQtDHEvEjyJOwxa+yqQ1bvX9EnxMX0ufjT7e0vz6fmvPndFX31MF1On1ulXFx0uPQ/AjR7tCOzedT+24exuLu44qM9WPcuUMXfFmdD95Iy4WV8fVmqeM+aFw+Bi0TsVXmiFkgtJ51rLW85SOd+3i1pMfbeBzZFHXVnsf5LhzIjT3XjsC15oOHv9etuXJiZOaNlr+mBjYfcAQGwMArGAg2HfzEJ21k5VOf9uqEqd3+U+9ayPqCagvnswXHe7r5CkJfbWPcdLSnOPwUU8XI+TqaXxVRMTYLQfavj1+6bmNG58poHu1dt2MZs8KyItfFOrY52hAoLFGeDLYh/oP6/ObPWbgZh+Ri0IArP8vP/DjhSoFV837oG9uun0F89XVIp75UXeVg4IsWK/mZmm35Tzjn5WDWsRgbsW/4Ir3BuLu4gmPDcRn4oPMhoV5woUkvbvJrZ/46oeJRY1NkQ7gCtSfIl8e14mCAR7qt5DMD28+XyTv3oY/S4nzTEZ87nh+8/k35dmp2QtX75F+rHgx4snr0eR9Hum+bqbpnGDUdcZ7C86M6hgMwAAbOZiDcdLDhXBhSUS2b2mcKTl10hL5iSBeoUcEphUsWJgY6wMW3/8pnpOlIvnZ8RvnxNlC8GRGbOM8G2TQyVc5c7/CVANF1ypPWRJVb/YeLNYv5WPqFL0krLFGeejR0pcN/VJ/n20wXye+Yo1Fdws/ON3GPDl+tMxvNmz5VE/o4T/NhNnbmE/u/N1Y8jnPPzA3eQNrLYpg6PBoXGld992prz6MyLE46DBHeBjIuLkOGkhnoEfDokMY8qUfZ5bpYOUxmIpzljbP69mzmg5zbT+aMxp8Zil6rfA6wWj36vPDy7B5gYLsEuO1TKthS36NrihiHQzAABp5nYHfTQSbVRHcKJhdCUXxVwaHx5kmY8UXJp3veQu7YqWoG8vX+HzmINh2ZP/neqx+3jpYBjxSf2YLNsTEySX9krMKh8k3d0ScDrCObo+s694I8aST6TOE/qM/1LeuyPyRd/arzz7fp+bnWpV2bb4ij+PbrVBs0OVxxzTf6jZ+Xg74vdqzPJVuiz0mshriLAhdX+RZqNVZhcHlgCd8HlQ/ueMsF6xt8Kh2+TT3Sl1G4QvXD16NtRerQWo/CpvxlaxHOPDv5WmQ+PpMzCn+BHL3GHo5eJ7V61DlxdcYeIM5Twzt+Q0PJ4AQMgIHTGYg1HWkRlZtHs6hSMeFvPnhRSE8S6qanFPh6XgqFesoxkx8XifyVaf8UfHT9dAZ/WWG46eAnbjUG/MqcKfwptkLG34j1Y3MOODGUeVO4IllzXS1Ii3wbUm7yUsp5NtP9nCeNA88PK0N6LU/a2HS+7NaXgdJfLDa01d86o64TD7LBLPNvMUczLj2ua1Z3xuY6nS1m+Wkyn/ebkBpTQZKfD7GxffzSxpLtr2qVkEtxNXnk4+rztMvBnXHJnLS6WTmqcz/GhUx78kVwnHOn+dvzNvA/lKdNb489wBevUxIvX6sceHp0rMl2lT/AWQ6k83oV217MR8Zs/Ehqw3xX/Dma2qfxtXxH3F/ETestXJ22B1jwtHN+SN9wDAbAwHkMxJoOLmyiQOgaV57mlPvpiRwVPFHMdMHJ8q6OMkbLZ4fpWrFRx6ZiYn/OhPEK++dR9l6a4k2HvwjlhUm8g+xw5vLOTcwq5jVQjTfSZ67beEub6b1kI96UyaNBLiQRz2Yeus7dJBfhSUMRnDr49+qrPtj8zzf0zy4486G+5jGJF+EnDiX2trlj/3bH5gKdlj/1LUB54lzfZ+dfByuSaJgPgbGJh6l9zjcnVnacavB5nMDJnHs23bHF5nrOBPI+yIXEuMqNlf9enpJOVZcC2J0YuXwZrntb81h38gc4G31TQLxG547xg2Oy4rvDzzmo+LYPDVm7/FzHRNvK8hp20VFsa/lsi64584ofjtQ579RAOXY9P6RvOAYDYOAsBoZNx1kGPD25ELanbCwzus73/c/8xERtOo68juArf/urXtPx9qABEAyAATAQZMDbfAaHQuxNGRit9aPrb+oGYIEBMLCTgV9sOuzT6/6r6agvVKjkkxl6OtQ3NVF9d5JD03GnaAErGAADexlA07GXsfeXz83FeXuA9/cYCMEAGEgM/ErTkQxz0Wlfh5o/6LUrPrlhyV/V5q9o9Tcfu5TdShhNx63CBbBgAAzsZABNx07CbiJ+7h7gJk4DJhj4cAZ+ren4cN5Pcx9Nx2lUQhEYAANgAAyAATAABsDARQyg6biI2FepRdPxKqZhBwyAATAABsAAGAADYOAoA7XpSAf4Bw6QA8gB5AByADmAHEAOIAeQA8iBK3LgkZTiv3sygNjdM25ADQbAABgAA2AADICBT2Ig7VnRdNw44mg6bhw8QAcDYAAMgAEwAAbAwIcwgKbj5oFG03HzAAI+GAADYAAMgAEwAAY+gAE0HTcPMpqOmwcQ8MEAGAADYAAMgAEw8AEMoOm4eZDRdNw8gIAPBsAAGAADYAAMgIEPYABNx82DjKbj5gEEfDAABsAAGAADYAAMfAADg6Yj/1Xvx9fP9t+ShJjsa/+q7ADTfz/b1+Ox0V9BJ98GckufZwKv/evoaDpmsXjdvbPye7+eK3L4dbzd1RL/NeWvn3WF3O/jiTHtat5+NO8zIsbL/jn0jIcDTB3vA7lnTA/Gvtb/AQhcBgNgAAw4DHxQ01GK/vc/QcP5CwFtRmSz9u97ezy+N2lVAHj60Gs6eENEzRU3WY+v7ZL90dMenKdgvth68X+V7biduQ+envNz2LOCa5KB9GDha/v5lx5iXDGvzorptTkvGXnNcYyX/XPoGfQeJo93T+4Zu+Oxr/V/jAN3wAAYAAOWgUHTYcWeP7+sENKmPrLw528grnkyyfzkhUXbkN98sNx5n+OmQzc63IionisCI8xvRNnFMoT1sbk+lieP7r0TYJ2V32fpOcElqBgwkGLEc7x7yDAY8zuXX1HzfsezmdXL5lC4Fv4u75f5PyMd98AAGAADAQbQdARICovQxrZvgGgRuGi3G206ti0vhI+9OMILbZilCwXHPuamSzdiZwI5a6E/S8+ZvkHXXRn43c3vb7F22RwK18Lf5f0y/38roLALBsDAn2Fg2HR0hUu+o/rQT5M72W3b6Bq/2vP9L5/L144SheXJdH0NyNwnHd//Nn5K334WI/OvbBRb/ARSYbJ2Hu1JpZLjsFr5Aa5qv9wfbWxH19ncM597mw7mp9qc+Fr94zgK3mi8yYkUH9vTkA6Of9JTuOLro9gyvg6DNcCC5TPL2+bCe90hnn8Vg8iDei35xP6J+wmOkilyBq6WGegJzRNhm+yyLsE52Q7EzGLczJguBJMc6nSVCxFu1NgTMCibXFcqb36O0JgqU8HnnwtL3Fp+Oe6sfyCTNKncN3PLs6vwJ71dIARjNiZGv43pnrkrrCQvtp+vHovFT+cjTiRWy7U25q4jihfOe6tH2jgQM2WjxJRrqfLV2hG8K7ni1ywHkkhn14m5khn5b+bP8XibgOAUDIABMLCDgWDTYZ/cpIWmbexsMc1FsN2vhVUsBPlak6mLl5CpxbQWWouDN46DbxeELn7SzwsFc2SxH8OVtVldbCNvGnuM9f4TB9GmI3OpMUR8HWIvi2sNTfKhXJMc9zHMzvbX+9gmGamLN0rKpuXOw1UWXDku4nuPUWJvuZt1tYYqU7HGnvXP9YRxilwf4eb4SB74muJZcWrjoud+BJ9SVzZSyp4THz3meQxrrmOb54i/Pf8WPzcccj4m++2cdJiY7uOMsnD7Fpveyqk3R3bM3aqHDmK8jTihpq0mZM+TtlU24YYX+TNz3lw8K2ajWmhjtW+taTHPa2A7T3pXMc+8zmsIz/FKcyL1cLxtRHAOBsAAGIgzcLDp0AZ00fUXDk9GFcGkkgqhLrr2aZ7W049hZJ1ceb1IFfGyAeKn77xYhHB1PxzuL76EZ7mpYtT7P8dNR3kKy09ae6doQ9JfTj/43mJgY5IRjn0l3gU39pw9pOvGeB8zlubPsV2WqM2r0E2bDrFReS7OkfxuaNqRxR7Rk2WEK1mdN0+Efz7n1n5D5svzfR9nARLLIVY1/Bxjk3bs3JX35hz5Puh88zFomR3xMIC0nmzL96d49a2b2J46H6+W8/wej7N5YM+1bj7z9Wl/+2YhjbYyo2tsqb/v+Wf1nhWzs9eadQ5Iv/Ox5Trivx3TtNr42vMmiSMwAAbAwDkMBJsOfjKXNrJiQ1owqMVjsMH2ZOgpF2+K62fTT2Omi/fJC0HBfgSXt9mtIRpwUu8/cTBuOvqnX4rKoK9+0zFYyJMf3oZYGc7OhmLLr27U3CiNlKNPUqifbDqLe9B3D+Po2xaV3wSmLPYj7IOcUHr24LRNR8dRPGaSy3Rcnx7buR/EZ/XVuTLiph/wHIYI15xrhrfD8QjoMSLKa2WX7izySY3mE29TGs8DwjADKXEZOYvfnqeh0WvsTTcmEtdgjnq+dvhMbWNcnVzkAdcAO+vMn4uYD3RoPGfHWyPEGRgAA2BgDwPhpoOVUkGjzULb1KoiFymEAxm2wZ+kd7GY2U2uGis2Yvx02z5djGBnnfzp4aobKWWzjAj6y/r3fEaajqRP+ZkuRDF5C+1sLMmb3DAxrHjMdY2xLLiKz3LNjOv4kvjouDWyJCvvd4PbBTfOg7G7sUf0DGQawnykbZdYW45mukzMrH4+Jzty7s908qDu84m4ch7vxTDAqXnzc0vJDPRYF2mM4X+vHiXPDdHuueA0HTMfTB54flhfa92b+ctxU/idmjSQkzYVLwNfIjJSZzr2fFV6stD6oRspdnhnG8zBAHvDFZgnAx0K90Amw9S/zt3joOHBERgAA2DgeQZ2Nx1k0hQyVeQiT3kGMtYdrwhqW1TJz1sInsCVsHfY2CFv4873nvyMNh25OZM/6O0vjB0cF3sea199S2MtB14Mq9xso2JyLOPyN4YdZt6kjX6o8qk4+7wpv0PYA3r24OTNDMfAcMtNdyRmPZ/iivLN90FI94dqPN+OxrXIKx0RDL6MitmANy3j62Ev+NPL+b16lLzyl61EOPPw5muRPPD8YOvy05NT+JlbkaNpvJUZXetsVT2ef1avLyN1VrtmznT43Fpo7ZE292dptL4FrlDMfR2enTPjbbnDORgAA2AgykCs6UjFVhZkU3x1kStFuHuvX7+jnF/ZME+gk966oBQ90q63ULnF+ehCwK+S7MeVCNev9bQQjK43ieNH4aaDN+KC30gMRt+I5LGyiaHg0G/zkSGj3JAXiqvedZ1HeUGVeUf301NuR59lkPGlV+Xst1tJNuK7hzGNzTjMtzkJV+U2hn2tZwfOatufN83ndcwUl4u5H+FR6SuNlIzhMq4nYDjCdcUluI34S+NMjtK1qZ7URLS6o+Vj+aR5Tmf+ppTnhoJINV3nhudHb6PPURqn5oNXj+PXpE3NS2Qu9vhI31uuNTIHYjHPXM9qEfuvY9s/hBrXDck/jsEAGAADzzAQazrqRqv9cLJcsOxCUL9yp9cg8qaPFjqx6CbQvPjVn6Ew90mvNMQ4PLlii8V7TP4C3Msdw0VBoIW7bRw4MJ4NvvfsZ7zpYL80vlUMEj7Cb/gl3GWjUuNn3/nnsRwU4SzpNNc7nkpDWfXzNxdmnFArDsuiLZpfcZMOV757GLOO8pR5lt8h7AE90Xki5sQYNwVE/7pXJ2aWJ9JXfE2xsPSveLT6uJHdE9fnMfRck07B26vrluVNNscdtlA+Wab9mkdST8xdayXCW+cP1wbFv9+ISHu9nj6uxKvRa7luDwiydtJrEru35dfCXs7nvZfjmtzWVZkDsXkS85+bjDrnnHnvcSC5xzEYAANg4FkGhk3Hs4o/c7y32HjXzmPHazrO0w5NYODvMuBtAv+ut/AMDIABMAAGwMDvMoCm42T+u6ds9ESxff19srkNTcfZjELfpzCApuNTIg0/wQAYAANg4B0YQNNxehTyNxv5m/r81bf6yvxke2g6TiYU6j6GATQdHxNqOAoGwAAYAANvwACajjcIwjMQ0HQ8wx7GggEwAAbAABgAA2AADLyCATQdr2D5QhtoOi4kF6rBABgAA2AADIABMAAGTmGgNh3pAP/AAXIAOYAcQA4gB5ADyAHkAHIAOXBFDjySUvx3TwYQu3vGDajBABgAA2AADIABMPBJDKQ9K5qOG0ccTceNgwfoYAAMgAEwAAbAABj4EAbQdNw80Gg6bh5AwAcDYAAMgAEwAAbAwAcwgKbj5kFG03HzAAI+GAADYAAMgAEwAAY+gAE0HTcPMpqOmwcQ8MEAGAADYAAMgAEw8AEMoOm4eZDRdNw8gIAPBsAAGAADYAAMgIEPYGDQdOS/pP34+tn+C5Bwr7/s+9q/GB6g7ykRNB1P0ffRg+81bz86VC9x/i/mw38/X9vj8di+fiIr2V6a962TU+3//Wxfjwdhja67U323uHkOf7+Rt79h8xYhBUgwsGDg45oOWoRkM/Xve3s8vrd/C6Le9bbXdPBCmxbb9u9ru2Td/VViyqKl/JQ+P7bH910jez2xWDiv5/hOFv5ePqQHTF/bz7+0ob+i/p2zad62oufjatUJ/FGzdkVs5zP3782Vub+4CwbOYmDQdOxTf58JmIucfuolv/nY5/c7SI+bDt1IcSOye12jpuz1Rf0Qt3fCutfBC3y7z7zdS9Yvy18Qq1d49NfyIfnDtb572PQKQsM28hrEWMPDPl7QW89fQ8pfmyuvYQ1WwMBGf4T86b/TcZsJOHgqQvh378bfI32iTce25YVt95P/O22g7oR1b/pc4Ntt5u1ern5b/oJYvcIl5MMrWPZsoOnwWHnna5gr7xwdYHtnBobfdHSTSr5z+nhsco/eySaPjXx6zUeOyU/e9dP4zVusix45NsuJ12jk61LbthGe73/5M716U+67Nglqeu/XYHnnqAlse5uO7mkace5zSTyaV5fyeP91AJsHozjwdf72hV4BMzG0+aPiL/xXh17+FAG2SZ81J2J+kIoJTwoDn5j87/Dv0Fcxi1ioOBpbdq4xJKWH58eCd1eXsdf5xgb508ifoVPljvPOvvI18WZA0n3moOZDBrwam6RG9ruxFtsi7jNcq7q3d84orMyFyQcl4/DIIa6fJtaG9lScxSufrTbX8Vy/Ode//2WuK67z5ixzrWJZ7TRE6r6JJ+kwY3ZxZvkw+m1MvbnDflS7Eo/VL+8x18wxc84ycixfa7SoI8aguOIxEz00juVWeMhiMP6LPFQ4Fecx/RZ3glb5Zx5t8i8wKUJxAgb+KAPBpsM+iUkTs23SuwlYioyac+Va3SyVCShlkp6vr6/6lThxTuOarVws2nl9H9YWLmeB7HByUMnGTV4hYszlM9p05IKofYxw6TaCg3eQLb/Z5mDDp+Jj88ue63wzFLTTSRx9LLEFJsRTQ5GWn+27W8hazu7XRyva9vDeSy/zSs4j3tjVuVYXRIvBbPpCuua+KRrSyQU6M38yl1Mc23mKtfSdN26SIz8f8sZhNXZl358z3Ki0GOypXeuc2ReX7H/DkvXrfIjwqOM9x7D2gTduM1znzdk+Byx+jlnLrRyzdk46zNqzyh/NGU0SUy+KRGjuMGd9nY3zLcdmDlJz0xr1nhfrw4jLlR6Pv/mYSPwt3jTG5lSLoY5pRH/hfFfc55gsnzgHA3+VgYNNh6ZDFw5/0qYRuTDx5LdypTCkQmsmsy1+cvNASKg4tyKi7TBWa4+vt29lOr1C5F0Px02H+PZCLSDsSS6Cnc+GS38D5XOp88DGm+2W68awHmsLdBs7PbLYhfCenPCwGLjJCb8JIJsz/EHeBfas0rPnxyHJa399PNrP53RZuPn8Op1qY+cbF1d7HJofIdod2rH5fGrfzY1Y3H1ckbF+jDt36IIvq/PBG2m5sDK+3ix13AeNy8egZSK2InVoHWtt1/KRzn28WtLjbTyObIpv5u15nO/CgVhv01jPJ++a9MG7H7lmZejcFFst4/OiZTw+Ge0qphH9PkdsIX9aPTNMeiTOwMBfZiDYdPATn7SRbZt7Jsab8KZuZFGzGNOTGC546ZsPOk6TkxuTPFGrLvP1JD0RSRtq+tdweYVrWvydb13Yt3f/HDcdzGGLXeUxORXk0t9c24LK4e2flLaGsTHpxUfnUMPs5VvTZI5Mfsm7ns1RTigsUZ6kMfX6TctLEjmoz4+DmR8Sg+RikN/Kz/LtjMoR1id1zXxj+foZxLdH58CXapIOSn7W2lBqhHDOz4c0eDE2Yt/wlSGl36DEtcp+thxxcQVzpn5b4dRoxc/AB50PAS6U0nwyxBDxIYQrUHsitnhzLXIieaA4GOCRbit5urHIHzm4Hud5ohvZ+Nx5Jmd6/IaDgtGTq/Atb5MxVo97PosJz8+pzGT9WMY0kF+uv+u4D+eGJBLHYOCPMxBuOpgHKhK0eLZNrSocs0lNi3Eblze+ecFNEzIX3Tx5qaa48vpnQxiX/CQ8pijVzQQ3OXLADLOUe8PjSNORYKsYpQtRn70NVLDw+3EoWEx8OnyFa7pu8m0YBhdrlvaxBBaYKE8DUB3+o/o832a65NwZyCnOBzLkltQl/Ox8E/fo8NU6s9Ht50s3v3Xui5yb5oOqESZHZj6x/3tjxeN4ngqcSx7FWD48GheVDzzHZ1ywQeezwxDhbSDj4jIcKZmBHguTxjypR9k9zJnTdMx8MPPR8yNa3zX+zFD0muQzOsbKueezmDDHU5mGjPTL9WPGKw0z872ocnHWuVHG1PM0yNeT7nSYig18gIFPYGB300GkmImrJ2TldzKQAAAgAElEQVQuoMMn3M7ETM1G0sF1hJ4I8A+38UUy7BRnJ0qER43LQhqnGOhtEsTtdz6MNh35SXnjuP+5g4GXA248ji2/nkyy4l23YxUak2/qnjwZYB3ZHF3XWGI5J2F0xwr/QX2ub9G55tv0/IzNW+Gh8k1cp8MoPjMuoFM/FRbj3bH9BsDLQX+jZsf6XAoEKcGdb4QD4wZzIzxXJQiXBxbwsah8cMdbLljf4FPp8G3qkb6MwjXgSMv4erStSB1a61F2lb9sLcKZZydfi8xHwtCtd55OxtQ+Ff5yOXqtaSlcqrU9ds3a8nw5IiOx6Xm95iWMgf09End3jEKNEzDwJxmINR1pEZVFzSyqtijw14hySL/pzXySbPrh8fpKFa0q2+Pre/v+kptkIW9fH0h4uAAMFqU0OuMS37SUkI6ul9tv/RFuOvjJi+Ap+91e7SBHDZe6YDcq7FjKgfRESej3infS4F1XObTIt4bCHJm8lHc9m+l+xA8rQ3otT9rYdL7s1peB0us5ak5V/GaeEA/6Gvkv5lg+1/HKuPS4bt7ujM11OmXepo0dn/ebteqrIM/Ph9jYPn7SPgVlEivGWRLG5JGPq8/TLgd3xiVz0mph5ajO3xgXMu0pVwTHtvnqeeNa/7Px3wtf4+q56LH3Mh1fkTpU55eMmY412X6GswzM/UHy0NwZ+JHUhvmu+HM0tU/ja/nO+H5Ej5Whc5lD7J/AaP2iMXLtWcwFOz5/K9FibO93+jtMgbmywCS5xDEY+MsMxJoOnmT0NWV+H1nWBVs4iLA0yYT88N380vHLzSo/2Rv9GttcFMR70aIgJdte4WqYWnHhwLr4+eabf8abDn8RWnGZ3K9FV/3a4/IEr8Q4PXkmXSIWozh4120MpM2URzLfhiGhnOvjW31wlaz9SOMjPElcK/x79VUfCt/KldBci/nJTUabuz2fK98kD3QcwLdXp+VPffPBNYXrD/86WEEa2RPnFXNgbJKd2h/OmX6crnuT2uXYdMeyz8s5E8iHIBeVO+O3N28tb9aH+lqKqCsUK1FXPBnSq2SOcd3b6vXIXOvkD3DG653UWzmNzh0vl6M5Y3jrfOK4GrmKcXA/osfK0LnxxcpE4k9jJnPB5qHmfj03OkyBuK8wST5xDAb+KgPDpuNvOpyfSOgC4127j/de03Ef9EAKBsAAGJgz0G3w5uK4CwbAABgAA2/KwIc1HeWplXxiQ0+S2msGbxqnISw0HUNqcAMMgIE/wACajj8QRLgABsAAGNi27eOaDv4qO3+Dm79G1d983Csv0HTcK15ACwbAwD4G0HTs4wvSYAAMgIF3ZeADm453DcUxXGg6jvGGUWAADIABMAAGwAAYAAOvYwBNx+u4vsQSmo5LaIVSMAAGwAAYAANgAAyAgRMZqE1HOsA/cIAcQA4gB5ADyAHkAHIAOYAcQA5ckQOPpBT/3ZMBxO6ecQNqMAAGwAAYAANgAAx8EgNpz4qm48YRR9Nx4+ABOhgAA2AADIABMAAGPoQBNB03DzSajpsHEPDBABgAA2AADIABMPABDKDpuHmQ0XTcPICADwbAABgAA2AADICBD2AATcfNg4ym4+YBBHwwAAbAABgAA2AADHwAA2g6bh5kNB03DyDggwEwAAbAABgAA2DgAxgYNB35L3U/vn62//40CUf9/Ld9Px7bO/xVczQd75GgZ/3V5P16jubwe/B2For9vJ1lGXrekYG/mA///Xxtj8dj+/q5YlU+sY7897N9PR6E9e/vIa7O/hKXvNlYGDsxhgtLuA0GjjKApuPrse0tjFT8ZUP273t7PL63f0ej8MQ4r+ngxSktUO3f13bJWvUE9rOHzjcae4r3fmRz23F9+/VgoUns7uctHhNI3o+Bv5cP6UHX1/bzL23or6jlZ9WRa+vs/TLxOcR5LY/uLc6K4XOYMRoMzBgYNB2zIZ9+L09s/bRJfvPxWn7GTYcuVNyIhB6YSBeoobpikZNGTjomrPwNlNFZnr7t9t+oGZ2etck5S88I51tcvyCnPoK33wjeBbF6hRt/LR+SP7zmdA+9XkFo2EZeCxlreBgEHQZKo3nFF1uONVwCA69gAE3HXpZp89pvwmmRu2pHO8EYbTq2LS8Gj70Yb7XpGPu474nRhPDBrbM2OWfpGcB8j8sX5NRH8PYb0bsgVq9wA/nwCpY9G2g6PFZwDQyAgczAsOnoirZ8T7P+PENWQrLf/zZ+mk6v9MjXjzb/K1drY6qHFr/Je6LyfnqtSNkvr198/8uvYYj7FkPySPlh3qEdbV5H169OtL1NR/cEasIbcaNe0WpP28gvkxMp7ran4ZhWXSUufF1xbWKWbNRxjMMaMARnef0tzzbIv23ie7Xt5Ey9JzCRXYM/gl3JsC2jJ4RTjCGdrEvkOlEViJmhNE2I9o62E+MVPqlP+Vv4UzlpbHk5FeXf4nZ1GXuL9Oq4OEOnmgOm3nS+Js4MyFm8O77N2KR/ZL8ba7E9MX+WObMzLgor576YExEek4z6b4Vh4X/SZXER1xVXbF0kTAtbZGe6BmfPRrGuWCu2LK/wO7mXpcr/LUabL4ZPb+6wH9WuxGP1y3vM9YgDOdaMUz6s9JBwLG7si+Kcba/wyPu2hguMlic6ZxvFMWXfxiTJBOJiZZwyYmnEORhwGQg2HfbpRZp0bWNXE79moic/WCzFBBnpScWpLbRWNy+aDU/dZE51Zz7sJM0TVH6TkXxt51a+skpFosnV6xcfRJuOzK3Gl32d85Y3B3ocuVSKYg15uliuyU1kH9NMSH+9j2uSkbq48Cmbll8PVymqclzE9x6jxN54q0Xd5NsKe9Y/1xPGaWzrOVNI8rhxYqYptXHRcz+CT+vjPHk2p+a8cS7KmPO1Fpe5bz5u01h3/O3TmfmTXPT1puFtGwTp1yxPV2NX9kfzPxL3Ea712H0cRuZRkllxoeM9x7D2gRuOWZ6mWMu1LSMgf8R8jtuSuix+XifnuSYf1u3nLOHv7ZJXwdqTYyn9yJw8w4GuhQN82UyBWh5u1klmx8Ti1vuS9azwHPM1O+DnzjjmXBOrq0nNkzVNUIlDMNAxcLDp0Hoo0VXWloJbC+eOSVrHZBt2EqWr+lqeyMZ8mThtstEY54e9ta6MUy1OylXfDxJxNrZq6EUn46ZD/hB5X8R5cVjx5m86xjxYnu0500DXjXEdC5aUn2O7TaqXoSKu8uqZnLELULa8H3tEzw6cwj+f854X5syXr3fpN7X5cyKGjzXVT1rU2tzM16P4Irw9p6viVAfX6fS5VcbFSY9jHj8xtPvGL+ua2ndjFYu7jysy1o+x9KQd+7JkW8yJJs9HPY98J3/6euU9U77MmuOP17h8DFom65nbKmuiEdJ61rHW8pqNfObj1ZKe3+NxZFOsy/Y8zrfdF5SR34O3Hia5QRgCXLYHob4tj8/1tR3xFrxxDLT+VcyjcfFiyhbxCQb2MRBsOvgpSdrI2s1CvOBdMkmdrwbpSUL6dkRg9QpJokpN0mXjMJ6koafw+2ITkh43Hf0TNlVHg7z5TcegMGZC47wrQCYW5H3hm2IpmigzzhKlnxQ5hTfou5szgxxReRTBHtGzB6dYRF3c5QmkS527sWysZj71fMou6teu2rxzZJu6FGiVI/lWMKcivO3wdeibxEvHQXzqdaW+Viq1A1+UDDcKkzngxztpWcyfiH0vVnvy0iZccGw4LgMfds9HTTqdDTFEfAjh8tcThT1ii9cxw7Wnx4gor5V8ZiB/EzPJPaWATrwNanzuEAYLcg8Hog4mOL1P/jXph4dB6wnEbYdtpXuPr5Yna3OQg83XeFyGc6EpwxEYCDEQbjpYG00QKkJtU/sOk9SZfwyZPj2M6YY34ce6SrExhY0MLCe4gnPaSaTp6PxMF6J4J5sOlyeSn+dGxWMUqFjwhklx7Rf7jkzpGx2bzZ+83w1uF9ycGYzdjT2iZyDTEOYjbbvktOF2Gm8TM6ufz8mOnPtBfDy+fj6TUwObioOBDNkf+Nr5VsGWg1frJLNevennAGG38Y7Mn5lP7P/eWPE4rq0WV8Sm1SFzTtyjw4E+lQ8RLqxecd7lxsCmGDKsry4uw5GSidgacL1Xj5I/zJnTdMx8MPORMBg+prVLkK7x5xvRa0JN3hMYDFpPPwfTeC3Tn3sy3bUZVwIk2TIYd+ua2TJxYdNkdzYfWRCfYGDAwO6mg/SYZPUmgDsBzSRxZdQmMzJxnSLnOOthTGIaw1qXlheGvMVZ3L7qMNp08HuaLQRrXwmz61cea7+5SvKWnynvDUwxJb4KNzmW+fOLfb4n/9/kLJ4sFfPdx+6PVXZC2AN6Ru9HS1fDnMdjZtTrU+Wb74Me4Jw9lVO+TcV/4S2Snwqd8k3dSSzTa2ZX6By+3uTiabnNCN08DY31uWS99DmJ1RB3UeDiCua0wuD6whK+Dyof3PE9j6zR/VQ6fJt6nC+jcPHcndXBIF8e19qWj0diVvLKX5aKcObZydcic8fzg+deKN927x/Yt/bpYVDchOLWr4XJgtXTX/P4a9j4yMO4X1c8LmyXPt3cUBI4AQNDBmJNR1p4ZGE0C5E3Aezkyl/PtSfOdD91zKJI2DEJdeSa1U3eJoxWt/ShUGL197pSoW248/32JJ+ZHV3n+1d9hpsO58lV7ysRrngbPWXKY/0fqpU0E7/yguTdXNex6Asi3U85Y8Z53DK+9MqPt1hFfJ9iF+/TVlw132LY87iWS70efq2x5R/56uV2tV3mjMMRc6Ju0Vw2cZSEpvtyAMk3PBEepTo6HixaUXxx3oxf1teFbxZ3CN8hnY3P/EoUn+/IIxkjAh4b28dP17v5/GechankezgPJ2N3crjOhxgXKt4LDD1vfe1c4+rn91M1wOQA6RLx6DHrWGv5A5yJvLM1NzR3eL03fiS1PfYB38LfNE77lCPsXct3xH2DwY6xeOj+bfcz59ZJySWOwYBlINZ08OSlr9Xyu/VyTtKEkxdYXhWA8pSk6EhFiSaukLETO4GNXuOiVt8rF3qrHoOxXjeyVpcqoGkxEj8rwoR6OPnelZ/xpsMv3NZXuWlg3ORbiZuikLgQP2sx4kUNylpJp7necVg2pzWm/KswzTjGqT/LoimaA32f+RD4TR54GLOOdS7zZm2OPaCnLrgLnAL7GDdNKPFX6pNOs/mzJPEcHMz9JB7JIauWMB7MKfuzCl4tIXvR/Jz4ZnHzN4Y1rg5/0rckt0pXy5+qN4E5MIx3YKwXP2XfxF/6YnHb2jHEFciZfRwG5lGQCxnvFYaV/16ekk4xVz0Z0qtk1nPM47q31euRse7kD3A2/VYiOh9lkomArPju8HPuGi49OWEm7zkMhn7MOuf6MW+4n0mOR+Oyp05KQnEMBgQDw6ZDyOBQMZA3s7JYTwutGnv+idd0nG8FGsEAGAADYOBZBryN6LM6MR4MgAEwcBcG0HQciFT3JIqeFLTXZA6oPDwETcdh6jAQDIABMPBSBtB0vJRuGAMDYODNGEDTcSgg+duO/A1s/ppVf/NxSOmhQWg6DtGGQWAADICBlzOApuPllMMgGAADb8QAmo43CsYRKGg6jrCGMWAADIABMAAGwAAYAAOvZABNxyvZvsAWmo4LSIVKMAAGwAAYAANgAAyAgVMZqE1HOsA/cIAcQA4gB5ADyAHkAHIAOYAcQA5ckQOPpBT/3ZMBxO6ecQNqMAAGwAAYAANgAAx8EgNpz4qm48YRR9Nx4+ABOhgAA2AADIABMAAGPoQBNB03DzSajpsHEPDBABgAA2AADIABMPABDKDpuHmQ0XTcPICADwbAABgAA2AADICBD2AATcfNg4ym4+YBBHwwAAbAABgAA2AADHwAA2g6bh5kNB03DyDggwEwAAbAABgAA2DgAxgYNB35r2w/vn62/y4l4VV2mhP0F2HznxJvF83R8b8a+/q/VI6mwwTvl06P54wGvF/P6+eQRvweZ/t5ew/cQHENA38xH/77+doej8f29XPFqnxiHfnvZ/t6PAjr9XuIs/PnRB4OQzsXQ86b7+3fYTxy4LnYpGYcfwYDaDqcOB9dsGhyy0bt3/f2eJw12R2g20Z/W8Xe4cUpLVDt39d2yVpljf/i+TxupVguGs6j8Oe241r368EikNjdz1s8JpC8HwN/Lx/SA62v7edf2tBfUcvPqiPX1tnrM/EsHp5BeiYG+SD0GUw89kxsrBOfn8TAoOl4cwpoM3+s8NJitNh4Hluw8mTUT6HOnvB9XLxvOrwnG9yILFzvDTzBda/s4iuE9bG5Ppanb+69E2Ady5ne8Fl6es1vdOWCnPoI3n4jhBfE6hVu/LV8SP7w2tI93HoFoWEbec1jrOFhELyEAcqVqxa9SxBD6V9nAE2HE+FDCxZtavtGiHRdOOmjTce25cXgsRfLrTYdYx+9RswJ/eFLh3LGsXaWHkf1+1y6IKc+grffiOAFsXqFG8iHV7Ds2UDT4bGCa2AADGQGhk1HV7Tle5oP/TQ5yaYnG/w0Pb/So18rIn3f//JrEOm1n/IakrXDckqXeGWJ7qvXhtoToORSd99ssln/Rospv37kYBU2iSol3/BzIo02taPrPO7Zz71NR/cEauJXx6V9n9jkRIq7oTvHYxT37386ZyzngXha/jJmHc9tK18J9+DE62d9TDlXKg8CX72WcpH9E/cTLiVT5Hy8JQ8HenSuDnAK2zPcWyBmFqMdY2lc4ZP6Ok4O5FTH7Yi3iK9GpvNNgk/HRt7LeSuz0qlqneUjkEezeHd8O2BG9ruxFtukdtQYcWxEzSdKF2P3cqiwsk0xJyoeuXY4XBA2/p+JdSe+8sHGjutdxeXXJfKlyhQwC1s0hvWzj1YHpW/+uRB+7VauB55dxeughjFdXR2w+WL49OYO+1HtSh+e4UCOlTor+HZgeWBMap6wjoneNO4l+6IFBrXXcl73tv52cWRfayqaNcjEtZsnjVocgQH6kQD3L5LrRLRPL1KxbBs7klUFqRRTkay9TGZf2xEbtZq51jZV8u3hvNeadMkiygtXVSUXgXpxgFVg7xuH9ZiaW1QQ+m9A6v0nD6JNR+Zf44j4lQuQHkeQS6GrNKaL5ZqMwTTuKmf6OEfi2dHn4SpFUWKN+D7H3vK/LkYiZyLYs/65njBOY5s2FdJhER912YmZ5tTGRc/9CD6tj/Pk2Zya88a5OPd17puP2zTWHX/7dGb+JBeJ33Yez6Pc/ErMkbEr+6P5H4l7zu8e13rsPg4j8yjCheSOvxlutWx/3q9xlXVEJWlZA8V8XvMVWzdXsSa8wu5+zhKDNnaFVa8ud3PH8yOPf4YDXQsH+ETwPR48Hd61li+eLyXehmOtJwM5FQPb82Jg4hXmmXWa8fkBX6vNglYcggFiIPhNx3yi2glCminB9eLp/VC1HUvniyI8Wgj7mPZF3dobYjWTykBKFUU0Pr2disXZ8NZ7JxyMmw7+Fqc9Rdfmckznfo02iGN/iV/xNMWeM4ZQnFm4fo7tVhHnWw0qpDWeSTLmu4/dnwskq2w0RPnIYo/o2YFT2PZxW/sNny/P932c+W4MH2uqn2ru8NUoPh+P5v85XYxIf16nU25UtE3vrMcxj5/UYcfm86l9N1axuPu4ImP9GEtP2rEvq/OhSbcjy0W7k498vfLevHb64zUuH4OWyXrmtsoG1whpPetYa3nLRzr38WpJz+/xOLK5XC92cCDqYMLl+eRdkz7Y+/Y8qtcbp/cN3Jj0m3Q71p4fw+DkAM1vtn+EZy/ekk0cgwHNQLDpSG8V8NeyrZFgVTQhTMGz3zK4Mk5R8OS6CecuhAlNKW789TJ/CmyefhcrFy/z1SE9lWC99duWcVG1upmzsz7HTQcXkhY7QYP7mkjzTcTY5XpQnJJTRt7lm+OuAHkLxDqeHo/6aY1TaEMxLXgMxlE8uxxd5eKgGVV69uDkfB1wO2y0nJhZTodzP4jP6rM5ku8HcyrC26ipdHwd+taD3r6d1wdJzOR8WOfAF216PQdGc2xZDyP2jW+ELRh3F1dw7LMcqnmUQW8/X+ZBjPqmVbOezoYYIj4MuNW4/HVDyURsDea8p8eWM+m1kj/IGdcZ3cgG5/bAD665bX2ScWxrVY/fW1P8azMejuqlcZZwkxeuDPNga7o4T3gjuKwM5bTQo+zvyTWhYzhPJKk4BgOFgXDTwYxRktKmu21qVeKy4DOTy0xUO3H8TUsp4GIy1EVX6AtjZT3GD3ZPf3q2i0RovNa25yzSdCR9HYdRXJNNh6C1QSb5RW4wHqNAY/Q49RfpZrwcSd/ouC1MJCHvd4PbhUiusPRu7AMMSs9Ahm3ypxoz4JYXbkN5VmFixnrtJ9mRcz+Iz+px5+9Ml8Q3kFMcDGQIh9QlgHW+iXt0+Gqd2WjeKHMtktdEIAm7OM/QA/Nn5lNWkgqH+Ea3XIyMO5KHbFN8Ho2Lygd+ALDgUZhVhx2GiP8DGReXiZ2SGehRAAdc79Wj5A9z5jz5nvlg5iNhMHxMa5cgQuPPN6LXhJpurYzqsHJ0vvDFleF4iny1uhPeyLVOhmLB66FpBmdxEgR1Oss9ui7XBzEGh2CAGdjddNBAk5xuEprFimTsBHQmjifX6Te6PUzZwX6T2ulKgkaflnGKaFau/q/HiFtGt7hzymG06cg+yvfRY35ZbjLoPNb7TViWBzofxd1cV2NNjmW7fTx9Epuc0lmFY7772P2xyk4Ie0BP975sdUAdKNs8pwy3/AQyEjOl3J4o33wf7JDu3J0TWdcan29TcxDVZZAp38y9Eos1PjMuoFM/FRbj3bEtt1nSzdPQWJ9L1kufk1gNcRcFLq5gTisMri8s4fug8sEd3/PIGt1PpcO3qcf5MgrXYK5qGV+PtlU2oGbO79Wj5JW/bC3CmYc3X4vMHcJg/ODaFco3sVFPqJVPxQ3vGnvojfHkI9c8Gbuekkznb4/b0xW51svkGBKXaW4rvrzYSWbyca9TyLh5I+7j8OMZiDUdKTnlxDALESWh+qq6LzIkI3UU6m0Ce3JWxn/yMbCpcJXJrK4NxonJmL8+5KcDFbiasFmmPeHnzBpd5/vPfoabDufJVcQvn+v26oEKKeWFbGz8xTD5vI7zIC4qdmP2sm/5a3hvsYr47mGs2Lv3kOVv9IhhJ/1TPczzPPfs/BjhZk5WMVOsLuZ+hEelL50MFqYovjhvOhe7xnvhm8UdwndIp4xv2hTw+Y48UkFNyGNj+/hJ+6tYMc7CVPJd1M15Hk7G7uRwnQ8xLlS8Fxh63qio9f7vnN/ZF1lLdtQAkwOkS8Sjx6xjreUPcEYE5nG25obmzmBdSGp77AO+hb9pnPYpR9i7lu/49z35yDWSUevVgFMTNw93xF50HNXBr5/tx/7inSM8L+aJ5BXHYCAxEGs6ePKmCVT+yXlCE2Lx6/pYxtJuJ5MnZ2WSDrpmsZTNDGNMjZLVl85TQeQiSLKBQqXkk10zxj7BYD897HzvjM940+EX7qVfI65zEGo+ZM7NRoLHymQpTtu4ZHWG10A8xxyWAi8WfSu78t3DmHXkp0WcZzWfZE6EsAf01IWgzT2bezbHxrgpIMuYWZ5I32DuJ9kVj1ZfOpc6VXqkRUzY8n5LXX1tssi5/GcjS10SR7KrsPjAT9dp+VMbtkAeDeMdGJtcnNqfxMqOc/NyQGhorMiDgZoSocA8CnIhQ77KjZUPXp6STlkn+GHQIpdXtrwc6G3NY93JH+CMm12Vw0xqYG57fvDwEAeK2zdoOs7cFx3wrYspkclrY79ep9t7eSYb4bnK0cTnpzIwbDr2EDIrFHv03FvWe8LjXTvXS6/pONcCtIEBMAAGwMAZDPibwDM0Q8e7MYB90btFBHjegQE0HSdGgZ4QyKcR9GSnf+XqRJP0VdWZ+qALDIABMAAGrmEATcc1vL6jVjQd7xgVYPptBtB0nBqB/M1GfhUgf+Xvfs18ok1803EimVAFBsAAGLiQATQdF5L7ZqrRdLxZQADnLRg4pel4C08+FASajg8NPNwGA2AADIABMAAGwMCNGEDTcaNgeVDRdHis4BoYAANgAAyAATAABsDAOzFQm450gH/gADmAHEAOIAeQA8gB5AByADmAHLgiBx5JKf67JwOI3T3jBtRgAAyAATAABsAAGPgkBtKeFU3HjSOOpuPGwQN0MAAGwAAYAANgAAx8CANoOm4eaDQdNw8g4IMBMAAGwAAYAANg4AMYQNNx8yCj6bh5AAEfDIABMAAGwAAYAAMfwACajpsHGU3HzQMI+GAADIABMAAGwAAY+AAG0HTcPMhoOm4eQMAHA2AADIABMAAGwMAHMDBoOvJf0358/Wz//TkSXv9Xw6+kEE3Hlez+bd3468h/O757vfuL+fDfz9f2eDy2r58rVrIT18n/fravx4Ow/s11d2823kcef3n8PrEC0t9n4OOaDlqEZDP173t7PL63f78fi0MIvKaDF9q02LZ/X9sl6+4h1GcNKou+8lP6/Nge33eN7FkcjfX8xU3m2FvcWTHw9/IhPWD62n7+pQ39FfXvrKaj6EGtWqXoW95H0/GWYQGoN2Vg0HS8KdqnYeXirp96yW8+njbwcgXjpkM3UtyI7F7XqCm7YsG+gKo7Yd3r/gW+/b1N5l5SL5K/IFYXIVVq/1o+JH+41ncPm5Tnv32S1yDG+ttoYH8fA2g69vEF6c9m4LOaDvoKu99A37loRJuObcsL2+4n/3faQN0J6966c4Fvf22TuZfSy+QviNVlWIVi5IMg46WHaDpeSvfJxu68fziZCqgDA0sGhk1HtwDJd04fj009MZ/cS3rSExx+0p5f99FP4RNKsidfk1EGsh9aR3uKVb2kxV68XiNfo9q2gqG3nfX216veNz7Y23R0T9MmnHUxqe9G+68D2Jyh8+9/LbYlHnxdxdPEapvk1DAck80e26TPlGdkL+YH2Zvw5OJZ4d+hr2IW80PF0dhKc8yZPi0OSQ/HZcG7q8vY88Z8pM8AACAASURBVGwpToz8GTpV7tS8bFY7zgxIPx/y+NXYJDWy34212BZxn+HaFmP3zhmFdZAPSqbkTWPZOTKxNrSnQi9e+eR5qPUom9//Mtc1T8+bs8y1imW10zCp+yaepMOMUfhXnFk+jH4bU2/usB/VrsRj9ct7vO4yx1xfWEaO5WuNlv5IyidddswkNxL2l+0TDA6PU8t7l8fCe+Zf57beT7CMF6N6jfk3xnisykPL7aQmVagn+1314gAM7GAg2HTYJzGp8POkmt0TzUSdSGXREJMmTSpvE1WH1Aklv6VIetp5npCMKTHg2+kKYRKlYtl07eDv10WjTUcubNrHCGc+N4VbGSBewExcU0G3367UIlvH2xyy58mejO2A9kkce5tJR8yPEE8K0hz/fn2THC0LfaUy4SjX5JzK/jcOMwazMQjpmvumaBBY5vj26czYZS6nOLbz5Kv0nTcQEoOfD7lercau7PtzhhuVFoOaf4E5s86ZfRxG8iHCo473HMPaB14vGkd5jMzT8+ZsnwMWP8es5VaOWTsnHSZ+q/zRnNEk2b5tsxGeO8xZX2fjfMuxmQNdt3terA9rW1aHrul9LEqcd3KbcbT42HhxbZS1gK+1uM2xWt+j2DWnWUsa2+zSRod+oYDE1+u3+NZ5yj5KvXyt2bd6dYys3zgHA0cYONh0SFM2UeW9UhBF4aC7k81hHm0XlnzeJoe2wa8OqQmVRJQdq1PoKE8AuvFC5F0Px02H+MbH2fjHOLMcMgs+l1QcRaxzsWwbCB5N1w3Zeuw8p1hP96nire/6WCJ+ZCwGrsktbYu59fP1iL59cUhotL8+n5pzn4uoLstAPr9Op8+tj6Ju7kUQNT+jcem69SGfT+27eRiLu48rMtaPse+ZL6vzwRtpubAyvt4sddwHjcvHoGUitsocETmRcGo961hrectHOvfxakmPt/E4sil++Yk9z7p3cCBqdhrr+eRdaz5EbHk+Cg3fsrEs19151Mb03K7iFeV0jlUiSMcuNwa7HyOrKZ33GGnsU3na62TLGtc+v1kHPsHAHgaCTQd30mkjK58iZFP1aZRzz5sw/ZPHMin460X+5Im2agqcrw3pqQLpYbzjidfj2UPh78qOm4622ef4MJ2EOMQZVVQn5j6XFGuxgLmx5yKtwPSFmzF7+TZk3BR6KedjCfgR5UkaowdW+Vd1dvgP6tMNNBsbLPbptuSi2DSUm8UyqGvmG8OqnxfoHPhSTdLBop4McjDrWIyN2JfcM7Bg3N08DY4Nz5mBD3b+1g0Q12P+tInEPs5yI+JDCNd5c9bjWnEwwCPcNXMo3Vnkjxxcj73NXnzueH7wmtbWQfkQitfEvu4mSIqDgtG7VuFHYjvLDbZp86rjf8FtJ18Rshf0jZI1QzfNnA3PpSB2N0ZkeOHTQL+Kxy/5bdnFORiIMBBuOlgZJTstPm1TO7vnTjY1ScqkE5vVWri5Oih5tiY+V/dJ1LNTdITGC3tvdBhpOhJcVaTShajPphhn1wuXHJ/Ch7Xhxp6xLMYWlRn3IN9Ypn66WPNdH0vAjyhPFYQ+ILsS/1F9nm8zXSRf5uhATsVrIEPeSF3Cvc43cY8OX60zG91+vuxT0z7O03x4phYlDHtjJXhzcc14FGP58GhcaFz13auXPY9s0352GCI+DGRcXLP6MdDjYnxSj4utcpgsRjhzmo6ZD2Y+EgbjR7S+a/yZoei1yucMaxVqB6Rf1sTBmqB9COTjCsfsvuGU0XpY+R5/ksyCf1eGc2ORL95YusbjZn4lkLP7T/jN/uMTDOxhYHfTQcpnSWzuqcnByOSibOSziC3UTlFmXfS5up+FXSzplsSj9L7/SbTpyD7KHzCOcTbiZlkIRwvJ4PowNikEbo44sZnE0cObNHjXNZYgTw6ceknhP6jP9S3rsj8zU/3iRan85jL7SpDn51pX9SofKN/MvclvTNO2zbiATutL1eCOtfXEj7ufZ3ZsIH6TWA1xFwe8fJy/rlc91wcuDyzi+6Bi4o63XLC+wafS4dvUI30ZhevEOetxrW35eCRmJa/8ZakIZ56dfC0yHz0/ojmj8BfI0WvsYdRWk+9rumdTrT0hbj0epdU4p3KUXxeaxBL7IGd9vX2+kH7T1Gibv+N3YwBHYCDOQKzpSIuoTHq5qM7u8WRLTzXqeDvx7XnZEKgx/HpX+1o4P0Fq5/nr0HZOFCRsdePFOvpvaPLY/nqcxt+TDDcdzlOVCGd+YWQuG99UBFPMBN9esUxMeddVEV3k1JBtmZdGyLOZRCwHJGf8sDKk2uSWMrfAv1tfBtr9gGHDL5tJIph+Q1Cdcsx59x64jlfGtdC18E3xUPm9QmfLPV0LYvXEz4fY2D5+aaMg8LgbpD7XiCuTRz6uwNidccl53mpen/cxLlS8Fxh63kqu2poRytPGd489wBfPCTlJ+JrA02PWsSbbVf4AZzkJ3B8kD81Hxmz8SGp77AO+K/4cTe3T+Fq+k/+/tLXIjRrD6ofl0p4/s084tx6tsftrHjdrbW/k+0T6Ky9+PHr+dZ6GcmkRIxlvHIOBowzEmg4ubGkzVv7JOVAn3eje6FfyMeqySLPuNAm9icYTh+XsU0N7X26AyVSaVKOfOzGFl6G9+2e86fAXoSVnJvYt7uWJTIl5igXpEjx6MUx8etfpmh07yLdhTAbxHdnMetZ+JLkITxIX+TPBv1df9cGZY/wtFs8LL8frax6TeBF+4rDNc0/XyjfJw1U6LX+qFgTqiZeDhDUwNslN7XOOO7Gy42yNGuJybLpjJzmn4xLI+yAXUu8qN1b+e3lKOkVt8GRIr5LpY+Ty1QoaudHb6vXIXOvkD3DGm0+pt3IanY/GDx6/4rvDz7lruPTk2AZ/hmwN8pP0n7RPIF3CTsdrlFOhY0AvuZ7sJRvKf48/T0kgX5gb5jl90jVjQ9mf/Da02TphufMgSxw4BgN7GRg2HXsVjeS9CTOSvf56flqii5B37XokZ1nwmo6zdEMPGAADYOC3GfA2WL+NCfbPZeD0fQJt5tu3YeeihTYwAAaOMvBhTUd5aiWfENBTj/aawVEif2scmo7fYh52wQAYeAUDaDpewfLv2ji96SivE+sHjL/rI6yDATCwbR/XdPBX2flrw/yKwZ0LE5oOTGMwAAb+MgNoOv5ydLNvZzYdpItejcI3HX8/c+Dh3Ri4vOm4GyF3w4um424RA14wAAbAABgAA2AADHweA2g6bh5zNB03DyDggwEwAAbAABgAA2DgAxioTUc6wD9wgBxADiAHkAPIAeQAcgA5gBxADlyRA4+kFP/dkwHE7p5xA2owAAbAABgAA2AADHwSA2nPiqbjxhFH03Hj4AE6GAADYAAMgAEwAAY+hAE0HTcPNJqOmwcQ8MEAGAADYAAMgAEw8AEMoOm4eZDRdNw8gIAPBsAAGAADYAAMgIEPYABNx82DjKbj5gEEfDAABsAAGAADYAAMfAADaDpuHmQ0HTcPIOCDATAABsAAGAADYOADGBg0HfkvdT++frb/DpMQ13H8L87+274fj+2v/HXxI1Sj6TjC2vljjuewxrJfT3yeaUs4e4aB/36+tsfjsX39HK+QY/t/JaZ/xY9xpH77zv568duIx/bznPre/o1FQnf+EichhyEEBm7EwK2bDipSsjH69709Hs8XrRvFj/62isXLG6K0KWr/vrZL9kfW+C+ezxebsgHKHerpKOe24+b268HGLs7uWZLpYcfX9vPvZ/tKn6f3HX8lpn/Fj7Py5nw9++vF+RjO0SgfID6n8e9w8hwPGA0G3pGBQdOxEypt9gOL70DuWJHIC5p+0nhe4drJwK+Je990eE+MuBHZvecexOzXHJ4ZJqz8zZcR/C9tEAf3jOiR02M53Fs6S0+vGVfOYiDFiOtO9+DjLCPQAwYCDNyuXgzWE5pHcnEayAUo2W7HScQpyICBP8LAfZsO2kT2jQ4VHFm8/kigRm5Em45tyw3ZYy83TxT/Eebrro999BqxM3GctdCdpedM36ALDICB92TgdvUiup5E5Zyw3I4TxwdcAgN/lYFh09FN3PKkmF/X4b0ryanXeNpTQKkjKleJpqIjXg+Sr1Ft2zbaRI6uV71/7GBv08FPaCsNE55nMaPxJidSbnBesH7S8f0vP31KeVLiyNdzvEqcTYyTjg6DNcCGymeWt6/Yldc87NiJ79W2g73e47xnGYM/gl3JDPRsEZzCNulkXYJzoigQs0Jl+zBjLI0rfE1RO1J+J4yd0iZLRydgUDa//+UaUnnzc4TGVJmCKRIP1s85YnXUGtZqnJybnl2F/yWcFU7Yh/qZ5leML+sHnY9y04R86e8qJ4S+qd1FPDf2tfrPMct1Zqb7TB+SO0of82hza+mPIIZ9M/OP7Ai97KNbr6U9MUZa6bAXLjnnpT3lo5I7lnOEw+SKt1ZZvDgHA2DgfAaCTUd+gswFIhdhsbGjojP41kEWoaBc3ziUYiN0ySKlaBnYUDJ/6CTadORCrmMU4TlvKPU4oq8sNGqtKtdanohFUgl6122OZRmpaysLh1Glo+nhcsZFfK+LnzGYr7f8rwuxyc8V9oieME5jmx4OGNzcHKjLTswMofTLGpovaS5a39t53aAJPFrfkbja3NiPYc11bEMTjkfaLFWiLX5+aCLnVbLfzgmv4DCdtxhQx7J4XdDa3MtZz4fmsL+f4uzh5gcN9b7ixmZHPl/7O/fPas3YZUyyxDqevZ+aB6+WXelDm2te3Vn7Y5np/UsSbhxV3DL/us7YmFhbpHh7OD8HZe35684OrGLuHKt7DnZcAgNg4GkGDjYdxi5tXNqCyXdjhcQWuFy46nrdlIli5RcfEnU2mKziL36Omw5+Glc+e0LFb/4SzNhY2vNM8vbz1S/g6Za/ILeFki2RnMHU5QsL189J3CcytBDLRai8ambMJ/Aix3pfsgl/Yd2PPaInMhfs/BnhHnNnY1appAMfp+RixaPW552NsUk7atNd1UQ48n3QMfMxaJmIrcK/IUXrybZ8f4rH3+1bweqqOvDxNhHf56I9MPcdX9X88O1rP6O52VCPj6y9mX+9FsLV/ZIRx8c0VPnpyKj7o/nWY6gNec2NPT74sppvB2vnj8Vlec33td4+jlltn6N2nLWmuW13u3GG4yx5BKs/puLvcqJhwhEYAAPnMxBsOvjJXNrA9s3Fc4XEFDTna1B6mkJfs7LtcSEJPQ0/n8df0zhuOtpGn5+I1bUuoQ3xbBdgdnOwuKXbZrGgxUQZzjq8693Cw1/9U+xFE+XoY2TpUz/ty7miNnhB3z2MzJuFsBv7oDlWevbgFE2Vi3vUaDkxk1w2Pp25H8Rn9dXN1464cg539SeCIcI155oJ7OF4BPQYEUWTskt3Ss17FWcOH4SpbtL8Gmxxu+czxysLa3+HOVF1tAPCYe1GcmfJQ1m/rO5gzMI+RHI45E/jJB8di2Maa2M7uqYsmvWB73W6XLkjWONrFWPBJxgAA9cxEG46GAIVB1r42qbWbjSVrNgMheQGxZV15s9SfKRuFgiNZ+H7f0aajuRlV9SjPHnFfzaW5FtukF1nQfaua4xejP1Fp4uixEfH3KwWSXm/G9wueBhjTUcA+wCD4mAg0xDmIzWGY205n+kyMbP6+ZzsyLk/08mDus8AN92YduEQhgFOzZufW0pmoKehy0c0xvC/V4+S542vqnc+XoslnZOu3XEr+lWT0+Z1bRxnfrJtgdvjpse8L0c6/3qFmQODdTSX9fAVD6Om42QfBrmn8mQgo/2xZwWn4UbpdeKYtFiZ0TVl0VtPPF2u3AGsM06CdU/hxwkYAANPMbC76SBrdiK7BcIpSiE5/2tk66VX8EhmYMOO/yvn0aYjN3zyB71jPPuNYh7b3llvbNq40LlZ0JK0d12NtTlGJvxFp1nnoyandPLt8tRffftR77UDDyP/FjA7VtkJYff5V3r24Fxu7OIxaww4R8o33wdnVLukxvPlFi++Mv1UOiIYfBnNdSAn98TD5Ly25eORPit55S9LXcwZ2TTNOpsun4Rx6me/BnhjjNr6LaxWvfDX5ahp9u2u45Abk/08+A3NMz74WFWeBPOzsZKPPG603j6OaaSVGV1T9gbrc6drJqcTo8OhdWXeImuVwokTMAAGLmEg1nSkAiAnui0Ig4KvJ397pUeqSl5ZufyVsyn0yabYWGUZ+eQt8zO6fgl7b6A03HQ4T0sjPPuLJ7/CJJsYCiT9MUIZX4qtvFA4867rPOgXC7qfnrw6+mwosm/5lSzbICTZiO8exjQ242i5V3HV/IxhX+vZgbPaLvgcjpgTdYvmsomjJHMx9yM8SnXctMkYVv4UMDHqBAxHuK64BLcRf2mc8YWuTfWkDWmreVo+lk+CsZQEep5QnJv+tR/FpvqmQ7/Db3V4fGk/xrmpsJfN8zRHFv5pfWO71gcal3TXWK15IB9NvEN5fsSH+npb8SnFp2KN1QvLjeUgEsekw8Z2dE3Ze3KvcARrHmNqHM0Hc00BxQkYAANXMBBrOrjAiAXI1thaqMSvTR0WpaKHdXhyXCjqz3OIwkpEUNFoiyiT4+nie3/xM950+AvSkmcTe45Zi4H4WQvn530oHmpQjoJ3vYtdWaBqDvCviHT09bHlzUJrDqzMyncPY9ZRnliWPE5NDemSORrCHtBTGyTBs7TD8RHXxrhJWPyVeufnNCxJrH8y91c8dipD3OhR5NNTGHquu3zjxnwW12g8TI72tng+trjK5riTfzlnmS/tRuGw5lrPqZ0H1g8610p1oPks4C/pmuQEq0qfM7vz/F3zMNR9sg/1lbYn81Pyko/3x7FyWnMhayIuzDVrT8aNU8Eb58lFOPB08Tf9dS1x1iqLE+dgAAycz8Cw6Tjf1Nka86ZSLtT8dElfO9vue+nzmo73Qgg0YOA9GXA3J+8J9eWo8ka8b9hH118O8EUGR/6Orr8IFsyAATAABm7JwI2bjvKkUD5VoW8/+oXylpEJgkbTESQKYmDAMICmwxAiTvOm2r5+Ur495MfTQv6vHoKHvxpZ+AUGwMBvMHDrpoO/2chrYP6K+JO+5UgJg6bjN6YNbP4FBtB0zKPIG+72Sor5A4Xz4X/mLnj4M6GEI2AADPwyAzdvOn6ZvTcwj6bjDYIACGAADIABMAAGwAAYAANTBtB0TOl5/5toOt4/RkAIBsAAGAADYAAMgIFPZ6A2HekA/8ABcgA5gBxADiAHkAPIAeQAcgA5cEUOPJJS/HdPBhC7e8YNqMEAGAADYAAMgAEw8EkMpD0rmo4bRxxNx42DB+hgAAyAATAABsAAGPgQBtB03DzQaDpuHkDABwNgAAyAATAABsDABzCApuPmQUbTcfMAAj4YAANgAAyAATAABj6AATQdNw8ymo6bBxDwwQAYAANgAAyAATDwAQyg6bh5kNF03DyAgA8GwAAYAANgAAyAgQ9gYNB05L/u/fj62f77cyT8274fj+2v/BVzNB1/LkFf5hD+IvfLqL6Fob+YD/zXxL9+rljJTlwn//vZvh6Pjf76+59cd49OgTXHfzFvj7KFcWDg3Rn4uKaDFiFZ1P99b4/H9/bv3SM1wOc1HbzQ0gLGC9nja7tk3R3ges3lsiBVH8uiLc9zd/kaODezgsX6ZgG7GO7fy4f0gOlr+/mXNvRX1L/1hjgWsqIHtcqha8ExNWtXxNaBgktgAAw8zcCg6Xha75sqyAVMP/WS33y8KewJrHHToRspbkR2r2vUlN2kqN8J6ySm7q0LfPt7m0yXuddfvCBWr3Dir+VD8odrffew6RWEhm3kNYixhod9vKC3ngdIuen8DHgGETDw9gx8VtMxeCpCi+3u3fh7xDbadGxbXtgee/28U4G+E9a96XOBb39tk7mX0svkL4jVZViFYuSDIOOlh2g6Xkt3ervhJg/SXkoMjIGB6xkYNh3dAiTfOa0/E5EA+l8N2/HpPD3J4Sfu+dUf/TQ+IkOU0KIuXqWRr0tt20a2v//lz/SqTbmfbWub5MHP121fsdrbdHRP0yZcEo/yVaUHPzmMxzw1OVVPiQPHR+WCieE2zLfJpJhs9timxhLzI5JzHaoV/gnvVlfFLGKh4mhspbnl9ZZKD8dlwbury9jzbCkfjPwZOlXu1LxsVpWviTcDku4zB6JGJA2rsUlmZL8ba7Et4j7DtS3G7p0zCitzYfJByTg8NsbLkYm1oT2Rm39ugXPZ2Ov4//6Xua5y581Z5lrFstppnqn7Jp6kw4zZxZnlw+i3MfXmDvtR7Uo8Vr+8x7nOHNuYyLFmXGMnHzEGxRWPWeipuNm+SRq6z7qC+w3LG6vsbB3ge6TbcoJzMAAGegaCTYd9EpMKP2/eY4tAnew8+7l41GIiFvuJTC5qbDs5VOxP9WTHdfESZFBRvOeTj2jTkfnXPka4zJsEPa5yXuPk89vHXMipDYzNL3su803EzR5O4uhjieVuiCeFZY5/vz7aHfhP58qCrkJRrsnGJPvf5k3G0Bpygh/SNfdN0ZBOLtCZscucTHFs58lX6TtvEiRHfj7kGrQau7LvzxluVFoM6jwK1K51zuyLSyQfIjzqeM8xrH3gNaBxlMfIPD1vzvY5YPFzzFpu5Zi1c9Jh4rfKH80ZTRL65SZqXHjuMGd9Yx3nW47NHKTmpjXqPS/WhxGXKz2RHNMcR+Jv8aYxLadG8/OKWmV5wjkY+HQGDjYdkrZIESiFURRn0kAbknEB72VyMZGbh16Gi7AoMiTk48y38m8O6fTSzff+37jpEN8EqQWE/Ylx6Rdon0u9OIziUK4bsvVYu2gw5sWnyScpTfq7XxgQ8SPIkzRWXmXrNhEkc0Qfb97bXMnmfPzpnvbX51Nz/pwu5X49uU6nz201bA56HJofI65O7dh8PrXv5mEs7j6uyFg/xsqVeuLL6nyowuLAciFu0aGvN0sd90Hj8jFomYitSB1ax1rbtXykcx+vlvR4G48jm6KW2fM434UDsy57PnnXpA/e/eg1qcfjS+vxedEyHp/Cijs/fb1pFOmufC90CzM4BANgoGcg2HTwE5+0kY1tfHQR8Au8fQJJY8xmVMmYr+7pKQp/JStwuXpmxb/otaZ7ut7vyrjpaE0XPy1U/gW5fLrpUEYzf158bL4w5j7fJjFwF5OxTW+BS9IKS5QnA2uI/6A+Pw6DzVV2os3VQX4rP0uj5IQrEdJ0qVeLbC0wJFyhc+CLtlw2ELU2lAZcOOflYNaxGBuxb/givcG4u7iCY4c5p8lJxZx+PauggyR0PqRLCy6s3lluRHwI4fI3hwp7xBbPc0OCp8eIKK+VPN3Zzxn/vJ1uZINze+AHx1ivkfwgqs3bHr+pf8VbT04S4d2PXVvzpfUE4j/LwwTam59X1CpJEI7BABggBsJNB/NFBYAWc97UxooAjbPV2ywySxkjz5jsp6uHF1DzVIfGBvVaO+9wHmk6Ek7iRPoe9dkt0E/EnLGYXOjwFXLpusq3Cesu1iw/zYkZlihPA1gd/qP6PN9muki+zNGBnOJ8IENuSV3Cz843cY8OX60zG91+vuTrOOlin6/TfJDzxI6d+cT+740VjxvMDd5AmjQVo/Th0biofGC/Z1xos+qswxDhbSDj4jJkKJmBHgVwwPVePUr+MGfO0/OZD2Y+EgbDRzRnNP7MUPSa5DM6RsuVebnIMXeM8VfLNGR03a4fe+en4Zu1u7r5Jj7BABhwGdjddJAWUxBp8i2KgFsUzORfyzjF2XHLw5PEXP35hnqS66h820vRpiM/3ZE/YBzj0n8qVLiMxNzI1DiY68PYpAEm34bBMPkk5aY5McUS5Ekas8cK/0F9rm9ZV3v3uhnWfPo2PZm1rmaDjpRv5l55eniFTv1UWNh18QSbjtBYn0uBYPokdYi7KPDzNGBTAVjNGV+fyocQF9aoOVc6fJt6hC+jcHEdP2HOelxrWz4eiVnJK39Zqs89vtM+PTv5WmTueH743540i3yk8JeL0WusI31Gxyi5IF9qDNuaxl8ic+bCU7V0odvcxikYAAOagVjTkSapnORm0uav9c1XtunpgniCQYUjXat6+qIakbG2yJ2Ex9qqdprDeSx/Q7O+3iTe9yjcdDhP4SJcjjb8dmyNXSAOJGviQ9d47CLfhtEweSnlPJvpfsQPK0N6Tc5JW9SoSf8Mrt36MlD3lZisSzaTtCrTbwjSENKrFS33vXiFdO2MzXU6W73J32TweaSu+E0zb9RajSpyqm71OaPtO5uckhyRuEfztMvBnXHJ8Z/lQ4zHs/N+javnf5zLnBMFpZmzHtd0jeuQUx9srLX8Ac5yIN0fJA/NncEmPKkN55vwN43TPmXuvGv5zvi+N0Zfi/Glx/R+0X2531jNBbfZYb2LWrrSLUnBMRgAAx0DsaaDC1Ga2OWf3NDU1xfKvfQ0jwqeKGZUGEa/mq/AisgkUS7GjEU2HOk+6+m8TQVD/OwH3yd5gZWv3+Ez3nQwb3ohXnGZOCB+uriXJ3iBmFsevfjYGEibKc4636zGcj6Ib/XBVbL2I42P8CRRrfDv1Vd96OJAAarzMs8JHeOMK+YnfyNW59ZovhQcodhQXFrtGM7BHTotf+obhLKpqD7wr4MV8fdykHgKjE1yU/vDOdOPC9cux6Y7NsxhIB+CXOT8yv9/Pu97XKRT1edehuKhZI5x3dvq9chc6+QPcMbNrtRbOY3OHZHbdWw0ZwxvnU+cz0ZO2omO6eQCfHVj+AFayfXhfmMyF0hnua+oi/I90S15wTEYAAOagWHTocWeP6NJrmZ3rzMi04/acyU/WdHF3bu2R+fvynpNx+8ignUwAAbAwHkM9JvO83RDExgAA2AADLyOgQ9rOspTK/nEhp5stNcMXkf9OZbQdJzDI7SAATDwngyg6XjPuAAVGAADYGAvAx/XdPBX2flLl/w1vf7mYy+FvyuPpuN3+Yd1MAAGrmUATce1/EI7GAADYOBVDLys6XiVQ59mB03H9eM9cwAAIABJREFUp0Uc/oIBMAAGwAAYAANg4H4MoOm4X8wUYjQdig6cgAEwAAbAABgAA2AADLwhA7XpSAf4Bw6QA8gB5AByADmAHEAOIAeQA8iBK3LgkZTiv3sygNjdM25ADQbAABgAA2AADICBT2Ig7VnRdNw44mg6bhw8QAcDYAAMgAEwAAbAwIcwgKbj5oFG03HzAAI+GAADYAAMgAEwAAY+gAE0HTcPMpqOmwcQ8MEAGAADYAAMgAEw8AEMoOm4eZDRdNw8gIAPBsAAGAADYAAMgIEPYABNx82DjKbj5gEEfDAABsAAGAADYAAMfAADg6Yj/6Xux9fP9t8uEo6OS0b+bd+Px/ZX/lL4LtqeEEbT8QR5vzQUf2F5P/H34uyZOrifmzwi18+vn30VO2LtddwX3vIiEIG2X+a/n+3r8dge6R+tb9fF6ghvR8bsJ+H8EXfFfT4T0AgGwMCMgbdpOv77+SqLQIH773t7PL63fzP0uEd/W8WloSyuV67frl1cXDKABXpJUSdwL86u28h2xJQLV/JzpW7pD60Bl9Z8r6m5LlZHeDsyRnL4W8d3xf1bfMEuGPhUBgZNx6vpyIVfP6WT33y8Gs997A2/6biy6aCG8Gu74KHqfYh/AuktF+hfjvktOZM5ciV/NNeve0BzCvdL/1O9v7qmXPdtkAw1Hx/h7cgYtvebn3fF/ZucwTYY+EQG3qPpoEWzX3CokOFR/TQv0XRM6XnLm7dcoJebxmupviVnkpJf5k9C2Xt8Cvdv4T+ajr2xj8qfkiNRY5ADA2DgtgwMmw63iJSn5/Q+bHkv1vYEdhydf//b8lfn8l3axtnoa/XR9TYSR/Gmw3u1YNv2xovk+Z3o8im/oeru2wQZhczkVjeMNi0lf+r72CNl+XoIi7GbcruzbWS6+xbGAqvlnIZHxozmkRzr/RyWvO9wR3hGutNPW30L3p2Yb4afMzhUNr//dXka4UyH5YT8lzx6PAuDMsbKF48/qXcSn6pH2K7Xit6HSM58r/8GhK4LHVvEvpQXfvLhGofOIVkzVvbZhvqM5JwcYH18PDbGYPmg88l8YLUzn5OM1cvj5KfSMchzJZPiLGIsdcljtd4KX6tMgD+yy5hMXipMLGNyRMkEcVd8OAADYOBPMhBvOkrRVvWuXOPinRiiQiOKTy08dWD/tMmOqUyT/v4bkHofBzt+pmPHpkstEH288iahj0uKo8wF3ozW0A/jZW0krG2z1DefxReRZ1Z1CEsop+fYrN0IVpvv4TFOXOgBQCXYYt1Ks9+43LaeO8Lj6FaxHM3FCzjMeBrmuoES8Y5wpmPzXP6veNa2+jo4mjMRP/r4ZGvpuopR2Ui2dEg/F2ebaJ0jYfuCe8/XKY40YJA/EfvWHjcp1c+q3/DRD6RfVqKwPrFmKT2We0evhRPJ82WMrdKN57yszyn3xXlozpYcVnUhG7sKt+MKLoEBMPDHGAg2Hf6CnbiwBYjOxQJF52p1sAvyWHd80/rHorLDnau+6ZAQbExHGwg5Jh9PYquE9UZI3VK/1UzcGWxihIQ5tFjseRPXOT3D1sbkoyxr0r3bcGk+j4wp1tI3EGKupauHdRvQWg8p3h7dO/fXcag2dAf90tHxsVo/7XnP6Zh7aa/T4+brjtiHfsDa+pjPFZeEgxu6Hfb/Z+9MjBvXYTDsulxQ6kk1aWaL0Q5BggRAUIRkybbs/83ssw4SxwfwgKwkJs+kr/2xtWOUPzH9Wr4juzQg5qucsj7Fo8utMoZm40Eblbb6y+9dfwvR5YDqE7NFdaGTXo9uk+9bH1ubcX/Lz55nGWfZ3SzEEQiAwOcSCBYdg8UhcTGLqZ1o6Xx1Ah9Pgig65on3XkVHiWV6Oib/cfwpV+Q93vzw07l0TzyRS+47rwE02aatwjWxZVTMODmdn8Y6til9cVvVGAn6p/oUvdNrW2RzjEayzTjPzeLzwlaGxhxdTAX90uHx5xnL0J4nGdFrUl/Xx+MX9INkWSCkbJbjZVyJgkHJ2qJfyJB+5uO5HXadyOaLX18r5ws6Ho3teM71dsY2zIpREdLFk4sMa7eIU99HWFTYi+Z0s+8TYCvE8nxp5bYmcX4eh5H8h+1uBuIIBEDggwnEio7BBElcaDFtm0c7+XgTl25TJlVvUVvT+8FB2eLa+xQdXhzLtfEK2LlKuUELecmpXTkQsGVNrslpNrKzjW/w55pMbmM3sXv6FFl6HOWL6toW2SZGSk4SvbJpNl3ZEPdXXu9lqOwJ+lUwlQ8/F5VcG5vS07ZJl71rUl93fys/IYxkdZADOZ5kECvewJsNZ5Bj54uwrT7hV/O3w/oB/7W6XKh0OFKjwbht/Y8qOmLsV7kN2Os+MT3NP463faVOtBjopRaGn5t3g/4P2y1MxCEIgMDnEogVHeWpsPcDbHqy6Rdjb+Ka9am4vYWq3sRBIhAvOkpszGrtxmLSJr4BdTYfkbCphc3fKKyKUf25pbUly43kNEugT1c2t4jZqpnv6ZP1aTnetQ2y98R8w7zAhOhzB0Pta8wvpZMLhYmfWo/HdHxN6uvkuHNZzA+SZez2nzjbHE8W5Wv0uk2yQRUHG/SrfsJTN5aOHQ/4L7SlKNLPZWwetyTE99fGyuOt2gR9Vn20E9UP+xqU6hPUo0X7PrY2cX4eB+Z/vN3NQhyBAAh8LoFg0dFef1FrHy0k+qmKmjSDC33/w4QZ+Oj654Zju2fDosNZ5DNPfupZipD0rYLYUHgLjY2pv+HpFzPql+SrpHF8TLbKNsZ2azdJSG2E3VpqzJYsV+dvLqjEtYltWi+Pk8bYs9XyjPhn+yS5kWth2ZK/J9vdALG/glc2TP8A80aGOW/Mt6cmTyN+zWKT9Tj5b/Iqwtnq6vqs8gvki4kPb/7kuKn+2LZlrPzaHzynB+P3/pVGM7Y6X5SzsbHmzxmcP+v+K3XV5knO2U50nm1d3TBz7huGmkHMZ92nNyjHay3PY3qs5H5spCKwMc735/zIPsMh6TrLbusHzkEABD6PQLjoINfTYkSvvvB7+W0iYzR2ovUmLtvGfXLOk5vZALAefGYCuugoi1SJkV1c+aknxzDdpwVIMA7Fi2NT9NR1qWysWH7aEHnyvNhRO5FbVWZpzAtllS1s9uTxJqe2H9kSzekV26z+ma1d/ouNVLXX+Of1iV4L2WOAD2XbmCfnD2dYnpQXXV6eJrUzv2xcwvm/k73Ut4XfzA+SZeJDusLjjeeFfr6OcPR8kb5GxxrJcfJn5r/SxSeBnOOm7TNzsPOi9c/jbdtEfO76NEPKUSDPwzHWwi1T63N4zHp5Z36exR2fO+3WXuAMBEDg0whsKzpO895bDLxrpxlwWcG66LisGzAcBEAABEAABEAABEDggwkMig7nndyTIdCTGfmEkZ5kta+eT1Z/WfEoOi4bOhgOAiAAAiAAAiAAAl9DoCs62teyz97w52828re5uejpvhL+mrDEHUXREWeFliAAAiAAAiAAAiAAAq8h0BUdrzEDWvcSQNGxlxz6gQAIgAAIgAAIgAAIPIsAio5nkT5JD4qOk8BCLAiAAAiAAAiAAAiAwGEEatGRDvAPDJADyAHkAHIAOYAcQA4gB5ADyIEzcuCWhOK/axJA7K4ZN1gNAiAAAiAAAiAAAt9EIO1ZUXRcOOIoOi4cPJgOAiAAAiAAAiAAAl9CAEXHxQONouPiAYT5IAACIAACIAACIPAFBFB0XDzIKDouHkCYDwIgAAIgAAIgAAJfQABFx8WDjKLj4gGE+SAAAiAAAiAAAiDwBQRQdFw8yCg6Lh5AmA8CIAACIAACIAACX0BgWHT8/dyW2/13+UcQ8l8Ib+dnk8FfJ48SRtERJfVt7fIYut1uy89f9j2N6ftvHtH7aTxrLhjo+fe73G+3JfmV56NBu/0ODnvqOXHYbHLjefZODHn57WN49m6cJbfXFLmCeEcooQ0IgMB3EHjLouPf710UPMuy/P0st9vPUvZO3xGZoJde0UH8eGNWP+/Lw/vNoE1o9noClAOp2qBNeo799YuOsoHjKoowP29Td9xmVj5UeX2uvMqC43hqD86Sq7VEz56Xn1GL0A4EQAAEXkUgWHScYB4VEt5GOE/S+oksFulRBMZFhy7SuBBR+7WRUHl9GCfZCMfvRqAWHckwimH6dkDnxNvYHM6xPA/oueF5Xhy6mU0+12+Sn+fDO2k6lKdw7Cy5VUU4X2sPHIAACIAACCwL/RFy9+90vGziFk9mZYTIns07ZinhM4+jRceylNdttjLEAvuZifNOXoVz7IOKjnfi/yJbzlpjzpJbMYXztfbAAQiAAAiAwJaiQ0/k3msO6YEqv2dd2Mr3r8275fROdn31p71rnp/I909kR9e/PYpbi47uKTEtoOUd+fqefKZK8RQxSjFT/U185c8PcFxIxs9fzg0hn6/zNzDtHX3uObBhtWiK5eWqbsnDeRLdMVmxJ7ftc5muS9lSp2DEJNjeqpv7Gv7WlNqeY2gbJAVGhhdDtoM/tf0x5lYPm9LZKHJM6bGMRu2KkSqvRFvlA3NJn2wQN6AviMS44Bxm9qVdZ78jR4ikwz192rdV8udZhGQTR2uG0vnztxCf6kswhkmdjUOVkW0hPczK5LK1gc69/pO4CK/p8BS5A55KV7GT50S65/hu/eR2KkcNh2UpMZEs6LifTywPnIMACIDAuxIIv16lJ87IImWfSqY+YsKkxat/vUrrEdgG7UWLrzyMFh3E9aZ550VPxIQXOrkAjriXzYfa3JRrvAingGS9/aauv27zJfeVsnjjqnSqqEfy0rOpfAuUFvUq/AB7PEblGyf2KxKDnhWRXX7UZlqPr9SHdRCisomq7uXg0A9ke9dUX8W48Ks5EmFuWWpb80ZW52Y2zzzEMOzYLOJT7Ul11H25qVxP+pr8CJvMvI2NukEUeiJy2Eb+3NNnniPrfOe+RGLIXBuTujE2TOgBgkoqHnOt75E85WuDx8hd57mar2oOyVEn/quMPH1yLur5cT7hEwRAAASuROCJRYfB4m5m/cWPenqbJiPyG0/HRYd4SusshPy6ldkbpNVNb9jseQ7G8nvXiyKztxsce67aGeV2cea27XMlP6iRf9/Kteepa/RasyUd+fpam3xfbeCJJ2++8mbDYOhiQLZ1P49hNypNq39kbbXnrZevz9yvmyhfjuY5sdXNMS8mvhyty2HeTB8cWR8iejxRVo7Xxl6b9cm2rOeIb2/W5N/zmLWCu/RU31xH7CgxC+aqtsFySecxNmp8Dcaylr5PbpWxlq+d730ek98moJqFw3qgs9qEAxAAARC4AIETiw5+MpY2v+0pY2XiTqIriwGKjopOHoyLDt7Ytjiodc68PkBPJ+nrexMvN07OoshGmfbeApuaetf1wptalXyodpVCSjnCikV7c9/KtefVnrqRzjL7dlvtKeyFXJLJ9gVjoPoId+tTXW98TdnFYyhU0qHm4o9Z3ablYHwu6DdrXCivbjJD88QkjgMZ1qft+ZnwTXRb2MEcGeZCyJdADIN2uLkasmE/Gx5OjO6IOA15JiVmjlN6rTE8143mgNJZ29zHg+47BQ3rxicIgAAIXIHAqUUHA8gTZtowto2wP3GXyVZM0Cxj/mpNbflVB5GiIwHRi1ra++S/d+CskZqft8Cu9aX2Lc6k11HiXdc2ernQL8baWP++luuw8Ph01/bYw5y56DYb/TWOwjGPlbjdXmGr4ytg65puE0OpKx1rnjHmLIP6UhHZcsSfC6we0mxeKctSlT1rflHz/WyUHi4e1Fzls2Dfa8Gxpc/UnyY9HXV8B/1dX8w4VW0GcrT2ot/IGc01Sv4engObHpYrnCJZW/LV+s4xETEnmaada7N62CLGi7APhyAAAiBwJQI7iw5/cdETp8FgFwhvM+tM0FXKoH29/6UH0aIjb+zaH4obPTXuMLrc8+bZvo6R+toc8BbY2m5t4bX5QobNNnWxvLQ2VnvExqC7ttMe3mjS0/nEUunIHO2Te3JV/G/EUDTRRWTI1ngMlZ5gjD3GVY61z82xPpdGOat1TZha3WSUzStfhtITklM9zgd7+gx+jsVI1qdKT8AXjunaeAza4edqwAZlM7tj48LX+fMsuSy/fFrb1vLVMEwSVN7wuWmn2pA+flBhbMEpCIAACFyYwO6iI3/93CZGmjTTkxneVKWJWU6sdqK2E3mBmOX2T3VG1y/M/hDTw0WH8yTRxpAMSnHiGKYLq3GSRQytpt0PJvubkEhxkDcUModqjsm8MhStT7WP8ImuifMkYn5tnz2S6a/94W7Ca3/ouXAU9pFt1ufV8RWzNbOax9Ag7lhNma/aOs6xPiaBTabLNG1eea6KsSHd9Zujkh9yfiub8G35GdNteVu+Mqfo78tP+M594dffmJHnb9+ms4PHkc1Vvn44T7azrRfZV7EO7YnThOdoTiTdI98n45n61jYlT9Q3HdInmyE4BwEQAIFrENhddPATXP5ZgPS0lhbHOnHyglDewxe/MpfR1AVC3ksTvvOOup6UWQI+40WHv2ngjSfHURUcBa8bp3SPYtXiO4zbaCE217sYl4Kn2sa/jtL001lQno6WBXuYlyJPsyv9on6MPSSdXgvy+KS7sxiQHY7PMi6JkWoSZReIoeZbxrXiF2QuNlHK1ropzbnE9zr+g6ftfbueqfo2KcRm7hNvPjflZ0i3Jd77Y8fpai7wAwcxJnpmAX8fyNXIerGLp+ObXYf2yF3nqdc2la98IkJoWdO5aafb5FjoJiU+atwJJTgEARAAgQsQGBYd1nY9Kdq7R557TzO9a0fqvK4sr+i4rjew/AoEnjcXXIHGNW1EDN83bvkhRPv2hi0dXef7+AQBEACBdycQLDrKUxb96OU037onVfQ0tp+ETzPgQoJRdFwoWB9h6nPngo9A9oZOoOh4w6AUk3JxYb65dF4Te18PYBkIgAAI+ASmRQdPgOo3T/myDryav9nINU7e5KjXIw7UdHVRKDquHsHr2P+aueA6fK5kKYqO945WG2vt9VWsge8dM1gHAiAwJzAtOuYi0OKVBFB0vJI+dIMACIAACIAACIAACEQIoOiIUHrjNig63jg4MA0EQAAEQAAEQAAEQIAI1KIjHeAfGCAHkAPIAeQAcgA5gBxADiAHkANn5MAtCcV/1ySA2F0zbrAaBEAABEAABEAABL6JQNqzoui4cMRRdFw4eDAdBEAABEAABEAABL6EAIqOiwcaRcfFAwjzQQAEQAAEQAAEQOALCKDouHiQUXRcPIAwHwRAAARAAARAAAS+gACKjosHGUXHxQMI80EABEAABEAABEDgCwig6Lh4kFF0XDyAMB8EQAAEQAAEQAAEvoDAsOi41l+s/d6/YI6i4wtG6RNd5L+EfM5fP/63/N5vy+3+u/x7ok/PV3WMn6+Yg1+h8/nxgUYQAAEQAIFXEPiIooM2SnIj8/ez3G4/y98riD5Z52rR8e93ud9uy038O2cz+WSnoe4kAql4vy+/fylv7svv4ZXBMZvxk5w/UOwBftLYPSMG626i6Fjng7sgAAIgAAL7CXxA0ZEXeL2Zlt987IdzhZ6jooM2D7fb8qMqL4/VBbykIvL5G7ALkDnUxJQzPI66Qv5QTRC2TuB14xRFx3pkcBcEQAAEQGA/gesXHYMngrR46h33fkpv3NMtOmiTbguON3ZiZhqKjhkh3AeBQwig6DgEI4SAAAiAAAg4BLYVHc7rOnJfn98HN681eRvGIkf2XcpGub4KJF+XWpaFiwj6TK8LlfuuzmVZRtcdBpe+1BcdG1/tmMQ0wWH2mWl5XUvEJ8fExJ37iXZ7Yvz7o18PS/nBT+MpcJO80cEtbFTiFf+Enav+Sn2iD+up+cmvtBld3K5+Gv5dc6lP5H3tz5yFPopTtS3mM8mb6FrlIgxSeWLiRTKqbbnTZmap2yO2yr7GFuEGHa76vCLH+rkqhzQF4zTJlzH7mHxrd0ZtxmCXpJYazkEABEAABECgJxAvOsoCq9abcq1uAp1iIi1i9/vd2Si2TWpeKNv5spQFUmwIaDFMGytlQL9hrC6SbZ//Sk5fdORXyyynykUeRGIqN7WVfdZR4+7JWXSbR2KcN5h9LCMypbs1r6of+a7daPW5Vpiq/NP+JUmU6/IHIZzxoO2xMlLet3EQ8S/bavu0ojzqc1yXHIPWfi72ZayST+3cY13zKMGZMmMdzefq4+p8EYuhjk+ZX5y408ORmkc9B8/P9T6RosDq8fKlsc5c+Dwiv59Pt+e0JYhzEAABEAABEMgEgkWHv2AlEXrTY9uVRTFtSu2GwCzY9ZQjY4oGrYcbWX18PbZ5Ea0vezgqOtRGzvVuzM6ypnMTILpWY5plKZ0UP94Y5s2SEZGSZ7mJH1i2eqvZpl2+HpNZZdCB77P2pd94pa62zehaRF9rYzeR7c5SirZ1Zn5/bWvE5xhLkmsM8nSpPJAuDTjqJr69rc0GW2t+5t7a1vG1pisedyvbPQ+wsw8LtBw/3tleZwxKR/hBzqoNvr9KzECOboMzEAABEAABEOgJBIuOwUKf5JkNIT0x5cU+PbWk49R/sAEtTzbra1X8mgh98lO6shiaBbM+4eyuo+iwm5c+9PGY0sbHMNabofL0mePOm0vu81CM+xwjX4Iytd/+htb6Ys9zmstvD7LUvl2Rr3JYfjOgrUln+RuG9PpKy3VqFfGvtGHMLF3bFfA5osvGtChTugb2sF3pU7WnGxuZbbFV5KOv27NHWuvf733o29k2dG4CpdsE4hTIF6NCOBOTr21K3TfGR2jEIQiAAAiAAAhIArGiY20zoZ5o82Y/b6DShio/9cwLFy2Ibvv5Dz17i3ZdEM3mghxcs1kSuPhx/01H2SR4TKSva3xMjDz23eaE5PHG2RQ0a7qETZ4eum0KW7oWlCnEtw2U2ZlZX+x5kjG/5nEv14w+bVM+I/lUrJTiPOLfoI221bdBtRnIsXZSH+PLVjmqPW9oVa769lZbttiq5EZiWLXUA21vvhy5ZtvQ+Ro7ZrHapppVvmFOxWo0X3yurp2VW+lTz5N+X06zDEcgAAIgAAIg4BOIFR3lVQ/v6bldtHhRSsVGusdrKD3R/fnLT3b5ItmUN6hrr2SkZt6iXa+rRbE46m1Uy61P+uiLjvb0XGHunM7cIzH12K/Fnb79UjF5LMb227TsSkymdTviS+9bYMPqboY3btCUjIh/fhtr/9xnX852dnM5yjblL2ubMZvrSJKUniI6eo0teUSO1UXnZkDuaSNt0z//MucStoHH7q74KAtxAgIgAAIgAAKVQLDoGGxkaWPfCguWml+xui93fgqXbqS295/l5z5ob18vofbtLxd7C2YSm19P4Ve32ILx9dbiM468ooMLv/TKmtnn0GaMC7zMzrRxYuqxtxsmolliln7jFOtgylkXfxNSrgZjrDdXLJFjvC6ztc5H1g7yI33DwBut3RvWvOmTRVyVbYPARiX/5T1i3/yxtlI3j5kYZ1Wn8MfKibQZ6pL2OqysrpyLzSfSXW3bwayO+SZzaGvVk4Fr3eNr+c74fkSObUPnG9lRH5mbm/MlFXCNk41NJ7+L5774SH44BgEQAAEQAAEmEC46qANtiuSvT2wLGgukz/KETG7k+Adj6+sAqgNvIIVsb8NgFu1mU2+HXfSNuo859YuO7F7eZAim5teXNn6yzYClYe/zLZsUW0AW2p090RjzZqj8rIQ0ZSazD3R5kl5kpeKIZAhbPN9C1zjvi+xUUFA/abAxiO5ze6dInPvX+9Pb2rexPiezZro8X3pdvRxZgHbtdzAL2ypimvp0ugfXZIiifWw799zkgW0jHxakBwbD3NyQL5J9WL7ktjM+kiGOQQAEQAAEQCARGBYd18GTN7p6cfWuXcejLZauFR1b5KDt5xDoN7Of4xs8AQEQAAEQAAEQuCaBDyg6ypNV+XSOvpHpX7m6ZojWrUbRsc7nG++i6PjGqMNnEAABEAABEHhvAh9RdPCrW/nthfwqif7m472D8Ih1KDoeofeZfVF0fGZc4RUIgAAIgAAIXJnAhxQdVw7BY7aj6HiMH3qDAAiAAAiAAAiAAAicTwBFx/mMT9WAouNUvBAOAiAAAiAAAiAAAiBwAIFadKQD/AMD5AByADmAHEAOIAeQA8gB5ABy4IwcuCWh+O+aBBC7a8YNVoMACIAACIAACIDANxFIe1YUHReOOIqOCwcPpoMACIAACIAACIDAlxBA0XHxQKPouHgAYT4IgAAIgAAIgAAIfAEBFB0XDzKKjosHEOaDAAiAAAiAAAiAwBcQQNFx8SCj6Lh4AGE+CIAACIAACIAACHwBARQdFw8yio6LBxDmgwAIgAAIgAAIgMAXEBgWHef9VeP8F8Nv99/l32bAf8vP7bZ8418eH6FC0TEi8+3X81i51fGyLGlM33+3j7oIyfPmi4j2bW3I1jyJbOuI1pckcGZunil7O+xH1tbt2tADBEAABLYSuFTR8e/3vqhi5e9nud1+lr+tXn9Qe6/oIE6325I2nO3ffTlpv/lBND/HFcqBtLH+97vcbzn2aYOEoiMXXzcUHZ+T7BNPziwMzpQ9ccu5jaLDgYJLIAACb0TgmKKDNv9nb2rzhKo3TfKbjzei+kRTxkWHLsa4ENm813pKbJ8I7EtU1aIj+UsxTAWozokjUbzX5mvdM7J180BYl/mSuxibIexn5uaZssk5xDgUYzQCARC4BoHrFB3iia1E+zEbCOnUhuNo0bEs5XWbrZstLHobovG9TU/ffB2I9mPmDIzNUFacmZtnyibnEONQjNEIBEDgGgTiRQdt+tvrOrx3pUlXvcbTXuHgxb22KT/HYSfqdJ6+weCn8fmVIP1UNt/T1xLi0fVr4H/cyq1Fh/6mSD4FL7EVP2tT4ybiq/qbnJA/P8CekYyfP/p5AoqrzIGfPx1zoVv1F/rXX4sprxdwchYhXr4lOSrfWDct8j2LPfZkfn3OWnvG0eYlAAAgAElEQVTaNxG+3hHD/OpUPyY32RqIIcuTn9m3opvjywy5oWSZYmjvczvxqeSmPiaWqamK263NNyxmJoN5au6DOK3kHstR9rCP0ne+xgamT3nfYbMqm7q3uPMrlFvHpjSnHk/s2pRzPMaq/7HxSbZM7GA+9Gn41Wslf+i82lA8PTHvlf5iQ+XrHRhbOOU7OSLX6R6PO+G/9ZXbuTlabSlxSXLUv35M1C44AAEQAIEdBIJFR35K3ha1NEmJCYkWiP71qjpp8ixaDHQnRjU5l0lQLBS2T/V1oLve//CDaNGRY6FjlBciEcel5543R7ofIS2bAhXacq3lSXl/XsU2B6TPDZtjua+UxRsepVPFt9hvGtjcGemmBbf2PcAej1H5xon9isSgtzc5be3TYzL1YR2EqGxsqnskIv1MFP9ihgLSiWG5Uz+yPS1v6oZGjNeIX1VgVT23OcuV+Zj8bucRv3uefd7vk5NjMsujCJveRhtvLlya75Wnl3eBuM7tsjb0OSdf4cvyZLFZOKskLHPExtzp+WTv8/X13OSCT5kR4BORndpMx10NVDpYZzqaf1f9Fyz7dp4+XdxbP5W5OAEBEACBBwjsLDqMRpqw+8VvNHnRdTsxinOSrmT6ixW18zZTxrxPPh0XHeaplVphE5G8+PSX00ZUxFLFgUmO42Fjbs9ZAl03ym1ecNv2Odab2/j3rVx7nvpGrzVb0pGvr7XJ99UmhHjypigWA7Kt+3kMu3loWv0ja6s9b718fXzf16v5xfxiieNPa6PDc9y53LEy/FiPNndNfEyO5pB762sxNtRnNj4eHJvNt3QUscuPffGSfrOgyvVuXPUMSfOPLEwidpQYBseE5u/bUO3oZGbvmM+6f9xWfo715VZrTAmgno+LaPLJsVX7Wjit5pHD280r6ROOQQAEQGAfgWDRIV9pEBtS1jmYpLyFM3WJTIz6qfbKxI2ig6NQP+0TS37iqNYe85W+/lpdxNiNrbNQsXbTfjUHlEF9XtRNvfrKXz+VY7X5088TN99MkWvbJHn9tSI/bE8ZN0KX4hGMgeojHOa4qiKx3p/ZGo9hFZkOBuNNsQr6peTSycTmgW4tZyKD42pyr/crKEfENtmhOBTD1LUgGy/mSk5W5mxIH4urngf4wUWbD4Y5N4iNtrkwNexVmwf49DHMAVDyR8XVkGcJYsi/1HaeN0Vi/RgyTS3MfMqdyCfDMTeXBVzJR9NO8+hjQvedgoZ14xMEQAAE9hIIFx2sIE9IaTHip7XnTIx6ASkTo1ngyabBYsD2fvrn+JsOER9vMxTl5i16a32pfdO9ujhGFkMV836B1PH17+tFNrAxLEJ1Py8HfX3KJmLFmzazIVzjKISMGHITuk+FEHMP2Lqm28SQ9dDnoJ9iNWij5HQnD9qcjVt+73rTVTeBItdcnsrmgC3emIpcU3o6CPWCZ6NinFo+ODarsnQQtIv7kC0y5wb9tc3+eFFtBnJYL39SHxFTuj7oG5b/aN5zwbFpzmKPyrwkmaZbXow5z6z/fF3o9zgpHmyzepDC80izDUcgAAIgcASBzUUHKbWT+xETo5goSYeRqSdK4bppJ+58xWG06MiLl3x/P2+A7esCHTSXb+7r/ZCvjZO36CUd3nXV1+YYGeZvWqTNU7ms2+Sb0l0Eqms77eFNL3FOLJXeWAw8n6TPGU36exwlviFb4zHUunybFavuPXUtwT3bYPMwZ0MySu6pOFBStG8NHpCjOWRP9TWfn2XixVzLMTZXAcfGtYr1DhQn3y9r89wvX45V78mJvQJ1LB/ln+LBFs/nLG5Jn1aGO//682fqr+zhc1OcqDakjx+KKEtwAgIgAAKHE4gVHWnikxOXnQjtRFnM9BeGwcSYnrRUHf3CkL+C7p/AjK4fTupNBYaLDn6iJTZbmZ1ZcOzGeBBbfiWghizxobyQhc1kcVSdbV70OUD5pPKkD4r1qfYRfqtFt4iYX9tnD4kvTH/tD5nSA+Z72+yyOyYGZJthRazlNWLPsYzZGo0hm8WfmWkbi/lcf8Ng4yA5+H8TfYvN7GeSmjZ1fB6TUe2t/Gw/e15y0+QeyRF5layJXIuwITnVvky+k/3g2MxS2/+ndqUckzapnGNG2/KCfEpcBcepHcxZ2lLcyPIiNuh5ypu7Gpl8NJcdyxsld8J09A0U2TLyX7D02tG12qbYnGIg/9X7ylqcgAAIgMBDBGJFB0/yYlKy812ekPPExfe8CS9Zqye9cs6/XpF12EnPLHDstZXF17/lM1508M/l8AYtE8oLvFhwLHeOV4kLx5Z6U0xEX/kD6CUAqzmghPV5wQtuXQz5V0SafjrW5clisTc9FScfhV9ezoSulU3eNnuSdbywa/Zs9ywGqwx5vPC3HE0offMxtTUQQxbZPueMU9uZX01eOQrytXLVNx8BGYlnzQvmJ/KDrAnKkZvl1C+URwE2XsyHsneOzY5/1C5mZnOOH2yU+4lxb/MxuePxyf7E5HORUceHM3f1fAKyA3lj5ZIvQ6Ylp0yMR/5b3l473Sb7pKfU4qcdE9ZwnIMACIDARgLDomOjnIeaexNjLzBv3NQGY89rHL3gS1/xio5LOwTjQQAEPoaA3uB+jFsf40gu4Ns3Q+zY6DrfxycIgAAI7CFwoaKjPDmVT1/oKW0/Ye4BcdU+KDquGjnYDQKfTwBFx3vHmL811N909K+JvbcXsA4EQOAqBC5VdPBrKnmCzF8B628+roL9ODtRdBzHEpJAAASOJYCi41ieZ0jjwqO9amb+wOEZSiETBEDgKwm8RdHxleQPchpFx0EgIQYEQAAEQAAEQAAEQOA0Aig6TkP7HMEoOp7DGVpAAARAAARAAARAAAT2E6hFRzrAPzBADiAHkAPIAeQAcgA5gBxADiAHzsiBWxKK/65JALG7ZtxgNQiAAAiAAAiAAAh8E4G0Z0XRceGIo+i4cPBgOgiAAAiAAAiAAAh8CQEUHRcPNIqOiwcQ5oMACIAACIAACIDAFxBA0XHxIKPouHgAYT4IgAAIgAAIgAAIfAEBFB0XDzKKjosHEOaDAAiAAAiAAAiAwBcQQNFx8SCj6Lh4AGE+CIAACIAACIAACHwBgZcUHZ/9V2r/lp/bbXnWX01H0fG5o5TGSU6kh5w8a7ydJfchZwedz7E1j/X0l5w5TEnP/fffwApcfoTAOTF8xKL36HsWl/qXyu+/C2X0v9/lfvtZ/t7DbVgBAiBwQQIoOg4OGk3UPEkn2X8/y+3EidorOupicbstaUOU/90X7IUODvbJ4mgzwbvZB3SdtSk5S+4Drg67nmErjbMUH9qM5fGV9KDoGIbhoRtnxPAhg96k8zlcUkHdcvpW8xxFx5uEHWaAwCUJXLfooM38u22k/y2/d7vpkN98HJ8j46JDLw5ciGzew74l5+M5nibxAX60mdgcsN6TczYlqZ6+LTdZYPeq51ce4DMX3locYmsTR0e16Ehn5Ecq8PW4M11w+gCBM2L4gDnzrhfO7VxIcy7ndS09vEJBPQ87WoAACIwJoOgYs9l+RzzxlJ1psTxg8yhl8nG06FiW8irIVjuetHCyPx/3+QC/o/LmrM3aIXIf4LMlVw6xdYtCtD2cwOViiNw+PAcgEARA4NoEhkUHTfA/fws/IadXdPipJk2m5bUdviY4UN/6Ws9toa9m7X3Rj3WopyhSR5Il2nfyxRMYtru2WetnNuDcl+1RPrP9VFjwK0vtXe50O/fjp0PcYXy9tdh/tLXoUIyT2p2cyWLDIvEySPPT8J+//CniGGJN5jXWFA+rQKErT+RMG9Jl8+Ck3Jbm1BwUY0Hy7+57dqdrKkZ9fun7eqzkEA+uCbvsGJV+8LGyl2MquFI7ZWuvl2WlTyWv2MJ86B7rEHnj9jPcujYsp9oay5MkR80FYp5J99J/nQ+OLfmpsc5jr1kRWT9CsmtrMna5i5h2OiaxWWPe1ATZmbnB2hLxTbXpYpgtUm2S71ZRM7wdBTmo2HPuyL58rUmuR51dInfoHvvzxrkdzlvJxPhDQCa5UKHhAARA4OMJrBcdahJvPzTZJvZ8jTcKiVaaUOU5T1xyLaBJlyfsMmHJ+/3mvSx03CcrWm7lnVMZpTrZS4Fb7HJ8bv5Yf5NdbROo/NJGubbKJnuPo0VH5qJfR3uEM290FeYSy8ZLbMpUQ++6ZRvLJc0ttiHqc+S43Nb2UOK5sU82SE7DcaLysR8HkRjavIzotn5kZi3X64ZMjMmILVZuziOdl6lN1tdvIiO2z22N5Un2R9qW+rXziC3RcWK5hGSrTnb8JFttvNr5svS5lLn1zJUa7ueN55oL67ZEfMu2NHu9fIvI0bZzEdnkxjjE5ger68q5Hc3b+Zhfz4WOGS6AAAh8NIH1oqMuIpkBLQSBa5pYv8BXOU7Bwa8BmTUt7UL05s2eF6V2sdK2yLOBXUZxtZW62gl0XV69W570GNH19iMH46JDP1lthSJry750Nlmu9py69+yq1PSev3ivfRQPum6Ua9YsUX6O9eZW/n0r156nvtFr0pq6YTF+qDYuP9WinPS2ezbpcRCLoStHmdDrVrfLq3mqSOqYxWzRcteLMplHXb96wdruj1HNwPbJwrw21ueq1j2wcu1560S6xDhpd0ZHY1m5h++3vNelqcnNmE2+HZrdmi2ef1am31/riMixbbLcEIfAOje1x/Bla2KcU+s9XGyfrFXbmtuMc9uXkSRp2yM8/VgyC3yCAAh8F4ETio4yYaUntPKfmOnzxJXvdxOf+SpWyZDfbKxN6EJXC2fQLtNXT9b8pCzZ3p54Zh3jidp7it3seuxoXHS0p3n8lFC59hDnwWKTXDFxIX5KcfbXu25Z10VX5pF68m/Z+TGwcu15Nrt/FahvN88ha5Hl0e7PZZF+y04WsMEYPuyH1Nkc0IVa0BbRPR+afOH7ru90c8ItYmu3mWNTRA4M5LB9+XNiSynWbAip78DvJn8mu7XkIx7n3dwUjM2YOWtIn8Uu45TNsaEtJGri24C91VFtic4PWzicXXQYfpnwEVwC8RnwbVEOzu9Bnuu50LTiCARA4PMJHFx0lAlPTdj9JMiLx9/vnQoTNf9OJ8QSlMGi7S+cG+xSxvhPwJMFpIcWO97cezqKrVGfduRbpOio9sq4RG3yOK/1pfbMpHAyTKs95jrnRf4rBx7PPpc0Mv++luvH1LapNlZme+zpi7Bsb0wW2WQYqQJ2LQ4CjPYtplt0T5U2/ayANUXJHbRRcrwTL794fFmFvOGtMUkCTcwHdihbbZ9il2ozkNNcCHBck2HGSZMrfFrzU3dQZ+SHnJvW7BA9qV/HXDSgQ8O73FbsRJfOFma/5tvAXq0jwF/YkU3389g203ry3eg1JeuquT3gT77JvF1rp0AIhjIvnTa4BAIg8NkEji063EmoX6TkBE7H6luD4NexWyb0LXaZRVfa2qWCkTtsO7C1k7fjQrToyE/c5Q96P8I59+1f2eo39MTEME1uetcVP8M2o+lzySKbymXdatPT211t5HY77XG/6QjKUjzYUZVLsRgqOUHdrC5/+nqU3MErWFqOc6b8afe9OPrFj82JiK2B/Jv5E+IYHyfN8/YD4XrYWD9Vj/5E2eczsZ1c5rYRjx9tnP7Wy/aRtsjj2s765tur8i0kpyooB77crpXzq6CVbpbmtFOyrprbJffn83uMp2Lixk21wAkIgMAHEzi26HAmK5qs09MNsUjpCbwsOOL95vx1rHl9KU3gvAFMARlMXiRb6Mqxy5NjZ4Nnl+mrbE02yPtmUcl2t6f8nDej63z/kc9w0eE8YXyEc+4rixjajXTfXPnxiG/6JG+SZWJm2Vmfah+ROyqmRcD8WiyHrD1+nsZkVdtrzvX9rL+k34wV7Vsvo9fTeVG+2Wu5XfsIrhFbOslnjWMxn0RsjbTJ36rwvBTjGB0nmktMtuoTmpvY9tLTy5Oaa0q6OrFx7tit2hLzLctcy7eYHGU4LRvp2/UAB5HXSQbZE7im9F02t9trxCodUlzNbyi0uUD+y7xazQVFCycgAAJfQODgoqMVA/VnMfhXA4rZq5/A+wWEF+sqx0z4KTZ1sRMTIV0TumoMywJQ5Y3sMn2trVKnnYDdp9psp2N/te2Bg3jRwQuJXnD3ciaTyyJUmdrFnH03TFNfL06WNW/Yq3wnZj06LmLbzwyRj4J/p4ftEW2qjfJaIId6e/w8jfiW7Ew/86RiJO0pytT9VJSZNp2/u/yYc03mzGyJ8iGbnbyJcKuvXCUW5VeV2hyItdGxY1nVhyjHwDipMvkgKpvbcw4Xn5OtFt8sNkPmQkc+nOcCyRrZEvJtriOWC53x0xztxguznY2rXtXha1QsbwPs2CcRo+7nK4N5G8orocfmpYMNl0AABD6UwLDo+FB/T3YrF0968vauHWeGV3QcJx2SQAAE8uZWF+ugAgIfQYAKQOT2R8QSToDABQig6Dg4SN0TVXpa1F4TOFjdgqLjaKKQBwKWQH5yrB8m2DY4B4ErEkBuXzFqsBkErkoARcfhkcvfbOSvkM+f0FF0HB5ACASBSqC9JoSnwRUKDj6CAHL7I8IIJ0DgUgRQdFwqXL2xKDp6JrgCAiAAAiAAAiAAAiDwXgRQdLxXPDZbg6JjMzJ0AAEQAAEQAAEQAAEQeDKBWnSkA/wDA+QAcgA5gBxADiAHkAPIAeQAcuCMHLglofjvmgQQu2vGDVaDAAiAAAiAAAiAwDcRSHtWFB0XjjiKjgsHD6aDAAiAAAiAAAiAwJcQQNFx8UCj6Lh4AGE+CIAACIAACIAACHwBARQdFw8yio6LBxDmgwAIgAAIgAAIgMAXEEDRcfEgo+i4eABhPgiAAAiAAAiAAAh8AQEUHRcPMoqOiwcQ5oMACIAACIAACIDAFxB4s6Ij/wXv2/13+bcKP9puVcjk5nP/svjEmOFtFB1DNF9xg/6q8HS8vBbFFWw8itDxvpa57udvs4nalq1zZqz9Hh26z2a3LtPh3+99ud1uy/13fTW7jEMwFARAAAQeJICiYwCQFgy5mfv7WW63n2X70j9QcNBlr+jgxS4teO3ffcHadxD0NxJzhQ3cFWw8KqRH+5rH8r55R9sSKyIah1j7PTp0n6bxs47SQ6v78vv3u9zTJ+qOzwovvAEBENhF4HVFB23iA5NxtN0u90ed8oKrn1DJbz5G/Z5/fVx06I0KFyKbH5i+hP/zOZ6m8WR+V9jAXcHGo+J/rK9l47pzw3qsLT6hPTr29PG1P+nqjjGcfOT1o3uA9SSzw2p2+BeWjYYgAAIgIAig6BAw6uE//+kULZabd+1V6ikH0aJjWXLRdNtqPxakx+J2Mr8rbOCuYONjQW6938nXZ9iyR8eePo3wC45OHsMv8Eir/HT/tLc4AwEQeCGBYdGRFob0pIafkOfXdPTT82Q3LSDyNR6zqaX7P3+t3f13+f2Rr/3kY34qJBekTrZ4P1a2q/yoWNCyjTnZjp8/7Zd8jWpZyr3e10dedag2HnywtehgztUMWnAEM8FijT/138C7yiry6XwSh6Sj9uMcswGtjqSD8kqIaUMyrF8j3ZKH6MNqttjTta35G7dzNgatb9uZFc82xFLNCTNGPPZtO8k5xdbeZ+Dis+Np4iya1kNla+Vfb6fBvtw5t8qnFUt62Q9jq7KJ2xhfVJvU3yoQ5tTDR/k4tpAdxbZsUz/HdW3WfJnoYF+U/06f1E61OYgRydw5zl3bS37wHMryq+2S1Sx+Ju/WUiLJn80DEYaevWtrMTE40A9mik8QAIHvJbBadFChUWfD/h1fngwrvjKR1i5yMZEXUweazPrXq2hi7CbvaLvbotSUCZMXiay2bLBrw/wNQNdG2sAODmzm26/4jBYdxNW8W9wXUX2MR3HK1/fwzpSyPXID5sdBxoU3iDV0HfD4Zl7ndvkWSG12jrBnlOd77ezjY8dLOt/GjG3cE0ufkfzZp7rpF+MplHcmtnv8ynrk3JH4ifMyP6h8Cs0ZMofbxt3zdb/dTW4tpgVDg6ds2lufkS21uPN8L9+Gcv54uTWL7d4+rJP8ctYR628kh8gWZ0x7Y1/pt8oG834vP3ec22bHTcrLFrtevV2z/HlA+eAwHNk7muOP9sP6hXMQAIHvI7BedNhFbjD5NmxlMhSreJ7onAl1IIvaS72hdr1etsnqp3NhX2qndY5lzTe9rPV5n+OiQ3x7oRZeti0vfAZFXwy6/MeMXN7OD+DP48B2ys+x3tzKv6/ja+Ode9o26ap3TVpTN4MdRNFqAz+rz56TVCPPbSPUz230mSURJFvEjs6Nr1q/3UxlQ7w2Rkyfd8oH72Rsd26d76uNmBIz7u/6LThkMRFflcJyMtYr5W7jE7NFx8HhQ7nV5mrdfo+OWJ+e0jGMtP2FbvqWXa4vnOfmmrLJjDm+Z/OkaFh+bqaATzeUDJ8Ly7Wfnh9anu2RznuGvr3WNpaVbVzPw21+sGR8ggAIfC+B9aLDzjjd05MysZWvnfMrWPLpddm4WDmJt5qEWwC6CTbUbjBBOnpIvrFH6+wn62pd53+987KDcdHRNg/81FO5XXypMVMxtE+DxTl5+hjvJGIeh9Rqnl8avB87Hd+i22wybJtqo2q31Z5Rnm+wUwWN3v2j14H4cm/3Vhsfi6XSPxgfXptp3unAbs+FgS1N7GN+jx5AKF9J2cZ4RMdlc6S+IsY5wbesLfac5gWR33RfCFHtBzxVGx7XLDPYZ/M4DzKytiUu0WvMkD7X1iDBi9oGbeM5+Wa+fVZ6ywnZPNDTLs/zzJWTdHj+neCH5xuugQAIfBeBB4qOMsnxAkPcyrU2E7qbS2rqTXTeohBpN1jcmp62AfcmXr0QeX6VpFjTU5o8+yNSdCSbtI/95nVot8d/jQO1X+dd7RF5Uq/VfPLi0OeXttu/b323573uLFW322PPYEHnYmrV/xIz08Zudh+28cFYKv0DWZE2Oo72bAf7gS1V8tr9SA4P+itfOc41p5N2P0dDdtVG5iBky2gO4AcKfRGmfNmjI9TnhNgWPMr+jdcUYW8O5Dl1Mj6VHOeEbKQHPm3OtM2ozaqeGENXTlLm+TeInbWNzyN+cFt8ggAIfC+B9aJDLZZmcnInpX5B3TTR8UQu9XoTYtcuL5jeD2iSfiHPs8dtI/rU9BjYUu+/4CBadOSFRX7tn5mNXz8pzrg+P8Y7SZ7GIZhfFvlULus28bU5UG3kdjvtcRd0tsFsJKwN9px8NfFQbXbZ+FgslX7zMwEcm0gbbut+PuDXOL8f85t/G5yVr3w9xW6PkD+WlS2cc5zPJCbP1+RDyit1zxYpe3QE+pzIyPqfXI5eU5TNmON7JMuM4VFecB/302XQWno2q3nF7f/oWuzHrlnlHLl2OO1wCQRA4GsJrBcd6mcB8iTUNvb2vEzoqo+/uSTagwmqm2CD7fjrarUG0GIhN9q+PVZnltU/eRpdf2X2hIsOfsIqNhbZH37SWbywm48B/0d4J03egq3jEMsvy976RDJTTgq/tZ4sYX5tnz32mwm2N2ynGk8DG6pvg/tKBlvQPh+JpeWWebexk881f+s7WWLzrpmXsoXek29zjz/XqC70ZV76i9Ayv9NGrJ0/4nfSNff1KLtJmcph6+vclmJvzZUioXBPv8VotYAK+dvrmNt1HiPSbfyNXlN8B3MgyVILTu41ze/EXPZL5ypPlfaSZ/K1ZcvMnnNuyj7lmtTLagb+He0Hq8MnCIDA9xJYLzpGv26QeZXJqr6fzb8OUUxso4k5iaB7aUMkfvBuuCgE2vHT/GqPM5F79nQ6B4tA1445vPAzXnTwrwJum65kNm+8KjOzSI/iRC4TJ/kD61p27Svygfpx7M31jm8gv1he+yxP+Eq+pI0U+Sj86vSwPaJNtV1e22WPn+f1NZuZnZMx2Pmy08bDxg4Xtyt+JbaRvGsxpQ76V9s6c41qX06sHrux3ut3Fj/PNS466/jaabcsmj0/w/kk85kElQ3raK5U7ef+dvkYyYedOWtjaxn1tpSxqHzyr1nGJMtbg8wcxv1CthV5cv3j/vKTdE/mgUiesRwpm489/9K9I/1gXfgEARD4XgLTouM70eSFWG9QvGuvp+MVHa+3ChYcQWBtk3CEfMgAARB4fwKYB94/RrAQBEAgRgBFx4ATPeGRT8ToqX57bWTQ7emXUXQ8HfnTFGKz8TTUUAQCb0sA88DbhgaGgQAIbCSAomMILH+zkb89z68V6G8+hh2fegNFx1NxP1UZNhtPxQ1lIPCWBDAPvGVYYBQIgMAOAsOiY4csdHkBARQdL4AOlSAAAiAAAiAAAiAAApsIoOjYhOv9GqPoeL+YwCIQAAEQAAEQAAEQAAFNoBYd6QD/wAA5gBxADiAHkAPIAeQAcgA5gBw4IwduSSj+uyYBxO6acYPVIAACIAACIAACIPBNBNKeFUXHhSOOouPCwYPpIAACIAACIAACIPAlBFB0XDzQKDouHkCYDwIgAAIgAAIgAAJfQABFx8WDjKLj4gGE+SAAAiAAAiAAAiDwBQRQdFw8yCg6Lh5AmA8CIAACIAACIAACX0AARcfFg4yi4+IBhPkgAAIgAAIgAAIg8AUEXlZ00F9Zvf8u/14C+Rp/bTyCBkVHhBLaMIF/v/fldrst998zRt6/5fd+W24vG9fs5frna+eeddvOuvuNPvcsB/n573e53240LnLuDtr1Ah++ck5civ0/fw/btyaAbD9cx/Hs85z3s4xonBODNXLfew+sU+wHOf5x85Cf519ZdNAkJDdGfz/L7TaelHx073HVKzp4Y5k2l+3ffTlln/keGGBFiEAqtu/L71/aZJ2RD4PJNGTb8xp948L3jT73GeXlZ7mmNs9eu17aEVfOiMtsk32E3UkG2a64HSH5aPbyAaNv3xkx8DXhKlinHPBy/PPmoVG2f2HRkYOrn/TOJ6YRwFdfHxcduojiQmTzGkEF2Rkb1FeT+z79acLnvO8K77svFWkAACAASURBVC/C8Y0L3zf6HEvpPPfzuIj1Oa7V8XEpDxbO+CLTuE22b15QhJDo2hJtJ0TzIc1zExuPjwFrx6clANaWCJ9/2jzEfvWf31d00FdY/Sb64Qm0Z/uUK9GiY1lyUt8mE3Bn9AMTficLF0DgDQh848L3jT7HUu17FvsYj3irh9fM6NoSbRc3XbXE2FA4Tj0B6xHe75mHhkUHTyj0mV7T6V5HEq/uyHvla9f05IifrudXfPSTdy/5qi5+LcjZIGuZ7cltDSVNUGPbcn9tS+o7ul7lvunB1qKje6K3wquLh/1ZAPkOYomZDRnJ+PnLX8WLPOLrKp4mjxLyzgarQMXF+4qyyBCyV3VLHqIPq9lmDyVWe1/8dls686U+wYf1dQx+/nKuVttiPpO8ia5VLsIgFTOTEySj2pY7bWaWum3ILWWP0Z1EKf2ci7bdhI1wv309boJpfadzjhfPaaxX6uNrWgmdZdv7+crVxTrS58Q2Er6BcbbDrAPWXumTl8tGnzQxyZ+tGQWIeGXUt0flw1p+WntFW8s36V6Tm+5XRhwH6WBhpdqMctFwSuunI6pIFB/Wn5W8ol5GT9MRm1PIl9RJ6TW5OtChOBRevDbRvWL7uN0GGw0HJfPAGCS5oRw2TLz4ko1smzeWcgDzz9C1wNFV6it8Zlkqf/m+jB1fEynFhyTDeQXd1cX5nz4ntmU3xM9Ulb6mWx5bUx7FWumTx87wl7qSP6EYznRM5gvFzcq6+jzESTP4XC86nKTJiSsnljL4RcLmBJUJN2hj+vCkIxNRJkTWLb+lSHLbedg2obdyocA3WfX6mx9Ei44cE+1fhFdeUHQ/QlIGiowPLz4yjn0uZKD99b7ST22kLN6IKp0qPhsWIpXb5Vsg55rUv90e61Oyr42dCP/MyfaRm62Yz3Fdctxa+3njJfNBj0GyV4yv7cxo90YbSxXnkm82HvRAozbs7Z3zY58aY/+dW5loMeZZd89zZrPUxGOqukg3tZ8RxmSLiIsrN8RYWVdP5vmlbc6MG/OeVWEsbJ7r4FjG85O/AZZ5lZyyvLLudblKRtnYyLhlH5vPWaYcy/Hcr+DLQYSN7rMWj735bWO2poN9lUyzhZa9vwZtsFHk0JkxyLLleLc82GdTRO4edxsYOGsb5qGUb4lhG5ORGEbGWmS+UA/yy5soag654Dyk5xj/bFJ0tGCU6WD58Z660KBpk0c3aaTOkTbKRjug8rkNSuuSJzg5ydM9pdfKbL3nG1rR9o0Ox0WH+LZHTThsfIRXH7fce8zRTur2vGr/kZNzvurmDXegz7He3My/b+Xa89Q3ek2Zwz8Q1iUdt7KLLl8njYGx5PfXtkZ8jsWa5BpfPF3jMehzlF7XDb3R09r4/hCxlDPiadvc3gi/GJtmXzrybdSsfBa2TfVLbIw8XYo5zWl2bpa9evu03v4+96Z2lrE453b6M8LQjwXL0faVq2rujujIfilWrKCKNJv80GI/l2vUODni+6/9jsdF64uw0T1GxVZu5duhbfXzW6/zvs/VEhXferWfi912e2z07dF++XKTddRuZSxoOcUfZXtc9kxXlu7Ls3bY8+qLmXO8dsWLms9qbJFvmIeIkRNnxaqBLM0/cR4yTg5O14sOuzEwX0tRpZw2tPTPFB2Dvny5T/AygKq8Ipc7OE+OlE8h2/xBSnJm8pWy9zkZFx1tMuAnaoxS+qtj2MdSLyLs92CRS7fV4CsTtVKcZVD8zfXNOcHm1E8/vlauPc9m20nAW1QnOVrtaAfM/mZ/W1QkXwc5qe0P+BzRxYvqWkwG9jRvj2D2WG4pNgN7vTbTcSCdfGrRUZ7eiw0C2a/iNM9L5XPZaCsR7F9w/HJz+gzm13AsDHJPPQiK6BjEW9qqOaQ7gY1oQG4tRDeuX9qeeO5Ln5jTthzmb4XSnN/W7iw3MKdEYpa2quVXdPc6SICj25lDTE5utpHHziCOh8QgxCMeX7LJHaAy8hvixAxKd+1zvuhdU9pSLIWc3kbMQ/QbQgd5Jln2rD9gHpIOrhzvKjpmY6FPRpp96N127quhl2QVCV0nce4wC+TsPkHw9BQ6of4rJF90K1J0JNM07z4eQ/O9CX+NFbVvBY+bC2wPx7Yo1zZ6sSrXTL9mu39fy3VYsD0q/2y7PfY0y8gG2pAUNmsMudugjfYn4PNADqvhT5Jr2CpdATmqPW/OFVffXraBN1DGjHw7kFtK/8DeSJtqj3vg+6DkhnKK3eoLXqWW/OCNod24xPJS2TbgQjoDjJVt6WRNXte4jCs5FpiVDbqUK48dmXQp0EZxoE5HLPaBGAxsU/YM2mQzV36t+1q/EStxnWxQ8diQ32sxW9VBQX+/omONpRkbwj06JI5rPDbIdmVZhTy/Gp0qp3hsqTnYrm1ZsO3Xq0s/e4F5KP1NH4Nco1qLc2nZs/6AeUhTGJ5tKzoGT4Ws9B5oP8GoNm6Q7MTnB6Xpnt3PLZXe1jmNQncClE3e8ThadGT/5GCJ8fK55L72h8QSH8uXzp0R6l1XfUM50UdkKtex0bO7u7bTHmWhkhHh77dRnNgfw1i38eUo2w6So/Qqf1mbHdd8nT8fyy2lfzBfRdqwNaNPkrHKvB8LSZbWnaV717TezIy+rk/zlNxABBlrHY8x1raRV/Sq4NrrBF0fY7e2r7RWc3Ikh+dtej1+H93Ob1N9Mr7k6zbPfRmensi8WnXTgS9bt5mcGR/Irh357a8XRbfRMWqrmdCgcdfm7Tb6nLS+3GZ7DPyxrX2My/Z88yLotdP++HbZNkm2d03rxDw0+mZUc/LzTLbpWft9dDu/TZVrxxfdeOY8VC1ZPdhYdPDXpVztFtlmISRQ6clJnbT6webBbO3LAFAyPN0JaLMlf5Xbzsk6Y1tu057EM53Rdb7/rp/hooOfiogNS4TX6Clm7iuLGF4c9DWKc82DRtG7vicnmsR8ZH0imSmPhN9aT+43vzbIYZOjyp6Ue9J3tYny8rkwtLaK94g9fyI+2zZkpxkbJFva6yxEvRw9BjXHHczEKxnKFGI3zy2tn+eRNt4j/Dw2Kq7VxjbXeHKtLUlG9JrVR5uX++/ya3+5QimsZJ5VWwRAqzfHUfPMGyR9jfoJOZ1d5UKfFyaXJ2Oht7nPnakOJy75G3MTJzG+RpsIn1eTo+X2tvb+bMlFHQMvLjYOETaqzyQeVl71R7Cr12p+GA4THaO1xbIftQvb2NkcmQ+2x2DKo+bnXDbJqlxV5NTJHgZJQMd4cE0pyx1pLcU8JOcCM9fVOMs2a+skgXUf3Ng42Xi/2zzU5YtzYXPRkWRkx/n9f72hI3zlh4RVOzHwaxt5rVRp9b1U/vVoZuApmeJXi7Fv9r7cbFIb2rzIZMg9bXBZ3rt/xosOjpv2fcqLJ6O0ubZfKxJLkQf1q9dGbTR5ete7GARzomlLR6WyL/amp6/ko8i1Tg/7KNokSV27HfaQjGJLxy8wljx/OrsCPhOZ+n51iZnnrxlvvS7OoxZ3+YS7a7+DGcVzZ251+g9iQzap/52YZ0oPn5QNnTPGeFO2Nnf2XMpCKXLTe++e+pmcYIvs52wuIVlCnxTLepQMk59Jn7qfZAXarOZn6Nuw7KnVLeVGYuCNZZJpfQjkvmUfZSP7rcUjYmvqX+dXjqvxZV0HF2J6baE+K3Ja3uwZg/M+xGhHDMju0a/I1uD1r312xjTLkt3847k/Q54eY3Ot14l5KDGxcwHmoT5TRleGRceoQ+R6fMBEpB3dJg8atWAMFp6jNZ8hzys6ztADme9DwFtE3sc6WAIC2wm895qx3R/0+D4CyOHrxxwxPD+GX1h0lCpVVvT0VKN95Xo+9uM0oOg4juVVJKHouEqkYGeUABb7KCm0e1cCyOF3jUzcLsQwzmpvy68sOvg93vw1bf56Un/zsRfn8/uh6Hg+81drRNHx6ghA/9EEsNgfTRTynk0AOfxs4sfrQwyPZ2olnlJ0WCU4P48Aio7z2EIyCIAACIAACIAACIDAMQRQdBzD8WVSUHS8DD0UgwAIgAAIgAAIgAAIBAnUoiMd4B8YIAeQA8gB5AByADmAHEAOIAeQA2fkwC0JxX/XJIDYXTNusBoEQAAEQAAEQAAEvo0Aio4LRxxFx4WDB9NBAARAAARAAARA4IsIoOi4cLBRdFw4eDAdBEAABEAABEAABL6IAIqOCwcbRceFgwfTQQAEQAAEQAAEQOCLCKDouHCwUXRcOHgwHQRAAARAAARAAAS+iACKjgsHG0XHhYMH00EABEAABEAABEDgiwhsLzr+/S732225pX/33+Xfkv+qdz5+jJz/15b/lp/bbfmEvyD+GJ2+97WLjuPypifzOVf+/d5prN1//53gFGJwAlRXpD+3uU0/+OIg305cU2YwEZcZofe578XKu9ZbPMi7vuGFr+zxMe+t0l4u76+WJfE8Z63Jso/YJ54ZpFg+BSzo5rRAH2qyJ45R2e/RbmPRUYBwhh4MyQs4bbqouCnA/n6W2+1n+XsPfi+1wis6eJNKRSEXhypeLzVZKP/8wSWc3XmYFoX78vuXCv37cnzdgRjsDMzmbt7ctlnI5Tt4+XbumjJDhrjMCL3JfdrE9XNgLH5e3r2JX4eZsd1H2iukvYFgm3ii6EgP0x/5z5vTovK2xzEq+V3abSw6cmX8vKTMAdD65Dcf74LxNXYMiw5ZpC3laYa69hp7oXUbAbkAdMX3NlFo/WICsc3Ri418ifpz15SZS5eNCz186zfhM3+ved/bB2RPuvh9FZfHolmLjiSGuKU3WM57oNvF6jHzT+l9jI2vndNOAfOoUDEu37voEBW49JkS4y2f3ksrzz+OFR3pQUZ6RedbFqjzuUMDCGwlcMxitlXrFdq/doG+bFzEIn6FKJ9lYxc/cDkL9cNyu1g9LPF4AcfY+No57XgqB0gU49ItOgj8zx+931d/doM6lZ/lKK/t8DcQNlDcP2925c9/aOOpnXgFyMrJ/fvKe3RdS//8s2jRkZ9imKLDxtN+EyLfSRTvfDJVGzuKSZXhf71o42vP89e8LcdsXal0pryxDdg48bm5z8Tv9kQontd72JALkxiRbz9/pagc25PHS+PK4zbp6GLA13hcBjgnGUmm1tOPWxtf+S4xh4x9os+ku+YUt0ifG/JrxEeydXVkfdmO3he6LvpVe5mbyU3bnqSbXNvPo7CRPnnsjD5pYrIvFMOZjhSd8nNI/IrnMN+srFt7tcPjtSY3EZjFoGvDa5yIYzQuhbj+sP5Yubp1tpdtsPFakdX5KbhF7ScZjm6+rlg7fnQ2yGQyfvLptj4bxnixr5MvuNA94Qed75wbOj0T31P70Ngy49ObD+wcKlVbHxN3FUfBY1NMInaxQPGpOHGuiRhQ05U8F6L0YcAe0j2Kr5B2uI3WH8s8arvlJGymQ6vHtI/6P8sPm29eTs50KcZpnvM2rrWRzOjsKf1Qt1xE0mVqL5zu+/eVX27TFvPqvJUjzit3Am420fXm9xx4sSOOhllm23jl88a+buJqPxuvtAC09vPYbV8wlvIaWMutXme7R7Mp/UKDLkVF+JOd2/qs+z3nxhufxir3kZvnGJu4Lll8Wft50Wmxz7Fu5xTLGvds/zZm7LO0o/go5HKxpuJVJk6pL+eWlCUCWg9jDHtZmQ9thqshPbOqJh0UG2tzuqn7RPLMcnbl7ubBcW55t29MS+59DCM5mdu0/JrlWz/uM33LKyJX5hEvljJuOR8aoyxTjs1BvJ24qBypm7smu+dve3jjJreJcM75IzkX+V6+OvZnFjLeuX9/Xed6apXazFgXa+rH9j4bxng3z/RcyC/RbuTnbG7Y7ocX535sxeYDG4skp+Wc9fGIMROzq4a5HmS+zTZvrIXyvEosB7vz27LjuJxgY7eX2WG7yFWLIMJtlN9y3M7yIxr7iC45X60UHS0Yzek+cOmeTXY6l7N91yYix590yJZSLRoVzcwvOQoVHVxZV1iZfT1lVjSYebL245Ob+vd0Dvix021s3vhy2bz+09fRt5NXZn3WbMj39nDTfvs26DYRXYWfMUjLybrkRCNppGPd3t5N5769sqUrQ+XTWAb1Fe8R23Oppx378qwd9jz1j16zuhRD8s2bH7lXb5/W29/nntRuM49Ivqzlts9FLhRcHJh0Sx3Fq5vZL8WKHSufmkO66Nul283lGjVO3sb1eN+g2rhofRH+ugd5/pO+fbR5FJSluLPsx/OK/DRB1rFgXfJzrFe20sezPv59a4s91/nYNNp29jy1jF5rUtORb6ds48nVdo5lUN+aI34Osy6tJ8tcG4vcr31aO+x5a6ntatfzkW+nti+Y50p03B7StZrHZ9mYDPZkb7R9WHTEuM39z/aM82OjvausaXDVdWJcdBgh8WQqg9f0Vwk3KBpUm7XBPOiv8vMLToZFB7/iUT5VYnERYtrQEx7xcx/1yYS4RkgH7COx0236SX6oMytefu/tFaFsb/+kToe9DBzrq8lN2WdoQ4TbUWwiuniRNL4oxgN7pL+q/U7OJMPYoZ80DybKpM9snlxZ0mBpo9FpfbHnWZ15ss0ch5N8+RZB3O9tnOeZtuVgHsF8GeY2MzA8VQwjOnblm7dAm7khILdu/kZjfSBjb1xUSkbYqA75pM8j+sqk/Up664uci824KRLFr5c3Ck17V/cgDzSjJHee70b7jj7+psfaYs/tfMJ22Hb2PLWLXdvuO8ldG1tlk2qbkO0mbtMxzPPUIN+ZR/6c+RKfp5TcgW7Fd9eYidvjMff0W+Zem7rXUOORH9Aqz8uJN6dttJ3jaMUHue31v6nbaK8BqTgmoSKP37/o8OAPkroB+46jYdHhMWMkG9lR8tBgK0/kBv11ku1cMIqNnU5e5JRfvg52sy6Mm/q03p0NA79bj7ZhMOPPLGa+3YpfRBcvkkbZVjmq/S7OZbE2dngbVtuE2NFk1J72kj1uQ0k6wJD5qPhHNxZSF8eVFxk7GRdblJ7ePsV5Lb57eKzJM66kU7JFjmm+ZrlLufLYkUmXAm0UB+rkLdAmTlO5gRgMZCh7Bm2ymSu/qn2t34hVhPlKX7mI12ZrdgTziniYPFCMds0RgfhUJ/igH0PpjralP3e5RPo5bXp9e/woNhqme+dHpkMcvDHM89BaLpCQgC9rMkw+sV1ZdPoV7+1vf/A9Fbs12dzBfq71MfaQLsM8oj/SxprVnztz2lbbOY5W+Joc0Xav/1XEmp6trJNQ6pPX0NcUHe7XT/0EohKg0tAOyMvfdryr6BiwX2WnEtAZUM6EPU16p4+yQeqUx7WRvyi1297EN+lTO5cDpdf3W3fx29g8nrPx5Whd/mKmdc3lqPbKX9Y2Z6ZkcDcxyfDXzcPXVsQE67FhkfLTa2ftsOepf/Sa1MUFLH1jmPwS9qrNQ+3UM9N6c1yO4zGPczWND0ystX2lkRND9a0py6qfczt6PX4f3c5vU9UaX/J1GwNfhqcnEpeqmw582bpNf0a6zcaIx8o659EamO2I2O/rDswpIdbG1z19eKwaPjpeznhWOdvsmPZjfXJs22uP+GHkyk0YxzwSt+YRPwxpm3vt4yQnQ77E80nZNdhjbLJPCyxncXtI12ru+HwetzGZ6sneaLvNl8rDk11v1oO9/lcBxYdITs510UB68etVPJjru4pl8kiVu4Cdv0psT0EZyOg63/+Wz31FB//QKT+5LbTkZiodywFrJnJKslDsmo7cR8eXrnG8V3X2A7bKk3aqwO/os2pDgNumvF5nk3O8tSHXkn3Mi3UZ/xVTWpfsr0tOm7EmV7ffwYztSGO32tLL4dcCapPkEOVVWzTzJSlHBVSdWD41HywfcV7lB64pZbkjsf+1P0TrTM7VFuGs5sy5pH0/kgfZL/Nlktu9zaMYttzpdGzONwIb+uUkNt65EGRbelt7f3iNaetJbSPyIZqn5Lv4X29fyW8hWzSnQ9IvcoTvh2S5m8bH88qzia5VP2Ks2Zf8uacP+8Ix5vitrCFJ2YCL9qHIqj4VK9PP2Kxe2+cH6T5ifoyMYWF/n0dy7o/5snc8ZJ8jY63Fl6Ig56wcFvX/qD2k34wtNwc27mMiNvpFB+dzcM4XcVQA3Dm2n2si/q/nx0Z7J6zluHzRNx0JY3kSRV8Ril8pJ2GnBJTvsRb6NnlsUL7lfG/RQfTNr7V0J9sSm/ROo86pPnZ9TPo2lOQivrYPnY90lsWkvl/Jv4JPG6ZDv6PPqg11wIufLRH+ZOW939bPUO4HdJFc43+vq00ezE4+Re3a72UW+PWEvKlmO4Zj2/ikg8pnPedZfqWenb+Da6ylfZZF2pmPeEKtfjm56ek9lkcf5y1jmuwLxJAX/eprl/+9Hav55j4V9ONkdUu5kRhEx10kLi0v2pG1z/JvLfMRM7fX03lEFvUv86UaMrRuijnKydmRbu86XZNx3jFHxOJjSTwwxg0X64M9T5pD13b4TnIDYyuSdyRrsEYO7Rftt4+ZsqEVMrx520YuOtYied7J3pnfPZ95fiXd223Ma4VizU5EbZfjjfuKz5lNnHOii5vfVk5nc9ReNQGtjKWUR97GVRr62mMveN6111r5Ku3vFLt+QL+Kyvvp/XQ23gT3flGARWsEEMM1OrgHAvsJvHxsUaFkvlHY7w56gsBDBN686ChVpqz6qPJqX9s95P3FO6PouEYAUXRcI07fbOXLN0bfDB++fzSB14+t/ES/e4r90dTh3LsSePuig9+Py9/eYPDIRELRIWm87zGKjveNDSzLBF6/MUIkQOAzCbxybJFuejUK33R8ZnZdz6sLFB3Xg/osi9+p6HiWz9ADAiAAAiAAAiAAAiBwPQIoOq4Xs2oxio6KAgcgAAIgAAIgAAIgAAJvTICKjrR5xT8wQA4gB5ADyAHkAHIAOYAcQA4gB87IAXzT8cYV4cy0lBD4DwRAAARAAARAAARAAATenQCKjneP0Ip9KDpW4OAWCIAACIAACIAACIDA2xBA0fE2odhuCIqO7czQAwRAAARAAARAAARA4PkEUHQ8n/lhGlF0HIYSgkAABEAABEAABEAABE4kgKLjRLhni0bRcTZhyAcBEAABEAABEAABEDiCAIqOIyi+SAaKjheBh1oQAAEQAAEQAAEQAIFNBDYUHfmvgd/uv8u/TSr6xuf9hea/5ed2W77lr5dfu+g4Lp/6DPucK/9+78vtdlvuv4+OOo8JYuBROePaeXPeGdaeJXOQb/9+lzv91eTbkteXQbsTzEJcToB6kkgvVt61Xv3z8qnX/awre3zM+6W0vuQ907IknuesNVn2EfvHM4nG8ilgQTenBfpQkz1xjMp+j3YfVXTQBk0WRX8/y+32s/y9B+vDrfCKDt6kpomk/uMZ5XALHhH4+YPrETq5b1oU7svvX9qU3Zfj6w7E4PEYxSQctpjF1L1pKy/fyjU1R3ntznEJcTmH6+FSaRPXz4Gx+D0vnw73Oyxwu4+0V0jjTrBNPFF0PPpg3ZvTooHcHseo5Hdpt6HoOM7k2ESxVV8Olh4w8puPrfLev/2w6JCF11KeZqhr7+8bLNRPnbqCGoAuReCcOe9SCAbG5vlJz9uDpidcvmxc6IFavwk/AdEbiPTW9mxWF7+v4vJYaGrRkcQQt/Sg8ryHtF2sHjP/lN7H2PjaOe0UMI8KFePyc4oOUa1LPpRE6imavHvt41jRkR5kpFd0vmWBunZMYf1nEjhmMftENq9doC8bF7GIf2JWRH3q4gcuUXRPb9fF6ukWzBUeY+Nr57S5ly9oIcalW3QQ+J8/er+PXtEpT8ltQLhd3tSW13mcJ+rUjl/3Ybm2HRklXgmS98v7ceppWGnP9US2oa/SR9dfgP1wldGiIz/FMEXHGu9kaWHOr2gxZ3bCxpQ415j5Xy+6+VP7bNSZ8skaxcaJT2VnpM/E7/ZEKJ7ve9iQC5MYkW8/f6WoHNuTx0AbW3Ic2ZgkvVuZpfZJptbTj0WbUym3bAjZp2qDzI8a1w35NeIj2bo6srJsR+8LXRf9qr1inqvmMlPRnu6ZXNvPo2iSPiU7Jvok+2R/KIYzHTSM888h8dwxzDcrS/zskuWbPNT51b8GMotBkqHajNaiQFwKcf1h/bH8detsC9tg47UiS/lQ8k0yfmSckezRmBH2dzbIZBLt5OG2PhvGeOHcyV/Jp1U/JXsnhp2eie+pfWhsRfLOtJGqyS5j7xFjJpJPMs58rDhxnhv7Iuspy6ufhsHavKn8t7qj84HMBztOq1HlwLYVOUgtorY7tipVVo9pT+wD41jxsbYmhVF7V3SpPEj8vI1rbSQzmgMknOvb9RVebtMW7eqkkJOvtTbLUiacrg1vnLMeuekkPaJ9DRAFh/vVqx9x4MWOWBoOmW9jMOdt45ji0eIzj+n2BWMpr4G1xbPX2e61wWBSVMU12bmtz7rfc268qWmsch+5AYyxieuSxZe1nzdqLfZ5bLVzO262M2OfpR3FR5mHZZJU8SrXZIxybklZKqTlJMawl1XmjTTxVUN6ZkqjZ7fJ1QgzsuU0Hhznlnf9HGr97McXFQmVSx/DSE7mNi2/ZvnWj/tM3/KKyJV5xItldYfXL/H6SJYpxyY1op+Fk/14Y6TkqySJ8Dcdqj0yF3ObCGf3QVLq7uXrhnE2GjPS90i+W2+399kwxrtxJfMvW2LzaeSnHgN2zOS5TrLw8szzXcvtx1YsbtYeZwwLFkeMmZhd1mNeE9p85I21UJ5b0bvz27I70UazPlQXttgu4lj7l4MIt1F+y9yd5Uc09hFdWVYelytFR0sYdtoduGp2LoGswPpAJ1laTm5jxKRG5pWg3C49vfv9SU9tpX3+BEV2l0qtk89OXfgzVHRwpVoBRHj7ccuo/Hs6pn48dBs/D+SgWA+Nr+OxPr5v0u+KkRWpPPX7a799u3WbLGddV+FnGmk5WdcaU92enZKfvr2yhStDcRnLoL5iLNtzqacd+/KsHfY89Y9es7oUQ/JN13W4VAAAIABJREFUzj+tdT7q7dN6+/ssgdpt5hHJFz83ld46b5erKoYRHdkvxYoVVJFmkz9YoD1ea3KNmvRUYvm9yw2977+npxWkTaqNS7uTjiJsdA/q1a1jG2Sp2LBs6zNfL3kfyCvyc3VOaTLb0Vhva2OPZn38+zpeznh2ufTtrJxkXfSa9sS3U7bx5Or9zVgG9a1x83OYdWk9WeZjYyZqF1vAn76d2r49YyZuD+lazeOzbEwMPNkbbbdzMaMNzjVz/2f5sdHeVdY0uOp+flx0GCGEMk2SAsbUscGGXyUfb4rL18T0RKAemycWNKHk10S0eWNAkScRNZ4XOxgWHZVfZqUmniDv+mTC/ixIJKbdgp/Bqrg7k/xQJ3UvMTa+eRuEFsbtfYY2RLgdxSaii/npgaAXzoE9jY+30G5n5s0DetwNFphkiNkkuLKkwXTsj/dZfmV1eg4bXZMqKSdW5705M23bwTyC+TLM7UEuqRhGdOzKN2+BNnkZkFuLjNH8MJCxNy4yP5iTXrv4dUazhomObq5HOOekrYt4E/l4Xnk2aUZJ2zzfm018tLXPzjFu5hPWbn2w56ld7NpWP4pcM09zzuTL8bhNxzDPU4N8Zx75c+ZL3C4ld6Bb8Y3muRIct4d0GeaeftNE58AuG5PB2U617xoVC9RcP2BXdir/2xses7lmr/9N3YGsjY9vU3TY4DfnxZEoOnRAy+DhASe66MEtb1z/eFh0eBzY3cGEwLftJyUvLeTlye6gvx4oOxeMorzTyYuc8svX0ez3cmLWp/XubBj43Xq0CcHm8mY2EV28SBplSldAjmq/i3NgUV2zg8Z0+9aA7DE+KcZ04sdR+xLdRPjtlE6ynzePdjKO5Zmy7Wgea/KUI/mEbJFjepBLau6M6Ai0URzIHG+BNjGZyg3EYCBD2TNok81c+fXra/0c/nyJdNtcj8ryNtdrfYPjzLNJMdo1RwTiw1Dq584x7nHh/Bbrh/YpK51f2+PHsfMj4yFbvTHMPq7lAgkJ+LImw+QT25VFp1/xPvh5vbB9SmI+2WAP8TFjS8V3ICvSxrHMXHLmtIE+6mhYKhuMZDUn23vifK//VcRWe9dYJ6FiXJ5bdLgVn1lQBm2q8/WgBZKAmifww0AJZ6uoDznYVXSEeQtIKgFbHEQL/YSAJ/lJIg5jlgRLnfK4KvUXpXbbm/gmfWrncqD0+n7rLn4b6yedr7Lx5Whd/mKmdc3lqPbKX9Y2Z6ZkcDc17rId3rdSti+dGzYsUn567VxZvMiVzrZNuuxdk7r4yS496Eh+SZlBZlrH0Tzmcdb+mPE1YuDEUD/ssVLndmgORJ/+oKuVq9tN5IZi4Mvw9ETyVHvuy9Zt+jPS3eV6UJaKDcvOfSP2+7oDc0qINdtTPvf04Zw0fHS8nLHrcunbWTnJ0um1R/yQc0ZWJr6pisdNkTX2aPsneWT6Zrl2rt9p12CPsck+5SifxO0hXau54/N53MZkqyd7o+02XxiBK7verAd7/a8Cip69c4nmSIOr5vvJRUcZyPWdRD7Xrzjkrwz5SWJx2yzu2okSQBGYLKM9MWV4o+t8/8qf+4oO/qHHFd6JvRywZiKnWGyMae6j465iuqqzH7BVnrRTBXNHn1UbAtx44TqATXhMGP8VU9pb2l+XnBaWFnvdfgez6nP//rzMoeyPefpFeaWvkT3GJxXWcmL51HwQc4L2LXeMXut0JlvLz5PpDXKMmdV7Ng+yv9hMf8t+ktuVX2Xf+2WZdzo251uSkPVopv0GsNct87i3tfeH1562RtQ2ImeicbH50dtXFloh2/Yh/ZV3uxuS5W4aeY7SYyo/ZdTXRrq963St+hFj3bxJR3v6sC9mrkpP96stfZ6oh1XCCO2D04/nMSGbLFevlO/zg3Qnu2usezmhvIuMYWF/n0fbx0zILsGZD7PPkbHW4kt95ZzFwsRn1B7SX3lnAW4ObFyrIzZyvts5bZPtIo7CfTrs49rPNRH/ezkyP3j86XkjOpdY1nJcnl508FNCfgctBYKcNVA5INxOTizyq5kagJSc8ld80blJ4MFEUmVc/GBv0ZHcXuXN3Ojr25WfoSn3U0y7JOOv4UUbG3fbh85HOssiW/ODfwWfmVhUSHf0WbUhwM3Ld+un18ayCcfI+N/r6mMtJ8Ou/V5mK78yr8akjNkaQ/NtZWpH9hifan91kCZIfm9e/EpKMa90vrF80abqNNeUKjopGwXHZp5Qq19Obnq28ARe+zmy4zz6OKs5lH0fjC/Wo+YFh4m6n2QF2qzmW7DoSCGwuqXcSAyi4y4Slz4/evs8NrIfM5fX+Nj66smi/iWeasg8MM48m+iajPOOOSIWH/aePx8Y44aL9cGeJ42hazt8J7lHzo9rY1jGiX0S7bePGRJCe621eYoj1j7nsUttI3neZJajnfndx/csG/NaoVizE1HbTRy5O3/OuHHOcfv02fvf8+9sjtqrJiBfF+lPuehtXKWh1zn2Au1du45HM0vfKXZeQs/s/5b7n86G/DOTzrfE9lP8RAw/JZLw490IvHxsUaHUP5B9N06w5zsIfFDRUao2WSFSlda+4vu0kKLouEZEUXRcI07fbOXLN0bfDB++fzSB14+t/ES/e4r90dTh3LsS+Kiig9+lyw9dP3+goeh412Gl7ULRoXng7P0IvH5j9H5MYBEIHEHglWOLdNPrVfim44hYQsbjBD6s6HgcyJUkvFPRcSVusBUEQAAEQAAEQAAEQOC5BFB0PJf3odpQdByKE8JAAARAAARAAARAAAROIkBFR9q84h8YIAeQA8gB5AByADmAHEAOIAeQA2fkAL7pOKmae4bYlBD4DwRAAARAAARAAARAAATemUDas6LoeOcITWxD0TEBhNsgAAIgAAIgAAIgAAIvJ4Ci4+UheMwAFB2P8UNvEAABEAABEAABEACB8wmg6Dif8akaUHScihfCQQAEQAAEQAAEQAAEDiCAouMAiK8UgaLjlfShGwRAAARAAARAAARAIEIARUeE0hu3QdHxxsGBaSAAAiAAAiAAAiAAAkRgY9GR/8L37f67/HsKwL/l53ZbvuWvi+9BiqJjD7Vv6JPHzq2On2VJf5n2/vvoyH3WHDDQ8+93udNf170teR4atAuHOHN6nEuvkP4S8NPmyl7/mVfey7dHc+BMUpANAiAAAiDABN666Pj3ey8bi2Lu389yu/0sf2w9Pulvq1gMxI03ZvXzvjy837SKcP62BCgHUrVOm/Qc++sXHWVzmZ9CFPaPbTjP3DyfKfvVifdevj2WA69mCf0gAAIg8C0ENhYdJ2ChQsLbEOeFRD+BlN98nGDLBUV633TkokMXZ1yIqP1axN9hfCKd0eZVBGrRkQygGN7et2AP59jB30pQQabHyZHxeunGPMx0n8en+3ay/fu8Ri8QAAEQAIFHCLxv0SGe0EoHabHbvHOWEj7rOFp0LEt53WYrOyz+n5Uw7+hNOMcOLjpOZnH6xnzN/jDTNSHje6f7drL9Y89wBwRAAARA4CwCw6KDN/f0mV7RKe8m68XGe90hvzvO7clw+R62ecc8vXMu//E3G97T+iRrdP0sQO8ud2vRwXyrX7S4ixiId9Br7EWMVH8TV/nzAyx/NY9+/ko8i36hW/UX+m+rRVMsH9km/vaH8o91Sx58jY2hLw0Eq2TXij2ZX/8kna5L2VJnkinvsc6fP/qZDGWr4W9NyfqFvbZB8svI8GIo3KdDbX+MudXDpnQ23trPnSg9ltGoXTFWxVa0ZV86vWwQ83Ze41T2JEHWJi9u5hrr58+ZnSEdJjd+f0TMy9iR43bNd7bLfqo+rM/4ptpMxgbJN7nHIejkiPjRPdYvxgpdF/ZwO8VX3M/+ldwtjGhs0XE/Zi0PnIMACIAACGwnsF50OAuHntwjGw77dDL1EZM6Ldz961Vaj3Bs0F60+KrDaNFBPG+ac16QRSyWEk+5OI94lw0XbxQIernmbnBUw1KYqvyyeZLbSFm8cTWiRLwj+TjWTZuOKvwAezxG5Rsn9isSgxw7W+BY+/S4Sn1YBwEqG7zqXrro2efEUACmQz02I8zXbc126NzM5tkCzMrJlml7+MGElJdsbOdTNh6XvXGTY8mAzLFvdi00/tr5/tzg2DZZrHrqOzcUn8RXFGHZLh2b7XJtLHX+ruaEmjeyoWSjYJ1tlmPG0yfv87wg50MBAYcgAAIgAAIPE5gUHf0ErCf3PRsOYzMt8HZx9OVST2/zZER+0+m46DBPO9VuMxHKi3B/Of2wvojHxvjkxb7ljT3n2NB1o1znFreUnyt5Qc38+1auPU9do9ekNXmTqDcu3n21+SeezCcWA7JNbPqyDruJ0pr7M8vGnrcevj5zv27wfDma58RWN8e8mPhytK5sj2LeTB8cWR8cGXvjVjlZ1Y4O1eSR3BgXHUoFnVjfbYsIc9snne+TWyWt5UQ3FvpcoZxYnV8cvgOd1SYcgAAIgAAIPERgvegwk3bS5C3w9hUT3YafPKZNsNjMstnuRL+yYKHoYHL0OS46eGPb+Ktwmlcb2qsFJk5ufJwFm60y7b3FPzX1rtu8qRsXeuVBFFHKEVacPv28sXLtebXHbBD7dkV+2J7CXsglmWx/MAaqj3C3PnH2xhWzGNoaj6FQSYeaS4z5qq0mZ1if1pOuBjbAoflhHkey94i4CRnsF33O7HwwN0bfFNQxMswLZWVKYPoVxZyyfLePzZwp9+XP3TlhjeH5RLD2xoy2uc9buu8UNGwvPkEABEAABB4j8JSig03Mk3raPLYNsb84lgVBLCIsY7QI1vtfdhApOhISveC2d/md9VsT9DaEg40IdaT2Lb6k11HiXdc2ejnQbxS0sf59Lddh4fHpru2xhzlzsW02+mschWMeK3E7x5Y2kcw9YOuabhNDqSsda54x5iyD+ipbSaD7QELrIc30d3vstxiq3ZpfZESATWpHcg6ImzeHVfn8N4jIMP2/qR+5OfnujK/4vOrHrxozsEMx5wJX+TqRWxWUfNqSE46/2p4i07TTbYp9qvji8SOMwyEIgAAIgMBhBB4sOiKTu7HVLmLeprbb2AgZg/aixVcdRouOvAmRmxz/qXEHz+Wd+9pvuFJfvbD7+VHbrW0KbJ6QYfONDOlfk+vYWO1Rmybjy057+MkybZQTS6UjFgPPJ8Ih/yftk8e1jWUXj2EVUQ4iMbZtlAxrn5tjhj8J8HlpXX6bqt/qphuWTbqYrz0cNxXvakXKQreAai1m93PLYW54TMO+NytGdirmu+RKHVzkifnJs5/HrhnfSZKyh89NO9WGbOai0tiCUxAAARAAgVMIPFx05K/I2+RNE3t6esSLbVo85ORvFxN3weJXgvonT1lff/0UOhcQGi46nKeRNnbkbooPxy5dWI2P2CSkthRbfY3yQca/MPWuq01B2ZTJ3Km55cgrYstvw1rJR96QSB9D1/ImcKs9ZFdhmn6rkH1KH4mBx4pYSw5qXMVszbp1vLwYMlv+1HHisbrCPNk2tHWcY1ZPaANM4u7mm5NUQLB9MTaHxc3kGTNMn33spZ3e/TLGhEw3N7Jw57WoDb4LQ0mH+HY6n4s5fs9YfSQnZC4VO22ueFx0m8JCfdMhfRIAcAgCIAACIHAIgYeLDn4iyD8TkDZVtJjahVFM7nbNqIuY+HW6efPDG4Xmq1442vVvPYoXHf4mhjeeHD9VcBSobnzSPdroip+1cH62gPragPMm31zvYlsKnmob/6pM00/Hvjy1Lvk2zEeRn9mVfsNxjD0knZ5quz/TVDefgqNnm+OzjEtipJpE2QViqPn2T5XPmgM6/oNvB/p2nOuNqSr2omx4M+3kdWIyGzueXZallaHsjOpQgW8aZH7UJmHfm5xIfPnhxJaxKu3r8pfniDKO2X7qwyfCRMvaa6fb5HlCiypzhxl/Qg0OQQAEQAAEHiAwLDpGMvXEPWp1xPX8JEovwt61I3RdV4ZXdFzXG1h+BQLPmwOuQAM2XpFALvb6b8xH16/oI2wGARAAgXcjsLHoKE+C9OOh03yiBUA+daKnsv1CcZoBFxCMouMCQfooE587B3wUOjjzNgT4Gya9lPWvn72NwTAEBEAABD6AQLjo4Ela/eap0wHkRSAvDHmzo7/5ON2At1eAouPtQ/QxBr5mDvgYfHDkzQi0fB68hvdm9sIcEAABELg6gXDRcXVHP9V+FB2fGln4BQIgAAIgAAIgAAKfQwBFx8VjiaLj4gGE+SAAAiAAAiAAAiDwBQRq0ZEO8A8MkAPIAeQAcgA5gBxADiAHkAPIgTNy4JaE4r9rEkDsrhk3WA0CIAACIAACIAAC30Qg7VlRdFw44ig6Lhw8mA4CIAACIAACIAACX0IARcfFA42i4+IBhPkgAAIgAAIgAAIg8AUEUHRcPMgoOi4eQJgPAiAAAiAAAiAAAl9AAEXHxYOMouPiAYT5IAACIAACIAACIPAFBFB0XDzIKDouHkCYDwIgAAIgAAIgAAJfQOAiRUf+a+S3++/ybzUo0XarQiY33+uvpKPomITrw2///dyW+bh4LYQr2HgUoeN9LXPaz99mE7UtW+fGWPs9OnSfzW5dpgP/xfP77/qqdRmHYCgIgAAIPEgARcdGgLSQyOLn72e53X6W7VuCjYoHzb2igxe72+22tH/3BWvfAOKFL19hA3cFG49KgaN9zWN53/yibYkVEY1DrP0eHbpP0/hZR+nh1H35/ftd7ukTdcdnhRfegAAI7CLwfkUHbeIDk3S03S4so055IdZPruQ3H6N+510fFx16o8KFyOYHpi/hfB6vp0s+md8VNnBXsPGovDjW17Jx3blhPdYWn9AeHXv6+NqfdHXHGE4+8jrRPah6ktlhNTv8C8tGQxAAARAQBFB0CBjTw3/+UytaRDfv5qfaQg2iRcey5OLottVOLEihOAwbnczvChu4K9g4jN/GG+/k6zNs2aNjT5+NYTi2+clj+Fhjd0j7dP92IEEXEACBcwgMiw5aGH7+FvpMr+mUV4rSeXqCw0/O8+s7+ql6MrX241d8zGbXk/+b3k/n9uWTnxZRe2FDpF1FRsWClm3Myfb+/Gm/5GtUy1Lu9b4+8gpEtXHnwdaig3lWdbTgCDbC5y6Gt/b0jvpv4FplyRhOeCcdtR/nhQ1cdSQdlFdCTBuZO1XmSLfkIViwmi32dG0rv7ids7Fmfav+Ma/0aXiwL+pzQyzV2J8x4jnEtpOck432vjIun3Q8A34pWyt/IXyD31W/sLVeK5wPi8ejfBzu0rZsdz+XdW2Er4la7lfmi4kOpjzr08mN5uyEEendOc5d25NdIodYfvVPsprYtpi8W0vlJH82D0QYevaurbnE4EA/mCk+QQAEvpfAetHhTP51gq2zZP/uL0+SFWuZYGsXuXjJi6kDTXL961Wkt5vUo+1ui1JTJlK5Ae/9yt8MdG2kDezgwGa+feZntOjI/mlefbHUx3IUj3x9D9dMI8pb8ueFWsVSwY1v5qlorYLKt0Aq3/34b7NnlM977ezjY8dFOt9n455Y+ozkzzjVTb8YN6G8U3HNm92tfmU9MucTP3Fe5oGaBklnaG6QOdw27p6ve+Kxl8+Mu8oVz/fybShzVu3rnD33VxaQJEP8zNszGWXdsuiOjXOTeutrkpozcs95/Oy4SXnZuFr9vR/+PMBxo/4HrLlH+2H9wjkIgMD3EZgUHf1EaBciQjbddJdJUqzudjGq6AeyOr2hdr1e1mP107mwL7XTOsey5pth1nr857joEN9eOAsjv25lXO4XWJfzmIXLVWw6mMCcN7eUn2O9uZV/X8fRxjX3tG3SVe+atGb0zYpqs4Gf1WfPSa6R57ZRBvhMWpPxfZItYkfnJmG0fruZylq8NkZMn3fNwMHR2O7cId9XGzEladzf9VtwyGIiviqF5WSsV8rdxidmi46Dw4dyq835uv0eHbE+PaVjGGn7C13nt7157ZRNZszxPeo3yIv1+PlcWK79dO0b2NT69gx9e7nQFsU4Cck2HulHsw1HIAAC30pgvejoZpyyEbPXu6cqZcJLm135T/SjCVCc1wAMJtNu4g21G0ycSZnp79mjdfaTeLW587/eOf1gXHS0zQM/XVS4i80qPjVWYgEynLJDj3FNMua8U6t5HmnAfox0HItu8eS92jO9ttWePs+yvRvsVEGjd/yW+619K2F9287ssVgq/YNx4LWZ5p0O7PZcGNjSxD7m9+hBg/KVlG3Mmei4bI6k9z5VTvAta4s9p3lB5DzdF/mm2u/REeyzOWeDjJT9BUr0GjOkT3cO9OcwjsUsv3lOvgV+s5WNC9nUsZ3nmSsnCfP8CzLe4odiihMQAIGvJHBC0VEmP7GY1UXFLmjivNL3JkDepEqZkXbdxFy1lIm2bcy9CVkvUJ5fRd6aHqHyjMNI0ZH0al/6zevQNo/zmr/Ufp1rtcfEX9vo8S7XTL9mu39fy3VYeHy6a3vsISFLv7HYYKf11bDXvu2w0chrLNn29Vgq/QNZkTZKb3dysF9J/sBWUh3J4UF/5SsXzXLe4ms2ruzzQC7fdj8HfbQtTt5TP37A0Bdhqv8eHaE+J8S2QFL2b7ymOHtzIM8PNo4Dn5U8cUI20sOeNs7EbTqkNqt6YgxdOUmD598Jfli/cA4CIPB9BPYVHWoRNZOWO1mVSVFMnJsmQJ7gpV5vouza5YXU+0Fa0i/kefa4bUSfmi4DW+r9Ew+iRQe/q95CkNmMXz8pRru+PcY1SZ7yDuaRRTuVy7pNHG2sq43cbqc97oLONrRgkBvWBnteGqkiRrXZZeNjsVT6zc8EcGwibbit+/mAX+P8fsxvfj3Ryle+nmK3R8gfy8oWzjnOZxKT52XyIY1zdc8WKXt0BPqcyMj6n1yOXlOU3TnQn8NGeaHk2ROXQWvk2azmFbf/o2uuH7tmlXPk2uG0wyUQAIGvJbCv6EhPZuqGKU9O4/MyOas+owl7/ASym3gHE5xtx1//VnNTqGkRaa+o5EvSp5wPvqz+iVTW0V9/RlaFiw5+wio2FtluftJZrLWbjwHnR7jGeNu88vPIMrY+UQxT7gm/bVyrPaJNf22fPaMn6mE71bgZ2FDtHtxXMiwx/q1sejzsHSOZdxsLHn/rO1lk806Z+YhfMr/TRqydH5LD4p3+3tej7C5zVo2zglPwpVdZ17l7eU9xvv8u6bcYrRZQvGHfqGOeD+cx8vyNXlOEB3MgyVILS+41ze+U67IfrUctL5Xuyl2uT5aZPffnypG90TmqJFqbSzf6Yf3COQiAwPcR2Fd0jH4NIfMrk3R9r5V/taKYaIcToJxkV99dFxPrpB1voKo9znu0nj10TS70g8Wha8ccnvAZLzp4c6kXN954VTbS32I/+Zc2roIz3SIe8ud2tOzUxuM6ut5xDORRMVF8lCd8xd60kSIfhV+dHrZTtKk2ymu77PHztL5yOLNzMtY6X3baeNgY4eJ2xa/ENpJ3Iqj1daiap86cotqXE6vHbqz3+p3Fz3ONN3SP2i2LZs/PcD7JfCZBZcM6mhNV+7m/XT5G8mFnztrYWka9LWUsKp/8a5YxyTJzIF0Ta5rsE7KtyOvmVSmI56bJPBDJszV7Pf+SGUf6YdzCKQiAwBcSGBYdIxZrE9eoz+dczwu03rh4157nsVd0PE87NJ1J4LvH2plkIRsErkMA88B1YgVLQQAE1gmg6Fjn092lJz/ySRk97W+vNXQdTr6AouNkwC8Uj83GC+FDNQi8CQHMA28SCJgBAiDwMAEUHZsR5m828rfq+XUD/c3HZoEPdUDR8RC+t+6MzcZbhwfGgcBTCGAeeApmKAEBEHgCgc1FxxNsgooNBFB0bICFpiAAAiAAAiAAAiAAAi8hgKLjJdiPU4qi4ziWkAQCIAACIAACIAACIHAOgVp0pAP8AwPkAHIAOYAcQA4gB5ADyAHkAHLgjBy4JaH475oEELtrxg1WgwAIgAAIgAAIgMA3EUh7VhQdF444io4LBw+mgwAIgAAIgAAIgMCXEEDRcfFAo+i4eABhPgiAAAiAAAiAAAh8AQEUHRcPMoqOiwcQ5oMACIAACIAACIDAFxBA0XHxIKPouHgAYT4IgAAIgAAIgAAIfAEBFB0XDzKKjosHEOaDAAiAAAiAAAiAwBcQeHrRQX9d9f67/CO4+S963+r5jPh7/TXwmbXPuP9Y0bGVf6y9jvEzKLynjn+/9+V2uy3n/MX6WCzek8y1rUJ+p/gN8u/f73K/3Sjv87w+aHdCCiAuJ0C9gEgd9+fl2wXQwEQQeDsClyo6aBMnC5S/n+V2+1n+3g7r8wzyig7e7KYNr/zXb363TtCx9noReB6L99KUCuT78vuXNmH35TdX2QeaGIvFgQohqhBAficQXv6Vaz9yRvbanZNKiMs5XN9dqo778/Lt3bnAPhB4RwIvLjocJFRIeJu0PJnojbP85sOR9QWXxkWHKcb4CaQs2k7ioxeBk5S8udjEgHO1K5bf3HaYt04A+T3ik+djzvtRq7OuXzYuwzXvLFKfJfehuIP9ZyUDvHl7AtcpOmjT3BcjNOGoJ2tvz/xQA8NFR9JaCo+zNwUPLQKH0oEwEDieAPJ7xBRFx4jM6nVsfFfxzG4+NB7BfoYX90HgUALDooM38/SZXtPhJ+T8xLy8uiP3+6lt2tDq13v0E3c7Qcjzqku8FsQb5CxTy0okRtcPpfTGwjYVHcuyZMaNY8+/3WO3uzacC6WBitvPX9Zh2iw0uYvXvex9ViY+ldyUEzLZRLt6uJKb1CZgg9L585fzq9rqvT5SmNY2xZqJLtLD8jnfrYya340bj4ekhWSYPsr+ALOoHVywytf1ZuGwfbr2AUaz+aRyYIaOz+xjZSOY1WvcvzOSx0yJwSi/Te4lTlbUmh0la9rHhM0a26Qnwi0yJvVc3r69q9yZpbVX/CwT+c3tiodrcqtsjokT067NA3EpJukP64+xXzcuOcI2JHtl+xVZXf48g0F7AAAgAElEQVQJbqTjgbzifFOspV3Fic4Gm7jK2dgcuKpb8njYnn4eJN1SrmHI7nV+G/bdfe6oeOAEBEBgC4H1oqOb7O2TrDQBtU1qHaR1cJYJSkwAdkKw53khHHyjIeRUJ2kC69vX+x9+sLXoyAtQ46X4l8Wgho/Y6Zir9rzxFT9XUxc4Eat8reWJ/z64DlTSIzfYvMnStsk+2s6so+mM2EC+rfoSW3DjumQhZe3ngrrFKvvUzr1YbGMmNtQVbG8Hb05rk4S95IrSJ8OxWDl6rtjHyJ9PlA1lgyFtzXGVrLOhkRyb50RjIXV6fEZ2KGy10Gy524+Xdba9np5bhH9u0/Jtln9LF/PGWW7CI3JjMW2Mskx/sz+Ly3b+toc3jnKbCOfRmsc5NLO/j7fgrtZwmzfZ7hlr7W1sDuxtyrrpoUV16Ah7Cnux3pDuem516HloxD7J2MZFU8IZCICAT2BSdLRJPXe3A1gL1YO93DNFgW1jz/1JwJ/oSIOzydBWffbZ1qLD8tX8M2c12VL8Wh7o9n4+eG3qOsPhMHnBl8efKzlAnXxbsrx8b90Gv7/2xbdBt4noKgulMUjLcWJh4Oj25iad+vbKliQjYIf3LRP1FUWalDvagOY2GxjVzUORPs2b3ud1O6XVtu/+nEhSrV57LjW34wgb3y6WQXpWuUV07Mk/3y5tz1wu+9E+z41L05OOImx0D+r1k74Ja/NkbhGU5ea09bnptHlkz7klXV8d29xSfo715lb+fR3jvhBIfW2b0TVpTS24jR+yjZWrz/2crP1d9vWuOPD9Fg1wCAIgECCwXnQ4A70+UXJ+Iw8NdtvHFAV6QnAmIncSWBnwRn7A549qsrXosE8ZbTzovtiw2Jiq9gP2Xhv5Wk47lk9RbVhKzNOTOvnP5pfoNszNYqeSU2UWGyK+8G/sMTbs8ddyTW54cowq4a1pT3e2M5vaMdqEZYOXmzMPsJEPxYN5WABdnOY+ez5mGyd9O125l4rTBj5jO5hY+7mr1Vyt34aksdGPIVeP9KUcr+qQ7YV58lBzSHf8DZ5qF5BbN5p1jLZX20j/QIbSsyEu0if+RnWVjeqQT9aYT2W5a96gYEnqTHtX92D8aEZJ2GQMdL6W9mZcWrn2PJttvoliG8V6s92efh60uofzkMOyubuVS+uJIxAAgTGBzUUHi6KBTYtCe7pD18xkxJM4X7YTgj23E2rWVyYANTkVSwYLENv56Z9bi44cNxMzyZV48kamX/hUvAbsI23W4+LF21/sPDnZR/HkcWCn6jtoo3zhBZqTuQhQbQZylC5ebB+Uo/SybTKWfM3okbaQDHNfyV3zhzY/LZekXHlM8uRcsSZTdPRs0/NJLE9cOcxmjdfAzr18fDuEw+lwoNO0qqckU7Id5JaSG9ERaKM4kEVHFB2BmA5sU/YM2mQzV37V+lq/Sr0/cGMblWWKCJK+1teMO1f3IA8Uo8gY6Fz152Etty8Ekhjbpr8WiH1nTy/X01N1mbES32/4fjvm4BIIgMAKgd1FB8k0E6M72M2EatvYc38S6CeW6pORX69/ycGmoqPES74+1fEvCxG1SWzVpszGIbDJGDz9XA2PyavcduOkr2T4dmob/DaWD52vbdKD/h4hR9mm/GXP5syidgxfrzL5wZq7T2Wfz9r2Uf7xTTnelUxu0Pvs+ag24dyVN2E1vr6d2q7cJsLHtaPq5gNfJ991Pw0HbV/pIbmFcnRuR6/H76Pb+W2qX8aXfN3G1Jfh6YnEpeqmA1+2btOfke6aN3w/KEvFRveN2O/rLnO1sUkxCrFme9qnp0/JDRUYWZ7q94g9Yh5SMpvZ+cjq8NjbNtTT5qAVjHMQAIEIgW1FRxqgchIzA5YGe3qSUNvkSbed201rf+5vBviHavunqvmr0/56xPlPaBMuOspEul5EFCIprvff5df+MJ2zmOSYN/41B8QikGPE355oHf7fzBvkjcotE71JbkZs2OPLXn+pXx0n2Re6tsotLXyNo26/gxnHM2SH+W1MNPbNNRmSw+KxNp/EfPZY86tA3dxkcoz6inf187l+TYRf31AYHT6+HRJaPp7m6oRttbEa1HOa6qivcLV8y6++tHPSI/KVmcqHGskj267XLfO6t7X3p8g8KC42Ar195ET3AEb2Ixsr73YnJMvd5PKaZ8bYhrzybNKxiLFu3uQj61ONj8gFrSf3m1/bZ4+Vq84nY8Xfb+yzw3LCOQiAQE9gW9HBCwh9RZnfs5XzLA32ya8BVRMCyxOTVTKR2hQdVT5Ntm3BY1esPL7+LZ/joqO8Bz2IFfPx+ZVJd/S+uIpXeQJU9KQNBy1Kqk1bQOv7zeY+21M/uUhi+/nXUdaEqC3rgcybpMc2zYul4NLZ0PvS8+nb7PGX5BoDe109N7mh69rvZRawI38DKdg5uVEDUQ7IPo7fjngwIxU3G7OAzyzH2scbjpqTbo7F4h3hM7SjM6yPu/uwYMCW9axyq0WFiKll67RZzb/BNyhkj5GtbDO/qvTZcXHwm1/7rotMrz0z9+5ZX20sUx/qX+KphmMpMmqOOuNupNu7TtdkLALjp/dpPiY6Peyj1O1d22GP1eWeD8bKkP0OO3pOuAICIGAJDIsO2zByToNdzZiRXtE2eSMsF73Rk7X/7Z2JceM6DIZdlwtKPakmzWwx2iFIkAAIipAs2Zb9v5l91kHi+AAekJUkKvET2nlFxyf49S4+2AXsXez6BjvOnU8+lyC4fW5s4RkIgAAIXJnAhYqO8vRPPimhp0Dt1Z4rB2Kv7Sg69pKL9UPREeN0RitsnvdRBbd93NALBEAABEDgXAKXKjr4m438ZUr+ild/83EurHeUjqLj3Kig6DiX75p0bJ7X6IzvgduYDe6AAAiAAAi8jsChRcfr3PhezSg6vjf28BwEQAAEQAAEQAAErkIARcdVIjWwE0XHAAwugwAIgAAIgAAIgAAIvA2BWnSkA/wDA+QAcgA5gBxADiAHkAPIAeQAcuCMHLglofjvmgQQu2vGDVaDAAiAAAiAAAiAwDcRSHtWFB0XjjiKjgsHD6aDAAiAAAiAAAiAwJcQQNFx8UCj6Lh4AGE+CIAACIAACIAACHwBARQdFw8yio6LBxDmgwAIgAAIgAAIgMAXEEDRcfEgo+i4eABhPgiAAAiAAAiAAAh8AQEUHRcPMoqOiwcQ5oMACIAACIAACIDAFxB4YdGR/6L47f67/NsM+m/5ud0W/GXyhX7N8WZ86PAFBPIYudVxsizpL1Xff7ePtgisK/3ldvzF7khEcxsd10fmbKvzSFlW9vhc+zNu95w7r2HwHN+gBQRAAAR6ApcsOv793hdVrPz9LLfbz/LX+/fxV7xvOojP7bakDWf7d19O2m9+POMrOkg5kKryf7/L/ZZjnzZcKDpy8XXLTyyuGNqn2qw36Uduko+UFUei/Yn3O6flaxic4wukggAIgMCcwLFFB23+z97c5olab57kNx9zpz+pxbjo0EUYFyKb91pPieknReQ9fKlFRzKHYpgKUJ0TR1r6Xpu5dc/I1s0DYV3mS+4+YWw+Na6f4M8TfHhJrkEpCIAACBxA4HpFh3hyK/3/mI2EdCpwHC06lqW8brN1s4VFNBAFNHnq5vRB3B8zVzxhbD41rp/gzxN8eDD90R0EQAAEXkZgWHTwwkyf6TUd/tkL2vS313Z4D1vbiVd6+NuIkSy6znLpgWx+/YOfyudXg/TT2XxPX0v0RtdfRvZJircWHRyTah4tki2eNc4lHu31rNxG9Te5kNpyPrD81dj//JW4Ff0iF1R/kVPrr8WU1xWMEV6eJTkqz1i35MHX2BiPidElmtLPUHjfLlh72jcRPocRw/zqVIudNYX6zdgFYih94mMl++cv+2p5SZZyDmEhzqeSm/pYp+pYb36rnAzEiHlq7v2cMrOF5ezJI61bzK+Fyapsz8ebeXXupLiSXSLObCd92hhP4i9l1f4iX1VcT/In4e50OzmnUtXYws07OSImdI/HieBE1x2ebk5VI8o8J1h5a2VtjgMQAAEQeBMC60VHmtR4RiWD89PythikyU8s1rTI9K9X1clYySqTvZ1wlc4yudo24rxyHOiu9z/0IFp05Bjo2PSFWs87b450v5wK6edoTJFRNhktP8SC7sVexdrmVu4rZfEm24gSkS32mwbuwu7opoW79j3AnsKjiszg6JcgsF+RGPjjx9qnx2LqwzpIbdkoKVs8+5wYCsDZg5+04W/jvm6QxLiM+OXJndmc5cp8TH6384jfPc8+7/fJyTGZ5VGETW+jjTftlpdb+XkdxfLEuJJdIs69ndmSsI9C1qNzjWJQi4n1PI3EWcu1cdDjbuTDiNOcp6dPr8tZdvNT24szEAABEHgfApOiw05kdgI0jtBi1zYAfHc0KboTrlyEkgAls2wO1M6paPE2VWzAB3+Oi472JFhvghhGjmWHUvG2/LnvOA421vacJdB1o9zmA7dtn2O9uY1/38q156lv9FqzJR35+lqbfF9tpIkvj6tYDMg2scnP8idjsRlRjqyt9rx18PXxfV+v5hfziyWOP62NDs9x53LHyvBjrecZT2hMjuaQ5ehrMTbUZzY+7Fgldb2d7A3J7PKo3lXFcL2aCkwxJ2tfCstO5gYfhWw/Buf6w362z7G+3MbP/9rfjcmIU5+L87g7bAc6q004AAEQAIE3IbBedJhFL9mcn2ClDW1fXPiLRplYHVnuAmbbqWJiZUFQ7d6E7hPMGBcdvLFtMVNoCy8qSNJTf/VPxNZd0JyFj3017b1FNDX1rtt8qJt6ZZt+ysdq86efH1auPa/2yA0Q26iuFflhewp7IUP5HYyB6iMcXh2LXBANbY3HUKhMDi13+w2XZRX0S8mlkwnfgW4tZyKDbVWDgSY241dQjohtsmOaW0E2Xsw72WasZQ4nxtXxz7OTc0TPKTzHtLnlHfzZPse0+fRZa6DmVPJS5C/d7wo/PSpwBgIgAALvQGBz0cFG54kuLSRtc/u0osMs9GRTaEPC1n/OZ6ToSN7qhcvbZA2YeBubNdbUvuUE6RULJGvxrmsby+KqYt0vuCwvf/r3tVyHhcenu7bHHubMGy2zIVzjKBzzWInbObZUXDD3gK1ruk0MpS7eUNqQKsZrspUwefKgzSQqIIPjah1QNm+Qo/IzkFtKj/RfH3sxV4xT8wfHptI4sMvqdM9XWSot6sTKer4/sTgro8UJ2a/G3SAmo5zj6yKHSKbhqTkVm9XDBB73wjgcggAIgMAbEthddJAvdqHyFkGeWM1EmvrrybQ/Jx1Gpu1TmZp29fqHH0SLjrygy5/ByBtg9eqPx8rlmvvqn/fJnW186HwUe3Nd9bW5ReLLgmv6SbM9fUquk3epv23TXdtpDz9JJc6Jpdhg8G8Um8XA80n6TMfSPnlcG1p28RhWEXTg543m57fRcszZBpuHvEIy/FirDe8DcjSH7KO+FmPjxVzLoaR1vnE+M649O8/OTXktx8ODc43OKJ+zYhiMs5ZrzqwM14fCzZm3lD08D5l2qg3p44cYxhacggAIgMCbE9hWdKQJVU6IdoK1E3Bx3l+YBgtYeoJTdfQLaP8DilnJ6Pqb83/YvHDRwa/biEU+MzMLWIqpaDN6ss2v9tRQJU8oH2RhM1lsVWebD33sKY9UfvT4rE+1j/BJLeJFxPzaPntIfGH6a3+4u76uuB4Dss2wItbymhqLMVujMbSUM9P2dDWf63f/bRwkB/9vom+xWfJKxRSfx2RUeys/28+el9w0uUdyRF4lHyPXImxITrUvR6CTPZhvz4yrtcGzM1kb9lHye7o/sThn+uX/aZzJuKhxx99s6jkw9RxxivDUbYrN6psOPfaUvTgBARAAgTcisK3o4MlTTHhy/k1+0QRZ7vO9rRMuL5r0TrBclLIC5+mev9i/EefTTIkXHf5GQLFOcbO8BzElh2jB5Xe10ydv/pq7q7HnBCnN9eLaFvD6bjj/yknTr2lLR/r1g/RUnHwUfnV62EfRJknq2pVN0TZ7SBL9kK7Hhyz+veufqfHscHwm+0ZjMWprIIbJRv3fnHFqH8ktJTdos5WrvvkIyEjcal4wP8Oci+21WHf54eXM4Jr1wY47km1iPtRn5ltielJcrQ2enRzTkI+GO8l7oj+ROLM//CltTPlhwnTIGsi60qdmnsee1lnGo2EpZeAYBEAABN6BwLDoeIVxawtYsyc/6VEbjfKH7/S11uOTj7yi45P9hW8gAAIg8K0EciHXvmVkDqPrfB+fIAACIPAOBC5YdJQnqPKpDj3V6yfidwB8tg0oOs4mDPkgAAIg8B4E+Nsj/U1H/5rYe1gLK0AABEBAE7hk0cE/qJgn3vzV8jd+y5FCiaJDJzTOQAAEQOCTCXDhUV/9E3/5/JP9hm8gAALXJ/BWRcf1cT7fAxQdz2cOjSAAAiAAAiAAAiAAAtsIoOjYxuvtWqPoeLuQwCAQAAEQAAEQAAEQAAFDoBYd6QD/wAA5gBxADiAHkAPIAeQAcgA5gBw4IwduSSj+uyYBxO6acYPVIAACIAACIAACIPBNBNKeFUXHhSOOouPCwYPpIAACIAACIAACIPAlBFB0XDzQKDouHkCYDwIgAAIgAAIgAAJfQABFx8WDjKLj4gGE+SAAAiAAAiAAAiDwBQRQdFw8yCg6Lh5AmA8CIAACIAACIAACX0AARcfFg4yi4+IBhPkgAAIgAAIgAAIg8AUETis6/n5uy+3+u/wjiPmvhrfzGdm/5ed2W/AXx2ecHv2L5FvjEmuvYz/34VNb8F8Ovv/mUXCsn7FYHKsT0hIB5HeiMMi/f7/L/XZb6K9l0/w/aHdCKiEuJ0C9gEgd9+fl2wXQwEQQeDsCb1l00GatFiy0yi+328/y93b4Xm+Q900Hb3Zp4ecNwO229JvfrRN0rL1eBF7P6DUWpML5vvz+pU3YfTm+7ojF4jW+f7ZW5HeKr5d/5Vp+WlSSwGt3Tn4gLudwfXepOu7Py7d35wL7QOAdCTyp6HBc//tZbu5mLE8aeoMsv/lwZH3xpXHRYYo0fgIpi7mTuOlF4CQlby42MeAc7oroN7cd5q0TQH6P+OR5mvN+1Oqs65eNy3AtPIvUZ8l9KO5g/1nJAG/ensD7FR20Oe6fDNPEop6gvT3bpxgYLjqSNaXwOHtT8NAi8BRqUAIC+wkgv0fsUHSMyKxex8Z3Fc/s5kPjEexneHEfBA4lMC46+Ml4eT1H7vfTIE8bV/0aj36ybicCeU7H4rWf9BoQb4SzTC0reTy6fiiNCwrbVHTw++jiVbU+Lj37ro35tkTF8+fPf+edJvfyrneKvZHhoVdyUx+ZhF6HlZyl5gEblM6fv5x31Vbv9ZHBO/4TXaSH5fNYqHqac3qMtXGSWpAM00fZH2AWtYMLVvnK3iwctk/XPsBoNs9UDszQ8Zl9rGwEs3qN+3dGFs7iPvURMihaJvcSJytqzY4W8XI0YbPGNumJcFtmOuq828Ytz9OVO3OwssSc7vFay+sqm5k7Me3ajOadQFwKcf1h/WE/dat6thrbFVnUT/opuJHwgP0j3XxdsXb86GywiVu9TAexOXBVt+TxsD39PEi6pVzDkN3r/Dbsu/vcUfHACQiAwBYCg6LDPrFKE03bjNbBWAdhmYjEQLcD357nBW/wjYaQU52hiapvX+9/6cHWoiMvQI2jiktZDGpYianOBdWeN76iiKkLnIhhvtbypy5coo0NX9IjNzi8ydK2yV7azqyj6YzYQL6t+hJbcOO6ZCFl7edCu8Uq+9TOvVhsYyY21BVsbwdvTmuThL3kitInw7FYOXoO2cfIn2eUDWWDIW3NcZWss6GRHJvnRGMhdXp8RnYobHWj33K3Hy/rbHs9PbcI/9ym5dss/5Yu5o2zfMgQkRuLaWOUZZqHGd58Ns1bHndNds/fRswbR7lNhPNoLeQc2ptXfR7YvMl2z1hrb2Nz4Eg3PbSoDh1hT2Ev1hLSXc+tDj0PjdgnGdu4aEo4AwEQ8AkEiw7dWQ/qco8m87ZA2Tb23B/s/oRGGpzNhLbqO8+2Fh2Wu45L5q8mW4prW4B1ezuh5xh4beo6w2Ey+cKXx58ruUGdfFuyvHxv3Qa/v/bFt0G3iegqC6UxSMtxYmHg6PbmJp369sqWJCNgh/ctE/UVRZqUO9qA5jYbGNXNQ5E+zZve53U7pdW27/6cSFKtXnsuNbfjCBvfLpZBela5RXTsyT/fLm3PXC770T7PjUvTk44ibHQP6pV+W2M3FoKy3Jy2PjedNo/sObek66tjm1vKz7He3Mq/r2PcFwKpr20zuiatqQWf8UO2sXL1uZ+Ttb/Lvt4VB77fogEOQQAEAgQGRQc/7UkTaSskWB4NajsJmKJAD3xnwnEH+8rANvLZlm//3Fp02KeMNk50X2xYbKxV+0FMvDbytZx23OdWi2fJBfPqgbf55T71aafN2WJn09teF6n5HfEl8mpBRBcvwGYMedxME3aVPlV7urKdGckwSrTcwcYp6XPHcDPxoXgMGPXfeM199nzMVk76hnIizmdsR2PG/q3mav02ZOf8HMnRge/CUmcT6W/wVD4F5NaN5mjsD2QoPaPiITmwlrcRNhJCOXZjG5Xl2vN4Xnk2aUbJ+MkY6Hwt7VfnDGe95/Es1pYk+nF7ehlW5nAeyga4e5ztXDpQuAACIOAQGBYd3JYGME3+5mm3mXR4seTLduDbc3/iLxOamZjIlsFCw3Z+6+fWoiPH08RS8ibOXAz0C5+K4yAmkTbr8fLywF/sPDnZR/HkcWCn6jtoo3zhBZqTvAhQbQZylC5ebB+Uo/SybTKWfM3okbaQDHNfyV3zhzZLLZekXHlM8uQcsiZTdPRs0/NMLE9cOcxmjdfAzr18fDuEw+lwoNO0qqckU7Id5JaSG9ERaKM4kEVHFB2BmA5sU/YM2mQz029OHOTtWr9KvT9wYxuV5RUda33NuHN1D/JAMYqMgc5Vfx7WcvtCIImxbfprgdh39vRyPT1Vlxkr8X2I77djDi6BAAisEJgWHdTXTIDuoDYTp21jz/3B3k8g1XYjv17/8oNNRUeJo3x9qotLWYioTWKuNmU2PoFNxuA979WwmXzLbTdO+kqGb6e2wW9j+dD52iY96O8RcpRtyl/2bM4saof3DZPSzypHn8o+n7Xt6sqX84CSyb17nz0f1Sacu/ImrMbXt1PbldtE+Lh2VN184Ovku+6n4aDtKz0kt1COzu3o9fh9dDu/TfXL+JKv25j6Mjw9kbhU3XTgy9Zt+jPSXfOG7wdlqdjovhH7fd1lrjY2KUYh1mxP+/T0KbmhAiPLU/0esUesU0pmMzsfWR0ee9uGetoctIJxDgIgECHgFx1pIMrJygxMGtTpiUFtkyfXdm43p/25v+jza139U6j8FWl/PeLkJ7cJFx1lIl0vIgqpFO/77/Jrf5jOWUxyLrS41NwQi0COHX97onX4f6t7kE8q50xUJzkbsWGPL3v9pX51/GRf6Noqt7TwNY66/Q5mHM+QHea3MdGcYK7JkBwWj7V5Juazx5rf3e/mLJNj1Fc8Fc/n+geW+fUNhdHh49shoeXjaa5O2FYbq0E9p6mO+gpXy7f8ykk7Jz0iX5mpfKiRPLLtet0yr3tbe3+KzIPiYiPQ20dOdA9gZD+ysfJud0Ky3E0ur4VmjG3IK88mHYsY6+ZNPrI+1fiIXNB6cr/5tX32WLnqfDJW/H3IPjssJ5yDAAj0BPyigxcK+ioyv/8u51Ma1JNf96kGPssTk1IyhdoUHVU+TaptYWOTrTy+/u2f46JD/txCH0Pm5nMtk6792QiOmYpjeQJU4pg2HLQoqTZtAa3vqpv7bE/95CKJc5B/JWZNlNqyHsh8Snps07xYCi6dDb0vPZ++zR5/Sa4xsNfVc5Mbuq79XmYBO/I3k4Kdkxs1EOWA7OP47YgHM1JxszEL+MxyrH284ag56eZYLN4RPkM7OsP6uLsPCwZsWc8qt1pUiJhatk6b1fwbfINC9hjZyjbzq0qfHRcHv/l18LrI9Nozc++e9dXGMvWh/iWeajiWIqPmqDPuRrq963RNxiIwfnqf5mOi08M+St3etR32WF3u+WCsDNnvsKPnhCsgAAKWwLDosA3lOQ1qNTPKu48e5w2vXNxGT9Ae1fQJ/b2i4xP8ehcf7AL2LnZ9gx3nzjOfSxDcPje28AwEQAAErkzgDYuO8pRPPhGhpz3tFZ4rAz/adhQdRxPV8lB0aB7PPMPmeR9tcNvHDb1AAARAAATOJfCWRQd/s5G/TMlf5epvPs6FciXpKDrOjRaKjnP5rknH5nmNzvgeuI3Z4A4IgAAIgMDrCOwqOl5nLjRbAig6LBGcgwAIgAAIgAAIgAAIvBsBFB3vFpGN9qDo2AgMzUEABEAABEAABEAABJ5OoBYd6QD/wAA5gBxADiAHkAPIAeQAcgA5gBw4IwduSSj+uyYBxO6acYPVIAACIAACIAACIPBNBNKeFUXHhSOOouPCwYPpIAACIAACIAACIPAlBFB0XDzQKDouHkCYDwIgAAIgAAIgAAJfQABFx8WDjKLj4gGE+SAAAiAAAiAAAiDwBQRQdFw8yCg6Lh5AmA8CIAACIAACIAACX0AARcfFg4yi4+IBhPkgAAIgAAIgAAIg8AUETis69F9yzn9V/Hb/Xf5NoO7tNxG74/bf8nO7Le/+V9EfKzricckAY+11DHeg/5Au/37vy+12W+6/s6zf43AsFnskf0Kfd/+r3EeMES1jXz68O6dPyMUr+HBELl3BT9gIAiDwWgIoOgb8acMoi6S/n+V2+1n+Bu1fddkrOnizmza88l+/+d26UYm11wvYq8i8Wm8qWu/L79/vck+fh9cdsVi8msKr9L/7ZvqIMaJl7MuHd+f0qvz5Nr1H5NK3MYO/IAAC2wk8qehwDKNNfL8Z05Of0+8pl/ICrjfp8puPpxgRUjIuOkyB9C9tfm9L5NumkFF8znIAACAASURBVOKVRu8RwxUDn3ArMeD86QrYJ+j/dhWUg/lryrdEccQYOUzGG3MKB2+wnoT7f3nDh3IJ7L88e+A+CMQJoOjwWNEGfVAQvdkCHS46kp+l8ODNsOf6EdceWsCOMAAyvp4A5eCbjVUZlCPGyGEy3piTZLZ6jI3vKp7ZzYdyCexneHEfBECgEBgXHfxkvLyiI9elNEGljat+jUc/WbeTmDyn48GrP7JdstE9//nTuuVrUBxamgjF60W2zYp/2S/tTxI7us4qX/G5qehgnuI1Mck3x6X3u2tjWOZ+hfXPXxcz4jKLhwNPyU35IpPQac9FFb9S1jUP2KB0cp5Vf8srLEaw5FPNmuiiPiyfx0LVU6XoPDc/H+LpVfZHmCVVj9gq+zr2N0/ykbKP/a/9juerfdO5zTGoNlU7yrzDcfE4rswf1ueMWMxFB40RstvabM+ZMfsi7le7Jm1qO5bh8fCdVq93zr5lXYuHjqP+xrbGT9inHqyYWKX5wQzhPGdxXJKcwoltUmudYbidTyzPV3VPxl3HxDps4kXthV/2fDS3dnq8OUrEZTqHG7twCgIg8FkEBkVHfpWoTdxpkmwLdp1o6kRWJtGVSaubxGjSHHybMJOjFj1rq1ccWPtsH8c/YUMN+cDmev8FB1uLjrx4Nu4qLmUhq2ElfzQr1d4pYuriLPj1xZqNRw8u6Wn5176l0bbJftrOZdExjdhAvomCrPel2G2MsEziumQhZe3nPG6xyj61c6t3OzPW0cZ21tE2XYlw5tLbSsVdZdHbL6PT5DRdz+Xb51zvV7Z4ztH6qnNtu9+xOLhyxTgjf+z5ZK7sGVjfcvy3jcUH/FH2Zo8j4ykXJW1sVFbenFauSZ96DllCf/0IPrF5ZKR7Nu5SP+kbFwx1qFY47YB02dyp59Znk++DdXGPHc0iHIEACHwigWDRoV23ExTdNROPbWPPR4uEbeeem9lTt8kTpGlSnubyomQnUemfvyBQi/LErJMtuz/5eGvRYblrdtl3tWBRXNtGUbf3OXptOmYmX+bYVuJCnX1bstz9OaF98W3QbSK6ykbeQNFynFgYSLq9uUmnvr2t5QZb6wYk9/Z0e9esLpVbXNBU2b69Wu5+m93cF0Vms9UeWbuyDdYX2yuf+233+GTlaxklpyrLSI7F2li9tTA1+dvaxWLU2ucj8qeLR1CWO5/YuDWNVpc955Z03fhJ1wRnbts+x3pzG/++lWvPU9/otWZLOvL1yTZWrj73c7j2d9nXu+JgbodojEMQAIEPJDAoOvhJVXolgDfqzXuakMxEbJ+m6EnLmSwHE9Wsn6db9XG+SufXbaQv9Slr59/KxPgBRUf2u8VUseNXyMSCanmr9gMeXpsWA/GaSce+5VhdKOVX885TUNWj/IpaGWe6H8mJiC+DxXuPv5ZrstOTY4eZ9Fe1z44uv3fJtxyPhES4WLuKAb1uY780NB2/AV9rgxeDbHaZA1Zybzx/GMcjfgfjYCTrfHHi5Pln4xZps3ksPuKPzdWoLHc9GRQsCaRp73HIzeQ3fDkCluFmPpF5xIlntUfMz/61ef5mT9r/rU/2fDXfDcsmdbsdrS+OQAAEPpHAsOhgZ2nyocXXPO0eLA582U5a9txO+kqfmFRtPzpnJaWTajNY5Fm+/aS+yr8yUQobap+Nsmu/Ew+2ftOR/TWxlL6Sj1yU9It2hHWkzToSLwblmom9J6eLaSRugzbKl8hmYSDH2klyjS9KV0COas+2yVjyNaOn2hLQkdpqPbl39NpMl5bjx1i12WKz9dv0Jbm2DTMLciQZav6oHucDo5Pv7vGJ+/KnkuHEyfPP7WMY6DY7xuLAZ7Z79OnZawvFUV93PVmzgzbKZh40HJIuz6aH+XCOGX1a7t5xtyNe7KfIeWsLc6frNt/domOfHawHnyAAAp9JYFp0kNtm8nYnJDPx2Db23F0kApMfyVmdrCdfBXtxjPiX+hkfPVHPvrap6Ch+ytdCuriUBZHaJH/FQpQRyPf9fdZapt9mlZOJR27rb0iHcpSMiA1+G+1LZBPiy7F2HpHHyjblL2ubMdtg62oeZH3KHjahfvq6bJ8juCSVVi6ZYcavp8vf5E44uuzZ8YjffhuWMPq0Prrnq3NlIJ9d3yY8lgf8MfYuUVkmtplZtsP74eUIqyTDyxHVdxefgFzWvXXcPWKP0KV8tAlodXjsbRuSMcsbqwjnIAACn0bALzrSJCInfzOp0ISUnnbUNv3kbicte+4v7v1mwfaj86o3h8O2sa8QUavkA0+qE/9y//YUjIM+us73X/EZLjrKIlAZFGMtO7pcWP3aH0h0FkLqL97DzueyMOFX9fjbk6q4xaMDN8gnlXOmUyim6zbs8WWvv9Rvcx6nRbv5QDI4p8vmrI3JMpbWmPHrdPY1NzlWnJgn8lp3joV3TUaJ7m/Mldxnez7VfpXxIKfqfbZ00E5ynOQaS+LPPX5TXxMHlsefJLfGv48J3Tf+uX1W2wR4sEHiczoHi7Z86Nmb7oVkuZtc7mt+W1Xian6D1Ui3d10zPIYPyUw5thLPxELrzuT0tX32aBlGzyzfXfb77OBcwCcIgMBnEvCLDp7c0iRY/sl1iSaoya9ZXJ3ECktqY+TP+rFuGQ7bJ93LC1WzX07m6b7UbReg0Tcanh5pxyuOx0WH8N0wlnb6PpUFw25GmZtYGO37zOkbEmKv2szjIW2iYy6SOAf511nKRDSdVmMayAnPl55PeVpX7NrrL8k1vvS6em6r31LtYJYQhsaKiadnq3dNh6hn1/fp2+zJpyS3xoZzyPPBxCCae2Q3yzUbWO0zEVY/a1PtMvbM4mDlWnbuufFvTxt+QMRrQSpsSY6Rbe3b5c9AZkQW2VRiosSUIqPaP5rXVKfsjeenZbiPzzzPOz3u/GsKBEq33/yHYDk/A/GyutxzlufkO7W37HfORzaPcA4CIPA5BIZFx5qLNME4E/Ran2vdy5tuucELf83/ZEe9ouPJJny0Orv4frSzL3AOfF8AHSpBAARAAARA4AUEUHQMoHdPV+lpWf/K1aD70y6j6DgXNTbF4HsuAUgHARAAARAAge8ggKJjGOf8bUf+Qid/Fa6/+Rh2fOoNFB3n4kbRAb7nEoB0EAABEAABEPgOAruKju9Acw0vUXRcI06wEgRAAARAAARAAAS+mQCKjotHH0XHxQMI80EABEAABEAABEDgCwjUoiMd4B8YIAeQA8gB5AByADmAHEAOIAeQA2fkwC0JxX/XJIDYXTNusBoEQAAEQAAEQAAEvolA2rOi6LhwxFF0XDh4MB0EQAAEQAAEQAAEvoQAio6LBxpFx8UDCPNBAARAAARAAARA4AsIoOi4eJBRdFw8gDAfBEAABEAABEAABL6AAIqOiwcZRcfFAwjzQQAEQAAEQAAEQOALCKDouHiQUXRcPIAwHwRAAARAAARAAAS+gMCXFR35L4vf7r/Lv0lw6S9R5z9HPmu5/Nxuy6v+cjmKjkl4Tr591F8s3y4nnssnI/gq8f9+78vtdlvuv7MZZA8WxHQPNfSJE9g+z8RlX6flYJz9+13utxuN77xHGLQ7wVHE5QSoEPmWBFB0DMJCk0Cg6KBNiCxi/n6W2+1n+RvIPfqyV3Twxihtjtq/+3LKPulohy4m76jFYruc5y2IFwvJieb+LT+3+/L7lzYnZ4wnxPTE4EH0sizb55lPxOaNs3JNrfleu3N4IC7ncIXU9yOwr+igjfXBi+4ZMiO8B3ppElATkCcsT0r6qWfamPA3H16fY6+Niw5d+HAhMnXJmjfgY5t96/lRi8VRcr41Ds/wO8WIx3r3sOEZBkAHCDxIAPPMCGBet3l8j1qddR1xOYss5L4bARQdg001TQKzHTp9HdsXX6G+B2VCtOhYljyp3mY+WbsGfGyzbz0/arE4Ss63xgF+gwAIzAlgnhkxQtExIoPrIHAkgXHRId9vFE/uadJSr+20p3/JsO6+2eTS/Z+/1u7+u/z+yNeA8nF94jCwIz+510/zF2+DXPqzGXLS7WwV72qznfwNAb2mJF+jWpbFtWHl+pGBY1lbi47KlQUQM8Ff+LjGh7qb2CRGzLmJvy2p0KmyivwI3ySj9uOcswpYUW1rcoKvC79ynvg+V52OzfWesIXsk7JZH7dJn47Nyi/WZeSE7BR9mGmVLe4tgVgJlPnQ9OncWMmdTla5UG1jPp1Q0/MAG5TOn788bisb77WKwWsoE3+Z/9qckbxT98Wck+6RjGpbZqHsH+STobaqg9oarmtjV9nLtkkWfE0aIe8nm502Sq7hkETN/GbetZ2jg02a6YqMD9anZLFO6S9fY+XeZ4C/7JZ9nM9tlcVgfNF9a1/AFva9yrcytLHitV4n9kafnAKS/LRGKcbe68qS9478UhysLJGLql3xUdum9z+pSWU0iEHXZjT/G07eGJXYcQwCVyAwKDps1Z8WZjHh0SD1n/CrTW0ZNHZSoQ28vJhIuTJX7BjIvt/v9RUICgDJbbZ3k4irV0wc1U5rS2njTb4DmWckRLToyBOhjlmePBubZXHeYR35QtdNkVGuyRyoE3DlmCn0132+UhZvDIyohtWzqXzDw3IiPve2SZsbr7r4iBxIfVkX9Rrkqfy5H09O2E6jezy25rFqINORjYeeAyL2aXl5vMzY6D6P25BjuRazWNER8bfPG2s/FxxyHCb97ZxkmJhuYzbXwcWsGkehsZv90Tk28rEx9+aVzLP5ndu08/g48ot6mUczXWfzkLbQsTdPOfxVP6+PGaNhZiK/9vuurKsn83Fi80XPK/0YKuNT2DzXMR8Ddpz18112ybab5VI4BqKQyjJNcebFe5YjNQo4AIH3JRAsOowDlPxtgTB3xWm/oOdJRS5Ipbkr005QQjRvkOvKWSavJEdMUKSvtnEKBVdvaSf6Jc16Aup9q9Y5G8167+CDcdEhnuSnJy7GF55k+8vpB+FFbF0+Y99tfO05u2/jkq5rvtxSfo715lb5vtqkkf2cbzmfZj77Nvu5uN3miJwNdtpcF4uZZNLHv/Du2jNv3858N2YfSxp/zuL5qA1+fx0z3wbdJuYv9THJpeU4+Wng6PbmJp369raWMx3j/qRb5INny/xahNXMxuZNO+rttva2tvJopquXy72t/LnvuafXjmXWAszkSbpv9bU+6cjxQ81tunU+633TtvX3WYq1xZ5zO/0Zib0/JlmOtq9cVWtQRIfDihVUkWaTbwo4bq7tmcvlfu3TMvb99/Rsn7ObVhyBwLsSGBQd/KQgbVzFBpS9UJMAX0yfZYDx14r8KSZYGlzivPYeyKxPARw76B5vutJGn47ToB5vMvXgppne9dGzU/e1k0n1JMGjX73nuSlaHXI4LjqYQYulsqfYSE8tOU71U8Tcjctg4k8emfYex9ysL4Q039Rqnk8WosoJXsjZ8aDPrs2DmG62OSJni52c/9bXCiYeq9qlHAzHXtA+K293PCkvRU4mwREbIqw5xzhHitEqrhFdA/6eHKNKYVLt6c7GMTDwuSmJ50Nvi/9gQLWLsJramKyd+01612CSmNlcfDKPBr4cxfXZrqtzGzUOMqtzRtyWLaxna8pwXhmMIR7rFOqD8kvlLLHLLNQDK7aHeR2RtwMZ2p54XGyO4BwE3p3AsOhgw2kw0KLfNrF2Y5nblgmPByhdLNfEwjCcvMxmlfXzp2sHDeC8GUkTWZ4wsk5SSTKF3XYSScIHej076Vr1z/O3WDuYWNiXIz8jRUd20zzZidro8Vnra5h7HKs9Ii/qtVW+fT51LEVOdN/mrNktBLk2D/rOc8LYHJEzaCNMpEOtu2wIDVO1YPcCQr/emfTIOSBon1bnjRfDRndQZ7tsGNipufk2qDYDOcpAnlsM/61yVHveeNcxkTT69lZbZrau3ffGrtIdLzoMhmoeHazZkBssv3czXzl+E6tVRa04HTZbs+UIHtrzWiy79hh9tmsey1x8241pbHyp/Nrqu2u0sHJNnmjGh2SLnFcGY0jNYREdgTaKAxl0RNERiMHANmXPoE0287m/kp9jhU8QOIrAtOggRXYQ0OTIk18xxbbJHfPiISYrGlzivDriyaw3RzryIE/FRpLLYulJCv/AKF8sItTgTtcGej07bV97Xs0dyKz3DzyIFh3Zz8aIN+T2yU5nmutLnqCHX/+KjYrHMenwriuewXzq7C2bE/Ir2S5sifrs2Tbqu93mwOI2+Krf+qp0D5iy3ZFYWfnqXMXD90G1tyeqP9+cbKC5GX8qGREb/DYRbrqNL4fN4k/qszrfzOUovcpf1jJjNtOR70fyQdlS1M+vzfQnQZM2Qb893kypfU50FVvO49EsyUdx/rYnF5zu3LaFWZ0T47Ycw7r3SBUUPIdV+0p7tQbN4pn6zNv0eez30e38NtWrUAx8GZ6eSE5W3TgAgYsQ8IuONMjl4qkG/ejpUR5Msh8NpPQkQ8iia+K8cvIG7MwOMuW+3NIPj9dXqmjmWm73n+XnLjfZWZMe3CNfApti1i31Fmfy18f6G5bq58EH4aKDnxSKCT3baYrHxFy0sYsCm5/7Gr6UJ/raKN7edR2bWD6xPeqz+JB+K5otqiI+e7Yl+XRdxDufyyeyMZvncviVuPXYkBwRKzp3xlY0Vh1DKYti2+yJcFTynM1d5Sf1yE5Jp7y3w4Y9rKtdgm3EX48/XVuVk4qIxlW3j+WTRJaOe1u1jmg+aFuylsi1Xj/Pyb8L/x33vo20MeY32SLzw4Io5+u6mJeet/qHNGX8i1gm8REe1qwof9uPzodz2wZmwoeoLftZm9hPxjTpUXuG3q8+nkZHYAz0cct67Hph2/W6d+bt6joSz0k3R3ARBN6YgF908GRKX33mH0i2c3udHOSvSS2FQ32nk38VnOhM/cS5ZOPJlNeS3K4r6xQTKT/pkL8hiPWQPNWWN5PaT8/Orq/ZBK3p4HtHf8aLDp7I2gYn2cKLTo2ZYZPayBgo/uS//IF1Lbv2VZ0ygRBfji3noZNPWZr9f1monJ8DSi1nPnu2ZQ1pgWn+pgWKZElmIZsDcqJ2Ct1ju8uizBzps49VR9H8KmsbxhlHK48L2JprgXjK3PPG/9yGnjXJFNz4CTLb5cY1Gg8DqdfV55/c6HTtQ/nUke5yXOqg1tGxqzjFN9nzuOh5JbFXNgb8JlaGd08iX7H2KF2pyck8OrsC+ro+dGFlbosyMzEN+76TtXqIZdYTO6Y5pipe1t7AWEyolAyTX904G3w70rdblxub4/o5iWy1fu7OET9zcBUE3oHAsOh4B+Pe3wbv6Yh37TxPvKLjPG2QDALXJ+BtJK7v1UU9oI3yvAC+qHcweyMBLjo2dkNzEACBixBA0fFgoLonFPR04jmvViXTUXQ8GEB0/zoCKDreKeT5qW/3zcM7mQhbnkYARcfTUEMRCLyEAIqOh7HnbzbyN8/PX0BRdDwcQAj4MgIoOt4j4BSH4Kt+72ExrDibAIqOswlDPgi8lgCKjtfyf1g7io6HEUIACIAACIAACIAACIDAyQRQdJwM+GzxKDrOJgz5IAACIAACIAACIAACjxKoRUc6wD8wQA4gB5ADyAHkAHIAOYAcQA4gB87IgVsSiv+uSQCxu2bcYDUIgAAIgAAIgAAIfBOBtGdF0XHhiKPouHDwYDoIgAAIgAAIgAAIfAkBFB0XDzSKjosHEOaDAAiAAAiAAAiAwBcQQNFx8SCj6Lh4AGE+CIAACIAACIAACHwBARQdFw8yio6LBxDmgwAIgAAIgAAIgMAXEEDRcfEgo+i4eABhPgiAAAiAAAiAAAh8AYEnFB35r3Tf7r/Lv81AX/vXvjeb+4IOKDpeAP0SKvPYud1uy89fNjj9td/77/ZReAl3g0ae9dfIz5IbdMs0e2TONaJwCgIgAAIgAAIHEXjrouPf731Rxcrfz3K7/SxlD3UQgmuL8YoO4na7LWnD2f7dly/fb1470ButpxxI1ca/3+V+y7FH0bEsZxUHZ8ndGPbSHEXHPm7oBQIgAAIgcCaBfUUHbf7P3sTmhVM/mZXffJyJ5Tqyx0WHLs64EOGn3mEPnxLrsDVoGCRQi47UnmKYClCdE0FRH9XsrOLgLLkVPsZhRYEDEAABEACBaxJ436JDPKGVaGlx37xzlhI+6zhadCxLed1mKztsdj4rYb7cm7OKg7Pk1nBhHFYUOAABEAABELgmgXHRQZv+9noO71VpcVWv7bT3xLkgqG3Kz3HYBTmdp28w+Ol7fgVIP4XN9/S1hHh0/Zr4H7d6a9GhvzmST8FLrMXP3tQ4inir/iZH5M8PsGck4+cvv9aS5Mic+PnTOSB0q/5C/40TkRuoz/JaiWnj5V+So/KPdddvBZqtUkXHxOjq2/Y5bO1p30T0MUjyRgzzq1P9GGUbQrYGYsjy5OdMdro/G+PVt5X4Dn1nLit9O/mchxzr4tDMF+k3H6s+R8k1seDUUrqKvzwOR3zouvCT27k5z04tZfxIpnTc53DtggMQAAEQAAEQCBIYFB35qTgvbAstRmLhGTx1q4sjr5bFCHcBTItZbde/g2z7VH8Guuv9LzuIFh05NvqVuL6A6+OQN8S6HyEum/MawnSxXGt5UzbMKtY5QH2u2JzLfaUs3mQrnSreG4oOZVP5Fsi5JvUnm+X51B6PUfnGieVEYtCzItjLz03ak3xvYzRkq2efE0OFuGz22X66VzbLMi69zX1uRWzs5WRr4n0bk7rhNpvxmS+e//JVtWPk2vzX8RyNwzU+XOAn+/t2nj45J3Ofxs9ywDkIgAAIgAAIbCEQLDqMSNqY9BvRvLD1ixRdNwu9XBBJupLpbx6pnbPBMdZ91em46GhPwOmbJLkjzMBp09pfTj+sL2Kr4sJox/GxOWDPWQJdN8ptnnDb9jnWm9v4961ce576Rq81W9KRr6+1yffVppZ48hjJGz+DIRmjYkC2dT+PYTeNTat/ZG21562Xr6/d7496WR5P61dYTud737OPhc/HtUuJ631Rt03RyPfOksvyR+xGsbL20LlJNN3GyUWTh9UWHIAACIAACIDADgKDooNfY0obV7EBZQWDxchb2FIXvbiVc7MA6qfGKws/ig6OAn2Oiw7e2LZYKuTmVY72W65MzN1YOxsUtsq0X80JZVCfJ3Ujmb6BkP9MP1Zd25v7bv6JIjj1t238ayUvpS3q25FmCR/RU3ChS/EIxkD1YcH1VUMTr3p/Zms8hlVkPZjJjozxJGynHLJj0ncwT/RxnsipPpeDs+TO4mnGFZs1yg3rp9dOtykcxNih+6GCj63BJwiAAAiAAAiMCQyLDu6SF560sWmb2NWnbmLRUjJGGy9upBbzsgCKPtxMFyf16tceRIqOBEdvMGiHs9zF33AYAvQ2OypWpie1b7lCekc5Ya5rG70c6DdGWrt/X8t1WHh8umt77GHOXLibjf4aR+HYiCE3oftUCDH3gK1ruk0MWU/+DMhmdia+euw+IIeLFTU/FHmsc+CfzoWYDcr/s+QKJX08Caj7AGiUG9pPvwjUbQoLVVBzPgnjcAgCIAACIAACOwlMiw6SaxdabyM62mjwdbFB0ItdsdzIdNukpqbdTr8/plu06Mjc2h+K499mpV798ai4vPPmuf1MTuto40bnvBFszXIRZK6rvjbnqK/ZWAp5fOjpU3KdfEx9bZvu2k57+Gk+cU4sxTiIxsDzif2tn9I+edwaLL93+c5+PIZVRDoIyfZ5qrG7RY7Jk5gN2T+b3yrOQRuU/5HXq3bJ1Vo6H91x6BcTSZLyk88NR9WGbObi2NiCUxAAARAAARA4gIBfdKQFTi5QdsFzF9WNC6B6LaXfAPU/YJu9HV0/gMUlRYSLDufpcGZpNhp2YzyIde4rixja2dBrUDp15Ea3IfY20moT5PyKX7qv8qbJ4yPrU+0jNvtaT+45v9bnaJUtHWZD5Gdh+mt/EL2+UrMeA9JjdayO0Zit0RhKV7hQkvODx6G/Zm2y52X+MPF1fQ/mRrahPa2vNtVciNmg/Wc7D5a7Gs9RsbdxzjU5RDwsC/VNh/8b3CwPnIMACIAACIBAhIBfdPCTMbEAmfUqP0kr9/mev0EoC2Nd3NpCyZseel9f3CfD0yLs/DyJXigjLn52m3jRwT/boTe4KgYpnjYOJhc41i1G8ucttOzUZjUnlLA+T/hpb/15Dv7VpKafjrB+TSQ96SYfhV9eDoWulQJsmz1EgX5o38vndHcWg1WGozEatZXG2XoMNd+2AV7jwDYr30QMSGbARpazxwb+lont9HLhrBzbI5d8HcWTx9KDc67kSPpqTPK40UOrjKXaRvbGMQiAAAiAAAhsIzAsOraJ2dZ6uJFQYvJTSP16hHdNdfq6E6/o+DoIcPjtCMTG+NuZ/bUG5eKwfXvDIEbX+T4+QQAEQAAEQCBK4I2LjvIEWD5lo6ey/cIYdfYT26Ho+MSoXt8nFB3XiiF/I6W/6ehfP7uWV7AWBEAABEDgnQi8ddHB74/nhTB/1a+/+XgnlK+xBUXHa7hD6zoBFB3rfN7xLhce/Dpa+sR8+46Rgk0gAAIgcE0CLyk6ronqPa1G0fGecYFVIAACIAACIAACIAACjQCKjsbikkcoOi4ZNhgNAiAAAiAAAiAAAl9FoBYd6QD/wAA5gBxADiAHkAPIAeQAcgA5gBw4IwduSSj+uyYBxO6acYPVIAACIAACIAACIPBNBNKeFUXHhSOOouPCwYPpIAACIAACIAACIPAlBFB0XDzQKDouHkCYDwIgAAIgAAIgAAJfQABFx8WDjKLj4gGE+SAAAiAAAiAAAiDwBQRQdFw8yCg6Lh5AmA8CIAACIAACIAACX0AARcfFg4yi4+IBhPkgAAIgAAIgAAIg8AUEUHTsDvLf8nO7La/+a+nfUHTQX7e+/y7/dscKHZ9H4N/ye78ttz3x+ve73G+3hf4i9p7+yskH7FBycPI6AvMYft7cMPf5dfGAZhAAARB4jACK5aU+6QAAIABJREFUjp38/v3e9cbq72e53X6Wv53y9nZbLTrkJq5s5u6/19u6f97GYm+0r9Bv76ap9MtV/AGO7rXjANUQcRCBSQxpfrsvF5zSVvhMfF7piVsgAAIg8O4EUHTsilBeGPQGXn7zsUvork6jooM26vWbGBbt2c333vcTRcf7xuY4y/L40WPqOOmnSKIHDZ+26T2F1AlCd85liNkJsYBIEAABEIgRQNER46RbDZ6w0eb4sCe1WuXozC06aGHlV79GPa9zHUXHdWK131IUHfvZoWeYAIqOMCo0BAEQAIGjCYyLDvNqDu+l6bUi+xqRN5GX/twvGc5P3+md7fS6j7xZ7qcnnVlHebfb6loWc/+22KejMz3LwLcKt2zaq53m/XKXQbXrua9Y9UXHtq/nH2ZlWCZmJqwpYO1dfe9+BZ8PlE0/fzlvTAyWSYyMyKENbiyfmc8b2Vi/9Fg5YSwY+9z4GqMofiJedP7zp8etuN/F8mb8mMSa5de8KbKtHWRmwJ+RPOlm1cU/g2JtfkAP61exlbyKIZ0N3cCTFotjY1vXbcJbSKLDVXulrB0+kOzar8xtxmDdhiZid77peO2ImfW9AMg/h8S5UO3tW2cb+jVC+iCPWYLKBWt3aiQ5JztWbGCZEVuo7UQ2yeF5Wuqe5FnWz+t8vx9gO/EJAiDwOQQGRYd96pgm+zJRlolEzvtp8rjf73rzTxNVm1ypjXz5diCHNvpVeL+BzpOvfKUhtWnncz0rvrmFQ28DTZbepE4+N1uekSZ90ZH9swWdZ8ujrHihq+FKSsoC1QrBdd7WLmIrCs262Are+VrLrWXpY6TlrtgwyMPn5POKXdoB9+zsscCxXI9vb5odHzmmclNh/U4yvGv8gGE91r38bJO1I+rPSF7n6Wi8lzEw4zbS01/v2aQ2bYy1jbbS2RnscU5jp/HdPrbEw6SqPNur5/J9PhCLOvbLOK96vDhbPdq/nAPOHB2MmUW6mZenx+S+9pnHgLQ5+dTON9vATgRsicju83WeZ/vzl43HJwiAwBUJBIsO6Zqd+MukniawujiUhcgsDlJK3SiKNnaypfY0MfIEm3WrxVYLdc6svXZRkl3yPWFSvunY4G7qnQ2slH7G8ajo2MaILdvCyrZlGbwJ4Y3MGu/WJx/5bXVeRGIUk5tbWT/S+c/y95R89v211vvn2e5tcba+rum3bZsVeZPB8W3X+UjHy58LbBu/6IjFemSP1hH3ZySP/aufal7gq4/rIf1mEtK+sC75OdYrW/mcuUWMN7fmT8+26DWWkT97H7Sc/n7qp9us5TQ/FOH1hLX7cqts8RCEe+TPPbyyLjVuKY/aeNL+OO2VEXtsYAGObGVLTDbZ2zGaxIFNqJ/jGNQmOAABELg8gUHRwU9X0lefdoIu97jASBttOk6TDE+c3mRVJhX+Cpo/xeJKk5c4J7pyIy+Ph+jnevLTG8e3Ip+e0LF99ZM5rEyOIfuGhu+6MSo63KKo0/AAq/J0zoaLVJjN2JC3tWfATy3CoRhZwW+az/WbNScXexf0lQEr0yj/+tqaw+VVBhG0cWy8MVykm/hqnXYT+EDREYy1O28MNqPC9Wa28Wckr3VY4xDnNtLjXadrPOeS+snYJZ9KvCn+PDevjIUgb8uht63PgdSnbzfxoevjz71W7jinR0VHPGbK9528yD4RS7JfJKbyZzbOIzbMcmFkS0Q2x0jYz4xW48DfTq/MTSwHnyAAAp9DYFh0sIs0AZpFK7+jnzfhaWLJT23ygkBzD01ybZGr32qIya1eE5OVnXzJBjnpymM2UH2WRWmih7t0vk3lp56ejiIx1J+1H/PZFx0r9imVXrtyTcSEu2xi1cU/S+lksHD+HPCjfhzTQRsWMft0bSCZL8hnYaxrl7jfHU45PD++bKOK12BTYtu4T+CnPmaNJGuUs5G8Mfk6ksf+1U/qxw8jytU1m4N6PP2a17bYVnvNAcmUc/ua7aavPNW25TvzazEftBx/ftJtmmV0XfqXbj0YsyZ9yyttqleq+pZ7fZjXFzzKn1lMZveN6u50zZagbLLXGX+sq49DLPbcH58gAAKfQ2BadJCr3eSTJ41UbKQJhecberLBPzDKF5OArj9dzE9hRTs12TJjtUjkCVp9Nc3tNuiRXbRtE/mlo2tnuqdsVVpOO+mLjvYkU6Dt9QdjojqqPpmV943KkE8SpmQo6Qkg/cFFG18tz29jJa2edza8Kp+NlZ1d5r46nXBwZfmbtipW9dkZXy4yeLPP5yYZdUyTBZ4/3rVqbT0gWUY+SfyRP1Ab92ckryrkA3e8P67H0694qTixMZPYcjP7qWTFeFsRyrZyc3pN6WWJvQ9WDp2bWNs2LI0+rZ4HY6ZkuzmrW/hnbb6hNUOMldRe+zOLyey+b0G7umZLTLYXkya/HMk4yOPasI99vYUDEACBjyHgFx1pYpYTuzNR56+I78u9vlJFs+Vyu/8sP/dWiGRSefKSMmmiSk+hhJ7+Wt8vf2Urny6myYrP+/adzIlvvXz2q/1F7NxGfpOTvRxdPzNbvKKjfhvj/KaoxCNv6o9iZWJNuSKuTXhbNjlejW2Nn1iYIzFScgM2kMz0yxCemc8zu4gl57byiE56DmeMBRHLpJVsMteMaRQzES86F+M8i5EFAV1xC87ex348evI9HVmWsd3xZyTPuDksoB/V4+mna5VpYOx2xpYLk5yL8LaitW357vxazAcrx9pH99M6wmwm/o0eekRjZn239tD9ZAPbYzvweWnzW+djvmGLDn6IJOcBOc69+/0YadKdoxVbIv5RDMz4pnlCXks6zLc762u/YycugQAIXJ6AX3TQnCXfBzYLdXK7PK3Qk2tZSOTGjRFxe/q6OxcbdrLic14A6GcrnMlb3be/PjCqh+1wNuZWvvaRN15yEchOkv2OvYzgjE+/6MiaOj9OYMWb0PZzMAMuK7w1l/LEq7RPBRL5Ybh2vpn7WmZZyNds4LxRcs7PZ8qZgV3Zx56n9M1yUN8SsU8sn3+tpdgMrOknPbRZkHPBuj2pjx0HdC50em38bzqyp9ZHOx49+b4OHrvr/ozkZWv0/6lt4atcDHAb6fGu0zWZm4HYakvbmbQ5jVtlN03t9/CvgE1SO9ui1wI+9LLn88PMP3lf+R6IWaPYjmb52VrKI55b+vHU+8yFRctbNc53xExawmOvFQX67sw/sleBzP0l5y7PArHXVuAMBEDgEwgMi45XODeavF5hy7rOvGDoid+7ti7liLtrRccR8iFjP4FH85n6y43mflPQEwRAAARAAARAAAReSgBFx0789PRHbgjpKVl7LWin2M3dUHRsRva0Do8VHbmIdR4gPs1+KAIBEAABEAABEACBowig6NhNUm4K81f++puP3YI3dUTRsQnXUxs/UnRQUYuK46nxgjIQAAEQAAEQAIHzCLxV0XGem58rGUXH58YWnoEACIAACIAACIDApxBA0XHxSKLouHgAYT4IgAAIgAAIgAAIfAGBWnSkA/wDA+QAcgA5gBxADiAHkAPIAeQAcuCMHLglofjvmgQQu2vGDVaDAAiAAAiAAAiAwDcRSHtWFB0XjjiKjgsHD6aDAAiAAAiAAAiAwJcQQNFx8UCj6Lh4AGE+CIAACIAACIAACHwBARQdFw8yio6LBxDmgwAIgAAIgAAIgMAXEEDRcfEgo+i4eABhPgiAAAiAAAiAAAh8AQEUHRcPMoqOiwcQ5oMACIAACIAACIDAFxDYWHTkv7x9u/8u/yZw6K8xB9r1Yt7jL333dr3nFRQd7xmXZlV8zLQ+e4+eqWuvjd/bb/+ceD6zd7LtnWw5n/yrNMznCsThVbGBXhD4XAJvV3T8+70vqqj5+1lut5/l73Nj8JBnq0XHv9/lfrstN/Hv/jsrFx8yB507AvPFveuy+8Izde028ms7vvMm7p1seydbPjdZJ3MFrR33BcvF52YAPAOBVxAYFx202Q9MOoN2+xaOPBHqjbH85uMViN5b56joIP632/KjqjWP73v7R9YNcuwClsPEZxN441zZNyc+B+A72fZOtjyH/rtp2blOvPHYezfCsAcEvpXAexUdg6crtAjp3fO3xqvz2y06aPK3BUfX9ToXsJhdJ1avtvSNc+WdN9PvZNs72fLqdL6U/jcee5fiCGNB4IMJuEUHTfrilZz0eg5/+yAXhGi7yq9shuvrPuZnPujVKudVqtH1KveLD/qiY/K1uWXlvIJl6zuK88/fkuNQXtcSsct50L8CJ3OF1E7iz3qyvBu9Zvf7o18Pk7kYkWndpfOAz7ZfsimNAcXA5Kpnf3qZja5bXiOekpHoU+2R99MYNW1Guui6bb+DQ7JDM2hzA9tYdfEcYhKK7v/8ZS7GplnfNf1dXzFvkW0RdgO7lklf9l1+KntYronXHrmP8k82RmxTbVKcTBylryxzNka4XV0DHLmk13BasyXfW59/qA3HYEfOWV9ncWN9Klbsk8wlvtYpyBcekZO5iPnTxI/uV/1l3VhtQ4NfvbLLzTtdduztnGsGWHAZBEDgogTcooN8oYmxf71KT1S0ei2327xdnnzlwtBvjjvZDHVgC9/+5s++6Mivo802CC3G5huRsiBykZna1QWFV5gl66htSp96OwtffsTCE46/swnJC3yfYxGZXW54tjo+2349g0H+OvbbvO5llZipvoZx3exvG0O9ruLZTg6ZuYxF4tDOk76aF0lV2WzI3BjZFOk70/9Irozs2pNnWVaLVZahi8Q9cmf+RxhGbIvI2TtGQvlRN8N5/lnt4+WymaOyz33htMfPSNx6fbExPmcakxPxi2ysnCNFh52TUp+W46OxxwWanAP4moqrdR7nIAACH0fgSUVHnqzUpJNQ0mLBGxZ/0iPizsbl4yKx06FR0TGfzMe884LZFhM6N8HzFiylk2LLMiLx5+KG+wggKk/4ekwmt86fcZ91v2JbXaDLXWOX5cYyNCtflm2T+uprMX91nxHTvRxyPxVndnL42esiG823RH532zeg38Qky93ArrMr1lfbn/tYTjo2e+QG/NeGpKpv+b3LzXbEtk6II6dvo/0r9914yL7WPpv3si0f2z4OF9Lb5pL9Occ6+TMWN49F9BprSp/RPl47KafPAyvbMs29tVw/d6oeN9a+3OpbN96qNByAAAh8IIHnFB3OV6vt63UUHY/k1ajomH/TMVg8kzFm8aCFZ7XoKK/ciE256hOKf1kEjR5iY+yha0GZmm3cZ91vYJsphpXPQoBeuO1inxvaNumquhb0V/VhGR3TnRyMv8JFcVg2GelbG/lP2EA2ivPWedI3ov+BXHHtCnJvPvjf7qT7KjYHylW6uciQ7OU3aAOGyjYSOImFVkpna/xauOdy99hC3z6M5h9m34wQ1s/tEY3rN3cqtytrXstMrIuA3i+/ndQX7dO3m/ul+5T2hpFuI1+tbL5We72xV75xMmJzF7d9lYYDEACBDyTw1KLDnXgq1DLpiYWj3cq/+nW9f239VQd90bHCUZIZbD6oCS0G5imhgW8Xo/waDS9EZlO7pkvYRDKNnmYPyy4dgjKF+Lph8FTkQqv5rPqNNi3GhpH9lpU9T7qm14wuax+fWzl0bh1ek2Viz3Lpc61fbpCfqqsx3G9mXJt4s7zWd6qfQPave0b6cQy2sFJwxMlAn4rNoI2Q0h9O+3hj3/AfyFC2RWLRW5dzeJVfwD6OQ82DWJ/V+YdlWtv2+DngZ3Fonvlu9JqUFe2j28WYuX0MI92mWUbXqdgSc6ZXRKzxWptrmiocgQAIfBCB5xQd5v3aEb/RBGefvI/6f+P1vuhoT6PM+mHw5MLA+0bExoHOjTDbhr++p1dK0mJSNw1JbdZlXzcxBvmbFuqe/laLKTqCMrWOuM+6n18U2Lz0OGXz9bv8PTtfvm63gaFg79u0l8PEBneDYTa9ow1gqO9E/4O5ssZqlrs6X3w798QzIre2eYChsi0kp2qtB0oGX5Ub0aBcJSfYZ33+KePLzGHezxuxHG9ezC75sWV3+VP5UC5Gr7GM9Bnto9oFmak+rMswsm2kbR0/GevaMPPyeK7Krv1xAAIg8EkExkWHO3E5k2CwXf8DkDTLqc1p/wN6GfXo+icFYq8vXtFRF87u73Tk+PEGKnP1f5Bcrj20OMgLvECJzS3ZX4qN9BunWAf7FYm/p4f6D3IsIpP182fUZ27Pn2SbfE2lFD1yMR3ZT9cFK3uedESuRfy1cujcxC7p28uhtyEVFVwQ9hsM0q+4FV87m2J91/WPX23q+/Xzzzor9rFkRFdYc6bkz+x3ewpcOYg8iNikpXLcpC07+Yt36XvbYrGwtlU5NbZWjj0vueDlR+UU60O2rMw/ZFu1iy3fIJu71LEjYzDIpepD7kw2BK4JVaF5IbXXsmN+6T59btH9FBu2OfGVDNO5fBi0Ok/P1xnpN45BAAQ+k8C46OCJLE06YvNqJ6qEpU5Ok3Z5kRXvevNkxmztJFauezq5y7d/+kVHptLxFr9NqnIj5iImchEpjYi/XGw45jZ+vBF3ZCRRnT2mv6eH7fRyLCKT+6vPgM+qPfs7+jW3pfHIfroufLXnqXv0Woih1WViV33bwSH1tTaoArNsPOo77/xrSoUNI0785HSt71Q/szTzltevbqYKkKFdjs+2bxEhPso3PMWOxIi4idhEbBIC6+Gj/OVDicTatS0Qx2pQOWB+yj7jbyTG3VgI21I22878w7ZZmyP2dH0C+dD5wHlpeHjtpD7vfuhagFkvZ56z1KfktNwXsM3yvhjyaYLTP+PlxIhl4BMEQOBzCawWHc93Oy8aahOz6zWa51v+Ko1rRcerbPpEvbSYqlX0E72ETyCwnwDGyH526AkCIAAC30DgzYqO8hRVPg2iJyTtNYVvCMoWH1F0bKG1vy02VPvZoed3EMAY+Y44w0sQAAEQ2Evg7YoO/qHj/FA5f92rv/nY6+pn9kPR8Zy4YkP1HM7Qcl0CGCPXjR0sBwEQAIFnEHjDouMZbn+ODhQdnxNLeAICIAACIAACIAACn0oARcfFI4ui4+IBhPkgAAIgAAIgAAIg8AUEatGRDvAPDJADyAHkAHIAOYAcQA4gB5ADyIEzcuCWhOK/axJA7K4ZN1gNAiAAAiAAAiAAAt9EIO1ZUXRcOOIoOi4cPJgOAiAAAiAAAiAAAl9CAEXHxQONouPiAYT5IAACIAACIAACIPAFBFB0XDzIKDouHkCYDwIgAAIgAAIgAAJfQABFx8WDjKLj4gGE+SAAAiAAAiAAAiDwBQRQdFw8yCg6Lh5AmA8CIAACIAACIAACX0DgUkUH/cXb++/y76mB+Vt+brflXf9COoqOpybD5ZX9+70vt9ttuf+eMYr+Lb/323J7+hjdF5Zj55OY78fq3Oc3eoEACIAACIDAKwig6JhQp02a3ET9/Sy328/yN+n3rNte0cEby7S5bP/uyyn7zGc5Cj0HEEgF9H35/ftd7unz8LojtvE+wJFDRBxbAMR8P1bnIRggBARAAARAAASeQmBcdNDm+oyNyX6/di3YD/mRNxL6qbD85mO/L0f1HBcdujDiQiR/Y7NB+0P8NuhB09MJpPHDudwV06dr36DgSTm3az7Z4IbX9BU6PTtwDQRAAARAAASeTQBFxxrxf/4TYdo4bN69rynafy9adCxLLpZuW+1+0gZwPwH0/DgCT8q5VxQAr9D5cfkBh0AABEAABC5JwC06aGFUr+a0J6S84a5txKtH9Rr3NRtc7stP3enVH9GfCNJGv70WJEVQf9N+TWd3z77LTpubpsu+i57t1N8YJBtH11+RAVuLDn7SXW1dYTDlZ2KV4injlXSQjJ+//JnyosSPr6/mAvfnfEqfVkF1JB2UV1xMG9Il8mZVt+Qh+rAa6hu2h5JluYv2xrQESLwC1/iwvvSpdP785fyrtsV8JnkTXatchEEqZmZMkYxqW+6k7J/EsGsr5LN9tY3QU68x6w50z5H6VBkRjqVwZx302b4N1vIc33kcVJ1OmwkfEQYcggAIgAAIgMClCLhFB3lAG5S2oLJXdXE3i3q6rja0ZUMqm/V98yLe+tnztBFom367qEd05k1d70dfOJRNh9gQWH3MYCSz3n/iQbToyOw1hwiDoa9lAyvjyxvoFk+x0VMNves29rmNlLU4OaVRRzaOY91UBFc7j7DHytD5HOGf49bGQN3w1zyN+RzXJQs7az8X3DKPkv52bsdMOt8WQ6qylpvzMyeZhbQvRz+iI/d9nKPMN5JZ41Dyyp6Ln//qY7cnx6UFOAYBEAABEACB6xDYWXS0xXvsar8ZokW6bupyT71w95scKV+3lXf4uNfpb5qzHmNK2gGIzY4jq6pJr131T/X59jM/x0WH+AbHfXoaYTDaAI7ZUIzERsueMxu6bgKwK74skD59u6xce566Rq8pdYNvVlqbtXyO8Pf7a1sjPkd0FQarMcm6VBHRnKUjbZu5Sae+vaqlGoftDskWudXu2COr4yiOQo9jo/Y9olPIq4fW9noDByAAAiAAAiBwaQL7ig6zMckEymKpXj3QTyVpUTZ99ULNT1LThrk9PWXCtm19nWZFpy4kiiTntaD+tzytLP7TJ+5s8fmf46KjFYb8hFWhDzEYFR2DTWxy12zGvJjnZjo36jXxpDgUX4XYj5nNG3vu6/YKkXmOK3Pqq3hOPkf4D/JM2x/wOaKLCy+VJIbBwB7ps7Yt3dnOzOYQyyfZxr58b6JjYLe2NcCRDRn8fJSSF9K5k0+1AwcgAAIgAAIgcB0CBxUdZcH2Noxik+BtGtRCLbjRdSom2uZZt43pdDcwgw2BUN82S8qn0iLUX0s76yxSdCTdml37WQMRHt9EU0RQozX/qb2JmaOE7DHXtY3B+CqrYxtHrScLmF/bY08zjuTLfF5jyN0GbbStAZ8HclgNf5LctZgE5Li2qTHk28s20KeXc5zDxr5a1KzpGNjt2mrk6zbZSrrmfOOi2m7RuWa7AoMTEAABEAABELgugWOKDneB7TcXtCgHFvWK08idL+q9TrfoKE8q114TSTYofdUouuF+EyObPOs4WnRkDvKVMP/1j85udwOY+3o/1G2ZeTFPOrzrqq+JfbbLia8xeCqXdauNnh/rI+xR5imfIvz9Nsou9md1XPlylG0HyVG2KX9Z2zyG/pj1c8b/OR+rw/df2Rryf71Y1/ICOvfyYZT4BAEQAAEQAIELERgXHe6COFj4ndcNaAFOT3bFZoiuifPESS3UaYMr75sNr2ob1OlvSvg1LvMKV9InNqP9D9/myI6uvyLu4aKDX3Pp/FtnsM5PFjEUTPpNTDqEOgeY0TQXovFlgeUzx6b5RHpSHgq/dR7ljvNreRMp87PKlg5Leyb5bG2lriYHsw7zzZHxx8qpdgmfbZuhLuOL5dLLSRt8w7vq3cEsGXbW3CO+nYgw6tvYYkYG28xlPLet6tzJR6vFGQiAAAiAAAhcgsC46KiLZv6BZN6L0ELMJ9LFslGoPxvBvx5StPX60rW6SSkLN72GovUmVbYtb07WdNZ+RaYwp/zq26yHZAg7yDVT9LC7nR184wWf8aLDL7TyJnKFAXN3+PG3J5X/6OdwJPTCKJIL0fhq7GVjWOxN32aRjyK2XvxC1wI5rm1Zz+fUds6/96e3tW9jfY7oCsXEsVl+Y9jZtoNZspXkmJzz7CPeIR0RRpM2Vo/IsWqzyLP66pdo18XFynTmTfIR/wMBEAABEACBixNYLTou7tsB5nuvSHjXDlC1U4RXdOwUhW4XIdBt7C9iN8wEARAAARAAARD4XgIoOiax755M0rcf7XWXSffTb6PoOB3x2ylA0fF2IYFBIAACIAACIAACEwIoOiaAlvKzBfkNofz6hXydZNr95AYoOk4G/IbiUXS8YVBgEgiAAAiAAAiAwCoBFB2reN7/JoqO948RLAQBEAABEAABEACBbyeAouPiGYCi4+IBhPkgAAIgAAIgAAIg8AUEatGRDvAPDJADyAHkAHIAOYAcQA4gB5ADyIEzcuCWhOK/axJA7K4ZN1gNAiAAAiAAAiAAAt9EIO1ZUXRcOOIoOi4cPJgOAiAAAiAAAiAAAl9CAEXHxQONouPiAYT5IAACIAACIAACIPAFBFB0XDzIKDouHkCYDwIgAAIgAAIgAAJfQABFx8WDjKLj4gGE+SAAAiAAAiAAAiDwBQRQdFw8yCg6Lh5AmA8CIAACIAACIAACX0DgQ4qOv+Xndlve9a+Gn5lHKDrOpPt9sv/93pfb7bbcf/+d4Py/5fd+W2733+UM6ScYfKLIOYvtf3k+z4MpfnkuXJYk45xYnogGokEABEAABD6SwEcUHbRRkhuZv5/ldvtZ/j4yZNqp1aLj3+9yv91oE5k2IudtJrVNOLsqgbRpvS+/fylv7svxdcd8o31VctvtnrCgsbstBjQPpmpD9EXRsT0y6AECIAACIHAOgQ8oOvLirZ/myW8+zgH3LlJHRQc9JRVPPLO9Hqt38WTFDioit23AVqTh1oCA3KB2hfygDy6fQWDfOK1FRzKJxkx60PAdD1/OiAJkggAIgAAIHEvg+kWHeKon0dCmm98xkDc+7NgtOsqG42PcR9HxYVkLd0AABEAABEAABL6NwKDoKF/9m10rbeTFa0z8ZJSesNXXePSTtUgbgl6fzJXXgYSedJ+LCPpMusr9rFvrTO1H1z8twH3RUWJn+A39dl7BMmGv7FWchfwckz4GdF20a09f4zH+/Slta36Zd9QneaP9juf17eev5JCxVeqTvhVFNT/ZXgtTG1RehWk+ds2lPpH3UozSyXZX22I+k7yJLtLD8tm/qqdZpPLE/HxIlxM8tlle+uwgNNn16BFbZV/H/qqDbRv5PJGj4uL4pVkE42TGq0U100m+GRnyZ0Ck7zgGARAAARAAgSMJPFx00M8K1JWv3/DWRXClTV8gRORkDHrhFmhoQ/D5r+T0RUf5YdLKWzCxh2XTpJorxDLDAAARn0lEQVSWa/J1tT6GWUdt48lZdJtHYpyLlT6WEZna5djGbuSvznXtX9KT+lUm6ULZ3Cm+yiArI9nXireIf9lW26cV5csS8zmuSxYF1n4u9mWskv52TvaKjf52Zqyj+Vx9NHK9eHnXVMxUfMrDDlUwZJ9nciJ+aRaROFneOl8iOrnwVznpjHmDAacgAAIgAAIg8DCBx4sOsdCTNbSAjTcZfZu8kKpFMDXy5HTvJ/sLNemYbvio1eX/Nyo61jZS2ekxO9oMCdZ0bgLkbZiUToofbwwfiXGfC9n+mEwdYN9n7UvZaJq8tm2SXO9aRF9rYzeR7c5SijaD3YwLv7+2K+JzjCXJNQZ5ulQeSJcOZGbMMFz82Ghbs2HeNWmydz96TcqphZEwXMuJx2mN77pOX0fqQ7aIMa/l4AwEQAAEQAAEHifweNEhFlEyx2z2aTFba+N81U9PEel1C1O8WDmDp7ieHY+jek8Jo6Jj/orKYKOZ3PQKPsNeb5jK02exUVdxfyjGvT0yvi1X2itKt+FvXvI3XdYXe56RyG8Pci707Yp8yl1hj2GXe+f/528YUtuW63QnwsyMNZar7Qr4HNHFG1Pji9I1sIftSp+qfXY0/xrdKLMttop89HV79khr/fu9D167eS5oOYE41ddGnXwJsYyPeU0BZyAAAiAAAiDwOIG3KTrMXqbzjBborlFZqM3mgjoHNkCdkgte6IuOFSbSvzU+6luKsqEy7PWGiV8l4o2z2dys6RI2+TFeLzqMWUKadxjb2HW+uZtlu9H0uPv6PMtIJ228y7dDEWaDNtp+3wbVZiDH2kl9DPCtclR7fmigxq9vb7Vli61Kro1XlqjtqVrqgXd/fi2WC1qO77duU80q30yk4oO/TQzoXGNnxnzThCMQAAEQAAEQOIbAoOiIbTTdBdF7Sm4Wf/0kPW9QZ68MkC6z4UkIXBvyjf7p8THM3kpKX3TwO+/tD4T5Bmfu3jcilqnH3rbh10cojikHVMwfi7HOF/YmJpNb82fEl943P89UO3dD528k2ZbuU8mI+Oe3UXbxGDFjR7fx5Vj7qM+DcpRe5S9rmzHbYKvKwUAM2QTxqewt16fXgn5ZOXS+ylcYlg6lHnlcm1mWmV1kzFcROAABEAABEACBgwgMi4782gc/uS4LdnoSKxZyWiTTtbpQ9otapI3VRb6Zjau3IKd2/Q/AZjKj6wdxexsxXtHBBUB69aiGplicOHKBlxmZNlQ06msee7omcoHEl5il3zjFOhjUIzFWmysWWGPfclTaMPqL19YO8sPLa+Ob56++Fsl9YXw6TLxkgIh988fa6vmX7een3f44tXI8n22boS5pLxc0glUvJ218m08PMwvGXevJ3KPXcuttfbTsWC7oPjyXGVYyN1fzJaYzx0eP71zUm2sSAo5BAARAAARA4AACw6JDblzT5jVtImnBEhsMWjRHv06yGBdpk5ryYljf0Rd60n2W0/lsNmp83y7ofP3TPv2iI3vZMTW/vpRaET/x8wf2ZwsG7H2+ZePjyEi6OnuiMWYb0gbMFFIzmX28y9PfImuY155ts2vlaXPN4Z+/cd4Ww4hjscX6FmHmjdM+NnOfI7pI7qTo8OTIArSzbQczT4d8GJLud3o2XEv9+b/dcgJ+9bLncaI+o3wJ6CS/AmOe/ccnCIAACIAACBxFYKXomKugBdBsQmyvSBvbZ9t53ujKjQ3/5h99bZvUq7ReKzqu4gPsPJZAv5k9Vj6kgQAIgAAIgAAIgMBWAh9QdJQn6PIpND3Ja6+cbIVypfYoOq4UrefYiqLjOZyhBQRAAARAAARAIE7gI4oO/mYjf+mSX1H4hm85UphRdMST/Vtaouj4lkjDTxAAARAAARC4DoGHio7ruPm5lqLo+NzYwjMQAAEQAAEQAAEQ+BQCKDouHkkUHRcPIMwHARAAARAAARAAgS8gUIuOdIB/YIAcQA4gB5ADyAHkAHIAOYAcQA6ckQO3JBT/XZMAYnfNuMFqEAABEAABEAABEPgmAmnPiqLjwhFH0XHh4MF0EAABEAABEAABEPgSAig6Lh5oFB0XDyDMBwEQAAEQAAEQAIEvIICi4+JBRtFx8QDCfBAAARAAARAAARD4AgIoOi4eZBQdFw8gzAcBEAABEAABEACBLyCAouPiQUbRcfEAwnwQAAEQAAEQAAEQ+AIC+4uOf7/L/XZbbunf/Xf5t+S/BJ6PMzn7l5HteWm1/Nxuyzf+NfEj8uuTiw7Kl5wYR6D6KBn/fu809u6//07wqx/LJyiBSEPAnx9NI5w+SGCQ24H17EHFw+5nxv1M2UOHDrpxZdsfQzDI0YDQvC78LH/Ttvt1TEWjAQisENhZdJSEVRvCPontpGHPk100SKhoKVb+/Sy3W2TQrHj1Rbe8ooM3pFQQcmGoYnUNQJQvF7T7fLp/y8/tvvz+pcL/vhxfd/Rj+XyfvlwDbXrPiOWXc+3c93I7tp51og664K2LB4lejpLdrSlPmJePsv0ols+T4+VoRHtaF/gB7qz9Xh0zubgPAusEdhYdOblnT1ntpGHPl/LtiJazZeCsO/cNd4dFhyzklsxUfgt1BTaUL09Y3K7AQtqYuPCY6Yp22RDHFyGQNwAc04sY/UFmxtazsxzu18XjNB0hOxccsiAu68nJc/MRth9H8v0lUZxOjsn7U4CF707gtUXH4OkeTTYYPKHciRUd5RulU56Kh8zc1Qh5sAsbOoEACGwigKJjjMtnkwuRc99IQNExjgrugMBVCQyKjvIkg1/Noc/ypINefyo/y1Hu8xM6O0nMzkcT1+j6VSGfaXe06Fgobu1pFW/o6TPFUX4zYmMs77EzkzYsP8dS/uwPC8if6v6tPcFPd6Mysm8iJz17tdosW+b3rMiV73x7X2FPeFR/WOfPn3m10HvFozCw/kx0RblN2Ru9NVeEDwZrd7qmgxobrumVQBuKVX8kC2OvNibG9xhdkdx9gj2SjR3jYnzVuEp+gbhovuVsonMxcmWskx1pLdE542xsZzr4tV3OU29eYV+tLNGWuHC74p62Tc9XqUllybqlgxWRmKt+/vxXoAwnb1wUcepD6R/Jtj4bH5XAYkfnRpHRXa8M+rhZnsrWxMsIs+3JrgAX6se+27yf+W7kG5MUGtajcsJjaWRGYml9j+iyfZKxyjaR2+me196Oz4itCgpOQGBCYFB06F59cvpPP2y7redVK00MbYNcr+OgIxAtOvLk05hSbJyJPreTC0bZHInJNNKml9/njLUpv263ZuNIxrq9FlqyjQtlujdaWGtHqzcxaTrjPGwfWezFNqFxXXIRt/bzYtRYu+xFzLczm+vgYlEt7GVTIOMzyqW0ILaNSu9jDV8O8vJ7l+3zXZJt/PTketekjVqX2HxW56x9sXjv9X1fnhQvvA2lExfr81ynx6CNid7XfXNPtiOe20t5/dTG0+ZGRK6S4cwr2cfmc5Yp5wHaDdIviaipk0AH+Edkz2Nkokp6Jcty3/Gt9vTyxzBOtoZYibHJDGZcMod+rM99X8/P6l856PXY/i1uM5td2cL3iC5qI/pE8tV72LjVVms7zkFgjcC86HAnHWdwOZWzHQT63F90ydi1CW3Nmy+8Fyo6Cs+2QeNNUVv8MrocVzXppBsqByJtinwjyIu/WnhM/Kj9qoyYLUasc7qSi9Taz/csKGKD39/jIWOU5Os2EV0HshcLWA9txizfH8d33J98Fr9MQjMo1H/MRq1jZS329VnZ9ryPwVi/1EhyVnP3THs25IngnO337aocuvbsdUSnPw6qBCem2+eebP847+yYIs/oB3BtH50Lc7nsR/u0LH3/PT12HiArE58J/3UfIjFq1tORmvvFvdU12mFFcux6I+Txb78UY2YvF+rXcYr47sdHWimPSY+wN93ba7OU28uJzOm+bpsPUs9RtkqZOAaBGYFJ0ZEHYT8B+oNTJ7EdBPbcTsjC1NUJTbTD4TIsOtJTYPHPTj7ehOl9tdpklKddXMAI2V0bnnzXJuRAjD0bVY4FbenTpOSe9cHYK/vVJ5L252IiNgx8Vb44i27Sr9pEdHEf44snxzSR7mq9dGcjs4HPTclgE5CdXm6Cs7K9CIhea/r8+cbKsefZnK0FTombAaxln2jPA3nCT/2N6RnjaAOa7gZ1DsfRIG9ZLtkT0THNOzOmyLPAehaQy78Ypc2HZQ5mmAMZOi/i4yIHpfw/Iru06eyjedD5NiOJHsV8oI9tojiLhxbkI3OgRvP5ZC+XXtcx+cm+8aenZ6/NLJM/tZzIfGLyehKfpEfr2Jl3bDA+QSBIYLXooKTsnhgkyYFJuktqm+Rl0hETU7U5MGBq2y8/GBYdHlfBimKrFoE2MdvLolvdXKy24dibRmqSC8TYs3GrDGU7nXh5528A+74lh2mRLk/tAn6ojZMQqnzZUHQYrEJiPjyCm2ubyqkJsxmXtfvmqai2Rfio7LHzi8Xi22tl2/MkJXpNaqQ+JlBazon2rLEVRno2jnKVupm4CFHheYH7kG45jpizYabsifgVaKPjkCwKrGdTuSWeKidNjAcylD2DNnv5h2VzYOznyJ5RMcL9qR8XMnZDG2DF+cA8R3YkfSYvyee1PGIbVz5JhslP29zTE+ZtbHZls+/MwvikdHEb7rPGqyhT/dfaT2y1tuMcBNYIjIuOtSSMTNJ2EATOq6GzCa02xMGhRccgrpqyv0DrNmWjtjpJzuVMJ/WQvcYyN6/N5sB06U6VjLkfoU0Nj48HmSVbj+A2X5BmzGZc8v3+W9R+k69sKcGIXpOxm3PpdVeevJiv6N+lazXee+2Zsc+Wejw4VyNxkf5yP/uNqm5jztQ48n3VT9ojfs3b9Lnj99Ht/DbVI+NLvm7HiC/D03MUf0/2phgN5tj8jdX8dSnSldZzOX5CrGw+ZHYRLuSzGVdH5GeNdTnw9Hi8Iza7sgWzuS6f11qsj7LV2o5zEFgjMCg67GRpRUQmTzsI+vPRxDW6bq3A+TJ+vUpMWB4nbxJL7TJ7fkJVeppFI9LGk68nOU9Xyrume58M2nXrRU4B6Bcv0pOeanULlfBf3jNFcZiH+Naw6hRxsnIibchCE5993Bz21bYdzNxc0jqyv+a3VRFbfY38qbbkmESvydBH+Ebleu2kLrovc4aLQeHHmfZY2dE8Se2icZH+tn5t/HY6U2wlEzOOiJkah33eRfzq2+i862MXW8/W5fa29v6UNTA0D+gxkIsvc80EIOtrhUDVv5JzXYyMzHSa5Yi4lqJhbUMr5f7aHxovhYzMhWqryA+61tluGIzmCyGHXerjZ9aKSX6yHP4k+4yevTazTP60ciK6bJ/e3/VxkNvP+bKN+ASBPQT8oqNMKvbdzzbJxCZpOwjsuX6K1czv2rVbODIEjv2mIwvnyafGX0z8rH7WhmI4mZCTLCun5VhZ7HbIUE/V2GD5afObf72i0SW7kD/0dXt+T9s2tX70NqQJv/2cTfKzz/O+Dck1/Ge6DmMv9e5gNosv8S2bhppr4mc5mH/PqX+Akdp67VhG/pzz9WREr0ld1MckSS/nXHv25En1IRCX2lYchHQOxhEzUzJkDhY96n6SFWjTzSuqT2w9S+qtbimXXwWruezOK/OYk5u7+MdkWx88fiKkxZw2dyX/lN+2cT0vhZgzpiOs+vFSigSRP/Jnv1gt5xGfy8+Z79RXyDdDWIoKfKNcmu+IpfXd88lto/J6PV9tf7J2h60KCk5AYELALzomnY677U323rXjNH6aJK/o+DQfP9Ufd9L/VGfhFwhMCHgbq0kX3AYBEAABELgQgRcXHaUSl9U5VdrtK+ILsXyJqSg6XoL9EKUoOg7BCCEfQgBFx4cEEm6AAAiAwIDAy4sO/gGv/DVm/no49tXtwKMvu4yi47oBR9Fx3djB8uMJoOg4nikkggAIgMA7EXiDouOdcFzPFhQd14sZLAYBEAABEAABEACBbyOAouPiEUfRcfEAwnwQAAEQAAEQAAEQ+AICtehIB/gHBsgB5AByADmAHEAOIAeQA8gB5MAZOfAfOnwS10E3brAAAAAASUVORK5CYII=)"
      ]
    },
    {
      "cell_type": "markdown",
      "metadata": {
        "id": "_zthX3S5glZN"
      },
      "source": [
        "# Integer"
      ]
    },
    {
      "cell_type": "markdown",
      "metadata": {
        "id": "EKlVhJF3AyY7"
      },
      "source": [
        "## Criando uma variável do tipo integer"
      ]
    },
    {
      "cell_type": "code",
      "metadata": {
        "id": "S3KGShSOAxxn"
      },
      "source": [
        "x = 50"
      ],
      "execution_count": null,
      "outputs": []
    },
    {
      "cell_type": "code",
      "metadata": {
        "colab": {
          "base_uri": "https://localhost:8080/"
        },
        "id": "pzKd1vlWBZIb",
        "outputId": "c4e9e02a-5f43-44a8-c0ee-c317b837c6e5"
      },
      "source": [
        "print(x)"
      ],
      "execution_count": null,
      "outputs": [
        {
          "output_type": "stream",
          "text": [
            "50\n"
          ],
          "name": "stdout"
        }
      ]
    },
    {
      "cell_type": "code",
      "metadata": {
        "id": "l5k73vpkBcP0"
      },
      "source": [
        "y = -250"
      ],
      "execution_count": null,
      "outputs": []
    },
    {
      "cell_type": "code",
      "metadata": {
        "colab": {
          "base_uri": "https://localhost:8080/"
        },
        "id": "8JBklwo0BgdO",
        "outputId": "b40cf30a-5844-41f8-c831-a9c5d6a1a455"
      },
      "source": [
        "print(y)"
      ],
      "execution_count": null,
      "outputs": [
        {
          "output_type": "stream",
          "text": [
            "-250\n"
          ],
          "name": "stdout"
        }
      ]
    },
    {
      "cell_type": "code",
      "metadata": {
        "id": "_EA-6OhuBj8g"
      },
      "source": [
        "a = +50"
      ],
      "execution_count": null,
      "outputs": []
    },
    {
      "cell_type": "code",
      "metadata": {
        "colab": {
          "base_uri": "https://localhost:8080/"
        },
        "id": "-NIn96i8BmmB",
        "outputId": "960345d5-da77-4f4d-be1c-74b2cdb1c18e"
      },
      "source": [
        "print(a)"
      ],
      "execution_count": null,
      "outputs": [
        {
          "output_type": "stream",
          "text": [
            "50\n"
          ],
          "name": "stdout"
        }
      ]
    },
    {
      "cell_type": "markdown",
      "metadata": {
        "id": "ou_TNJOmA8DL"
      },
      "source": [
        "## Declarando o tipo de variável"
      ]
    },
    {
      "cell_type": "code",
      "metadata": {
        "id": "zQ5KBJxQA7pj"
      },
      "source": [
        "numero_alunos = int(50)"
      ],
      "execution_count": null,
      "outputs": []
    },
    {
      "cell_type": "code",
      "metadata": {
        "colab": {
          "base_uri": "https://localhost:8080/"
        },
        "id": "MzdV6nvoCA1L",
        "outputId": "f572829f-446f-484a-9d7e-1719aeb6465f"
      },
      "source": [
        "print(numero_alunos)"
      ],
      "execution_count": null,
      "outputs": [
        {
          "output_type": "stream",
          "text": [
            "50\n"
          ],
          "name": "stdout"
        }
      ]
    },
    {
      "cell_type": "code",
      "metadata": {
        "colab": {
          "base_uri": "https://localhost:8080/"
        },
        "id": "8MxX-IbJCGVz",
        "outputId": "ee5abd43-93f3-469d-a51d-a2c1490a5207"
      },
      "source": [
        "print(type(a))"
      ],
      "execution_count": null,
      "outputs": [
        {
          "output_type": "stream",
          "text": [
            "<class 'int'>\n"
          ],
          "name": "stdout"
        }
      ]
    },
    {
      "cell_type": "markdown",
      "metadata": {
        "id": "tKANlO8zBBnJ"
      },
      "source": [
        "## Divisão de Integer + Integer = Float"
      ]
    },
    {
      "cell_type": "code",
      "metadata": {
        "id": "0HgZ9V7WAvsU"
      },
      "source": [
        "divisao = 50/2"
      ],
      "execution_count": null,
      "outputs": []
    },
    {
      "cell_type": "code",
      "metadata": {
        "colab": {
          "base_uri": "https://localhost:8080/"
        },
        "id": "57XX-vGWCiZl",
        "outputId": "b1ddf211-26ca-4d24-eee0-a5540df61f5d"
      },
      "source": [
        "print(divisao)"
      ],
      "execution_count": null,
      "outputs": [
        {
          "output_type": "stream",
          "text": [
            "25.0\n"
          ],
          "name": "stdout"
        }
      ]
    },
    {
      "cell_type": "code",
      "metadata": {
        "colab": {
          "base_uri": "https://localhost:8080/"
        },
        "id": "LaF97ZXDCmZv",
        "outputId": "69f07fe8-7e4d-4101-f2e6-44b7c6cac0ca"
      },
      "source": [
        "print(type(divisao))"
      ],
      "execution_count": null,
      "outputs": [
        {
          "output_type": "stream",
          "text": [
            "<class 'float'>\n"
          ],
          "name": "stdout"
        }
      ]
    },
    {
      "cell_type": "code",
      "metadata": {
        "id": "--cExva7Czy2"
      },
      "source": [
        "divisao = int(50/2)"
      ],
      "execution_count": null,
      "outputs": []
    },
    {
      "cell_type": "code",
      "metadata": {
        "colab": {
          "base_uri": "https://localhost:8080/"
        },
        "id": "wt-nvlTtC75z",
        "outputId": "769cff39-ceb2-4269-b39f-8715538c2a88"
      },
      "source": [
        "print(divisao)"
      ],
      "execution_count": null,
      "outputs": [
        {
          "output_type": "stream",
          "text": [
            "25\n"
          ],
          "name": "stdout"
        }
      ]
    },
    {
      "cell_type": "code",
      "metadata": {
        "colab": {
          "base_uri": "https://localhost:8080/"
        },
        "id": "MqwdLFEjC_k8",
        "outputId": "32b0489c-f86a-48cd-cc95-6bf1e58ff31b"
      },
      "source": [
        "print(type(divisao))"
      ],
      "execution_count": null,
      "outputs": [
        {
          "output_type": "stream",
          "text": [
            "<class 'int'>\n"
          ],
          "name": "stdout"
        }
      ]
    },
    {
      "cell_type": "markdown",
      "metadata": {
        "id": "Mw_cm-7pgljN"
      },
      "source": [
        "# Float"
      ]
    },
    {
      "cell_type": "code",
      "metadata": {
        "id": "-7dqgemcDuBz"
      },
      "source": [
        "a = 2.5"
      ],
      "execution_count": null,
      "outputs": []
    },
    {
      "cell_type": "code",
      "metadata": {
        "colab": {
          "base_uri": "https://localhost:8080/"
        },
        "id": "aLcmfD0iELaY",
        "outputId": "11d95e84-1220-4288-cf65-dbeabbbb2d06"
      },
      "source": [
        "print(type(a))"
      ],
      "execution_count": null,
      "outputs": [
        {
          "output_type": "stream",
          "text": [
            "<class 'float'>\n"
          ],
          "name": "stdout"
        }
      ]
    },
    {
      "cell_type": "code",
      "metadata": {
        "id": "2EWFhdPaERMz"
      },
      "source": [
        "b = -23.8"
      ],
      "execution_count": null,
      "outputs": []
    },
    {
      "cell_type": "code",
      "metadata": {
        "colab": {
          "base_uri": "https://localhost:8080/"
        },
        "id": "z7pnatTUEUpF",
        "outputId": "976c6e73-e5d8-43fa-9a56-9cf021314fdf"
      },
      "source": [
        "print(type(b))"
      ],
      "execution_count": null,
      "outputs": [
        {
          "output_type": "stream",
          "text": [
            "<class 'float'>\n"
          ],
          "name": "stdout"
        }
      ]
    },
    {
      "cell_type": "code",
      "metadata": {
        "id": "VgRqBRefEZ53"
      },
      "source": [
        "c = 6,23"
      ],
      "execution_count": null,
      "outputs": []
    },
    {
      "cell_type": "code",
      "metadata": {
        "colab": {
          "base_uri": "https://localhost:8080/"
        },
        "id": "qUt_0FYUEhI1",
        "outputId": "5dad80f5-3ace-4e69-bb39-bf3081f1b3f4"
      },
      "source": [
        "print(type(c))"
      ],
      "execution_count": null,
      "outputs": [
        {
          "output_type": "stream",
          "text": [
            "<class 'tuple'>\n"
          ],
          "name": "stdout"
        }
      ]
    },
    {
      "cell_type": "code",
      "metadata": {
        "id": "96E9_V_YEsKp"
      },
      "source": [
        "c = 6.23"
      ],
      "execution_count": null,
      "outputs": []
    },
    {
      "cell_type": "code",
      "metadata": {
        "colab": {
          "base_uri": "https://localhost:8080/"
        },
        "id": "IVh2gf5cEuqj",
        "outputId": "b98421de-5208-4b7f-81a5-b143a31c48c0"
      },
      "source": [
        "print(type(c))"
      ],
      "execution_count": null,
      "outputs": [
        {
          "output_type": "stream",
          "text": [
            "<class 'float'>\n"
          ],
          "name": "stdout"
        }
      ]
    },
    {
      "cell_type": "markdown",
      "metadata": {
        "id": "1ErRhISEi6CJ"
      },
      "source": [
        "Float também pode ser números científicos com um \"e\" para indicar a potência de 10."
      ]
    },
    {
      "cell_type": "code",
      "metadata": {
        "id": "YC8FpI3iE7HC"
      },
      "source": [
        "d = 35e3"
      ],
      "execution_count": null,
      "outputs": []
    },
    {
      "cell_type": "code",
      "metadata": {
        "colab": {
          "base_uri": "https://localhost:8080/"
        },
        "id": "YiQYB4coFF-B",
        "outputId": "e9e7a478-2d3d-4922-cce5-8fa1aee9a299"
      },
      "source": [
        "print(type(d))"
      ],
      "execution_count": null,
      "outputs": [
        {
          "output_type": "stream",
          "text": [
            "<class 'float'>\n"
          ],
          "name": "stdout"
        }
      ]
    },
    {
      "cell_type": "code",
      "metadata": {
        "id": "GU9PyBLRFP_t"
      },
      "source": [
        "d = 35E3"
      ],
      "execution_count": null,
      "outputs": []
    },
    {
      "cell_type": "code",
      "metadata": {
        "colab": {
          "base_uri": "https://localhost:8080/"
        },
        "id": "5N6mR5IsFTOI",
        "outputId": "111454b8-c817-4c99-bf09-3613abb815b0"
      },
      "source": [
        "print(type(d))"
      ],
      "execution_count": null,
      "outputs": [
        {
          "output_type": "stream",
          "text": [
            "<class 'float'>\n"
          ],
          "name": "stdout"
        }
      ]
    },
    {
      "cell_type": "code",
      "metadata": {
        "id": "sziEwuI2FVfC"
      },
      "source": [
        "e = -15e4"
      ],
      "execution_count": null,
      "outputs": []
    },
    {
      "cell_type": "code",
      "metadata": {
        "colab": {
          "base_uri": "https://localhost:8080/"
        },
        "id": "pEnT1k69FaI-",
        "outputId": "cbe3fa0a-fd75-4500-e485-8d975d1e11fb"
      },
      "source": [
        "print(type(e))"
      ],
      "execution_count": null,
      "outputs": [
        {
          "output_type": "stream",
          "text": [
            "<class 'float'>\n"
          ],
          "name": "stdout"
        }
      ]
    },
    {
      "cell_type": "code",
      "metadata": {
        "id": "_kOivBmzFmPK"
      },
      "source": [
        "f = 15e3"
      ],
      "execution_count": null,
      "outputs": []
    },
    {
      "cell_type": "markdown",
      "metadata": {
        "id": "ocDjfNaSglrM"
      },
      "source": [
        "# Operações com os tipos de dados em python"
      ]
    },
    {
      "cell_type": "markdown",
      "metadata": {
        "id": "jSygQmUYGImk"
      },
      "source": [
        "## Boolean"
      ]
    },
    {
      "cell_type": "code",
      "metadata": {
        "colab": {
          "base_uri": "https://localhost:8080/"
        },
        "id": "S70DiW3oJWKy",
        "outputId": "9a720650-a595-4a4a-d922-9517a7f9123b"
      },
      "source": [
        "5 == 5"
      ],
      "execution_count": null,
      "outputs": [
        {
          "output_type": "execute_result",
          "data": {
            "text/plain": [
              "True"
            ]
          },
          "metadata": {
            "tags": []
          },
          "execution_count": 66
        }
      ]
    },
    {
      "cell_type": "code",
      "metadata": {
        "colab": {
          "base_uri": "https://localhost:8080/"
        },
        "id": "VTV7TJhGJqXr",
        "outputId": "dae6f17a-8849-4f47-9ef7-8f40b2de390f"
      },
      "source": [
        "5 == 4"
      ],
      "execution_count": null,
      "outputs": [
        {
          "output_type": "execute_result",
          "data": {
            "text/plain": [
              "False"
            ]
          },
          "metadata": {
            "tags": []
          },
          "execution_count": 67
        }
      ]
    },
    {
      "cell_type": "code",
      "metadata": {
        "colab": {
          "base_uri": "https://localhost:8080/"
        },
        "id": "QUCmj09_JsWf",
        "outputId": "31cc258e-e2d3-4be3-a580-32eb06fe5e59"
      },
      "source": [
        "15 > 10"
      ],
      "execution_count": null,
      "outputs": [
        {
          "output_type": "execute_result",
          "data": {
            "text/plain": [
              "True"
            ]
          },
          "metadata": {
            "tags": []
          },
          "execution_count": 68
        }
      ]
    },
    {
      "cell_type": "code",
      "metadata": {
        "colab": {
          "base_uri": "https://localhost:8080/"
        },
        "id": "qpePvurnJvpA",
        "outputId": "57e3d39b-fdfe-454a-ff61-c5614e75080a"
      },
      "source": [
        "3 > 25"
      ],
      "execution_count": null,
      "outputs": [
        {
          "output_type": "execute_result",
          "data": {
            "text/plain": [
              "False"
            ]
          },
          "metadata": {
            "tags": []
          },
          "execution_count": 69
        }
      ]
    },
    {
      "cell_type": "code",
      "metadata": {
        "colab": {
          "base_uri": "https://localhost:8080/"
        },
        "id": "ZgpZoPrIJzSr",
        "outputId": "28b68c87-73f0-4ba6-af4c-d05c86656d32"
      },
      "source": [
        "'python' == 'java'"
      ],
      "execution_count": null,
      "outputs": [
        {
          "output_type": "execute_result",
          "data": {
            "text/plain": [
              "False"
            ]
          },
          "metadata": {
            "tags": []
          },
          "execution_count": 70
        }
      ]
    },
    {
      "cell_type": "code",
      "metadata": {
        "colab": {
          "base_uri": "https://localhost:8080/"
        },
        "id": "WKpFeNW2J3kl",
        "outputId": "522190a6-caa8-4355-9639-37bee2d25d3e"
      },
      "source": [
        "'python' > 'java'"
      ],
      "execution_count": null,
      "outputs": [
        {
          "output_type": "execute_result",
          "data": {
            "text/plain": [
              "True"
            ]
          },
          "metadata": {
            "tags": []
          },
          "execution_count": 71
        }
      ]
    },
    {
      "cell_type": "code",
      "metadata": {
        "colab": {
          "base_uri": "https://localhost:8080/"
        },
        "id": "nN2ZFD8-J-Kx",
        "outputId": "62a4fa2b-8a4f-4f9d-c988-9649d6c399a2"
      },
      "source": [
        "'python' == 'python'"
      ],
      "execution_count": null,
      "outputs": [
        {
          "output_type": "execute_result",
          "data": {
            "text/plain": [
              "True"
            ]
          },
          "metadata": {
            "tags": []
          },
          "execution_count": 72
        }
      ]
    },
    {
      "cell_type": "markdown",
      "metadata": {
        "id": "xyl6Gs8PjKsO"
      },
      "source": [
        "## Convertendo os tipos de dados em Python"
      ]
    },
    {
      "cell_type": "code",
      "metadata": {
        "id": "_HfE7AcsKMHI"
      },
      "source": [
        "num_end = 500\r\n",
        "num_end_2 = '200'"
      ],
      "execution_count": null,
      "outputs": []
    },
    {
      "cell_type": "code",
      "metadata": {
        "id": "d_rtC2MRKV7G"
      },
      "source": [
        "num_end_x = str(num_end)"
      ],
      "execution_count": null,
      "outputs": []
    },
    {
      "cell_type": "code",
      "metadata": {
        "colab": {
          "base_uri": "https://localhost:8080/"
        },
        "id": "5iAncyh8KwAO",
        "outputId": "0876d94c-e64b-4086-c146-52a71b9a2893"
      },
      "source": [
        "print(type(num_end))"
      ],
      "execution_count": null,
      "outputs": [
        {
          "output_type": "stream",
          "text": [
            "<class 'int'>\n"
          ],
          "name": "stdout"
        }
      ]
    },
    {
      "cell_type": "code",
      "metadata": {
        "colab": {
          "base_uri": "https://localhost:8080/"
        },
        "id": "SmOSGxXKK0rJ",
        "outputId": "1115d986-3c96-4b1f-e3d9-92a99c591994"
      },
      "source": [
        "print(type(num_end_x))"
      ],
      "execution_count": null,
      "outputs": [
        {
          "output_type": "stream",
          "text": [
            "<class 'str'>\n"
          ],
          "name": "stdout"
        }
      ]
    },
    {
      "cell_type": "code",
      "metadata": {
        "id": "SNQXBUl0K_Wv"
      },
      "source": [
        "num_end_y = int(num_end_2)"
      ],
      "execution_count": null,
      "outputs": []
    },
    {
      "cell_type": "code",
      "metadata": {
        "colab": {
          "base_uri": "https://localhost:8080/"
        },
        "id": "CflgRY5qLIoe",
        "outputId": "7ec6520e-8942-4c93-910f-d083492ea9dd"
      },
      "source": [
        "print(type(num_end_y))"
      ],
      "execution_count": null,
      "outputs": [
        {
          "output_type": "stream",
          "text": [
            "<class 'int'>\n"
          ],
          "name": "stdout"
        }
      ]
    },
    {
      "cell_type": "code",
      "metadata": {
        "colab": {
          "base_uri": "https://localhost:8080/"
        },
        "id": "9YaIN3d-LRpn",
        "outputId": "54b0014d-9279-413c-ca67-4cee34569ba4"
      },
      "source": [
        "print(type(num_end_2))"
      ],
      "execution_count": null,
      "outputs": [
        {
          "output_type": "stream",
          "text": [
            "<class 'str'>\n"
          ],
          "name": "stdout"
        }
      ]
    },
    {
      "cell_type": "code",
      "metadata": {
        "id": "DVe-9oXcLYSK"
      },
      "source": [
        "num_end_f = float(num_end)"
      ],
      "execution_count": null,
      "outputs": []
    },
    {
      "cell_type": "code",
      "metadata": {
        "id": "3AZeFB5LLe0H",
        "colab": {
          "base_uri": "https://localhost:8080/"
        },
        "outputId": "4906f41e-703f-4489-afe5-261fb0ef3024"
      },
      "source": [
        "print(type(num_end_f))"
      ],
      "execution_count": null,
      "outputs": [
        {
          "output_type": "stream",
          "text": [
            "<class 'float'>\n"
          ],
          "name": "stdout"
        }
      ]
    }
  ]
}