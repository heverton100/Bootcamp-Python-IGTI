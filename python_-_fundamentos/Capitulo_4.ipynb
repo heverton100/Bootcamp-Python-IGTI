{
  "nbformat": 4,
  "nbformat_minor": 0,
  "metadata": {
    "colab": {
      "name": "Capitulo_4.ipynb",
      "provenance": [],
      "collapsed_sections": []
    },
    "kernelspec": {
      "name": "python3",
      "display_name": "Python 3"
    }
  },
  "cells": [
    {
      "cell_type": "markdown",
      "metadata": {
        "id": "dhMpzNX_ZwtS"
      },
      "source": [
        "# Capítulo 4 - Listas; Tuplas; Sets e Dicionários\r\n",
        "\r\n",
        "Professor: Erick Faria  \r\n",
        "GitHub: https://github.com/erickfaria"
      ]
    },
    {
      "cell_type": "markdown",
      "metadata": {
        "id": "PzKVfDW8iY3E"
      },
      "source": [
        "# Listas (Arrays)"
      ]
    },
    {
      "cell_type": "code",
      "metadata": {
        "id": "LTB1YfKdLI4r"
      },
      "source": [
        "frutas = ['banana', 'laranja', 'abacate', 'melancia', 'caju', 'abacaxi']\r\n",
        "saldo_alunos = [500.00, 1200.00, 1000.00, 600.00, 50000.00]\r\n",
        "num_pacientes = [25, 36, 50, 45, 22, 33, 89]"
      ],
      "execution_count": null,
      "outputs": []
    },
    {
      "cell_type": "code",
      "metadata": {
        "colab": {
          "base_uri": "https://localhost:8080/"
        },
        "id": "yHpJZQ-CMvZy",
        "outputId": "f4e28612-6c27-43a9-9881-17bd0f5edee2"
      },
      "source": [
        "print(frutas)"
      ],
      "execution_count": null,
      "outputs": [
        {
          "output_type": "stream",
          "text": [
            "['banana', 'laranja', 'abacate', 'melancia', 'caju', 'abacaxi']\n"
          ],
          "name": "stdout"
        }
      ]
    },
    {
      "cell_type": "code",
      "metadata": {
        "colab": {
          "base_uri": "https://localhost:8080/"
        },
        "id": "peRPXhj8MzSD",
        "outputId": "405ba10f-bf61-4338-cdd4-8b5c8a9d3c12"
      },
      "source": [
        "print(saldo_alunos)"
      ],
      "execution_count": null,
      "outputs": [
        {
          "output_type": "stream",
          "text": [
            "[500.0, 1200.0, 1000.0, 600.0, 50000.0]\n"
          ],
          "name": "stdout"
        }
      ]
    },
    {
      "cell_type": "code",
      "metadata": {
        "colab": {
          "base_uri": "https://localhost:8080/"
        },
        "id": "jfcE7G2aM1_U",
        "outputId": "cb7da7fa-c473-410a-a55c-08ed300fcbe5"
      },
      "source": [
        "print(num_pacientes)"
      ],
      "execution_count": null,
      "outputs": [
        {
          "output_type": "stream",
          "text": [
            "[25, 36, 50, 45, 22, 33, 89]\n"
          ],
          "name": "stdout"
        }
      ]
    },
    {
      "cell_type": "markdown",
      "metadata": {
        "id": "ok4yJjkjEQRq"
      },
      "source": [
        "### Permite duplicados"
      ]
    },
    {
      "cell_type": "code",
      "metadata": {
        "id": "34y8921CNBly"
      },
      "source": [
        "frutas_dup = ['banana', 'laranja', 'abacate', 'melancia', 'caju', 'abacaxi', 'banana', 'laranja', 'abacate']"
      ],
      "execution_count": null,
      "outputs": []
    },
    {
      "cell_type": "code",
      "metadata": {
        "colab": {
          "base_uri": "https://localhost:8080/"
        },
        "id": "KQo3rvsqNJaP",
        "outputId": "7f1fb7e0-d090-4fa6-a599-701f93a5df70"
      },
      "source": [
        "print(frutas_dup)"
      ],
      "execution_count": null,
      "outputs": [
        {
          "output_type": "stream",
          "text": [
            "['banana', 'laranja', 'abacate', 'melancia', 'caju', 'abacaxi', 'banana', 'laranja', 'abacate']\n"
          ],
          "name": "stdout"
        }
      ]
    },
    {
      "cell_type": "markdown",
      "metadata": {
        "id": "Y_yUjHvOEYnu"
      },
      "source": [
        "### Calcular tamanho da lista"
      ]
    },
    {
      "cell_type": "code",
      "metadata": {
        "colab": {
          "base_uri": "https://localhost:8080/"
        },
        "id": "ECRBCl4ZNQgT",
        "outputId": "307e4e53-0bba-494f-f727-87ec51652efc"
      },
      "source": [
        "len(saldo_alunos)"
      ],
      "execution_count": null,
      "outputs": [
        {
          "output_type": "execute_result",
          "data": {
            "text/plain": [
              "5"
            ]
          },
          "metadata": {
            "tags": []
          },
          "execution_count": 27
        }
      ]
    },
    {
      "cell_type": "code",
      "metadata": {
        "colab": {
          "base_uri": "https://localhost:8080/"
        },
        "id": "fOXU-Jm0NgdM",
        "outputId": "6e9e2324-14bf-4857-d51b-862230ac9546"
      },
      "source": [
        "len(num_pacientes)"
      ],
      "execution_count": null,
      "outputs": [
        {
          "output_type": "execute_result",
          "data": {
            "text/plain": [
              "7"
            ]
          },
          "metadata": {
            "tags": []
          },
          "execution_count": 28
        }
      ]
    },
    {
      "cell_type": "markdown",
      "metadata": {
        "id": "jRG7kNSvEiZW"
      },
      "source": [
        "### Uma lista pode conter diferentes tipos de dados"
      ]
    },
    {
      "cell_type": "code",
      "metadata": {
        "id": "iON8MviMNrFp"
      },
      "source": [
        "variados = [10, 2.5, 'Python']"
      ],
      "execution_count": null,
      "outputs": []
    },
    {
      "cell_type": "code",
      "metadata": {
        "colab": {
          "base_uri": "https://localhost:8080/"
        },
        "id": "LYMSuFZnN1hH",
        "outputId": "29abab12-d504-49c8-b0e7-952920e8dbca"
      },
      "source": [
        "print(variados)"
      ],
      "execution_count": null,
      "outputs": [
        {
          "output_type": "stream",
          "text": [
            "[10, 2.5, 'Python']\n"
          ],
          "name": "stdout"
        }
      ]
    },
    {
      "cell_type": "markdown",
      "metadata": {
        "id": "LlbCdb1YEv97"
      },
      "source": [
        "### Acessar um item da lista"
      ]
    },
    {
      "cell_type": "code",
      "metadata": {
        "id": "aureLf3HN9cG"
      },
      "source": [
        "frutas = ['banana', 'laranja', 'abacate', 'melancia', 'caju', 'abacaxi']\r\n",
        "saldo_alunos = [500.00, 1200.00, 1000.00, 600.00, 50000.00]\r\n",
        "num_pacientes = [25, 36, 50, 45, 22, 33, 89]"
      ],
      "execution_count": null,
      "outputs": []
    },
    {
      "cell_type": "code",
      "metadata": {
        "colab": {
          "base_uri": "https://localhost:8080/"
        },
        "id": "jVI9qVAbN62K",
        "outputId": "50be3eff-db63-4583-e5a4-e40f5722ae84"
      },
      "source": [
        "print(frutas[2])"
      ],
      "execution_count": null,
      "outputs": [
        {
          "output_type": "stream",
          "text": [
            "abacate\n"
          ],
          "name": "stdout"
        }
      ]
    },
    {
      "cell_type": "code",
      "metadata": {
        "colab": {
          "base_uri": "https://localhost:8080/"
        },
        "id": "b1rvsMqoORQ_",
        "outputId": "601e83be-d436-4b66-c9b9-3dc3a8e7a04b"
      },
      "source": [
        "print(frutas[3])"
      ],
      "execution_count": null,
      "outputs": [
        {
          "output_type": "stream",
          "text": [
            "melancia\n"
          ],
          "name": "stdout"
        }
      ]
    },
    {
      "cell_type": "markdown",
      "metadata": {
        "id": "NP2k-6dPFNGV"
      },
      "source": [
        "### Adicionando itens na lista"
      ]
    },
    {
      "cell_type": "code",
      "metadata": {
        "id": "_i20hN_dOXby"
      },
      "source": [
        "frutas.append('morango')"
      ],
      "execution_count": null,
      "outputs": []
    },
    {
      "cell_type": "code",
      "metadata": {
        "colab": {
          "base_uri": "https://localhost:8080/"
        },
        "id": "dECPJE6qOsLe",
        "outputId": "caf673a0-3e99-4830-fe09-e6ec3fcedf4a"
      },
      "source": [
        "print(frutas)"
      ],
      "execution_count": null,
      "outputs": [
        {
          "output_type": "stream",
          "text": [
            "['banana', 'laranja', 'abacate', 'melancia', 'caju', 'abacaxi', 'morango']\n"
          ],
          "name": "stdout"
        }
      ]
    },
    {
      "cell_type": "markdown",
      "metadata": {
        "id": "FJlebJVuGwVW"
      },
      "source": [
        "### Unir Listas"
      ]
    },
    {
      "cell_type": "code",
      "metadata": {
        "id": "FRmwiaNBOwhh"
      },
      "source": [
        "saldo_alunos.extend(num_pacientes)"
      ],
      "execution_count": null,
      "outputs": []
    },
    {
      "cell_type": "code",
      "metadata": {
        "colab": {
          "base_uri": "https://localhost:8080/"
        },
        "id": "6EzHi52QO5z9",
        "outputId": "88c57b5a-2c7c-40cb-bd30-017f8405ddfd"
      },
      "source": [
        "print(saldo_alunos)"
      ],
      "execution_count": null,
      "outputs": [
        {
          "output_type": "stream",
          "text": [
            "[500.0, 1200.0, 1000.0, 600.0, 50000.0, 25, 36, 50, 45, 22, 33, 89]\n"
          ],
          "name": "stdout"
        }
      ]
    },
    {
      "cell_type": "markdown",
      "metadata": {
        "id": "24pKuUgUPfqk"
      },
      "source": [
        "# Tuples"
      ]
    },
    {
      "cell_type": "code",
      "metadata": {
        "id": "FpFNe6UZPjpc"
      },
      "source": [
        "frutas = ('banana', 'laranja', 'abacate', 'melancia', 'caju', 'abacaxi')\r\n",
        "saldo_alunos = (500.00, 1200.00, 1000.00, 600.00, 50000.00)\r\n",
        "num_pacientes = (25, 36, 50, 45, 22, 33, 89)"
      ],
      "execution_count": null,
      "outputs": []
    },
    {
      "cell_type": "markdown",
      "metadata": {
        "id": "ZiA6jFNZPsD7"
      },
      "source": [
        "### Os valores são indexados"
      ]
    },
    {
      "cell_type": "code",
      "metadata": {
        "colab": {
          "base_uri": "https://localhost:8080/"
        },
        "id": "EI-HtB96Tcg0",
        "outputId": "ff9c0078-034e-43df-aa5f-840f696b2729"
      },
      "source": [
        "print(frutas[1])"
      ],
      "execution_count": null,
      "outputs": [
        {
          "output_type": "stream",
          "text": [
            "laranja\n"
          ],
          "name": "stdout"
        }
      ]
    },
    {
      "cell_type": "code",
      "metadata": {
        "colab": {
          "base_uri": "https://localhost:8080/"
        },
        "id": "wtyHcV3YUGNC",
        "outputId": "a4efd4e6-66ba-4922-f139-36334a938657"
      },
      "source": [
        "print(frutas[1:4])"
      ],
      "execution_count": null,
      "outputs": [
        {
          "output_type": "stream",
          "text": [
            "('laranja', 'abacate', 'melancia')\n"
          ],
          "name": "stdout"
        }
      ]
    },
    {
      "cell_type": "code",
      "metadata": {
        "colab": {
          "base_uri": "https://localhost:8080/"
        },
        "id": "7exzvO8EUczJ",
        "outputId": "de98ca8d-847c-4fa9-e516-4503a47634ad"
      },
      "source": [
        "print(frutas[0:50])"
      ],
      "execution_count": null,
      "outputs": [
        {
          "output_type": "stream",
          "text": [
            "('banana', 'laranja', 'abacate', 'melancia', 'caju', 'abacaxi')\n"
          ],
          "name": "stdout"
        }
      ]
    },
    {
      "cell_type": "markdown",
      "metadata": {
        "id": "FhZ3dzn-P2IY"
      },
      "source": [
        "### Permite Duplicados"
      ]
    },
    {
      "cell_type": "code",
      "metadata": {
        "id": "vJFKB7PlP8JK"
      },
      "source": [
        "saldo_alunos_dup = (500.00, 1200.00, 1000.00, 600.00, 50000.00, 500.00, 1200.00, 1000.00, 600.00, 50000.00)"
      ],
      "execution_count": null,
      "outputs": []
    },
    {
      "cell_type": "code",
      "metadata": {
        "colab": {
          "base_uri": "https://localhost:8080/"
        },
        "id": "-iA7XlceUv2x",
        "outputId": "50c779a6-245c-43a0-dac6-402bd0888609"
      },
      "source": [
        "print(saldo_alunos_dup)"
      ],
      "execution_count": null,
      "outputs": [
        {
          "output_type": "stream",
          "text": [
            "(500.0, 1200.0, 1000.0, 600.0, 50000.0, 500.0, 1200.0, 1000.0, 600.0, 50000.0)\n"
          ],
          "name": "stdout"
        }
      ]
    },
    {
      "cell_type": "markdown",
      "metadata": {
        "id": "MWQaEjFrQTjz"
      },
      "source": [
        "### Juntar Tuples"
      ]
    },
    {
      "cell_type": "code",
      "metadata": {
        "id": "-qh-jCR-R7mu"
      },
      "source": [
        "tupla_junto = frutas + num_pacientes"
      ],
      "execution_count": null,
      "outputs": []
    },
    {
      "cell_type": "code",
      "metadata": {
        "colab": {
          "base_uri": "https://localhost:8080/"
        },
        "id": "ZT49TvVNU9wB",
        "outputId": "473f40a5-4ffb-422f-af14-10b3fc08f72b"
      },
      "source": [
        "print(tupla_junto)"
      ],
      "execution_count": null,
      "outputs": [
        {
          "output_type": "stream",
          "text": [
            "('banana', 'laranja', 'abacate', 'melancia', 'caju', 'abacaxi', 25, 36, 50, 45, 22, 33, 89)\n"
          ],
          "name": "stdout"
        }
      ]
    },
    {
      "cell_type": "code",
      "metadata": {
        "colab": {
          "base_uri": "https://localhost:8080/"
        },
        "id": "Lm6VTwkvVB6z",
        "outputId": "b92f2c16-0107-4781-c4a5-d0fb838bae83"
      },
      "source": [
        "print(type(tupla_junto))"
      ],
      "execution_count": null,
      "outputs": [
        {
          "output_type": "stream",
          "text": [
            "<class 'tuple'>\n"
          ],
          "name": "stdout"
        }
      ]
    },
    {
      "cell_type": "markdown",
      "metadata": {
        "id": "0g7QCuW-Qbn1"
      },
      "source": [
        "### Contar Valores Repetidos em uma Tuple"
      ]
    },
    {
      "cell_type": "code",
      "metadata": {
        "id": "KEVExFoXR8Gd"
      },
      "source": [
        "num_pacientes_x = (25, 36, 50, 45, 22, 33, 89, 25, 36, 50, 45, 22, 33, 89, 25, 36, 50, 45,\r\n",
        "                 25, 36, 50, 45, 22, 33, 89, 25, 36, 50, 45, 22, 33, 89,25, 36, 50, 45, 22, 33, 89,\r\n",
        "                 25, 36, 50, 45, 22, 33, 89, 25, 36, 50, 45, 22, 33, 89, 25, 36, 50, 45,\r\n",
        "                 25, 36, 50, 45, 22, 33, 89, 25, 36, 50, 45, 22, 33, 89,25, 36, 50, 45, 22, 33, 89,\r\n",
        "                 25, 36, 50, 45, 22, 33, 89, 25, 36, 50, 45, 22, 33, 89, 25, 36, 50, 45,\r\n",
        "                 25, 36, 50, 45, 22, 33, 89, 25, 36, 50, 45, 22, 33, 89,25, 36, 50, 45, 22, 33, 89,\r\n",
        "                 25, 36, 50, 45, 22, 33, 89, 25, 36, 50, 45, 22, 33, 89, 25, 36, 50, 45,\r\n",
        "                 25, 36, 50, 45, 22, 33, 89, 25, 36, 50, 45, 22, 33, 89,25, 36, 50, 45, 22, 33, 89)"
      ],
      "execution_count": null,
      "outputs": []
    },
    {
      "cell_type": "code",
      "metadata": {
        "colab": {
          "base_uri": "https://localhost:8080/"
        },
        "id": "QPn-dZzZVmxY",
        "outputId": "4bf3ca0e-bc6c-47c3-9eaa-137fc75ca34d"
      },
      "source": [
        "num_pacientes_x.count(45)"
      ],
      "execution_count": null,
      "outputs": [
        {
          "output_type": "execute_result",
          "data": {
            "text/plain": [
              "24"
            ]
          },
          "metadata": {
            "tags": []
          },
          "execution_count": 75
        }
      ]
    },
    {
      "cell_type": "markdown",
      "metadata": {
        "id": "Ir2jyxWEWfmZ"
      },
      "source": [
        "# Set"
      ]
    },
    {
      "cell_type": "code",
      "metadata": {
        "id": "lPxNosJoWpNt"
      },
      "source": [
        "cidade = {'Belo Horizonte', 'Manaus', 'Fortaleza', 'Natal'}"
      ],
      "execution_count": null,
      "outputs": []
    },
    {
      "cell_type": "code",
      "metadata": {
        "colab": {
          "base_uri": "https://localhost:8080/"
        },
        "id": "oo8ouf6ybRe-",
        "outputId": "66e4a067-0144-4e46-ed64-1f5d7652f137"
      },
      "source": [
        "print(type(cidade))"
      ],
      "execution_count": null,
      "outputs": [
        {
          "output_type": "stream",
          "text": [
            "<class 'set'>\n"
          ],
          "name": "stdout"
        }
      ]
    },
    {
      "cell_type": "code",
      "metadata": {
        "colab": {
          "base_uri": "https://localhost:8080/"
        },
        "id": "yCRGsFkMbbcb",
        "outputId": "f148b775-87e1-4353-918b-6784c65fdd77"
      },
      "source": [
        "print(cidade)"
      ],
      "execution_count": null,
      "outputs": [
        {
          "output_type": "stream",
          "text": [
            "{'Fortaleza', 'Natal', 'Belo Horizonte', 'Manaus'}\n"
          ],
          "name": "stdout"
        }
      ]
    },
    {
      "cell_type": "markdown",
      "metadata": {
        "id": "j6Fk9aC9XE_t"
      },
      "source": [
        "### Não permitem Valores Duplicados"
      ]
    },
    {
      "cell_type": "code",
      "metadata": {
        "id": "f2V6Dwbbadvz"
      },
      "source": [
        "cidade_repet = {'Belo Horizonte', 'Manaus', 'Fortaleza', 'Natal','Belo Horizonte', 'Manaus', 'Fortaleza', 'Natal',\r\n",
        "          'Belo Horizonte', 'Manaus', 'Fortaleza', 'Natal','Belo Horizonte', 'Manaus', 'Fortaleza', 'Natal',\r\n",
        "          'Belo Horizonte', 'Manaus', 'Fortaleza', 'Natal','Belo Horizonte', 'Manaus', 'Fortaleza', 'Natal',\r\n",
        "          'Belo Horizonte', 'Manaus', 'Fortaleza', 'Natal','Belo Horizonte', 'Manaus', 'Fortaleza', 'Natal'}"
      ],
      "execution_count": null,
      "outputs": []
    },
    {
      "cell_type": "code",
      "metadata": {
        "colab": {
          "base_uri": "https://localhost:8080/"
        },
        "id": "R8tOUgQ4byMn",
        "outputId": "26f62aae-b50c-45ac-e84e-5d26d541dc15"
      },
      "source": [
        "print(cidade_repet)"
      ],
      "execution_count": null,
      "outputs": [
        {
          "output_type": "stream",
          "text": [
            "{'Fortaleza', 'Natal', 'Belo Horizonte', 'Manaus'}\n"
          ],
          "name": "stdout"
        }
      ]
    },
    {
      "cell_type": "markdown",
      "metadata": {
        "id": "BXkbyrevXcAM"
      },
      "source": [
        "### Checando Valores em um Set"
      ]
    },
    {
      "cell_type": "code",
      "metadata": {
        "id": "-NVKleeLaeKc"
      },
      "source": [
        "cidade = {'Belo Horizonte', 'Manaus', 'Fortaleza', 'Natal'}"
      ],
      "execution_count": null,
      "outputs": []
    },
    {
      "cell_type": "code",
      "metadata": {
        "colab": {
          "base_uri": "https://localhost:8080/"
        },
        "id": "-fUceTqWcRPK",
        "outputId": "9d1af14d-4068-474f-bc3a-60dbb9095168"
      },
      "source": [
        "print('Manaus' in cidade)"
      ],
      "execution_count": null,
      "outputs": [
        {
          "output_type": "stream",
          "text": [
            "True\n"
          ],
          "name": "stdout"
        }
      ]
    },
    {
      "cell_type": "code",
      "metadata": {
        "colab": {
          "base_uri": "https://localhost:8080/"
        },
        "id": "9qI9ovdMcfGB",
        "outputId": "4b9e8bdd-554a-4e39-abc3-b40e068c087d"
      },
      "source": [
        "print('Recife' in cidade)"
      ],
      "execution_count": null,
      "outputs": [
        {
          "output_type": "stream",
          "text": [
            "False\n"
          ],
          "name": "stdout"
        }
      ]
    },
    {
      "cell_type": "markdown",
      "metadata": {
        "id": "jbJIuwyQXscT"
      },
      "source": [
        "### Adicionando item ao set"
      ]
    },
    {
      "cell_type": "code",
      "metadata": {
        "id": "tp3Se5YHaeqq"
      },
      "source": [
        "cidade.add('Porto Alegre')"
      ],
      "execution_count": null,
      "outputs": []
    },
    {
      "cell_type": "code",
      "metadata": {
        "colab": {
          "base_uri": "https://localhost:8080/"
        },
        "id": "ax1xV3fKdBg-",
        "outputId": "d7130da5-d926-4d42-852b-c9be11eca73b"
      },
      "source": [
        "print(cidade)"
      ],
      "execution_count": null,
      "outputs": [
        {
          "output_type": "stream",
          "text": [
            "{'Natal', 'Manaus', 'Fortaleza', 'Porto Alegre', 'Belo Horizonte'}\n"
          ],
          "name": "stdout"
        }
      ]
    },
    {
      "cell_type": "markdown",
      "metadata": {
        "id": "NoYW-EuiX6yj"
      },
      "source": [
        "### Unindo Sets"
      ]
    },
    {
      "cell_type": "code",
      "metadata": {
        "id": "AtUFJg-MafGT"
      },
      "source": [
        "cidades_2 = {'Recife', 'Salvador', 'Campo Grande'}"
      ],
      "execution_count": null,
      "outputs": []
    },
    {
      "cell_type": "code",
      "metadata": {
        "id": "-KC3jcsadMkh"
      },
      "source": [
        "cidade.update(cidades_2)"
      ],
      "execution_count": null,
      "outputs": []
    },
    {
      "cell_type": "code",
      "metadata": {
        "colab": {
          "base_uri": "https://localhost:8080/"
        },
        "id": "3gosww3OdSHM",
        "outputId": "d4cbcf2c-7a9d-4801-eb78-b3349b0036dd"
      },
      "source": [
        "print(cidade)"
      ],
      "execution_count": null,
      "outputs": [
        {
          "output_type": "stream",
          "text": [
            "{'Natal', 'Manaus', 'Campo Grande', 'Recife', 'Fortaleza', 'Salvador', 'Porto Alegre', 'Belo Horizonte'}\n"
          ],
          "name": "stdout"
        }
      ]
    },
    {
      "cell_type": "markdown",
      "metadata": {
        "id": "MTl6FoEvd-ve"
      },
      "source": [
        "# Dictionary"
      ]
    },
    {
      "cell_type": "code",
      "metadata": {
        "id": "FxYSVCHteBXI"
      },
      "source": [
        "cod_uf = {\r\n",
        "21 : 'Maranhão',\r\n",
        "22 : 'Piauí',\r\n",
        "23 : 'Ceará',\r\n",
        "24 : 'Rio Grande do Norte',\r\n",
        "25 : 'Paraíba',\r\n",
        "26 : 'Pernambuco',\r\n",
        "27 : 'Alagoas',\r\n",
        "28 : 'Sergipe',\r\n",
        "29 : 'Bahia'}"
      ],
      "execution_count": 2,
      "outputs": []
    },
    {
      "cell_type": "code",
      "metadata": {
        "colab": {
          "base_uri": "https://localhost:8080/"
        },
        "id": "L2gpp1gRklKX",
        "outputId": "fa53d922-9d0d-47ca-fdbe-b53dc0278e59"
      },
      "source": [
        "print(type(cod_uf))"
      ],
      "execution_count": 3,
      "outputs": [
        {
          "output_type": "stream",
          "text": [
            "<class 'dict'>\n"
          ],
          "name": "stdout"
        }
      ]
    },
    {
      "cell_type": "code",
      "metadata": {
        "colab": {
          "base_uri": "https://localhost:8080/"
        },
        "id": "wFWuwQhkkssp",
        "outputId": "dfc11b4d-c668-4cf3-f268-bda720fcb231"
      },
      "source": [
        "print(cod_uf)"
      ],
      "execution_count": 4,
      "outputs": [
        {
          "output_type": "stream",
          "text": [
            "{21: 'Maranhão', 22: 'Piauí', 23: 'Ceará', 24: 'Rio Grande do Norte', 25: 'Paraíba', 26: 'Pernambuco', 27: 'Alagoas', 28: 'Sergipe', 29: 'Bahia'}\n"
          ],
          "name": "stdout"
        }
      ]
    },
    {
      "cell_type": "markdown",
      "metadata": {
        "id": "SCYUaqXlgIvt"
      },
      "source": [
        "### Valores ordenados\r\n",
        "\r\n",
        "**A partir do python 3.7**"
      ]
    },
    {
      "cell_type": "code",
      "metadata": {
        "colab": {
          "base_uri": "https://localhost:8080/"
        },
        "id": "oLMHOhANkyZe",
        "outputId": "fb9affa5-974b-4f11-bbad-12eff1210854"
      },
      "source": [
        "cod_uf.values()"
      ],
      "execution_count": 5,
      "outputs": [
        {
          "output_type": "execute_result",
          "data": {
            "text/plain": [
              "dict_values(['Maranhão', 'Piauí', 'Ceará', 'Rio Grande do Norte', 'Paraíba', 'Pernambuco', 'Alagoas', 'Sergipe', 'Bahia'])"
            ]
          },
          "metadata": {
            "tags": []
          },
          "execution_count": 5
        }
      ]
    },
    {
      "cell_type": "markdown",
      "metadata": {
        "id": "KQg0C_i8grtO"
      },
      "source": [
        "### Duplicados não são permitidos"
      ]
    },
    {
      "cell_type": "code",
      "metadata": {
        "id": "vnL0lURwlCFm"
      },
      "source": [
        "cod_uf_dup = {\r\n",
        "21 : 'Maranhão',\r\n",
        "22 : 'Piauí',\r\n",
        "23 : 'Ceará',\r\n",
        "24 : 'Rio Grande do Norte',\r\n",
        "25 : 'Paraíba',\r\n",
        "26 : 'Pernambuco',\r\n",
        "27 : 'Alagoas',\r\n",
        "28 : 'Sergipe',\r\n",
        "29 : 'Bahia',\r\n",
        "21 : 'Maranhão',\r\n",
        "22 : 'Piauí',\r\n",
        "23 : 'Ceará',\r\n",
        "24 : 'Rio Grande do Norte',\r\n",
        "25 : 'Paraíba',\r\n",
        "26 : 'Pernambuco',\r\n",
        "27 : 'Alagoas',\r\n",
        "28 : 'Sergipe',\r\n",
        "29 : 'Bahia',\r\n",
        "21 : 'Maranhão',\r\n",
        "22 : 'Piauí',\r\n",
        "23 : 'Ceará',\r\n",
        "24 : 'Rio Grande do Norte',\r\n",
        "25 : 'Paraíba',\r\n",
        "26 : 'Pernambuco',\r\n",
        "27 : 'Alagoas',\r\n",
        "28 : 'Sergipe',\r\n",
        "29 : 'Bahia'}"
      ],
      "execution_count": 6,
      "outputs": []
    },
    {
      "cell_type": "code",
      "metadata": {
        "colab": {
          "base_uri": "https://localhost:8080/"
        },
        "id": "3N0V1qXRllFr",
        "outputId": "48349b11-aa65-44d3-9751-9ce810126860"
      },
      "source": [
        "print(cod_uf_dup)"
      ],
      "execution_count": 7,
      "outputs": [
        {
          "output_type": "stream",
          "text": [
            "{21: 'Maranhão', 22: 'Piauí', 23: 'Ceará', 24: 'Rio Grande do Norte', 25: 'Paraíba', 26: 'Pernambuco', 27: 'Alagoas', 28: 'Sergipe', 29: 'Bahia'}\n"
          ],
          "name": "stdout"
        }
      ]
    },
    {
      "cell_type": "markdown",
      "metadata": {
        "id": "XrXcEZ80hP-r"
      },
      "source": [
        "### Acessando os valores"
      ]
    },
    {
      "cell_type": "code",
      "metadata": {
        "colab": {
          "base_uri": "https://localhost:8080/",
          "height": 35
        },
        "id": "VtcD6EaIltXN",
        "outputId": "b8b74356-b6c1-4fe7-a208-3b228c4b9f9f"
      },
      "source": [
        "cod_uf.get(22)"
      ],
      "execution_count": 8,
      "outputs": [
        {
          "output_type": "execute_result",
          "data": {
            "application/vnd.google.colaboratory.intrinsic+json": {
              "type": "string"
            },
            "text/plain": [
              "'Piauí'"
            ]
          },
          "metadata": {
            "tags": []
          },
          "execution_count": 8
        }
      ]
    },
    {
      "cell_type": "code",
      "metadata": {
        "colab": {
          "base_uri": "https://localhost:8080/"
        },
        "id": "LiRhUT3Jl7O3",
        "outputId": "fe73b64d-a43b-4867-dd63-ef3fde826d84"
      },
      "source": [
        "cod_uf.keys()"
      ],
      "execution_count": 9,
      "outputs": [
        {
          "output_type": "execute_result",
          "data": {
            "text/plain": [
              "dict_keys([21, 22, 23, 24, 25, 26, 27, 28, 29])"
            ]
          },
          "metadata": {
            "tags": []
          },
          "execution_count": 9
        }
      ]
    },
    {
      "cell_type": "markdown",
      "metadata": {
        "id": "4cOjPYqshvnv"
      },
      "source": [
        "### Adicionando novos valores"
      ]
    },
    {
      "cell_type": "code",
      "metadata": {
        "id": "MG1fX3RdmErr"
      },
      "source": [
        "cod_uf[30] = 'Estado Vira-lata Caramelo'"
      ],
      "execution_count": 10,
      "outputs": []
    },
    {
      "cell_type": "code",
      "metadata": {
        "id": "4n3bQyHemRrL",
        "colab": {
          "base_uri": "https://localhost:8080/"
        },
        "outputId": "cc651024-5b14-495e-bacb-88fb83b0d35d"
      },
      "source": [
        "print(cod_uf)"
      ],
      "execution_count": 11,
      "outputs": [
        {
          "output_type": "stream",
          "text": [
            "{21: 'Maranhão', 22: 'Piauí', 23: 'Ceará', 24: 'Rio Grande do Norte', 25: 'Paraíba', 26: 'Pernambuco', 27: 'Alagoas', 28: 'Sergipe', 29: 'Bahia', 30: 'Estado Vira-lata Caramelo'}\n"
          ],
          "name": "stdout"
        }
      ]
    }
  ]
}