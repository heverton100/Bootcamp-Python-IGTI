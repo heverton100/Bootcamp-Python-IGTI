{
  "nbformat": 4,
  "nbformat_minor": 0,
  "metadata": {
    "colab": {
      "name": "Capitulo_5.ipynb",
      "provenance": []
    },
    "kernelspec": {
      "name": "python3",
      "display_name": "Python 3"
    }
  },
  "cells": [
    {
      "cell_type": "markdown",
      "metadata": {
        "id": "Z-Q_pKDtTEDG"
      },
      "source": [
        "# Capítulo 5 - Condições, Loops e Funções Parte I\r\n",
        "\r\n",
        "Professor: Erick Faria  \r\n",
        "GitHub: https://github.com/erickfaria"
      ]
    },
    {
      "cell_type": "markdown",
      "metadata": {
        "id": "SZekTfaqWFg8"
      },
      "source": [
        "## If"
      ]
    },
    {
      "cell_type": "code",
      "metadata": {
        "id": "W6-5yAHeKq2A"
      },
      "source": [
        "# Criando variáveis de exemplo\r\n",
        "\r\n",
        "a = 50\r\n",
        "b = 100\r\n",
        "c = 50"
      ],
      "execution_count": 11,
      "outputs": []
    },
    {
      "cell_type": "code",
      "metadata": {
        "colab": {
          "base_uri": "https://localhost:8080/"
        },
        "id": "iOAOpbypObCE",
        "outputId": "429ee025-b9aa-413c-c3d9-54a8874dd5c4"
      },
      "source": [
        "print(c)"
      ],
      "execution_count": 14,
      "outputs": [
        {
          "output_type": "stream",
          "text": [
            "50\n"
          ],
          "name": "stdout"
        }
      ]
    },
    {
      "cell_type": "markdown",
      "metadata": {
        "id": "_gsHY_bWXorZ"
      },
      "source": [
        "### Igual"
      ]
    },
    {
      "cell_type": "code",
      "metadata": {
        "colab": {
          "base_uri": "https://localhost:8080/"
        },
        "id": "yF0w5XVpOCEL",
        "outputId": "41d3e37e-75fc-4a68-d125-62d80b35caf1"
      },
      "source": [
        "if a == c:\r\n",
        "  print('A é igual a C')"
      ],
      "execution_count": 15,
      "outputs": [
        {
          "output_type": "stream",
          "text": [
            "A é igual a C\n"
          ],
          "name": "stdout"
        }
      ]
    },
    {
      "cell_type": "markdown",
      "metadata": {
        "id": "GjycZfwDXe_h"
      },
      "source": [
        "### Diferente"
      ]
    },
    {
      "cell_type": "code",
      "metadata": {
        "colab": {
          "base_uri": "https://localhost:8080/"
        },
        "id": "M7rFEUfFMtUK",
        "outputId": "ebae6612-0deb-469a-e51e-e6def3fec14c"
      },
      "source": [
        "if a != b:\r\n",
        "  print('A é diferente de B')"
      ],
      "execution_count": 18,
      "outputs": [
        {
          "output_type": "stream",
          "text": [
            "A é diferente de B\n"
          ],
          "name": "stdout"
        }
      ]
    },
    {
      "cell_type": "markdown",
      "metadata": {
        "id": "xIMhd93SXsqc"
      },
      "source": [
        "### Menor que"
      ]
    },
    {
      "cell_type": "code",
      "metadata": {
        "colab": {
          "base_uri": "https://localhost:8080/"
        },
        "id": "wVHUrgpAMtwb",
        "outputId": "ec5ada7f-3672-4cd0-8702-a5123947b6ab"
      },
      "source": [
        "if a < b:\r\n",
        "  print('A é menor do que B')"
      ],
      "execution_count": 19,
      "outputs": [
        {
          "output_type": "stream",
          "text": [
            "A é menor do que B\n"
          ],
          "name": "stdout"
        }
      ]
    },
    {
      "cell_type": "markdown",
      "metadata": {
        "id": "nlcFP_ABXvsO"
      },
      "source": [
        "### Menor ou igual que"
      ]
    },
    {
      "cell_type": "code",
      "metadata": {
        "colab": {
          "base_uri": "https://localhost:8080/"
        },
        "id": "rBRMlz1KKna_",
        "outputId": "cbfabfef-155e-43ad-94da-1af7f78a226e"
      },
      "source": [
        "if a <= b:\r\n",
        "  print('A é menor ou igual do que B')"
      ],
      "execution_count": 23,
      "outputs": [
        {
          "output_type": "stream",
          "text": [
            "A é menor ou igual do que B\n"
          ],
          "name": "stdout"
        }
      ]
    },
    {
      "cell_type": "markdown",
      "metadata": {
        "id": "QbE_cZL1XhXJ"
      },
      "source": [
        "### Maior que"
      ]
    },
    {
      "cell_type": "code",
      "metadata": {
        "colab": {
          "base_uri": "https://localhost:8080/"
        },
        "id": "PgTAF77uKn5w",
        "outputId": "daf10a27-14ab-487c-f4b2-b3d85bfb60c5"
      },
      "source": [
        "if b > c:\r\n",
        "  print('B é maior do que C')"
      ],
      "execution_count": 24,
      "outputs": [
        {
          "output_type": "stream",
          "text": [
            "B é maior do que C\n"
          ],
          "name": "stdout"
        }
      ]
    },
    {
      "cell_type": "code",
      "metadata": {
        "colab": {
          "base_uri": "https://localhost:8080/"
        },
        "id": "uLyJXgIFPhDC",
        "outputId": "6907be29-e043-4632-8331-11ecc6469517"
      },
      "source": [
        "if b > c:\r\n",
        "  print('B é maior do que C')"
      ],
      "execution_count": 29,
      "outputs": [
        {
          "output_type": "stream",
          "text": [
            "B é maior do que C\n"
          ],
          "name": "stdout"
        }
      ]
    },
    {
      "cell_type": "markdown",
      "metadata": {
        "id": "PFTESOK2REcS"
      },
      "source": [
        "## elif"
      ]
    },
    {
      "cell_type": "code",
      "metadata": {
        "colab": {
          "base_uri": "https://localhost:8080/"
        },
        "id": "BqCQ6EqNRHeK",
        "outputId": "4110fe8a-fc78-4b86-8555-79722f8dda07"
      },
      "source": [
        "idade = int(input('Digite a sua idade: '))"
      ],
      "execution_count": 39,
      "outputs": [
        {
          "output_type": "stream",
          "text": [
            "Digite a sua idade: 15\n"
          ],
          "name": "stdout"
        }
      ]
    },
    {
      "cell_type": "code",
      "metadata": {
        "colab": {
          "base_uri": "https://localhost:8080/"
        },
        "id": "rELwN4XNSIvJ",
        "outputId": "270e5ce5-c04e-4566-e4f7-86fa1b4e1401"
      },
      "source": [
        "if idade >= 18:\r\n",
        "  print('Você já pode dirigir')\r\n",
        "elif idade < 18:\r\n",
        "  print('Você ainda não pode dirigir')"
      ],
      "execution_count": 40,
      "outputs": [
        {
          "output_type": "stream",
          "text": [
            "Você ainda não pode dirigir\n"
          ],
          "name": "stdout"
        }
      ]
    },
    {
      "cell_type": "code",
      "metadata": {
        "colab": {
          "base_uri": "https://localhost:8080/"
        },
        "id": "5QIKqCl6SnSQ",
        "outputId": "683e7245-0807-4d90-d516-b4a3916bfbef"
      },
      "source": [
        "exercicio = int(input('Quantos minutos você se exercita por dia: '))"
      ],
      "execution_count": 45,
      "outputs": [
        {
          "output_type": "stream",
          "text": [
            "Quantos minutos você se exercita por dia: 300\n"
          ],
          "name": "stdout"
        }
      ]
    },
    {
      "cell_type": "code",
      "metadata": {
        "colab": {
          "base_uri": "https://localhost:8080/"
        },
        "id": "efyBzYvqSzYX",
        "outputId": "f31ebb01-663b-4d64-a807-8fee8dcc1348"
      },
      "source": [
        "if exercicio < 30:\r\n",
        "  print('Você deveria se exercitar mais')\r\n",
        "elif exercicio >= 30 and exercicio <= 60:\r\n",
        "  print('Você está no caminho certo')\r\n",
        "elif exercicio > 60 and exercicio <= 120:\r\n",
        "  print('Você é um(a) atleta')\r\n",
        "else:\r\n",
        "  print('Uau, você se exercita muito')"
      ],
      "execution_count": 48,
      "outputs": [
        {
          "output_type": "stream",
          "text": [
            "Uau, você se exercita muito\n"
          ],
          "name": "stdout"
        }
      ]
    },
    {
      "cell_type": "markdown",
      "metadata": {
        "id": "RQiVARDCUrY0"
      },
      "source": [
        "## Loops"
      ]
    },
    {
      "cell_type": "code",
      "metadata": {
        "colab": {
          "base_uri": "https://localhost:8080/"
        },
        "id": "O0QccNsUUtND",
        "outputId": "1eebfda6-c9e1-4f9d-bd4c-a1b88877f870"
      },
      "source": [
        "trabalho = input('Você deve trabalhar hoje? ')\r\n",
        "dia = input('O dia está bonito? ')\r\n",
        "preguica = input('Você está com preguica? ')"
      ],
      "execution_count": 73,
      "outputs": [
        {
          "output_type": "stream",
          "text": [
            "Você deve trabalhar hoje? não\n",
            "O dia está bonito? não\n",
            "Você está com preguica? sim\n"
          ],
          "name": "stdout"
        }
      ]
    },
    {
      "cell_type": "code",
      "metadata": {
        "colab": {
          "base_uri": "https://localhost:8080/"
        },
        "id": "4zcy2InXVdP_",
        "outputId": "949fe0f8-411b-4805-905a-0d86dcf7848b"
      },
      "source": [
        "# Loop da vida\r\n",
        "\r\n",
        "if trabalho == 'sim':\r\n",
        "  print('É uma pena')\r\n",
        "elif trabalho == 'não':\r\n",
        "  print('Aproveite o dia')\r\n",
        "\r\n",
        "if dia == 'sim' and trabalho == 'não':\r\n",
        "  print('Aproveite para caminhar')\r\n",
        "elif dia == 'não' and trabalho == 'não':\r\n",
        "  print('Aproveite e assista um filme')\r\n",
        "\r\n",
        "if preguica == 'sim' and trabalho == 'não':\r\n",
        "  print('Aproveita e dorme mais')\r\n",
        "elif preguica == 'não' and trabalho == 'não':\r\n",
        "  print('Que tal estudar Python?')"
      ],
      "execution_count": 74,
      "outputs": [
        {
          "output_type": "stream",
          "text": [
            "Aproveite o dia\n",
            "Aproveite e assista um filme\n",
            "Aproveita e dorme mais\n"
          ],
          "name": "stdout"
        }
      ]
    },
    {
      "cell_type": "markdown",
      "metadata": {
        "id": "aAWh1Q33fRVo"
      },
      "source": [
        "## For"
      ]
    },
    {
      "cell_type": "code",
      "metadata": {
        "id": "uSudGZqyfUs_"
      },
      "source": [
        "for x in variavel:\r\n",
        "  print(x)"
      ],
      "execution_count": null,
      "outputs": []
    },
    {
      "cell_type": "markdown",
      "metadata": {
        "id": "TwzLXFuFfmZb"
      },
      "source": [
        "### For em Listas"
      ]
    },
    {
      "cell_type": "code",
      "metadata": {
        "id": "Q5gmrRI3fqtv"
      },
      "source": [
        "cor = ['verde', 'amarelo', 'azul', 'cinza', 'vermelho']"
      ],
      "execution_count": 75,
      "outputs": []
    },
    {
      "cell_type": "code",
      "metadata": {
        "colab": {
          "base_uri": "https://localhost:8080/"
        },
        "id": "aes0oSM3gogh",
        "outputId": "7c17d1f7-acd8-41c1-8ea9-d810f1d075dc"
      },
      "source": [
        "for x in cor:\r\n",
        "  print(x)"
      ],
      "execution_count": 76,
      "outputs": [
        {
          "output_type": "stream",
          "text": [
            "verde\n",
            "amarelo\n",
            "azul\n",
            "cinza\n",
            "vermelho\n"
          ],
          "name": "stdout"
        }
      ]
    },
    {
      "cell_type": "markdown",
      "metadata": {
        "id": "JP8ro8F5fvRY"
      },
      "source": [
        "### For em strings"
      ]
    },
    {
      "cell_type": "code",
      "metadata": {
        "colab": {
          "base_uri": "https://localhost:8080/"
        },
        "id": "6cgv6XysfxZ7",
        "outputId": "0771d33a-fe38-4262-eb46-84e3d274577c"
      },
      "source": [
        "for i in 'pneumoultramicroscopicossilicovulcanoconiótico':\r\n",
        "  print(i)"
      ],
      "execution_count": 77,
      "outputs": [
        {
          "output_type": "stream",
          "text": [
            "p\n",
            "n\n",
            "e\n",
            "u\n",
            "m\n",
            "o\n",
            "u\n",
            "l\n",
            "t\n",
            "r\n",
            "a\n",
            "m\n",
            "i\n",
            "c\n",
            "r\n",
            "o\n",
            "s\n",
            "c\n",
            "o\n",
            "p\n",
            "i\n",
            "c\n",
            "o\n",
            "s\n",
            "s\n",
            "i\n",
            "l\n",
            "i\n",
            "c\n",
            "o\n",
            "v\n",
            "u\n",
            "l\n",
            "c\n",
            "a\n",
            "n\n",
            "o\n",
            "c\n",
            "o\n",
            "n\n",
            "i\n",
            "ó\n",
            "t\n",
            "i\n",
            "c\n",
            "o\n"
          ],
          "name": "stdout"
        }
      ]
    },
    {
      "cell_type": "markdown",
      "metadata": {
        "id": "0dcOpt1of1Jc"
      },
      "source": [
        "### For e break"
      ]
    },
    {
      "cell_type": "code",
      "metadata": {
        "id": "hiXQz98wf9xY"
      },
      "source": [
        "numeros = (1, 2, 3, 4, 5, 6, 7, 8, 9, 10)"
      ],
      "execution_count": 78,
      "outputs": []
    },
    {
      "cell_type": "code",
      "metadata": {
        "colab": {
          "base_uri": "https://localhost:8080/"
        },
        "id": "l0AC-mRfhYb_",
        "outputId": "f62edcdd-74c4-41c9-c26e-9a7e656152b7"
      },
      "source": [
        "for x in numeros:\r\n",
        "  print(x)"
      ],
      "execution_count": 79,
      "outputs": [
        {
          "output_type": "stream",
          "text": [
            "1\n",
            "2\n",
            "3\n",
            "4\n",
            "5\n",
            "6\n",
            "7\n",
            "8\n",
            "9\n",
            "10\n"
          ],
          "name": "stdout"
        }
      ]
    },
    {
      "cell_type": "code",
      "metadata": {
        "colab": {
          "base_uri": "https://localhost:8080/"
        },
        "id": "0NlB-qM5hgWx",
        "outputId": "1fd70a03-cd9a-4e27-a6c1-2a009cf4cf75"
      },
      "source": [
        "for x in numeros:\r\n",
        "  print(x)\r\n",
        "  if x == 7:\r\n",
        "    break"
      ],
      "execution_count": 80,
      "outputs": [
        {
          "output_type": "stream",
          "text": [
            "1\n",
            "2\n",
            "3\n",
            "4\n",
            "5\n",
            "6\n",
            "7\n"
          ],
          "name": "stdout"
        }
      ]
    }
  ]
}