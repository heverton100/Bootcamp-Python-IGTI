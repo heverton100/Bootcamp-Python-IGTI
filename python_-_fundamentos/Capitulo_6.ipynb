{
  "nbformat": 4,
  "nbformat_minor": 0,
  "metadata": {
    "colab": {
      "name": "Capítulo_6.ipynb",
      "provenance": []
    },
    "kernelspec": {
      "name": "python3",
      "display_name": "Python 3"
    }
  },
  "cells": [
    {
      "cell_type": "markdown",
      "metadata": {
        "id": "VrFWvDL1S4rm"
      },
      "source": [
        "## Capítulo 6 - Condições, Loops e Funções Parte II\r\n",
        "\r\n",
        "Professor: Erick Faria  \r\n",
        "GitHub: https://github.com/erickfaria"
      ]
    },
    {
      "cell_type": "markdown",
      "metadata": {
        "id": "AqSi8ksFfbyY"
      },
      "source": [
        "## While"
      ]
    },
    {
      "cell_type": "code",
      "metadata": {
        "colab": {
          "base_uri": "https://localhost:8080/"
        },
        "id": "AwV2Fyc3dg9f",
        "outputId": "953af534-93bd-498c-9bff-05d1644d11ab"
      },
      "source": [
        "num = 1\r\n",
        "\r\n",
        "while num < 10:\r\n",
        "  print(num)\r\n",
        "  num += 1"
      ],
      "execution_count": null,
      "outputs": [
        {
          "output_type": "stream",
          "text": [
            "1\n",
            "2\n",
            "3\n",
            "4\n",
            "5\n",
            "6\n",
            "7\n",
            "8\n",
            "9\n"
          ],
          "name": "stdout"
        }
      ]
    },
    {
      "cell_type": "markdown",
      "metadata": {
        "id": "6OscbuCGbUeG"
      },
      "source": [
        "### Break"
      ]
    },
    {
      "cell_type": "code",
      "metadata": {
        "colab": {
          "base_uri": "https://localhost:8080/"
        },
        "id": "WQPiQrtzcm_1",
        "outputId": "f3661830-f7a4-4e16-e810-e2d70c11d80e"
      },
      "source": [
        "num = 1\r\n",
        "while num < 10:\r\n",
        "  print(num)\r\n",
        "  if num == 6:\r\n",
        "    break\r\n",
        "  num += 1"
      ],
      "execution_count": null,
      "outputs": [
        {
          "output_type": "stream",
          "text": [
            "1\n",
            "2\n",
            "3\n",
            "4\n",
            "5\n",
            "6\n"
          ],
          "name": "stdout"
        }
      ]
    },
    {
      "cell_type": "markdown",
      "metadata": {
        "id": "OAarXi86bWsJ"
      },
      "source": [
        "### Continue"
      ]
    },
    {
      "cell_type": "code",
      "metadata": {
        "colab": {
          "base_uri": "https://localhost:8080/"
        },
        "id": "1bzj4s1OcmmW",
        "outputId": "7b3c63a8-ce95-4577-d159-6df0788721ae"
      },
      "source": [
        "num = 0\r\n",
        "\r\n",
        "while num < 21:\r\n",
        "  num += 1\r\n",
        "  if num == 12:\r\n",
        "    continue\r\n",
        "  print(num)"
      ],
      "execution_count": null,
      "outputs": [
        {
          "output_type": "stream",
          "text": [
            "1\n",
            "2\n",
            "3\n",
            "4\n",
            "5\n",
            "6\n",
            "7\n",
            "8\n",
            "9\n",
            "10\n",
            "11\n",
            "13\n",
            "14\n",
            "15\n",
            "16\n",
            "17\n",
            "18\n",
            "19\n",
            "20\n",
            "21\n"
          ],
          "name": "stdout"
        }
      ]
    },
    {
      "cell_type": "markdown",
      "metadata": {
        "id": "wHonKv_hfb7d"
      },
      "source": [
        "## Range"
      ]
    },
    {
      "cell_type": "code",
      "metadata": {
        "id": "gMSNT3aHg8m0"
      },
      "source": [
        "# Função range - argumentos\r\n",
        "# range(inicio, termino, salto)"
      ],
      "execution_count": null,
      "outputs": []
    },
    {
      "cell_type": "code",
      "metadata": {
        "colab": {
          "base_uri": "https://localhost:8080/"
        },
        "id": "piC5PuyihTYJ",
        "outputId": "61b7df3d-2ca7-43e4-88d1-e79591007d42"
      },
      "source": [
        "for i in range(1, 21):\r\n",
        "  print(i)"
      ],
      "execution_count": null,
      "outputs": [
        {
          "output_type": "stream",
          "text": [
            "1\n",
            "2\n",
            "3\n",
            "4\n",
            "5\n",
            "6\n",
            "7\n",
            "8\n",
            "9\n",
            "10\n",
            "11\n",
            "12\n",
            "13\n",
            "14\n",
            "15\n",
            "16\n",
            "17\n",
            "18\n",
            "19\n",
            "20\n"
          ],
          "name": "stdout"
        }
      ]
    },
    {
      "cell_type": "code",
      "metadata": {
        "colab": {
          "base_uri": "https://localhost:8080/"
        },
        "id": "7smMvGv_hm2R",
        "outputId": "680d6914-68fa-4431-a67b-ae9adff830b9"
      },
      "source": [
        "for i in range(0, 51, 5):\r\n",
        "  print(i)"
      ],
      "execution_count": null,
      "outputs": [
        {
          "output_type": "stream",
          "text": [
            "0\n",
            "5\n",
            "10\n",
            "15\n",
            "20\n",
            "25\n",
            "30\n",
            "35\n",
            "40\n",
            "45\n",
            "50\n"
          ],
          "name": "stdout"
        }
      ]
    },
    {
      "cell_type": "markdown",
      "metadata": {
        "id": "5UrGkuiOfcEt"
      },
      "source": [
        "## Def"
      ]
    },
    {
      "cell_type": "code",
      "metadata": {
        "id": "398vYobKTSuL"
      },
      "source": [
        "def soma(x,y):\r\n",
        "  print(x + y)"
      ],
      "execution_count": null,
      "outputs": []
    },
    {
      "cell_type": "code",
      "metadata": {
        "colab": {
          "base_uri": "https://localhost:8080/"
        },
        "id": "vnhRKTElV9sW",
        "outputId": "9862d3dd-a04a-443a-f3bd-d913976b268a"
      },
      "source": [
        "soma(10,5)"
      ],
      "execution_count": null,
      "outputs": [
        {
          "output_type": "stream",
          "text": [
            "15\n"
          ],
          "name": "stdout"
        }
      ]
    },
    {
      "cell_type": "code",
      "metadata": {
        "colab": {
          "base_uri": "https://localhost:8080/"
        },
        "id": "B76bxdcrWDUn",
        "outputId": "4f58054c-abed-4c0b-8fdb-8125c3056c66"
      },
      "source": [
        "soma(50,50)"
      ],
      "execution_count": null,
      "outputs": [
        {
          "output_type": "stream",
          "text": [
            "100\n"
          ],
          "name": "stdout"
        }
      ]
    },
    {
      "cell_type": "code",
      "metadata": {
        "id": "Ja1INFTcWIhr"
      },
      "source": [
        "def imc(peso, altura):\r\n",
        "  imc = peso/(altura**2)\r\n",
        "  if imc < 18.5:\r\n",
        "    print('Magreza')\r\n",
        "  elif imc >= 18.5 and imc <= 24.9:\r\n",
        "    print('Normal')\r\n",
        "  elif imc >= 25.0 and imc <=29.9:\r\n",
        "    print('Sobrepeso')\r\n",
        "  elif imc >= 30.0 and imc <= 39.9:\r\n",
        "    print('Obesidade I')\r\n",
        "  else:\r\n",
        "    print('Obesidade II')\r\n",
        "  return"
      ],
      "execution_count": null,
      "outputs": []
    },
    {
      "cell_type": "code",
      "metadata": {
        "colab": {
          "base_uri": "https://localhost:8080/"
        },
        "id": "T0_GoQd3XZNY",
        "outputId": "b26329eb-6b1e-45b6-e101-e21b15ae899c"
      },
      "source": [
        "imc(80, 1.92)"
      ],
      "execution_count": null,
      "outputs": [
        {
          "output_type": "stream",
          "text": [
            "Normal\n"
          ],
          "name": "stdout"
        }
      ]
    },
    {
      "cell_type": "markdown",
      "metadata": {
        "id": "VXOCF-o4X6_L"
      },
      "source": [
        "## Funções Anônimas (Lambda)"
      ]
    },
    {
      "cell_type": "code",
      "metadata": {
        "id": "DXeOjenLX-ro"
      },
      "source": [
        "def soma(x, y):\r\n",
        "  print(x + y)"
      ],
      "execution_count": null,
      "outputs": []
    },
    {
      "cell_type": "code",
      "metadata": {
        "colab": {
          "base_uri": "https://localhost:8080/"
        },
        "id": "bseamNN-YyMj",
        "outputId": "37e75166-7f5c-41e5-e9d4-a5f1b467fe59"
      },
      "source": [
        "soma(10, 5)"
      ],
      "execution_count": null,
      "outputs": [
        {
          "output_type": "stream",
          "text": [
            "15\n"
          ],
          "name": "stdout"
        }
      ]
    },
    {
      "cell_type": "code",
      "metadata": {
        "id": "aS6S69hPY5Lu"
      },
      "source": [
        "soma = lambda x, y: x + y"
      ],
      "execution_count": null,
      "outputs": []
    }
  ]
}