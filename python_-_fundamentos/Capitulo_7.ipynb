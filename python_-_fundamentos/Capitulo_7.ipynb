{
  "nbformat": 4,
  "nbformat_minor": 0,
  "metadata": {
    "colab": {
      "name": "Capitulo_7.ipynb",
      "provenance": [],
      "collapsed_sections": []
    },
    "kernelspec": {
      "name": "python3",
      "display_name": "Python 3"
    }
  },
  "cells": [
    {
      "cell_type": "markdown",
      "metadata": {
        "id": "AmB_wG7kSVVW"
      },
      "source": [
        "# Capítulo 7 - Módulos\r\n",
        "\r\n",
        "Professor: Erick Faria  \r\n",
        "GitHub: https://github.com/erickfaria"
      ]
    },
    {
      "cell_type": "markdown",
      "metadata": {
        "id": "RaKAToAETaQ5"
      },
      "source": [
        "## Módulos"
      ]
    },
    {
      "cell_type": "code",
      "metadata": {
        "id": "dk_erYZCuRoZ"
      },
      "source": [
        "import math"
      ],
      "execution_count": null,
      "outputs": []
    },
    {
      "cell_type": "code",
      "metadata": {
        "colab": {
          "base_uri": "https://localhost:8080/"
        },
        "id": "jzYeGK_qwiCQ",
        "outputId": "3fdc094d-d0c6-49f4-e9de-24095eb5bf7f"
      },
      "source": [
        "math.sqrt(9)"
      ],
      "execution_count": null,
      "outputs": [
        {
          "output_type": "execute_result",
          "data": {
            "text/plain": [
              "3.0"
            ]
          },
          "metadata": {
            "tags": []
          },
          "execution_count": 11
        }
      ]
    }
  ]
}