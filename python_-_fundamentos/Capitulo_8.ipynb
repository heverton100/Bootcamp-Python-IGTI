{
  "nbformat": 4,
  "nbformat_minor": 0,
  "metadata": {
    "colab": {
      "name": "Capitulo_8.ipynb",
      "provenance": []
    },
    "kernelspec": {
      "name": "python3",
      "display_name": "Python 3"
    }
  },
  "cells": [
    {
      "cell_type": "markdown",
      "metadata": {
        "id": "ZVUnymGqShzR"
      },
      "source": [
        "# Capítulo 8 - Importando pacotes e Funções básicas\r\n",
        "\r\n",
        "Professor: Erick Faria  \r\n",
        "GitHub: https://github.com/erickfaria"
      ]
    },
    {
      "cell_type": "markdown",
      "metadata": {
        "id": "jALrI0ZSTlf3"
      },
      "source": [
        "## Instalando Pacotes no Google Colab"
      ]
    },
    {
      "cell_type": "code",
      "metadata": {
        "colab": {
          "base_uri": "https://localhost:8080/"
        },
        "id": "ELTFEKn_9E5v",
        "outputId": "80e7d830-825a-417e-c72b-79240728ad24"
      },
      "source": [
        "!pip install seaborn"
      ],
      "execution_count": 2,
      "outputs": [
        {
          "output_type": "stream",
          "text": [
            "Requirement already satisfied: seaborn in /usr/local/lib/python3.6/dist-packages (0.11.1)\n",
            "Requirement already satisfied: scipy>=1.0 in /usr/local/lib/python3.6/dist-packages (from seaborn) (1.4.1)\n",
            "Requirement already satisfied: pandas>=0.23 in /usr/local/lib/python3.6/dist-packages (from seaborn) (1.1.5)\n",
            "Requirement already satisfied: matplotlib>=2.2 in /usr/local/lib/python3.6/dist-packages (from seaborn) (3.2.2)\n",
            "Requirement already satisfied: numpy>=1.15 in /usr/local/lib/python3.6/dist-packages (from seaborn) (1.19.5)\n",
            "Requirement already satisfied: python-dateutil>=2.7.3 in /usr/local/lib/python3.6/dist-packages (from pandas>=0.23->seaborn) (2.8.1)\n",
            "Requirement already satisfied: pytz>=2017.2 in /usr/local/lib/python3.6/dist-packages (from pandas>=0.23->seaborn) (2018.9)\n",
            "Requirement already satisfied: pyparsing!=2.0.4,!=2.1.2,!=2.1.6,>=2.0.1 in /usr/local/lib/python3.6/dist-packages (from matplotlib>=2.2->seaborn) (2.4.7)\n",
            "Requirement already satisfied: kiwisolver>=1.0.1 in /usr/local/lib/python3.6/dist-packages (from matplotlib>=2.2->seaborn) (1.3.1)\n",
            "Requirement already satisfied: cycler>=0.10 in /usr/local/lib/python3.6/dist-packages (from matplotlib>=2.2->seaborn) (0.10.0)\n",
            "Requirement already satisfied: six>=1.5 in /usr/local/lib/python3.6/dist-packages (from python-dateutil>=2.7.3->pandas>=0.23->seaborn) (1.15.0)\n"
          ],
          "name": "stdout"
        }
      ]
    },
    {
      "cell_type": "code",
      "metadata": {
        "colab": {
          "base_uri": "https://localhost:8080/"
        },
        "id": "Gmpgt_hO9vfX",
        "outputId": "828c71dc-82ea-4dc1-8ef6-b5541a3e5df0"
      },
      "source": [
        "!pip install geopandas"
      ],
      "execution_count": 3,
      "outputs": [
        {
          "output_type": "stream",
          "text": [
            "Collecting geopandas\n",
            "\u001b[?25l  Downloading https://files.pythonhosted.org/packages/2a/9f/e8a440a993e024c0d3d4e5c7d3346367c50c9a1a3d735caf5ee3bde0aab1/geopandas-0.8.2-py2.py3-none-any.whl (962kB)\n",
            "\r\u001b[K     |▍                               | 10kB 19.9MB/s eta 0:00:01\r\u001b[K     |▊                               | 20kB 24.8MB/s eta 0:00:01\r\u001b[K     |█                               | 30kB 12.7MB/s eta 0:00:01\r\u001b[K     |█▍                              | 40kB 12.8MB/s eta 0:00:01\r\u001b[K     |█▊                              | 51kB 14.8MB/s eta 0:00:01\r\u001b[K     |██                              | 61kB 14.5MB/s eta 0:00:01\r\u001b[K     |██▍                             | 71kB 10.9MB/s eta 0:00:01\r\u001b[K     |██▊                             | 81kB 11.6MB/s eta 0:00:01\r\u001b[K     |███                             | 92kB 10.7MB/s eta 0:00:01\r\u001b[K     |███▍                            | 102kB 10.5MB/s eta 0:00:01\r\u001b[K     |███▊                            | 112kB 10.5MB/s eta 0:00:01\r\u001b[K     |████                            | 122kB 10.5MB/s eta 0:00:01\r\u001b[K     |████▍                           | 133kB 10.5MB/s eta 0:00:01\r\u001b[K     |████▊                           | 143kB 10.5MB/s eta 0:00:01\r\u001b[K     |█████                           | 153kB 10.5MB/s eta 0:00:01\r\u001b[K     |█████▌                          | 163kB 10.5MB/s eta 0:00:01\r\u001b[K     |█████▉                          | 174kB 10.5MB/s eta 0:00:01\r\u001b[K     |██████▏                         | 184kB 10.5MB/s eta 0:00:01\r\u001b[K     |██████▌                         | 194kB 10.5MB/s eta 0:00:01\r\u001b[K     |██████▉                         | 204kB 10.5MB/s eta 0:00:01\r\u001b[K     |███████▏                        | 215kB 10.5MB/s eta 0:00:01\r\u001b[K     |███████▌                        | 225kB 10.5MB/s eta 0:00:01\r\u001b[K     |███████▉                        | 235kB 10.5MB/s eta 0:00:01\r\u001b[K     |████████▏                       | 245kB 10.5MB/s eta 0:00:01\r\u001b[K     |████████▌                       | 256kB 10.5MB/s eta 0:00:01\r\u001b[K     |████████▉                       | 266kB 10.5MB/s eta 0:00:01\r\u001b[K     |█████████▏                      | 276kB 10.5MB/s eta 0:00:01\r\u001b[K     |█████████▌                      | 286kB 10.5MB/s eta 0:00:01\r\u001b[K     |█████████▉                      | 296kB 10.5MB/s eta 0:00:01\r\u001b[K     |██████████▏                     | 307kB 10.5MB/s eta 0:00:01\r\u001b[K     |██████████▌                     | 317kB 10.5MB/s eta 0:00:01\r\u001b[K     |███████████                     | 327kB 10.5MB/s eta 0:00:01\r\u001b[K     |███████████▎                    | 337kB 10.5MB/s eta 0:00:01\r\u001b[K     |███████████▋                    | 348kB 10.5MB/s eta 0:00:01\r\u001b[K     |████████████                    | 358kB 10.5MB/s eta 0:00:01\r\u001b[K     |████████████▎                   | 368kB 10.5MB/s eta 0:00:01\r\u001b[K     |████████████▋                   | 378kB 10.5MB/s eta 0:00:01\r\u001b[K     |█████████████                   | 389kB 10.5MB/s eta 0:00:01\r\u001b[K     |█████████████▎                  | 399kB 10.5MB/s eta 0:00:01\r\u001b[K     |█████████████▋                  | 409kB 10.5MB/s eta 0:00:01\r\u001b[K     |██████████████                  | 419kB 10.5MB/s eta 0:00:01\r\u001b[K     |██████████████▎                 | 430kB 10.5MB/s eta 0:00:01\r\u001b[K     |██████████████▋                 | 440kB 10.5MB/s eta 0:00:01\r\u001b[K     |███████████████                 | 450kB 10.5MB/s eta 0:00:01\r\u001b[K     |███████████████▎                | 460kB 10.5MB/s eta 0:00:01\r\u001b[K     |███████████████▋                | 471kB 10.5MB/s eta 0:00:01\r\u001b[K     |████████████████                | 481kB 10.5MB/s eta 0:00:01\r\u001b[K     |████████████████▍               | 491kB 10.5MB/s eta 0:00:01\r\u001b[K     |████████████████▊               | 501kB 10.5MB/s eta 0:00:01\r\u001b[K     |█████████████████               | 512kB 10.5MB/s eta 0:00:01\r\u001b[K     |█████████████████▍              | 522kB 10.5MB/s eta 0:00:01\r\u001b[K     |█████████████████▊              | 532kB 10.5MB/s eta 0:00:01\r\u001b[K     |██████████████████              | 542kB 10.5MB/s eta 0:00:01\r\u001b[K     |██████████████████▍             | 552kB 10.5MB/s eta 0:00:01\r\u001b[K     |██████████████████▊             | 563kB 10.5MB/s eta 0:00:01\r\u001b[K     |███████████████████             | 573kB 10.5MB/s eta 0:00:01\r\u001b[K     |███████████████████▍            | 583kB 10.5MB/s eta 0:00:01\r\u001b[K     |███████████████████▊            | 593kB 10.5MB/s eta 0:00:01\r\u001b[K     |████████████████████            | 604kB 10.5MB/s eta 0:00:01\r\u001b[K     |████████████████████▍           | 614kB 10.5MB/s eta 0:00:01\r\u001b[K     |████████████████████▊           | 624kB 10.5MB/s eta 0:00:01\r\u001b[K     |█████████████████████           | 634kB 10.5MB/s eta 0:00:01\r\u001b[K     |█████████████████████▍          | 645kB 10.5MB/s eta 0:00:01\r\u001b[K     |█████████████████████▉          | 655kB 10.5MB/s eta 0:00:01\r\u001b[K     |██████████████████████▏         | 665kB 10.5MB/s eta 0:00:01\r\u001b[K     |██████████████████████▌         | 675kB 10.5MB/s eta 0:00:01\r\u001b[K     |██████████████████████▉         | 686kB 10.5MB/s eta 0:00:01\r\u001b[K     |███████████████████████▏        | 696kB 10.5MB/s eta 0:00:01\r\u001b[K     |███████████████████████▌        | 706kB 10.5MB/s eta 0:00:01\r\u001b[K     |███████████████████████▉        | 716kB 10.5MB/s eta 0:00:01\r\u001b[K     |████████████████████████▏       | 727kB 10.5MB/s eta 0:00:01\r\u001b[K     |████████████████████████▌       | 737kB 10.5MB/s eta 0:00:01\r\u001b[K     |████████████████████████▉       | 747kB 10.5MB/s eta 0:00:01\r\u001b[K     |█████████████████████████▏      | 757kB 10.5MB/s eta 0:00:01\r\u001b[K     |█████████████████████████▌      | 768kB 10.5MB/s eta 0:00:01\r\u001b[K     |█████████████████████████▉      | 778kB 10.5MB/s eta 0:00:01\r\u001b[K     |██████████████████████████▏     | 788kB 10.5MB/s eta 0:00:01\r\u001b[K     |██████████████████████████▌     | 798kB 10.5MB/s eta 0:00:01\r\u001b[K     |██████████████████████████▉     | 808kB 10.5MB/s eta 0:00:01\r\u001b[K     |███████████████████████████▎    | 819kB 10.5MB/s eta 0:00:01\r\u001b[K     |███████████████████████████▋    | 829kB 10.5MB/s eta 0:00:01\r\u001b[K     |████████████████████████████    | 839kB 10.5MB/s eta 0:00:01\r\u001b[K     |████████████████████████████▎   | 849kB 10.5MB/s eta 0:00:01\r\u001b[K     |████████████████████████████▋   | 860kB 10.5MB/s eta 0:00:01\r\u001b[K     |█████████████████████████████   | 870kB 10.5MB/s eta 0:00:01\r\u001b[K     |█████████████████████████████▎  | 880kB 10.5MB/s eta 0:00:01\r\u001b[K     |█████████████████████████████▋  | 890kB 10.5MB/s eta 0:00:01\r\u001b[K     |██████████████████████████████  | 901kB 10.5MB/s eta 0:00:01\r\u001b[K     |██████████████████████████████▎ | 911kB 10.5MB/s eta 0:00:01\r\u001b[K     |██████████████████████████████▋ | 921kB 10.5MB/s eta 0:00:01\r\u001b[K     |███████████████████████████████ | 931kB 10.5MB/s eta 0:00:01\r\u001b[K     |███████████████████████████████▎| 942kB 10.5MB/s eta 0:00:01\r\u001b[K     |███████████████████████████████▋| 952kB 10.5MB/s eta 0:00:01\r\u001b[K     |████████████████████████████████| 962kB 10.5MB/s eta 0:00:01\r\u001b[K     |████████████████████████████████| 972kB 10.5MB/s \n",
            "\u001b[?25hRequirement already satisfied: pandas>=0.23.0 in /usr/local/lib/python3.6/dist-packages (from geopandas) (1.1.5)\n",
            "Collecting pyproj>=2.2.0\n",
            "\u001b[?25l  Downloading https://files.pythonhosted.org/packages/e4/ab/280e80a67cfc109d15428c0ec56391fc03a65857b7727cf4e6e6f99a4204/pyproj-3.0.0.post1-cp36-cp36m-manylinux2010_x86_64.whl (6.4MB)\n",
            "\u001b[K     |████████████████████████████████| 6.5MB 27.6MB/s \n",
            "\u001b[?25hCollecting fiona\n",
            "\u001b[?25l  Downloading https://files.pythonhosted.org/packages/37/94/4910fd55246c1d963727b03885ead6ef1cd3748a465f7b0239ab25dfc9a3/Fiona-1.8.18-cp36-cp36m-manylinux1_x86_64.whl (14.8MB)\n",
            "\u001b[K     |████████████████████████████████| 14.8MB 317kB/s \n",
            "\u001b[?25hRequirement already satisfied: shapely in /usr/local/lib/python3.6/dist-packages (from geopandas) (1.7.1)\n",
            "Requirement already satisfied: pytz>=2017.2 in /usr/local/lib/python3.6/dist-packages (from pandas>=0.23.0->geopandas) (2018.9)\n",
            "Requirement already satisfied: python-dateutil>=2.7.3 in /usr/local/lib/python3.6/dist-packages (from pandas>=0.23.0->geopandas) (2.8.1)\n",
            "Requirement already satisfied: numpy>=1.15.4 in /usr/local/lib/python3.6/dist-packages (from pandas>=0.23.0->geopandas) (1.19.5)\n",
            "Requirement already satisfied: certifi in /usr/local/lib/python3.6/dist-packages (from pyproj>=2.2.0->geopandas) (2020.12.5)\n",
            "Collecting munch\n",
            "  Downloading https://files.pythonhosted.org/packages/cc/ab/85d8da5c9a45e072301beb37ad7f833cd344e04c817d97e0cc75681d248f/munch-2.5.0-py2.py3-none-any.whl\n",
            "Collecting click-plugins>=1.0\n",
            "  Downloading https://files.pythonhosted.org/packages/e9/da/824b92d9942f4e472702488857914bdd50f73021efea15b4cad9aca8ecef/click_plugins-1.1.1-py2.py3-none-any.whl\n",
            "Requirement already satisfied: attrs>=17 in /usr/local/lib/python3.6/dist-packages (from fiona->geopandas) (20.3.0)\n",
            "Requirement already satisfied: click<8,>=4.0 in /usr/local/lib/python3.6/dist-packages (from fiona->geopandas) (7.1.2)\n",
            "Collecting cligj>=0.5\n",
            "  Downloading https://files.pythonhosted.org/packages/42/1e/947eadf10d6804bf276eb8a038bd5307996dceaaa41cfd21b7a15ec62f5d/cligj-0.7.1-py3-none-any.whl\n",
            "Requirement already satisfied: six>=1.7 in /usr/local/lib/python3.6/dist-packages (from fiona->geopandas) (1.15.0)\n",
            "Installing collected packages: pyproj, munch, click-plugins, cligj, fiona, geopandas\n",
            "Successfully installed click-plugins-1.1.1 cligj-0.7.1 fiona-1.8.18 geopandas-0.8.2 munch-2.5.0 pyproj-3.0.0.post1\n"
          ],
          "name": "stdout"
        }
      ]
    },
    {
      "cell_type": "code",
      "metadata": {
        "colab": {
          "base_uri": "https://localhost:8080/"
        },
        "id": "_ZPB9-dL-BV4",
        "outputId": "1eef186a-02af-4ef0-cd4c-df38f468a69f"
      },
      "source": [
        "!pip install --upgrade seaborn"
      ],
      "execution_count": 4,
      "outputs": [
        {
          "output_type": "stream",
          "text": [
            "Requirement already up-to-date: seaborn in /usr/local/lib/python3.6/dist-packages (0.11.1)\n",
            "Requirement already satisfied, skipping upgrade: pandas>=0.23 in /usr/local/lib/python3.6/dist-packages (from seaborn) (1.1.5)\n",
            "Requirement already satisfied, skipping upgrade: numpy>=1.15 in /usr/local/lib/python3.6/dist-packages (from seaborn) (1.19.5)\n",
            "Requirement already satisfied, skipping upgrade: matplotlib>=2.2 in /usr/local/lib/python3.6/dist-packages (from seaborn) (3.2.2)\n",
            "Requirement already satisfied, skipping upgrade: scipy>=1.0 in /usr/local/lib/python3.6/dist-packages (from seaborn) (1.4.1)\n",
            "Requirement already satisfied, skipping upgrade: pytz>=2017.2 in /usr/local/lib/python3.6/dist-packages (from pandas>=0.23->seaborn) (2018.9)\n",
            "Requirement already satisfied, skipping upgrade: python-dateutil>=2.7.3 in /usr/local/lib/python3.6/dist-packages (from pandas>=0.23->seaborn) (2.8.1)\n",
            "Requirement already satisfied, skipping upgrade: kiwisolver>=1.0.1 in /usr/local/lib/python3.6/dist-packages (from matplotlib>=2.2->seaborn) (1.3.1)\n",
            "Requirement already satisfied, skipping upgrade: cycler>=0.10 in /usr/local/lib/python3.6/dist-packages (from matplotlib>=2.2->seaborn) (0.10.0)\n",
            "Requirement already satisfied, skipping upgrade: pyparsing!=2.0.4,!=2.1.2,!=2.1.6,>=2.0.1 in /usr/local/lib/python3.6/dist-packages (from matplotlib>=2.2->seaborn) (2.4.7)\n",
            "Requirement already satisfied, skipping upgrade: six>=1.5 in /usr/local/lib/python3.6/dist-packages (from python-dateutil>=2.7.3->pandas>=0.23->seaborn) (1.15.0)\n"
          ],
          "name": "stdout"
        }
      ]
    },
    {
      "cell_type": "code",
      "metadata": {
        "colab": {
          "base_uri": "https://localhost:8080/"
        },
        "id": "Xj0IAAAw-OLf",
        "outputId": "1476cc17-f9fe-4c47-9b35-f8735a340715"
      },
      "source": [
        "!pip install seaborn==0.9.0"
      ],
      "execution_count": 5,
      "outputs": [
        {
          "output_type": "stream",
          "text": [
            "Collecting seaborn==0.9.0\n",
            "\u001b[?25l  Downloading https://files.pythonhosted.org/packages/a8/76/220ba4420459d9c4c9c9587c6ce607bf56c25b3d3d2de62056efe482dadc/seaborn-0.9.0-py3-none-any.whl (208kB)\n",
            "\r\u001b[K     |█▋                              | 10kB 16.8MB/s eta 0:00:01\r\u001b[K     |███▏                            | 20kB 22.0MB/s eta 0:00:01\r\u001b[K     |████▊                           | 30kB 12.5MB/s eta 0:00:01\r\u001b[K     |██████▎                         | 40kB 14.8MB/s eta 0:00:01\r\u001b[K     |███████▉                        | 51kB 10.3MB/s eta 0:00:01\r\u001b[K     |█████████▌                      | 61kB 11.4MB/s eta 0:00:01\r\u001b[K     |███████████                     | 71kB 11.3MB/s eta 0:00:01\r\u001b[K     |████████████▋                   | 81kB 11.0MB/s eta 0:00:01\r\u001b[K     |██████████████▏                 | 92kB 11.0MB/s eta 0:00:01\r\u001b[K     |███████████████▊                | 102kB 10.9MB/s eta 0:00:01\r\u001b[K     |█████████████████▎              | 112kB 10.9MB/s eta 0:00:01\r\u001b[K     |███████████████████             | 122kB 10.9MB/s eta 0:00:01\r\u001b[K     |████████████████████▌           | 133kB 10.9MB/s eta 0:00:01\r\u001b[K     |██████████████████████          | 143kB 10.9MB/s eta 0:00:01\r\u001b[K     |███████████████████████▋        | 153kB 10.9MB/s eta 0:00:01\r\u001b[K     |█████████████████████████▏      | 163kB 10.9MB/s eta 0:00:01\r\u001b[K     |██████████████████████████▊     | 174kB 10.9MB/s eta 0:00:01\r\u001b[K     |████████████████████████████▍   | 184kB 10.9MB/s eta 0:00:01\r\u001b[K     |██████████████████████████████  | 194kB 10.9MB/s eta 0:00:01\r\u001b[K     |███████████████████████████████▌| 204kB 10.9MB/s eta 0:00:01\r\u001b[K     |████████████████████████████████| 215kB 10.9MB/s \n",
            "\u001b[?25hRequirement already satisfied: scipy>=0.14.0 in /usr/local/lib/python3.6/dist-packages (from seaborn==0.9.0) (1.4.1)\n",
            "Requirement already satisfied: pandas>=0.15.2 in /usr/local/lib/python3.6/dist-packages (from seaborn==0.9.0) (1.1.5)\n",
            "Requirement already satisfied: numpy>=1.9.3 in /usr/local/lib/python3.6/dist-packages (from seaborn==0.9.0) (1.19.5)\n",
            "Requirement already satisfied: matplotlib>=1.4.3 in /usr/local/lib/python3.6/dist-packages (from seaborn==0.9.0) (3.2.2)\n",
            "Requirement already satisfied: pytz>=2017.2 in /usr/local/lib/python3.6/dist-packages (from pandas>=0.15.2->seaborn==0.9.0) (2018.9)\n",
            "Requirement already satisfied: python-dateutil>=2.7.3 in /usr/local/lib/python3.6/dist-packages (from pandas>=0.15.2->seaborn==0.9.0) (2.8.1)\n",
            "Requirement already satisfied: cycler>=0.10 in /usr/local/lib/python3.6/dist-packages (from matplotlib>=1.4.3->seaborn==0.9.0) (0.10.0)\n",
            "Requirement already satisfied: pyparsing!=2.0.4,!=2.1.2,!=2.1.6,>=2.0.1 in /usr/local/lib/python3.6/dist-packages (from matplotlib>=1.4.3->seaborn==0.9.0) (2.4.7)\n",
            "Requirement already satisfied: kiwisolver>=1.0.1 in /usr/local/lib/python3.6/dist-packages (from matplotlib>=1.4.3->seaborn==0.9.0) (1.3.1)\n",
            "Requirement already satisfied: six>=1.5 in /usr/local/lib/python3.6/dist-packages (from python-dateutil>=2.7.3->pandas>=0.15.2->seaborn==0.9.0) (1.15.0)\n",
            "Installing collected packages: seaborn\n",
            "  Found existing installation: seaborn 0.11.1\n",
            "    Uninstalling seaborn-0.11.1:\n",
            "      Successfully uninstalled seaborn-0.11.1\n",
            "Successfully installed seaborn-0.9.0\n"
          ],
          "name": "stdout"
        }
      ]
    },
    {
      "cell_type": "markdown",
      "metadata": {
        "id": "kxEYNL_cB9Rm"
      },
      "source": [
        "## Importando Pacotes em Python"
      ]
    },
    {
      "cell_type": "code",
      "metadata": {
        "id": "IJcyguxqCEvB"
      },
      "source": [
        "import pandas as pd\r\n",
        "import numpy as np"
      ],
      "execution_count": 7,
      "outputs": []
    },
    {
      "cell_type": "code",
      "metadata": {
        "id": "54DidiOPDLBK"
      },
      "source": [
        "pandas.read_csv('')"
      ],
      "execution_count": null,
      "outputs": []
    },
    {
      "cell_type": "code",
      "metadata": {
        "id": "6uvRdHiQDwjP"
      },
      "source": [
        "np.T"
      ],
      "execution_count": null,
      "outputs": []
    }
  ]
}